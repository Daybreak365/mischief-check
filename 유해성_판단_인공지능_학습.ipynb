{
  "nbformat": 4,
  "nbformat_minor": 0,
  "metadata": {
    "colab": {
      "name": "유해성 판단 인공지능 학습.ipynb",
      "provenance": [],
      "collapsed_sections": [],
      "authorship_tag": "ABX9TyNEP/2OZoOEXdLgPto3jeEc",
      "include_colab_link": true
    },
    "kernelspec": {
      "name": "python3",
      "display_name": "Python 3"
    },
    "language_info": {
      "name": "python"
    }
  },
  "cells": [
    {
      "cell_type": "markdown",
      "metadata": {
        "id": "view-in-github",
        "colab_type": "text"
      },
      "source": [
        "<a href=\"https://colab.research.google.com/github/Daybreak365/mischief-check/blob/master/%EC%9C%A0%ED%95%B4%EC%84%B1_%ED%8C%90%EB%8B%A8_%EC%9D%B8%EA%B3%B5%EC%A7%80%EB%8A%A5_%ED%95%99%EC%8A%B5.ipynb\" target=\"_parent\"><img src=\"https://colab.research.google.com/assets/colab-badge.svg\" alt=\"Open In Colab\"/></a>"
      ]
    },
    {
      "cell_type": "code",
      "metadata": {
        "colab": {
          "base_uri": "https://localhost:8080/"
        },
        "id": "X4pK0MVCOOXO",
        "outputId": "761c9a29-7202-40b3-855b-e54f59bb9961"
      },
      "source": [
        "import pandas as pd\n",
        "import numpy as np\n",
        "%matplotlib inline\n",
        "import matplotlib.pyplot as plt\n",
        "import re\n",
        "import urllib.request\n",
        "%pip install konlpy\n",
        "from konlpy.tag import Okt\n",
        "from tensorflow.keras.preprocessing.text import Tokenizer\n",
        "from tensorflow.keras.preprocessing.sequence import pad_sequences"
      ],
      "execution_count": 1,
      "outputs": [
        {
          "output_type": "stream",
          "name": "stdout",
          "text": [
            "Requirement already satisfied: konlpy in /usr/local/lib/python3.7/dist-packages (0.5.2)\n",
            "Requirement already satisfied: numpy>=1.6 in /usr/local/lib/python3.7/dist-packages (from konlpy) (1.19.5)\n",
            "Requirement already satisfied: lxml>=4.1.0 in /usr/local/lib/python3.7/dist-packages (from konlpy) (4.2.6)\n",
            "Requirement already satisfied: tweepy>=3.7.0 in /usr/local/lib/python3.7/dist-packages (from konlpy) (3.10.0)\n",
            "Requirement already satisfied: beautifulsoup4==4.6.0 in /usr/local/lib/python3.7/dist-packages (from konlpy) (4.6.0)\n",
            "Requirement already satisfied: colorama in /usr/local/lib/python3.7/dist-packages (from konlpy) (0.4.4)\n",
            "Requirement already satisfied: JPype1>=0.7.0 in /usr/local/lib/python3.7/dist-packages (from konlpy) (1.3.0)\n",
            "Requirement already satisfied: typing-extensions in /usr/local/lib/python3.7/dist-packages (from JPype1>=0.7.0->konlpy) (3.7.4.3)\n",
            "Requirement already satisfied: six>=1.10.0 in /usr/local/lib/python3.7/dist-packages (from tweepy>=3.7.0->konlpy) (1.15.0)\n",
            "Requirement already satisfied: requests[socks]>=2.11.1 in /usr/local/lib/python3.7/dist-packages (from tweepy>=3.7.0->konlpy) (2.23.0)\n",
            "Requirement already satisfied: requests-oauthlib>=0.7.0 in /usr/local/lib/python3.7/dist-packages (from tweepy>=3.7.0->konlpy) (1.3.0)\n",
            "Requirement already satisfied: oauthlib>=3.0.0 in /usr/local/lib/python3.7/dist-packages (from requests-oauthlib>=0.7.0->tweepy>=3.7.0->konlpy) (3.1.1)\n",
            "Requirement already satisfied: urllib3!=1.25.0,!=1.25.1,<1.26,>=1.21.1 in /usr/local/lib/python3.7/dist-packages (from requests[socks]>=2.11.1->tweepy>=3.7.0->konlpy) (1.24.3)\n",
            "Requirement already satisfied: chardet<4,>=3.0.2 in /usr/local/lib/python3.7/dist-packages (from requests[socks]>=2.11.1->tweepy>=3.7.0->konlpy) (3.0.4)\n",
            "Requirement already satisfied: idna<3,>=2.5 in /usr/local/lib/python3.7/dist-packages (from requests[socks]>=2.11.1->tweepy>=3.7.0->konlpy) (2.10)\n",
            "Requirement already satisfied: certifi>=2017.4.17 in /usr/local/lib/python3.7/dist-packages (from requests[socks]>=2.11.1->tweepy>=3.7.0->konlpy) (2021.5.30)\n",
            "Requirement already satisfied: PySocks!=1.5.7,>=1.5.6 in /usr/local/lib/python3.7/dist-packages (from requests[socks]>=2.11.1->tweepy>=3.7.0->konlpy) (1.7.1)\n"
          ]
        }
      ]
    },
    {
      "cell_type": "code",
      "metadata": {
        "colab": {
          "base_uri": "https://localhost:8080/"
        },
        "id": "Egm9__iZPCne",
        "outputId": "ff2b50d3-aa9e-4d93-d6fd-062a0498fd9a"
      },
      "source": [
        "urllib.request.urlretrieve(\"https://raw.githubusercontent.com/e9t/nsmc/master/ratings_train.txt\", filename=\"ratings_train.txt\")\n",
        "urllib.request.urlretrieve(\"https://raw.githubusercontent.com/e9t/nsmc/master/ratings_test.txt\", filename=\"ratings_test.txt\")"
      ],
      "execution_count": 2,
      "outputs": [
        {
          "output_type": "execute_result",
          "data": {
            "text/plain": [
              "('ratings_test.txt', <http.client.HTTPMessage at 0x7fe9e3a65ad0>)"
            ]
          },
          "metadata": {},
          "execution_count": 2
        }
      ]
    },
    {
      "cell_type": "code",
      "metadata": {
        "id": "gDXLh0xWPDm-"
      },
      "source": [
        "train_data = pd.read_table('test.csv', sep='\\t')\n",
        "test_data = pd.read_table('dev.tsv', sep='\\t')"
      ],
      "execution_count": 3,
      "outputs": []
    },
    {
      "cell_type": "code",
      "metadata": {
        "colab": {
          "base_uri": "https://localhost:8080/"
        },
        "id": "-Y0_ArQbPD-R",
        "outputId": "a3e6fb23-da0c-4b7d-84ca-b972a1bce2ba"
      },
      "source": [
        "print('훈련용 리뷰 개수 :',len(train_data))"
      ],
      "execution_count": 4,
      "outputs": [
        {
          "output_type": "stream",
          "name": "stdout",
          "text": [
            "훈련용 리뷰 개수 : 13101\n"
          ]
        }
      ]
    },
    {
      "cell_type": "code",
      "metadata": {
        "colab": {
          "base_uri": "https://localhost:8080/",
          "height": 201
        },
        "id": "8OZb5e7dPEAT",
        "outputId": "e24f525a-eec9-46a3-ccb8-1222488e327b"
      },
      "source": [
        "train_data[:5]"
      ],
      "execution_count": 5,
      "outputs": [
        {
          "output_type": "execute_result",
          "data": {
            "text/html": [
              "<div>\n",
              "<style scoped>\n",
              "    .dataframe tbody tr th:only-of-type {\n",
              "        vertical-align: middle;\n",
              "    }\n",
              "\n",
              "    .dataframe tbody tr th {\n",
              "        vertical-align: top;\n",
              "    }\n",
              "\n",
              "    .dataframe thead th {\n",
              "        text-align: right;\n",
              "    }\n",
              "</style>\n",
              "<table border=\"1\" class=\"dataframe\">\n",
              "  <thead>\n",
              "    <tr style=\"text-align: right;\">\n",
              "      <th></th>\n",
              "      <th>comments</th>\n",
              "      <th>contain_gender_bias</th>\n",
              "      <th>bias</th>\n",
              "      <th>hate</th>\n",
              "    </tr>\n",
              "  </thead>\n",
              "  <tbody>\n",
              "    <tr>\n",
              "      <th>0</th>\n",
              "      <td>게임 바둑이 노리터게임</td>\n",
              "      <td>False</td>\n",
              "      <td>none</td>\n",
              "      <td>none</td>\n",
              "    </tr>\n",
              "    <tr>\n",
              "      <th>1</th>\n",
              "      <td>죄인이존나ㅋㅋㅋㅋㅋ한남잼민이같아</td>\n",
              "      <td>False</td>\n",
              "      <td>none</td>\n",
              "      <td>hate</td>\n",
              "    </tr>\n",
              "    <tr>\n",
              "      <th>2</th>\n",
              "      <td>민주당 잡 것들 또 선동질 특검가자</td>\n",
              "      <td>False</td>\n",
              "      <td>none</td>\n",
              "      <td>hate</td>\n",
              "    </tr>\n",
              "    <tr>\n",
              "      <th>3</th>\n",
              "      <td>한남화됨</td>\n",
              "      <td>False</td>\n",
              "      <td>none</td>\n",
              "      <td>hate</td>\n",
              "    </tr>\n",
              "    <tr>\n",
              "      <th>4</th>\n",
              "      <td>너  그런게임해</td>\n",
              "      <td>False</td>\n",
              "      <td>none</td>\n",
              "      <td>none</td>\n",
              "    </tr>\n",
              "  </tbody>\n",
              "</table>\n",
              "</div>"
            ],
            "text/plain": [
              "              comments  contain_gender_bias  bias  hate\n",
              "0         게임 바둑이 노리터게임                False  none  none\n",
              "1    죄인이존나ㅋㅋㅋㅋㅋ한남잼민이같아                False  none  hate\n",
              "2  민주당 잡 것들 또 선동질 특검가자                False  none  hate\n",
              "3                 한남화됨                False  none  hate\n",
              "4             너  그런게임해                False  none  none"
            ]
          },
          "metadata": {},
          "execution_count": 5
        }
      ]
    },
    {
      "cell_type": "code",
      "metadata": {
        "colab": {
          "base_uri": "https://localhost:8080/"
        },
        "id": "VL_ZUNpTPECK",
        "outputId": "010004e2-bcd5-4597-cf4b-56bf68d77071"
      },
      "source": [
        "print('테스트용 리뷰 개수 :',len(test_data))"
      ],
      "execution_count": 6,
      "outputs": [
        {
          "output_type": "stream",
          "name": "stdout",
          "text": [
            "테스트용 리뷰 개수 : 3548\n"
          ]
        }
      ]
    },
    {
      "cell_type": "code",
      "metadata": {
        "colab": {
          "base_uri": "https://localhost:8080/",
          "height": 201
        },
        "id": "1o-hSDq5PEEV",
        "outputId": "216996ea-e8e3-4c11-e8b2-5fe6d56252ef"
      },
      "source": [
        "test_data[:5]"
      ],
      "execution_count": 7,
      "outputs": [
        {
          "output_type": "execute_result",
          "data": {
            "text/html": [
              "<div>\n",
              "<style scoped>\n",
              "    .dataframe tbody tr th:only-of-type {\n",
              "        vertical-align: middle;\n",
              "    }\n",
              "\n",
              "    .dataframe tbody tr th {\n",
              "        vertical-align: top;\n",
              "    }\n",
              "\n",
              "    .dataframe thead th {\n",
              "        text-align: right;\n",
              "    }\n",
              "</style>\n",
              "<table border=\"1\" class=\"dataframe\">\n",
              "  <thead>\n",
              "    <tr style=\"text-align: right;\">\n",
              "      <th></th>\n",
              "      <th>comments</th>\n",
              "      <th>contain_gender_bias</th>\n",
              "      <th>bias</th>\n",
              "      <th>hate</th>\n",
              "    </tr>\n",
              "  </thead>\n",
              "  <tbody>\n",
              "    <tr>\n",
              "      <th>0</th>\n",
              "      <td>송중기 시대극은 믿고본다. 첫회 신선하고 좋았다.</td>\n",
              "      <td>False</td>\n",
              "      <td>none</td>\n",
              "      <td>none</td>\n",
              "    </tr>\n",
              "    <tr>\n",
              "      <th>1</th>\n",
              "      <td>지현우 나쁜놈</td>\n",
              "      <td>False</td>\n",
              "      <td>none</td>\n",
              "      <td>offensive</td>\n",
              "    </tr>\n",
              "    <tr>\n",
              "      <th>2</th>\n",
              "      <td>알바쓰고많이만들면되지 돈욕심없으면골목식당왜나온겨 기댕기게나하고 산에가서팔어라</td>\n",
              "      <td>False</td>\n",
              "      <td>none</td>\n",
              "      <td>hate</td>\n",
              "    </tr>\n",
              "    <tr>\n",
              "      <th>3</th>\n",
              "      <td>설마 ㅈ 현정 작가 아니지??</td>\n",
              "      <td>True</td>\n",
              "      <td>gender</td>\n",
              "      <td>hate</td>\n",
              "    </tr>\n",
              "    <tr>\n",
              "      <th>4</th>\n",
              "      <td>이미자씨 송혜교씨 돈이 그리 많으면 탈세말고 그돈으로 평소에 불우이웃에게 기부도 좀...</td>\n",
              "      <td>False</td>\n",
              "      <td>none</td>\n",
              "      <td>offensive</td>\n",
              "    </tr>\n",
              "  </tbody>\n",
              "</table>\n",
              "</div>"
            ],
            "text/plain": [
              "                                            comments  ...       hate\n",
              "0                        송중기 시대극은 믿고본다. 첫회 신선하고 좋았다.  ...       none\n",
              "1                                            지현우 나쁜놈  ...  offensive\n",
              "2         알바쓰고많이만들면되지 돈욕심없으면골목식당왜나온겨 기댕기게나하고 산에가서팔어라  ...       hate\n",
              "3                                   설마 ㅈ 현정 작가 아니지??  ...       hate\n",
              "4  이미자씨 송혜교씨 돈이 그리 많으면 탈세말고 그돈으로 평소에 불우이웃에게 기부도 좀...  ...  offensive\n",
              "\n",
              "[5 rows x 4 columns]"
            ]
          },
          "metadata": {},
          "execution_count": 7
        }
      ]
    },
    {
      "cell_type": "code",
      "metadata": {
        "colab": {
          "base_uri": "https://localhost:8080/"
        },
        "id": "NfZ_yuY5PEGf",
        "outputId": "586a8e1b-b950-43bb-d0f1-9e5847875111"
      },
      "source": [
        "train_data['comments'].nunique(), train_data['hate'].nunique()"
      ],
      "execution_count": 8,
      "outputs": [
        {
          "output_type": "execute_result",
          "data": {
            "text/plain": [
              "(13041, 2)"
            ]
          },
          "metadata": {},
          "execution_count": 8
        }
      ]
    },
    {
      "cell_type": "code",
      "metadata": {
        "id": "ml9jFGlTPEIk"
      },
      "source": [
        "train_data.drop_duplicates(subset=['comments'], inplace=True)"
      ],
      "execution_count": 9,
      "outputs": []
    },
    {
      "cell_type": "code",
      "metadata": {
        "colab": {
          "base_uri": "https://localhost:8080/"
        },
        "id": "vPbiw8SbPEKj",
        "outputId": "d9e46ae0-3f1e-4d44-e249-c6de03c1adcf"
      },
      "source": [
        "print('총 샘플의 수 :',len(train_data))"
      ],
      "execution_count": 10,
      "outputs": [
        {
          "output_type": "stream",
          "name": "stdout",
          "text": [
            "총 샘플의 수 : 13041\n"
          ]
        }
      ]
    },
    {
      "cell_type": "code",
      "metadata": {
        "colab": {
          "base_uri": "https://localhost:8080/",
          "height": 301
        },
        "id": "0i0_FZjYPKX0",
        "outputId": "cd9553ae-d8d4-4db8-d947-83e5762f3412"
      },
      "source": [
        "train_data['hate'].value_counts().plot(kind = 'bar')"
      ],
      "execution_count": 11,
      "outputs": [
        {
          "output_type": "execute_result",
          "data": {
            "text/plain": [
              "<matplotlib.axes._subplots.AxesSubplot at 0x7fe9e32fb910>"
            ]
          },
          "metadata": {},
          "execution_count": 11
        },
        {
          "output_type": "display_data",
          "data": {
            "image/png": "[encoded data removed]",
            "text/plain": [
              "<Figure size 432x288 with 1 Axes>"
            ]
          },
          "metadata": {
            "needs_background": "light"
          }
        }
      ]
    },
    {
      "cell_type": "code",
      "metadata": {
        "colab": {
          "base_uri": "https://localhost:8080/"
        },
        "id": "vCopjaxRPKZ_",
        "outputId": "14cf01c6-e342-40e6-c5ab-f7ddf3cdd05b"
      },
      "source": [
        "print(train_data.groupby('hate').size().reset_index(name = 'count'))"
      ],
      "execution_count": 12,
      "outputs": [
        {
          "output_type": "stream",
          "name": "stdout",
          "text": [
            "   hate  count\n",
            "0  hate   1520\n",
            "1  none  11521\n"
          ]
        }
      ]
    },
    {
      "cell_type": "code",
      "metadata": {
        "colab": {
          "base_uri": "https://localhost:8080/"
        },
        "id": "ZsF8vo0EPKb7",
        "outputId": "674ea972-e75b-40bf-cc20-1405b364ffb9"
      },
      "source": [
        "print(train_data.isnull().values.any())"
      ],
      "execution_count": 13,
      "outputs": [
        {
          "output_type": "stream",
          "name": "stdout",
          "text": [
            "False\n"
          ]
        }
      ]
    },
    {
      "cell_type": "code",
      "metadata": {
        "colab": {
          "base_uri": "https://localhost:8080/"
        },
        "id": "DDCBQ9l_PKeO",
        "outputId": "922d8709-3d14-410c-92c0-33999d4cf10e"
      },
      "source": [
        "print(train_data.isnull().sum())"
      ],
      "execution_count": 14,
      "outputs": [
        {
          "output_type": "stream",
          "name": "stdout",
          "text": [
            "comments               0\n",
            "contain_gender_bias    0\n",
            "bias                   0\n",
            "hate                   0\n",
            "dtype: int64\n"
          ]
        }
      ]
    },
    {
      "cell_type": "code",
      "metadata": {
        "colab": {
          "base_uri": "https://localhost:8080/",
          "height": 49
        },
        "id": "qpRarJVvPKgJ",
        "outputId": "ec300af1-0c71-4346-a0da-7cd2fafd1d0e"
      },
      "source": [
        "train_data.loc[train_data.comments.isnull()]"
      ],
      "execution_count": 15,
      "outputs": [
        {
          "output_type": "execute_result",
          "data": {
            "text/html": [
              "<div>\n",
              "<style scoped>\n",
              "    .dataframe tbody tr th:only-of-type {\n",
              "        vertical-align: middle;\n",
              "    }\n",
              "\n",
              "    .dataframe tbody tr th {\n",
              "        vertical-align: top;\n",
              "    }\n",
              "\n",
              "    .dataframe thead th {\n",
              "        text-align: right;\n",
              "    }\n",
              "</style>\n",
              "<table border=\"1\" class=\"dataframe\">\n",
              "  <thead>\n",
              "    <tr style=\"text-align: right;\">\n",
              "      <th></th>\n",
              "      <th>comments</th>\n",
              "      <th>contain_gender_bias</th>\n",
              "      <th>bias</th>\n",
              "      <th>hate</th>\n",
              "    </tr>\n",
              "  </thead>\n",
              "  <tbody>\n",
              "  </tbody>\n",
              "</table>\n",
              "</div>"
            ],
            "text/plain": [
              "Empty DataFrame\n",
              "Columns: [comments, contain_gender_bias, bias, hate]\n",
              "Index: []"
            ]
          },
          "metadata": {},
          "execution_count": 15
        }
      ]
    },
    {
      "cell_type": "code",
      "metadata": {
        "colab": {
          "base_uri": "https://localhost:8080/"
        },
        "id": "c_gJyywrPKiU",
        "outputId": "9b752321-41b5-4c1d-8341-fb37426e3b40"
      },
      "source": [
        "train_data = train_data.dropna(how = 'any')\n",
        "print(train_data.isnull().values.any())"
      ],
      "execution_count": 16,
      "outputs": [
        {
          "output_type": "stream",
          "name": "stdout",
          "text": [
            "False\n"
          ]
        }
      ]
    },
    {
      "cell_type": "code",
      "metadata": {
        "colab": {
          "base_uri": "https://localhost:8080/"
        },
        "id": "gA1WjZNuPKkS",
        "outputId": "e89fafb1-87df-4eb4-e007-720ea735b1a8"
      },
      "source": [
        "print(len(train_data))"
      ],
      "execution_count": 17,
      "outputs": [
        {
          "output_type": "stream",
          "name": "stdout",
          "text": [
            "13041\n"
          ]
        }
      ]
    },
    {
      "cell_type": "code",
      "metadata": {
        "colab": {
          "base_uri": "https://localhost:8080/",
          "height": 201
        },
        "id": "2nCEro2jPKmr",
        "outputId": "a0a8965b-632a-4971-885a-ed9de811b6a0"
      },
      "source": [
        "train_data['comments'] = train_data['comments'].str.replace(\"[^ㄱ-ㅎㅏ-ㅣ가-힣 ]\",\"\")\n",
        "train_data[:5]"
      ],
      "execution_count": 18,
      "outputs": [
        {
          "output_type": "execute_result",
          "data": {
            "text/html": [
              "<div>\n",
              "<style scoped>\n",
              "    .dataframe tbody tr th:only-of-type {\n",
              "        vertical-align: middle;\n",
              "    }\n",
              "\n",
              "    .dataframe tbody tr th {\n",
              "        vertical-align: top;\n",
              "    }\n",
              "\n",
              "    .dataframe thead th {\n",
              "        text-align: right;\n",
              "    }\n",
              "</style>\n",
              "<table border=\"1\" class=\"dataframe\">\n",
              "  <thead>\n",
              "    <tr style=\"text-align: right;\">\n",
              "      <th></th>\n",
              "      <th>comments</th>\n",
              "      <th>contain_gender_bias</th>\n",
              "      <th>bias</th>\n",
              "      <th>hate</th>\n",
              "    </tr>\n",
              "  </thead>\n",
              "  <tbody>\n",
              "    <tr>\n",
              "      <th>0</th>\n",
              "      <td>게임 바둑이 노리터게임</td>\n",
              "      <td>False</td>\n",
              "      <td>none</td>\n",
              "      <td>none</td>\n",
              "    </tr>\n",
              "    <tr>\n",
              "      <th>1</th>\n",
              "      <td>죄인이존나ㅋㅋㅋㅋㅋ한남잼민이같아</td>\n",
              "      <td>False</td>\n",
              "      <td>none</td>\n",
              "      <td>hate</td>\n",
              "    </tr>\n",
              "    <tr>\n",
              "      <th>2</th>\n",
              "      <td>민주당 잡 것들 또 선동질 특검가자</td>\n",
              "      <td>False</td>\n",
              "      <td>none</td>\n",
              "      <td>hate</td>\n",
              "    </tr>\n",
              "    <tr>\n",
              "      <th>3</th>\n",
              "      <td>한남화됨</td>\n",
              "      <td>False</td>\n",
              "      <td>none</td>\n",
              "      <td>hate</td>\n",
              "    </tr>\n",
              "    <tr>\n",
              "      <th>4</th>\n",
              "      <td>너  그런게임해</td>\n",
              "      <td>False</td>\n",
              "      <td>none</td>\n",
              "      <td>none</td>\n",
              "    </tr>\n",
              "  </tbody>\n",
              "</table>\n",
              "</div>"
            ],
            "text/plain": [
              "              comments  contain_gender_bias  bias  hate\n",
              "0         게임 바둑이 노리터게임                False  none  none\n",
              "1    죄인이존나ㅋㅋㅋㅋㅋ한남잼민이같아                False  none  hate\n",
              "2  민주당 잡 것들 또 선동질 특검가자                False  none  hate\n",
              "3                 한남화됨                False  none  hate\n",
              "4             너  그런게임해                False  none  none"
            ]
          },
          "metadata": {},
          "execution_count": 18
        }
      ]
    },
    {
      "cell_type": "code",
      "metadata": {
        "colab": {
          "base_uri": "https://localhost:8080/"
        },
        "id": "BYJcnANbPKoy",
        "outputId": "dee4629d-f8bd-4ce5-c02a-c35c297fc96b"
      },
      "source": [
        "train_data['comments'] = train_data['comments'].str.replace('^ +', \"\")\n",
        "train_data['comments'].replace('', np.nan, inplace=True)\n",
        "print(train_data.isnull().sum())"
      ],
      "execution_count": 19,
      "outputs": [
        {
          "output_type": "stream",
          "name": "stdout",
          "text": [
            "comments               0\n",
            "contain_gender_bias    0\n",
            "bias                   0\n",
            "hate                   0\n",
            "dtype: int64\n"
          ]
        }
      ]
    },
    {
      "cell_type": "code",
      "metadata": {
        "colab": {
          "base_uri": "https://localhost:8080/",
          "height": 49
        },
        "id": "8OJaizEsPW9L",
        "outputId": "3f3ab72f-0b31-4be4-8934-95daf3d3b913"
      },
      "source": [
        "train_data.loc[train_data.comments.isnull()][:5]"
      ],
      "execution_count": 20,
      "outputs": [
        {
          "output_type": "execute_result",
          "data": {
            "text/html": [
              "<div>\n",
              "<style scoped>\n",
              "    .dataframe tbody tr th:only-of-type {\n",
              "        vertical-align: middle;\n",
              "    }\n",
              "\n",
              "    .dataframe tbody tr th {\n",
              "        vertical-align: top;\n",
              "    }\n",
              "\n",
              "    .dataframe thead th {\n",
              "        text-align: right;\n",
              "    }\n",
              "</style>\n",
              "<table border=\"1\" class=\"dataframe\">\n",
              "  <thead>\n",
              "    <tr style=\"text-align: right;\">\n",
              "      <th></th>\n",
              "      <th>comments</th>\n",
              "      <th>contain_gender_bias</th>\n",
              "      <th>bias</th>\n",
              "      <th>hate</th>\n",
              "    </tr>\n",
              "  </thead>\n",
              "  <tbody>\n",
              "  </tbody>\n",
              "</table>\n",
              "</div>"
            ],
            "text/plain": [
              "Empty DataFrame\n",
              "Columns: [comments, contain_gender_bias, bias, hate]\n",
              "Index: []"
            ]
          },
          "metadata": {},
          "execution_count": 20
        }
      ]
    },
    {
      "cell_type": "code",
      "metadata": {
        "colab": {
          "base_uri": "https://localhost:8080/"
        },
        "id": "kxr_yLRJPW_R",
        "outputId": "c2015a94-459c-422d-fb49-a065e8942647"
      },
      "source": [
        "train_data = train_data.dropna(how = 'any')\n",
        "print(len(train_data))"
      ],
      "execution_count": 21,
      "outputs": [
        {
          "output_type": "stream",
          "name": "stdout",
          "text": [
            "13041\n"
          ]
        }
      ]
    },
    {
      "cell_type": "code",
      "metadata": {
        "colab": {
          "base_uri": "https://localhost:8080/"
        },
        "id": "T-PeiyF0PXBh",
        "outputId": "8c6e7255-b7b9-43ef-ad31-ecb435fade38"
      },
      "source": [
        "test_data.drop_duplicates(subset = ['comments'], inplace=True)\n",
        "test_data['comments'] = test_data['comments'].str.replace(\"[^ㄱ-ㅎㅏ-ㅣ가-힣 ]\",\"\")\n",
        "test_data['comments'] = test_data['comments'].str.replace('^ +', \"\")\n",
        "test_data['comments'].replace('', np.nan, inplace=True)\n",
        "test_data = test_data.dropna(how='any')\n",
        "print('전처리 후 테스트용 샘플의 개수 :',len(test_data))"
      ],
      "execution_count": 22,
      "outputs": [
        {
          "output_type": "stream",
          "name": "stdout",
          "text": [
            "전처리 후 테스트용 샘플의 개수 : 3540\n"
          ]
        }
      ]
    },
    {
      "cell_type": "code",
      "metadata": {
        "id": "lS6P7ORUPXDv"
      },
      "source": [
        "stopwords = ['의','가','이','은','들','는','좀','잘','걍','과','도','를','으로','자','에','와','한','하다']"
      ],
      "execution_count": 23,
      "outputs": []
    },
    {
      "cell_type": "code",
      "metadata": {
        "colab": {
          "base_uri": "https://localhost:8080/"
        },
        "id": "2m7sJExCPXGB",
        "outputId": "60edd278-7c9d-4de8-fdd2-663fd5fb9548"
      },
      "source": [
        "okt = Okt()\n",
        "okt.morphs('와 이런 것도 영화라고 차라리 뮤직비디오를 만드는 게 나을 뻔', stem = True)"
      ],
      "execution_count": 24,
      "outputs": [
        {
          "output_type": "execute_result",
          "data": {
            "text/plain": [
              "['오다', '이렇다', '것', '도', '영화', '라고', '차라리', '뮤직비디오', '를', '만들다', '게', '나다', '뻔']"
            ]
          },
          "metadata": {},
          "execution_count": 24
        }
      ]
    },
    {
      "cell_type": "code",
      "metadata": {
        "id": "2EzKkA_NPXIK"
      },
      "source": [
        "X_train = []\n",
        "for sentence in train_data['comments']:\n",
        "    temp_X = okt.morphs(sentence, stem=True)\n",
        "    temp_X = [word for word in temp_X if not word in stopwords]\n",
        "    X_train.append(temp_X)"
      ],
      "execution_count": 25,
      "outputs": []
    },
    {
      "cell_type": "code",
      "metadata": {
        "colab": {
          "base_uri": "https://localhost:8080/"
        },
        "id": "-IFW77uyPXKZ",
        "outputId": "044d62e2-fb3f-47b7-84bc-7634d1c66847"
      },
      "source": [
        "print(X_train[:3])"
      ],
      "execution_count": 26,
      "outputs": [
        {
          "output_type": "stream",
          "name": "stdout",
          "text": [
            "[['게임', '바둑이', '노', '리터', '게임'], ['죄인', '존나', 'ㅋㅋㅋㅋㅋ', '한남', '잼민', '같다'], ['민주당', '잡', '것', '또', '선동', '질', '특검', '가다']]\n"
          ]
        }
      ]
    },
    {
      "cell_type": "code",
      "metadata": {
        "id": "cxa_R9DTPXMW"
      },
      "source": [
        "X_test = []\n",
        "for sentence in test_data['comments']:\n",
        "    temp_X = okt.morphs(sentence, stem=True)\n",
        "    temp_X = [word for word in temp_X if not word in stopwords]\n",
        "    X_test.append(temp_X)"
      ],
      "execution_count": 27,
      "outputs": []
    },
    {
      "cell_type": "code",
      "metadata": {
        "id": "s3GNqma1Pe_k"
      },
      "source": [
        "tokenizer = Tokenizer()\n",
        "tokenizer.fit_on_texts(X_train)"
      ],
      "execution_count": 28,
      "outputs": []
    },
    {
      "cell_type": "code",
      "metadata": {
        "colab": {
          "base_uri": "https://localhost:8080/"
        },
        "id": "M9jva0oEPfB_",
        "outputId": "3ab5348f-3436-4415-a6ab-9afa44202fdf"
      },
      "source": [
        "print(tokenizer.word_index)"
      ],
      "execution_count": 29,
      "outputs": [
        {
          "output_type": "stream",
          "name": "stdout",
          "text": [
            "{'우파': 1, '스': 2, '애니': 3, '게임': 4, '한남': 5, '보다': 6, '책': 7, '날씨': 8, '나': 9, '아': 10, '문재인': 11, '오늘': 12, '민주당': 13, '다': 14, '을': 15, '좋다': 16, '이다': 17, '같다': 18, '요': 19, '진짜': 20, '오징어': 21, '아니다': 22, '안': 23, '야': 24, '틀': 25, '저': 26, '있다': 27, '딱': 28, '하': 29, '나오다': 30, '노엘': 31, '되다': 32, '로': 33, '만': 34, '읽다': 35, '없다': 36, '오다': 37, '네': 38, '님': 39, '내': 40, '뭐': 41, '너무': 42, '거': 43, '개': 44, '페미': 45, '왜': 46, '그': 47, '더힐': 48, '보고': 49, '취미': 50, '중': 51, '화': 52, '박근혜': 53, '에서': 54, '고': 55, '어': 56, 'ㅋㅋ': 57, '그렇다': 58, '게': 59, '재밌다': 60, '들다': 61, '가다': 62, '못': 63, '지': 64, '좌파': 65, '임': 66, '잇다': 67, '라': 68, '알다': 69, '랑': 70, '무슨': 71, '니': 72, '인': 73, '미치다': 74, '당': 75, '사람': 76, '일베': 77, '이야': 78, '싶다': 79, '자다': 80, '추천': 81, '날': 82, '지금': 83, '나다': 84, '오': 85, '해주다': 86, '일': 87, '또': 88, '헐다': 89, '새끼': 90, '근데': 91, '더': 92, '먹다': 93, '존나': 94, '하고': 95, '맞다': 96, 'ㅠ': 97, '해': 98, '어떻다': 99, '좋아하다': 100, '인데': 101, '지다': 102, '너': 103, '분': 104, '딱이다': 105, '앙': 106, '이제': 107, '독서': 108, '것': 109, '요즘': 110, 'ㅅㅂ': 111, '함': 112, '제': 113, '인가': 114, '난': 115, '면': 116, '시': 117, '유충': 118, '까지': 119, '말': 120, '받다': 121, '원': 122, '대통령': 123, '냐': 124, 'ㅋ': 125, 'ㅠㅠ': 126, '전': 127, '이재명': 128, '이랑': 129, '그냥': 130, '애': 131, '돼다': 132, '시발': 133, 'ㅋㅋㅋ': 134, '부터': 135, '싫다': 136, '볼': 137, '죠': 138, '않다': 139, '서': 140, '몰입': 141, '국힘': 142, '이네': 143, '기': 144, '만들다': 145, '여': 146, '생각': 147, '두': 148, '빨리': 149, '넘다': 150, '내다': 151, '많다': 152, 'ㅜ': 153, '죽다': 154, '보기': 155, '모르다': 156, '이렇다': 157, '언니': 158, '사다': 159, '신': 160, '케이': 161, '우리': 162, '많이': 163, '년': 164, '사랑': 165, '때': 166, '이나': 167, '언제': 168, '집': 169, '씨발': 170, '수': 171, '대': 172, '비': 173, '봄': 174, '구': 175, 'ㅋㅋㅋㅋ': 176, '인가요': 177, '끄다': 178, '콘': 179, '늘다': 180, '적': 181, '같이': 182, '데': 183, '뭔': 184, '역시': 185, '시작': 186, '끝나다': 187, '시간': 188, '정말': 189, '귀엽다': 190, '머': 191, '버리다': 192, '국': 193, '얘': 194, '래': 195, '내일': 196, '완전': 197, '소': 198, '웃기다': 199, '주다': 200, '다시': 201, '씨': 202, '야하다': 203, '정': 204, '살다': 205, '때문': 206, '노래': 207, '국민': 208, '한테': 209, 'ㄹㅇ': 210, '써다': 211, '듯': 212, '놈': 213, '조': 214, '남자': 215, '라고': 216, '안되다': 217, '죽이다': 218, '갈다': 219, 'ㅜㅜ': 220, '짱': 221, '이지': 222, '스타': 223, '쓰다': 224, '그거': 225, '장제원': 226, '문': 227, '이라': 228, '엔': 229, '차다': 230, 'ㅇ': 231, '징': 232, '추다': 233, '프사': 234, '해보다': 235, '남': 236, '좆': 237, '아아': 238, '얘기': 239, '히': 240, '결방': 241, 'ㅋㅋㅋㅋㅋ': 242, '제발': 243, '에요': 244, '처럼': 245, '하나': 246, '덥다': 247, '말다': 248, '바': 249, '팀': 250, '개다': 251, '최고': 252, '권': 253, '특검': 254, '소리': 255, '반': 256, '살': 257, '크다': 258, '이번': 259, '이름': 260, '치다': 261, '햇': 262, '열심히': 263, '사실': 264, '노': 265, '걸': 266, '벌써': 267, '이렇게': 268, '밉다': 269, '내주다': 270, '엥': 271, '보이다': 272, '이에요': 273, '데이': 274, '다음': 275, '손': 276, '갓': 277, '니까': 278, '짐': 279, '멀다': 280, '어디': 281, '줄': 282, '헤': 283, '그램': 284, '드디어': 285, '언': 286, '헉': 287, '아들': 288, '누구': 289, '진심': 290, '라는': 291, '끝': 292, '놓다': 293, '티': 294, '즈': 295, '경선': 296, '주행': 297, '망하다': 298, '따다': 299, '친구': 300, '궁금하다': 301, '사': 302, '녀': 303, '찌다': 304, '주': 305, '갑자기': 306, '학교': 307, '울다': 308, '가보다': 309, '우': 310, '남다': 311, '대다': 312, '안보': 313, '군': 314, '최애': 315, '머리': 316, '후': 317, '봣': 318, '예요': 319, '나가다': 320, '두다': 321, '말고': 322, '이라고': 323, '듣다': 324, '밥': 325, '빼다': 326, '기분': 327, '이래': 328, '다른': 329, 'ㅎㅎ': 330, '눈치': 331, '새': 332, '몇': 333, '밖에': 334, '열': 335, '캐': 336, '누가': 337, '수준': 338, '건가': 339, '씻다': 340, '공부': 341, '본방': 342, '용': 343, '꾸다': 344, '만화': 345, '듣기': 346, '기다리다': 347, '트위터': 348, '이냐': 349, '상상': 350, '꼭': 351, '불다': 352, '흐리다': 353, '생기다': 354, '명': 355, '응': 356, '이낙연': 357, '울': 358, 'ㅎ': 359, '후보': 360, '하이라이트': 361, '곽상도': 362, '따르다': 363, '시키다': 364, '발': 365, '돌리다': 366, '인생': 367, '흑': 368, '여자': 369, '계': 370, '충': 371, '보': 372, '겜': 373, '아동': 374, 'ㄴ': 375, '쓰레기': 376, '에게': 377, '음': 378, '돈': 379, '속': 380, '탐라': 381, '타': 382, '디': 383, '마마': 384, '정신': 385, '사주다': 386, '만남': 387, 'ㅋㅋㅋㅋㅋㅋ': 388, '월': 389, '앗': 390, '성': 391, '원래': 392, '하루': 393, '마': 394, '비다': 395, '무섭다': 396, '번': 397, '이기다': 398, '키': 399, '보내다': 400, '세': 401, '문제': 402, '찾다': 403, '화천': 404, '나나': 405, '내놓다': 406, '여기': 407, '아직': 408, '제목': 409, '이라는': 410, '일단': 411, '파': 412, '곡': 413, '그런': 414, '이미': 415, '알': 416, '엿': 417, '안해': 418, 'ㅏ': 419, '업다': 420, '혹시': 421, '모': 422, '빡치다': 423, '그만': 424, '휴': 425, '짜다': 426, '추': 427, '대유': 428, '뜨다': 429, '엉': 430, '이르다': 431, '느낌': 432, '미안하다': 433, '예고': 434, '뒤지다': 435, '꾸리': 436, '오빠': 437, '싸다': 438, '트친': 439, '보여주다': 440, '맨': 441, '장': 442, '여행': 443, '재밋': 444, 'ㄱ': 445, '당장': 446, '이건': 447, '재앙': 448, '곧': 449, '메': 450, '예': 451, '괜찮다': 452, '연': 453, '감사하다': 454, '세카': 455, '그래서': 456, '엄마': 457, '슬프다': 458, '악': 459, '바로': 460, '대체': 461, '하자': 462, '힘': 463, '영상': 464, '뭘': 465, '인간': 466, '감': 467, '이상하다': 468, '도리': 469, '그치다': 470, '밸런스': 471, '엇': 472, '세상': 473, 'ㅠㅠㅠ': 474, 'ㅡㅡ': 475, '온': 476, '본': 477, '아저씨': 478, '편': 479, '들이다': 480, '한국': 481, '그래도': 482, '귀': 483, '이구나': 484, '구려': 485, '정도': 486, '파다': 487, '무대': 488, '작화': 489, '이명박': 490, '사진': 491, '허다': 492, '댄서': 493, '낼': 494, '그리고': 495, '펴다': 496, '억': 497, '말투': 498, '잖다': 499, '넷플': 500, '옴': 501, '여성': 502, '씹다': 503, '수박': 504, '인지': 505, '미니': 506, '작': 507, '계속': 508, '영화': 509, '자기': 510, '타다': 511, '꼴': 512, '부': 513, '뭔가': 514, '폰': 515, '어울리다': 516, '상': 517, '어떡하다': 518, '챙기다': 519, '웃기': 520, '베다': 521, '어쩔': 522, '웨이': 523, '일이': 524, '원작': 525, '뿐': 526, '맛': 527, '굿': 528, '되어다': 529, '정식': 530, '게이트': 531, '이유': 532, '힘들다': 533, '피다': 534, '쉬다': 535, '출장': 536, '욕': 537, 'ㅈㄴ': 538, '길': 539, '그리다': 540, '보지': 541, '설마': 542, '되게': 543, '아기': 544, '마지막': 545, '그림': 546, '그게': 547, '먼저': 548, '찍다': 549, '정부': 550, '뽑다': 551, '이런': 552, 'ㅆㅂ': 553, '계정': 554, 'ㅅ': 555, '후기': 556, '빠지다': 557, '제일': 558, '출처': 559, '보나': 560, '생활': 561, '티비': 562, '옛날': 563, '첫': 564, 'ㅓ': 565, '답': 566, '예쁘다': 567, '흠': 568, '법': 569, '마음': 570, '종이': 571, '지랄': 572, '낫다': 573, '습하다': 574, 'ㄷㄷ': 575, '믿다': 576, '아오': 577, '판': 578, '기다': 579, '지만': 580, '짓': 581, '아침': 582, '중독': 583, '대선': 584, 'ㄷ': 585, '아이': 586, '대박': 587, '얼른': 588, '김': 589, '위': 590, '잼': 591, '이라니': 592, '더럽다': 593, '장르': 594, '무': 595, '팔': 596, '얼굴': 597, '지지': 598, '깔다': 599, '아시': 600, '건': 601, '조심하다': 602, '뜻': 603, '즐기다': 604, '당연하다': 605, '드라마': 606, '서다': 607, '새롭다': 608, '과제': 609, '둘': 610, '피': 611, '태용': 612, '놀다': 613, 'ㅡ': 614, '자체': 615, '혼자': 616, '재': 617, '리': 618, '간다': 619, '조금': 620, '양': 621, '잡다': 622, '걸다': 623, '으': 624, '재기': 625, '절대': 626, '엠씨': 627, '까먹다': 628, '사회': 629, '수학': 630, '쪽': 631, '뒤': 632, '라도': 633, '돌': 634, '분기': 635, '왕': 636, '어케': 637, '잠': 638, '뭐임': 639, '쟤': 640, '재미': 641, '발언': 642, '이고': 643, '아빠': 644, '들어오다': 645, '입': 646, '형': 647, '취향': 648, '힐': 649, '짤': 650, '맨날': 651, '대한민국': 652, '쓸다': 653, '겁니다': 654, '레전드': 655, '아무': 656, '춥다': 657, '투표': 658, '탈당': 659, '갖다': 660, '오타쿠': 661, '나쁘다': 662, '꽤': 663, '가야': 664, '가요': 665, '진자': 666, '춤': 667, '타래': 668, '운동': 669, '스토리': 670, '잘생기다': 671, 'ㅇㅇ': 672, '인거': 673, '날다': 674, '이라도': 675, '사고': 676, '냥': 677, '감성': 678, '존잼': 679, '간': 680, '엄청': 681, '총': 682, '꺼지다': 683, '달다': 684, 'ㅁ': 685, '팬': 686, '일상': 687, '멋지다': 688, '고맙다': 689, '사수': 690, '다르다': 691, '술': 692, '시험': 693, '아주': 694, '힐링': 695, '하하': 696, '시즌': 697, '프': 698, '입다': 699, '나라': 700, 'ㅣ': 701, '당신': 702, '모음': 703, '강': 704, '부르다': 705, '유튜브': 706, '클립': 707, '방': 708, '패': 709, '도태': 710, '천': 711, '넣다': 712, '정치': 713, '마다': 714, '그만하다': 715, '여러분': 716, '이니까': 717, '동': 718, 'ㅋㅋㅋㅋㅋㅋㅋㅋ': 719, '눈': 720, '회': 721, '징징': 722, '차': 723, 'ㅠㅠㅠㅠ': 724, '스윗': 725, '달라': 726, '아직도': 727, '십': 728, '섹스': 729, '관련': 730, '어렵다': 731, '광주': 732, '페미니스트': 733, '혐오': 734, '플': 735, '공식': 736, '게이': 737, '열다': 738, '해결': 739, '첨': 740, '뭐라다': 741, '예정': 742, '찢다': 743, '현재': 744, '미쿠': 745, '틀다': 746, '생각나다': 747, '웹툰': 748, '특집': 749, '티빙': 750, '들어가다': 751, '병신': 752, '마저': 753, '아이돌': 754, '완결': 755, '롤': 756, '약': 757, '움': 758, '부럽다': 759, '력': 760, '프로': 761, '덮다': 762, '관': 763, '화가': 764, '어디서': 765, '밀리': 766, '유명하다': 767, '풀다': 768, 'ㅈ': 769, '화하다': 770, '참다': 771, '순': 772, '고민': 773, '오프': 774, '에는': 775, '저런': 776, '정권': 777, '목소리': 778, '윤석열': 779, 'ㅁㅊ': 780, '뎅': 781, '약간': 782, '앞': 783, '푸다': 784, '힘내다': 785, '어떤': 786, '당하다': 787, '살리다': 788, '그렇게': 789, '저희': 790, '공': 791, '이해': 792, '방금': 793, '드리다': 794, '가능': 795, '레즈': 796, '얼마나': 797, '주년': 798, '샵': 799, '올리다': 800, '각': 801, '땡기다': 802, '모두': 803, '일본': 804, '공포': 805, '앞장서다': 806, '오는': 807, '에스': 808, '빨다': 809, '지키다': 810, '보시': 811, '옷': 812, '고르다': 813, '소설': 814, '트친소': 815, '보수': 816, '짧다': 817, '없이': 818, '안녕하다': 819, '처음': 820, '꺅': 821, '이리': 822, '명예': 823, '막': 824, '나이': 825, '현': 826, '모으다': 827, '헤헤': 828, '짜증나다': 829, '모습': 830, '종일': 831, '냄새': 832, '음악': 833, '든': 834, '역사': 835, '정리': 836, '글': 837, 'ㅋㅋㅋㅋㅋㅋㅋ': 838, '재다': 839, '오오': 840, '붙다': 841, '바꾸다': 842, '줄다': 843, '추워지다': 844, '어이없다': 845, '버전': 846, '썩다': 847, '엔딩': 848, '에선': 849, '더불다': 850, '오프닝': 851, '가지다': 852, '넹': 853, '마르다': 854, '의원': 855, '호': 856, '보단': 857, '감기': 858, '별': 859, '존': 860, '만들기': 861, '스포': 862, '보고오다': 863, '데스': 864, '케이콘': 865, '키우다': 866, '께': 867, '수업': 868, '현실': 869, '어제': 870, '걸리다': 871, '인걸': 872, '어르다': 873, '천재': 874, '드': 875, '떨다': 876, '졸라': 877, '기대': 878, '끼다': 879, '고요': 880, '캣맘': 881, '실': 882, '사이트': 883, '통': 884, '포기': 885, '소개': 886, '넌': 887, '지옥': 888, '오란고교': 889, '왤케': 890, '쏘다': 891, '화요일': 892, '별로': 893, '토론': 894, '다음주': 895, '삼': 896, '코': 897, '진': 898, '멈추다': 899, '모글': 900, '맛집': 901, '분들': 902, '어이': 903, '반포': 904, '똑같다': 905, '한번': 906, '가기': 907, '캐릭터': 908, '추억': 909, '스럽다': 910, '선택': 911, '방송': 912, 'ㅇㅈ': 913, '잼민': 914, '알티': 915, '김도영': 916, '엔시': 917, '거야': 918, 'ㅜㅜㅜ': 919, '관심': 920, '친': 921, '에이': 922, '카': 923, '잊다': 924, '만나다': 925, '회사': 926, 'ㄹ': 927, '아싸': 928, '우중충': 929, '똥': 930, '나중': 931, '성인': 932, '만화책': 933, '안녕': 934, '점': 935, '단어': 936, '죽': 937, '왓': 938, '중이': 939, '보라': 940, '에도': 941, '확실하다': 942, '등': 943, '아스': 944, '마사지': 945, '심심하다': 946, '최근': 947, '이면': 948, '지르다': 949, '재밋어': 950, '노제': 951, '토': 952, '아악': 953, '여우': 954, '만에': 955, '대단하다': 956, '인정': 957, '꿈': 958, '노무현': 959, '끼': 960, '자르다': 961, '연애': 962, '반대': 963, '와우': 964, '솔직하다': 965, '표': 966, '개재': 967, '밋': 968, '곳': 969, '문죄인': 970, '준비': 971, '이쁘다': 972, '늦다': 973, '모든': 974, '오지': 975, '재미있다': 976, '매': 977, '터지다': 978, '구리다': 979, '가슴': 980, '장면': 981, '크루': 982, '도대체': 983, '다니다': 984, '야애니': 985, '사사오입': 986, '촉법소년': 987, '실트': 988, '제법': 989, '달': 990, '채': 991, '요일': 992, '케': 993, '캐다': 994, '손안': 995, '쌀쌀하다': 996, '탓': 997, '스페셜': 998, '눈물': 999, '엠넷': 1000, '개웃': 1001, '기네': 1002, '결국': 1003, '졸리다': 1004, '이래서': 1005, '피곤하다': 1006, '패러디': 1007, '애인': 1008, '세다': 1009, '바디': 1010, '끝내다': 1011, '구나': 1012, '해도': 1013, '실패': 1014, '바람': 1015, '강경': 1016, '도부': 1017, '충격': 1018, '요정': 1019, '유': 1020, 'ㅎㅎㅎ': 1021, '영': 1022, '탄핵': 1023, 'ㅋㅋㅋㅋㅋㅋㅋㅋㅋ': 1024, '자꾸': 1025, '만큼': 1026, '라면': 1027, '겠다': 1028, '찾아보다': 1029, '이라서': 1030, '안다': 1031, '라서': 1032, '가능하다': 1033, '도서관': 1034, '떨리다': 1035, '금': 1036, '물': 1037, '오랜': 1038, '보구': 1039, '하이': 1040, '겨': 1041, '플리': 1042, '새벽': 1043, '사귀다': 1044, '대요': 1045, '쌤': 1046, '미국': 1047, '이명': 1048, '창': 1049, '동생': 1050, '가을': 1051, '역겹다': 1052, '안함': 1053, '하라': 1054, '부산': 1055, '끊다': 1056, '닌': 1057, '가면': 1058, '급': 1059, '산다': 1060, '가장': 1061, '숙제': 1062, '팬미팅': 1063, '확인': 1064, '덕': 1065, '싹': 1066, '겟': 1067, '덕질': 1068, '콜라보': 1069, '싸': 1070, '아웃': 1071, '웃다': 1072, '완료': 1073, '빨': 1074, '내용': 1075, '핫': 1076, '고추': 1077, '치우다': 1078, '비슷하다': 1079, '재방': 1080, '바뀌다': 1081, '요새': 1082, '리더': 1083, '죠죠': 1084, '효': 1085, '고스': 1086, '우와': 1087, '년대': 1088, '싸우다': 1089, '촬영': 1090, '거의': 1091, '우중충하다': 1092, '작다': 1093, '치킨': 1094, '연설': 1095, '비엘': 1096, '참가': 1097, '님들': 1098, '밀리다': 1099, '사기': 1100, '행복하다': 1101, '뺏다': 1102, '먹기': 1103, '이여': 1104, '근': 1105, '사이': 1106, '정보': 1107, '태': 1108, '차라리': 1109, '커뮤': 1110, '배': 1111, '뛰다': 1112, '주말': 1113, '라이': 1114, '대화': 1115, '칼': 1116, '극': 1117, '경': 1118, '대장동': 1119, 'ㅇㅈㄹ': 1120, '본대': 1121, '심': 1122, '올': 1123, '시세': 1124, '등신': 1125, '보징': 1126, '춤추다': 1127, '예스': 1128, '꺼': 1129, '거지': 1130, '학원': 1131, '몰다': 1132, '해조': 1133, '죽음': 1134, '왜케': 1135, '룩': 1136, '큰일': 1137, '전문': 1138, '버스': 1139, '식': 1140, '교수': 1141, '재밋다': 1142, '하아': 1143, '이벤트': 1144, '민': 1145, '바로가기': 1146, '잔': 1147, '가족': 1148, '추미애': 1149, '물론': 1150, '귀찮다': 1151, '츠': 1152, '딸': 1153, '심하다': 1154, '자고': 1155, '결혼': 1156, '된거': 1157, '배우다': 1158, '원하다': 1159, '비혼': 1160, '대표': 1161, '으로만': 1162, '공개': 1163, '사퇴': 1164, '섹트': 1165, '전부': 1166, '돌다': 1167, '알바': 1168, '쿠': 1169, '부탁드리다': 1170, '트윗': 1171, '그건': 1172, '몸': 1173, '멍청하다': 1174, '모바일': 1175, '라프텔': 1176, '백합': 1177, '띵': 1178, '질문': 1179, '저러다': 1180, '그저': 1181, '김대중': 1182, '야구': 1183, '빠': 1184, '당원': 1185, '부끄럽다': 1186, '킹': 1187, '단': 1188, '잃다': 1189, '조아하다': 1190, '라니': 1191, '종전': 1192, '선언': 1193, '가져오다': 1194, '팩스': 1195, '맘': 1196, '병': 1197, '화요': 1198, '수사': 1199, '원트': 1200, '쇼': 1201, '죄송하다': 1202, '좌': 1203, '삶': 1204, '집중': 1205, '우파루파': 1206, '빨갛다': 1207, '코로나': 1208, '청자': 1209, '이상': 1210, '처': 1211, '카페': 1212, '고양이': 1213, '이따': 1214, '젊다': 1215, '공주': 1216, '재질': 1217, '만원': 1218, '닮다': 1219, '착하다': 1220, '뇌': 1221, '만이': 1222, '나스': 1223, '디씨': 1224, '결제': 1225, '모니카': 1226, '상태': 1227, '사라지다': 1228, '뿐이다': 1229, '포카': 1230, '류': 1231, '작가': 1232, '노잼': 1233, '런가': 1234, '리지': 1235, '낙': 1236, '시절': 1237, '땜': 1238, '키스': 1239, '칠': 1240, '찝찝하다': 1241, '얼': 1242, '이란': 1243, '앱': 1244, '최': 1245, '형벌': 1246, '트': 1247, '시청': 1248, '기대하다': 1249, '어머': 1250, '이즈': 1251, '금지': 1252, '쫌': 1253, '특': 1254, '섹시': 1255, '투': 1256, '복': 1257, '탈락': 1258, '씩': 1259, '동안': 1260, '으악': 1261, '늘': 1262, '호감': 1263, '접다': 1264, '슈': 1265, '질': 1266, '위해': 1267, '이신': 1268, '부분': 1269, '추석': 1270, '구리': 1271, '꼰': 1272, '놀이': 1273, '화해': 1274, '타임': 1275, '아트': 1276, '사면': 1277, '가지': 1278, '유미': 1279, '관계': 1280, '재미없다': 1281, '걱정': 1282, '에나': 1283, '우우': 1284, '미쳣': 1285, '집권': 1286, '저기': 1287, '스포츠': 1288, '온대': 1289, '바보': 1290, '근황': 1291, '즐겁다': 1292, '물어보다': 1293, '씹덕': 1294, '교육': 1295, '예고편': 1296, '록': 1297, '잃어버리다': 1298, '컷': 1299, '초반': 1300, '뱅': 1301, '이틀': 1302, '가입': 1303, '그것': 1304, '선물': 1305, '개그': 1306, '무조건': 1307, '극장판': 1308, '오버': 1309, '레드': 1310, '뜯다': 1311, '조아': 1312, '중국': 1313, '배틀': 1314, '땅': 1315, '제로': 1316, '이기': 1317, '젤': 1318, '보카로': 1319, '불': 1320, '다스': 1321, '틀어놓다': 1322, '눕다': 1323, '가끔': 1324, '모임': 1325, '배그': 1326, '항상': 1327, '운': 1328, '잘리다': 1329, '희망': 1330, '색': 1331, '구경': 1332, '방탄소년단': 1333, '뷔': 1334, '적폐': 1335, '서울': 1336, '체': 1337, '왤다': 1338, '에여': 1339, '함께': 1340, '습': 1341, '마마마': 1342, '암': 1343, '대로': 1344, '심장': 1345, '돌아오다': 1346, '설': 1347, '이안': 1348, '하지만': 1349, '웹': 1350, '최악': 1351, '포켓몬': 1352, '쯤': 1353, '어캄': 1354, '버': 1355, '며': 1356, '쨩': 1357, '아크릴': 1358, '끼리': 1359, '우울하다': 1360, '에어컨': 1361, '무엇': 1362, '대충': 1363, '하니': 1364, '꼬리': 1365, '깅': 1366, '터': 1367, '치고': 1368, '여기다': 1369, '행위': 1370, '애비': 1371, '세포': 1372, '재밋는': 1373, '왓챠': 1374, '젠': 1375, '팅': 1376, '해체': 1377, '안티': 1378, '썸': 1379, '설정': 1380, '경기': 1381, '링크': 1382, '북한': 1383, '연성': 1384, '가나': 1385, '떨어지다': 1386, '댓': 1387, '빠르다': 1388, '정의': 1389, '망치다': 1390, '추가': 1391, '다니엘': 1392, '침': 1393, '선거': 1394, '쥬': 1395, '뒷': 1396, '욧': 1397, '인스타': 1398, '대행': 1399, '워': 1400, '사서': 1401, '경마': 1402, '미션': 1403, '여보': 1404, '팔면': 1405, '언제나': 1406, '팔다': 1407, '랄': 1408, '널': 1409, '선': 1410, '정신병': 1411, '메다': 1412, '업': 1413, '톤': 1414, '먹음': 1415, '맛있다': 1416, '가라': 1417, '시르다': 1418, '줍다': 1419, '달리다': 1420, '치': 1421, '미안': 1422, '정병': 1423, '안무': 1424, '석': 1425, '볼때': 1426, '커피': 1427, '셀카': 1428, '승리': 1429, '뮤비': 1430, '맑다': 1431, '나르다': 1432, '멋있다': 1433, '자주': 1434, '멤버': 1435, '죄다': 1436, '재현': 1437, '제작': 1438, '넷플릭스': 1439, '척': 1440, '그녀': 1441, '스러운': 1442, '정신차리다': 1443, '잠깐': 1444, '레': 1445, '옆': 1446, '편하다': 1447, '앤': 1448, '개혁': 1449, '존재': 1450, '캠핑': 1451, 'ㅠㅠㅠㅠㅠㅠ': 1452, '민국': 1453, '쵸': 1454, '낫': 1455, '취급': 1456, '대학': 1457, '자라': 1458, '따뜻하다': 1459, '아무래도': 1460, '주식': 1461, '전용': 1462, '광고': 1463, '셈': 1464, '구매': 1465, '민주': 1466, '차리다': 1467, '전설': 1468, '가져가다': 1469, '디코': 1470, '노래방': 1471, '선배': 1472, '신경': 1473, '로우': 1474, '죄송': 1475, '년도': 1476, '중간': 1477, '프리': 1478, '방법': 1479, '돼지': 1480, '변하다': 1481, '가치': 1482, '행': 1483, '진보': 1484, '조사': 1485, '등장': 1486, '나진': 1487, '클럽': 1488, '재단': 1489, '밍': 1490, '실시간': 1491, '인기': 1492, '어우': 1493, '믄': 1494, '친추': 1495, '던지다': 1496, '체인소': 1497, '용이': 1498, '디노': 1499, '봣어': 1500, '카지노': 1501, '댄스': 1502, '거기': 1503, '벼': 1504, '열리다': 1505, 'ㅑ': 1506, '탕': 1507, '신다': 1508, '줌': 1509, '다운': 1510, '찰떡': 1511, '파티': 1512, '특기': 1513, '일어나다': 1514, '됏': 1515, '줄이다': 1516, '문학': 1517, '포함': 1518, '아미': 1519, '몇번': 1520, '마크': 1521, '문특': 1522, '제해': 1523, '진정하다': 1524, '내면': 1525, '아흔': 1526, '밴드': 1527, '쥐': 1528, '야당': 1529, '본적': 1530, '자징': 1531, '관리': 1532, '으아아': 1533, '매일': 1534, '본인': 1535, '덕분': 1536, '댐': 1537, '백신': 1538, '국짐': 1539, '말씀': 1540, '결선': 1541, '잡고': 1542, '놓치다': 1543, '임해': 1544, '시바': 1545, '출근': 1546, '편이': 1547, '뿌리': 1548, '정답': 1549, '느끼다': 1550, '개구리': 1551, '브이': 1552, '싫어하다': 1553, '제명': 1554, '탈': 1555, '염': 1556, '고전': 1557, '기여': 1558, '째': 1559, '중임': 1560, '대기': 1561, '새다': 1562, '파판': 1563, '바라다': 1564, '소식': 1565, '살인': 1566, '수지': 1567, '축하': 1568, '디지다': 1569, '밀다': 1570, '마작': 1571, '느리다': 1572, '도키': 1573, '만세': 1574, '낭': 1575, '똥파리': 1576, '무기': 1577, 'ㅂ': 1578, '칭찬': 1579, '콜걸': 1580, '악마': 1581, '홀': 1582, '미노': 1583, '엘': 1584, '으아': 1585, '이니': 1586, '낙엽': 1587, '옹': 1588, '세계': 1589, '신규': 1590, '이야기': 1591, '적당하다': 1592, '무한': 1593, '거래': 1594, '마냥': 1595, '호남': 1596, 'ㄱㅊ': 1597, '한다는': 1598, '라이브': 1599, '산책': 1600, '살기': 1601, '미팅': 1602, '언론': 1603, '축축하다': 1604, '닉': 1605, '흑발': 1606, '후후': 1607, '말로': 1608, '주거': 1609, '미리': 1610, '벌칙': 1611, '결': 1612, '힝': 1613, '럼': 1614, '의미': 1615, '논리': 1616, '국어': 1617, '하늘': 1618, '코드': 1619, 'ㅆ': 1620, '내리다': 1621, '젠장': 1622, '공유': 1623, '도둑': 1624, '명곡': 1625, '번째': 1626, '방해': 1627, '쟈': 1628, '카톡': 1629, '용다': 1630, '깨다': 1631, '생': 1632, '아프다': 1633, '브금': 1634, '하이큐': 1635, '성격': 1636, '부다': 1637, '마이': 1638, '자살': 1639, '메이플': 1640, '고프다': 1641, '구만': 1642, '유교': 1643, '지지율': 1644, '궁': 1645, '절': 1646, '박': 1647, '아깝다': 1648, '멘트': 1649, 'ㅇㄴ': 1650, '자리': 1651, '딱좋다': 1652, '유엔': 1653, '대가리': 1654, '괜히': 1655, '착': 1656, '이애': 1657, '블락': 1658, '아하': 1659, '선생님': 1660, '자해': 1661, '플레이': 1662, '우산': 1663, '졸다': 1664, '애기': 1665, '공동체': 1666, '챠': 1667, '가비': 1668, '얼마': 1669, '툥': 1670, 'ㅏㅏ': 1671, '어리다': 1672, '남성': 1673, '과학': 1674, '자동': 1675, '엉덩이': 1676, '여친': 1677, '숨다': 1678, '블': 1679, '쌍': 1680, '한편': 1681, '만하': 1682, '다가': 1683, '안나': 1684, '꽃': 1685, '저녁': 1686, '투디': 1687, '결과': 1688, '벗다': 1689, '승': 1690, '에서만': 1691, '닮음': 1692, '옳다': 1693, '걸스': 1694, '단체': 1695, '부탁': 1696, '링': 1697, '북': 1698, '던': 1699, '송영길': 1700, '녹화': 1701, '흥': 1702, '중단': 1703, '피스': 1704, '검색': 1705, '고기': 1706, '집착': 1707, '노동요': 1708, '아르': 1709, '코인': 1710, '우린': 1711, '왼쪽': 1712, '고딩': 1713, '보유': 1714, '구리구리': 1715, '휴게소': 1716, '별안간': 1717, '몬': 1718, '주인공': 1719, '신발': 1720, '나야': 1721, '익히다': 1722, '이상민': 1723, '내년': 1724, '겹': 1725, '포': 1726, '그린': 1727, '어둡다': 1728, '지지자': 1729, '뉴비': 1730, '때리다': 1731, '채우다': 1732, '느그': 1733, '지구': 1734, '진격': 1735, '오마이갓': 1736, '아래': 1737, '블루': 1738, '라니까': 1739, '전형': 1740, '구속': 1741, '필': 1742, '넘기다': 1743, '초딩': 1744, '나기': 1745, '일지': 1746, '덜': 1747, '심다': 1748, '끌다': 1749, '태일': 1750, '포자': 1751, '벌': 1752, '구르다': 1753, '아가씨': 1754, '연락': 1755, '과도': 1756, '끝판': 1757, '기억': 1758, '구글검색': 1759, '팝콘': 1760, '출전': 1761, '콜톡': 1762, '즁': 1763, '닉네임': 1764, '지리다': 1765, '목록': 1766, '셋': 1767, '한데': 1768, '글래머': 1769, '대중': 1770, '윰세': 1771, '제대로': 1772, '생존': 1773, '가방': 1774, '화이팅': 1775, '한국어': 1776, '헤이': 1777, '해주': 1778, '범': 1779, '이스': 1780, '립': 1781, '족': 1782, '고생': 1783, '엇네': 1784, '컨셉': 1785, '뻔하다': 1786, '캔두': 1787, '눈물나다': 1788, '땐': 1789, '물다': 1790, 'ㅐ': 1791, '연휴': 1792, '강제': 1793, '신작': 1794, '억이': 1795, '인증': 1796, '계시다': 1797, '권리': 1798, '기운': 1799, '중대': 1800, '린': 1801, '리스트': 1802, '블로그': 1803, '졸리': 1804, '누': 1805, '마도': 1806, '뿌리다': 1807, '놀리다': 1808, '국가': 1809, '페이지': 1810, '보장': 1811, '실어': 1812, '컴퓨터': 1813, '소통': 1814, '붙이': 1815, '검': 1816, '결론': 1817, '기르다': 1818, '마자': 1819, '엇어': 1820, '쩔다': 1821, '홈': 1822, '라나': 1823, '커플': 1824, '무료': 1825, '파이다': 1826, '떡': 1827, '진도': 1828, '파트너': 1829, '붐': 1830, '이구만': 1831, '신청': 1832, '읍': 1833, '미녀': 1834, '건강하다': 1835, '랜': 1836, '화나다': 1837, '투자': 1838, '후딱': 1839, '기절': 1840, '반응': 1841, '비밥': 1842, '라임': 1843, '국정조사': 1844, '금요일': 1845, '스우': 1846, '씨팔': 1847, '몰래': 1848, '오르다': 1849, '쳣': 1850, '본격': 1851, '느': 1852, '페': 1853, '현질': 1854, '오래': 1855, '메인': 1856, '드림': 1857, '필수': 1858, '아쉽다': 1859, '매우': 1860, '왠지': 1861, '싸가지': 1862, '거대': 1863, '그니까': 1864, '용돈': 1865, '무협': 1866, '대해': 1867, '페이스': 1868, '붉다': 1869, '차단': 1870, '어딨다': 1871, '인장': 1872, '도영': 1873, '참고': 1874, '금방': 1875, '산': 1876, '쿨': 1877, '섹파': 1878, '예약': 1879, '번역': 1880, '명작': 1881, '혐': 1882, '올해': 1883, '올려주다': 1884, '윤석렬': 1885, '얇다': 1886, '동네': 1887, '화만': 1888, '꿀꿀': 1889, '켜다': 1890, '차니': 1891, '접속': 1892, 'ㅍ': 1893, '졸림': 1894, '유지': 1895, '기어': 1896, '굴지': 1897, '보석': 1898, '젖다': 1899, '준': 1900, '따먹다': 1901, '거리': 1902, '빌리다': 1903, '시리즈': 1904, '켜': 1905, '캐럿': 1906, '떠오르다': 1907, '웬': 1908, '언급': 1909, '지경': 1910, '드레': 1911, '가보': 1912, '더힐살': 1913, 'ㅎㅏ': 1914, '사장': 1915, '외국': 1916, '한마디': 1917, '블라바츠키': 1918, '잔인하다': 1919, '질질': 1920, '에다': 1921, '디아': 1922, '도망치다': 1923, '딱하다': 1924, '그러면': 1925, '꼬': 1926, '붙이다': 1927, '외전': 1928, '파워': 1929, '벌레': 1930, '방영': 1931, '편집': 1932, '루': 1933, '뉴': 1934, '바지': 1935, '아뇨': 1936, '날리다': 1937, '연습': 1938, '아이디': 1939, '버러지': 1940, '없애다': 1941, '요약': 1942, '랫': 1943, '평생': 1944, '중시': 1945, '댓글': 1946, '오후': 1947, '다이어트': 1948, '엑': 1949, '먹방': 1950, '열차': 1951, '복수': 1952, '율': 1953, '니깐': 1954, '란': 1955, '솔로': 1956, '오토': 1957, '여전하다': 1958, '필요없다': 1959, '과거': 1960, '째다': 1961, '난리': 1962, '파샤': 1963, '큐': 1964, '캠프': 1965, '짓다': 1966, '행복': 1967, '제보': 1968, '누나': 1969, '방임': 1970, '가득하다': 1971, '센치': 1972, '범죄자': 1973, '남한': 1974, '청': 1975, '풍': 1976, '모드': 1977, '드럽다': 1978, '리정': 1979, '곤': 1980, '돌아가다': 1981, '신가': 1982, '에바': 1983, '하필': 1984, '로만': 1985, '매다': 1986, '인물': 1987, '백': 1988, '엠마': 1989, '뚝딱': 1990, '샘': 1991, 'ㅗ': 1992, '모기': 1993, '나가야': 1994, '레트': 1995, 'ㅠㅜ': 1996, '윤': 1997, '콘서트': 1998, '신기하다': 1999, '그지같다': 2000, '발송': 2001, '제스': 2002, '인천': 2003, '출연': 2004, '밧다': 2005, 'ㅋㅋㅋㅋㅋㅋㅋㅋㅋㅋ': 2006, '캐릭': 2007, '프로그램': 2008, '비리': 2009, '위험하다': 2010, '이재현': 2011, '덩': 2012, '성공': 2013, '휴가': 2014, '우주': 2015, '도덕': 2016, '려고': 2017, '그때': 2018, '팔로우': 2019, '루파': 2020, '빠레뜨': 2021, '육성': 2022, '존버': 2023, '만렙': 2024, '감동': 2025, '미방': 2026, '벌다': 2027, '육수': 2028, 'ㅔ': 2029, '시원하다': 2030, '완': 2031, '퇴근': 2032, '정당': 2033, '도전': 2034, '심지어': 2035, '평균': 2036, '로맨스': 2037, '는걸': 2038, '계급': 2039, '말리다': 2040, '카라': 2041, '모야': 2042, '인성': 2043, '밤': 2044, '지네': 2045, '잉': 2046, '비계': 2047, '잘못': 2048, '안좋다': 2049, '앨범': 2050, '깡': 2051, '환영': 2052, '패션': 2053, '회차': 2054, '도안': 2055, '영어': 2056, '분당': 2057, '디즈니': 2058, '설계': 2059, '차려': 2060, '샷': 2061, '여서': 2062, '팔이': 2063, '모름': 2064, '화보': 2065, '강의': 2066, '적다': 2067, '작업': 2068, '김태형': 2069, '쯔꾸르': 2070, '개새끼': 2071, '공격': 2072, '대전': 2073, '요리': 2074, '천사': 2075, '휘': 2076, '디피': 2077, '자아': 2078, '담다': 2079, '주소': 2080, '채팅': 2081, '보쟈': 2082, '빙의': 2083, '공책': 2084, '퇴직금': 2085, '넘어가다': 2086, '판매': 2087, '더빙': 2088, '무시': 2089, '최신': 2090, '페이': 2091, '비비다': 2092, '섹시하다': 2093, '앜': 2094, '간첩': 2095, '뻔': 2096, '트리': 2097, '등등': 2098, '파랑': 2099, '실화': 2100, '외': 2101, '파고': 2102, '원피스': 2103, '마법': 2104, '차갑다': 2105, '지역': 2106, '슬슬': 2107, '남혐': 2108, '만해': 2109, '윽': 2110, '싸움': 2111, '영업': 2112, '군대': 2113, '어둠': 2114, '불쌍하다': 2115, '엉엉': 2116, '대신': 2117, '파이팅': 2118, '초': 2119, '어디가': 2120, '파도': 2121, '이불': 2122, '펄': 2123, '펼치다': 2124, '바둑이': 2125, '잡': 2126, '능력': 2127, '으으': 2128, '도입': 2129, '빈': 2130, '송': 2131, '유사': 2132, '중도': 2133, 'ㅌ': 2134, '중인': 2135, '이민': 2136, '일종': 2137, '역': 2138, '제노': 2139, '전국': 2140, '꾸리다': 2141, '지우다': 2142, '하얗다': 2143, '방이': 2144, '노예': 2145, '야근': 2146, '닥치다': 2147, '온라인': 2148, '최강': 2149, '유나': 2150, 'ㅇㅅㅁ': 2151, '망': 2152, '로군': 2153, '기력': 2154, '완도': 2155, '일요일': 2156, '홍천': 2157, '유일하다': 2158, '손녀': 2159, '치카': 2160, '배달': 2161, '오줌': 2162, '포인트': 2163, '래야': 2164, '카이지': 2165, '건강': 2166, '안방': 2167, '평택': 2168, '낮잠': 2169, '축구': 2170, '댄싱': 2171, '엇음': 2172, '끌': 2173, '똑똑하다': 2174, '십이': 2175, '값': 2176, '여니': 2177, '르드': 2178, '네네': 2179, '례술': 2180, '멈님': 2181, '마약': 2182, '계란': 2183, '내공': 2184, '안철수': 2185, '국회의원': 2186, '읍니': 2187, '허허': 2188, '웃': 2189, '필요하다': 2190, '청춘': 2191, '벨': 2192, '장관': 2193, '오피': 2194, '주의': 2195, '밖': 2196, '겁나다': 2197, '거들다': 2198, '분노': 2199, '도르다': 2200, '커버': 2201, '가볍다': 2202, '무죄': 2203, '주연': 2204, '자랑스럽다': 2205, '꺼내다': 2206, '순서': 2207, '쭈꾸미': 2208, '치이다': 2209, '신의': 2210, '부랄': 2211, '햐': 2212, '대한': 2213, '흐': 2214, '나소': 2215, '찾아오다': 2216, '약자': 2217, '왓어': 2218, '여고생': 2219, '사르다': 2220, '방탄': 2221, '재방송': 2222, '가미': 2223, '이노': 2224, '한남대': 2225, '기본': 2226, '주변': 2227, '어느': 2228, '보신': 2229, '답변': 2230, '자유': 2231, '흥미': 2232, '붕괴': 2233, '마인드': 2234, '계절': 2235, '경이': 2236, '홈런': 2237, '은근': 2238, '어쩌라고': 2239, '틱톡': 2240, '스터디': 2241, '달린다': 2242, '전쟁': 2243, '페미니즘': 2244, '쳐다보다': 2245, '삐삐': 2246, '기획': 2247, '지뢰': 2248, '찾기': 2249, '안봄': 2250, '슈퍼': 2251, '정확하다': 2252, '화면': 2253, '식이': 2254, '카카오': 2255, '닷': 2256, '시대': 2257, '동기화': 2258, '괴물': 2259, '무도': 2260, '용품': 2261, '그걸': 2262, '선선': 2263, '스타즈': 2264, '등산': 2265, '낚시': 2266, '니야': 2267, '눈뜨다': 2268, '퇴': 2269, '물이': 2270, '두산': 2271, '도와주다': 2272, '슬': 2273, '좀비': 2274, '서비스': 2275, '과의': 2276, '애매하다': 2277, '적반하장': 2278, '투기': 2279, '준호': 2280, '버블': 2281, '유머': 2282, '쉽다': 2283, '품': 2284, '본부': 2285, '박정희': 2286, '태우다': 2287, '주제': 2288, '생겻': 2289, '지나가다': 2290, '건지다': 2291, '에어팟': 2292, '작품': 2293, '딜러': 2294, '감상문': 2295, 'ㅈㅅ': 2296, '뒤늦다': 2297, '수원': 2298, '이거지': 2299, '박다': 2300, '로그': 2301, '제의': 2302, '시티': 2303, '국수': 2304, '남아': 2305, '럽': 2306, '룰루': 2307, '막걸리': 2308, '댕': 2309, '말기': 2310, '지독하다': 2311, '오락가락': 2312, '테': 2313, '거름': 2314, '욤': 2315, '도피': 2316, '빼': 2317, '보상': 2318, '보은': 2319, '천원': 2320, '상황': 2321, '천러': 2322, '말랑이': 2323, '배고프다': 2324, '해봤다': 2325, '미애': 2326, '도마뱀': 2327, '홍보': 2328, '밀고': 2329, '쉿': 2330, '잡기': 2331, '헤에': 2332, '노트북': 2333, '일본어': 2334, '드립': 2335, '필리핀': 2336, '시끄럽다': 2337, '서늘하다': 2338, '펜': 2339, '크아': 2340, '낳다': 2341, '애초': 2342, '빻': 2343, '인격': 2344, '아줌마': 2345, '어버버': 2346, '찢어지다': 2347, '개잼': 2348, '신곡': 2349, '쩝': 2350, '풀': 2351, '이용': 2352, '후드': 2353, '치기': 2354, '머스': 2355, '에리': 2356, '순식간': 2357, '주자': 2358, '베이직': 2359, '오렌지': 2360, '호러': 2361, '내내': 2362, '다행': 2363, '술래잡기': 2364, '추첨': 2365, '보이지': 2366, '몫': 2367, '최대': 2368, '릴': 2369, '이사': 2370, '씨야': 2371, '조국': 2372, '남정': 2373, '회춘': 2374, '헬': 2375, '진입': 2376, '횟집': 2377, '한지': 2378, '노동': 2379, '아예': 2380, '엇다': 2381, '짜릿하다': 2382, '메이트': 2383, '서재': 2384, '렌': 2385, '개발': 2386, '무너지다': 2387, 'ㄴㄴ': 2388, '구라': 2389, '버티다': 2390, '볶음': 2391, 'ㅋㅋㅋㅋㅋㅋㅋㅋㅋㅋㅋㅋㅋ': 2392, '멸': 2393, '주심': 2394, '여주': 2395, '자국': 2396, '꼰대': 2397, '트렌드': 2398, '차이': 2399, '반복': 2400, '리스': 2401, '스팀': 2402, '안햇': 2403, '플러스': 2404, '싸개': 2405, '직캠': 2406, 'ㅛ': 2407, '입문': 2408, '주스': 2409, '피하': 2410, '차별': 2411, '세력': 2412, '꿀꿀하다': 2413, '겨울': 2414, '이군': 2415, '꼴리다': 2416, '고해': 2417, '내자': 2418, '컴': 2419, '화장실': 2420, '여대생': 2421, '꼬이다': 2422, '하스': 2423, '웅앵': 2424, '너무하다': 2425, '린다': 2426, '망치': 2427, '한남동': 2428, '한심하다': 2429, '포커': 2430, '강동원': 2431, '세기': 2432, '결말': 2433, '슬기': 2434, '스위치': 2435, '저번': 2436, '안경': 2437, '씨잘': 2438, '헛소리': 2439, '적응': 2440, '쥰': 2441, '애니메이트': 2442, '테스트': 2443, '엘소드': 2444, '리틀': 2445, '소녀': 2446, '이하': 2447, '성감': 2448, '흐엉': 2449, '데바': 2450, '어쩐지': 2451, '클레어': 2452, '남해': 2453, '아무리': 2454, '전북': 2455, '일리': 2456, '제이': 2457, '부정': 2458, '그립다': 2459, '됫': 2460, '계획': 2461, '구로': 2462, '자막': 2463, '잠들다': 2464, '구름': 2465, '끝내주다': 2466, '급발진': 2467, '변호사': 2468, '최종': 2469, '중요하다': 2470, '디스': 2471, '풀기': 2472, '보드': 2473, '스우파': 2474, '멍': 2475, '종로': 2476, '의외로': 2477, '맵다': 2478, '매국': 2479, '떡볶이': 2480, '코딩': 2481, '축': 2482, '거나': 2483, '생일': 2484, '박살': 2485, '틀리다': 2486, '코스프레': 2487, '미래': 2488, '존경': 2489, '보성': 2490, '위험': 2491, '부작': 2492, '플로우': 2493, '효과': 2494, '극락': 2495, '컨텐츠': 2496, '키즈': 2497, '가지가지': 2498, '도검': 2499, '억울하다': 2500, '맑은': 2501, '욥': 2502, '신나다': 2503, '이를': 2504, '묻다': 2505, '룰': 2506, '파스': 2507, '가성': 2508, '요소': 2509, '혁명': 2510, '검찰': 2511, '당가': 2512, '반납': 2513, '갈래': 2514, '힣': 2515, '썅': 2516, '일어나서': 2517, '대회': 2518, '미디어': 2519, '픽': 2520, '감사': 2521, '외우다': 2522, '사라': 2523, '주민': 2524, '혈': 2525, '에러': 2526, '딩': 2527, '껍데기': 2528, '사과': 2529, '오시': 2530, '밝히다': 2531, '담양': 2532, '심사': 2533, '위원': 2534, '빵': 2535, '려': 2536, 'ㅎㄹ': 2537, '맥댐': 2538, '폴라': 2539, '똥꼬': 2540, '소소하다': 2541, '느껴지다': 2542, '치비': 2543, '순위': 2544, '토라': 2545, '병원': 2546, '잘뽑다': 2547, '캬': 2548, '수혈': 2549, '벽': 2550, '신고': 2551, '크리': 2552, '오기': 2553, '발표': 2554, '시더': 2555, '선정': 2556, '분량': 2557, '개념': 2558, '음주': 2559, '리암': 2560, '실력': 2561, '토끼': 2562, '깨': 2563, '달달': 2564, '번개': 2565, '장난': 2566, '친미': 2567, '인형': 2568, '던데': 2569, '들키다': 2570, '쎄다': 2571, '바니': 2572, '데얼': 2573, '방구': 2574, '나또': 2575, '망햇': 2576, '개미': 2577, '가사': 2578, '이지만': 2579, '황장수': 2580, '뱉다': 2581, '나잇': 2582, '배송': 2583, '왓음': 2584, '역다': 2585, '최선': 2586, '기전': 2587, '당구': 2588, '그룹': 2589, '목': 2590, '토모': 2591, '폭파': 2592, '불꽃': 2593, '표정': 2594, '천관사': 2595, '훈녀': 2596, '조건': 2597, '사냥': 2598, '와이': 2599, '냅다': 2600, '정상': 2601, '유저': 2602, '폭탄': 2603, '늘리다': 2604, '사보다': 2605, '슴': 2606, '해외': 2607, '구해': 2608, '조용하다': 2609, '이미테이션': 2610, '아수라': 2611, '패기': 2612, '제나': 2613, '힘드다': 2614, '주문': 2615, '미스': 2616, '만의': 2617, '리그': 2618, '만두': 2619, '퀸': 2620, '트젠': 2621, '틈': 2622, '순간': 2623, '갈겨': 2624, '환연': 2625, '이든': 2626, '상관없다': 2627, '튀다': 2628, '도하': 2629, '연출': 2630, '어쩌다': 2631, '거짓말': 2632, '토건': 2633, '돌려주다': 2634, '방송국': 2635, '뇨': 2636, '매력': 2637, '갈아': 2638, '날인': 2639, '스페': 2640, '유혹': 2641, '책사': 2642, '좃': 2643, '업자': 2644, '해먹': 2645, '육아': 2646, '확률': 2647, '이혼': 2648, '넨도': 2649, '레이': 2650, '핑계': 2651, '조심': 2652, '그리기': 2653, '지름': 2654, '잔뜩': 2655, '녀석': 2656, '재밋는데': 2657, '귤': 2658, '훌쩍': 2659, '어쩌': 2660, '쁘띠': 2661, '들리다': 2662, '레알': 2663, '바닥': 2664, 'ㅁㄹ': 2665, '이씨': 2666, '득': 2667, '달고나': 2668, '왕자': 2669, '앉다': 2670, '자도': 2671, '든지': 2672, '이어서': 2673, '밈': 2674, '이브': 2675, '떼': 2676, '침대': 2677, '아자': 2678, '돌이': 2679, '치매': 2680, '자가': 2681, 'ㅉㅉ': 2682, '로는': 2683, '은혼': 2684, '컵': 2685, '나누다': 2686, '범죄': 2687, '팬픽': 2688, '농담': 2689, '분위기': 2690, '썩을': 2691, '이지롱': 2692, '마감': 2693, '홀홀': 2694, '그대': 2695, '웃음': 2696, '이딴': 2697, '마제': 2698, '랑스': 2699, '데뷔': 2700, '기준': 2701, '에서도': 2702, '화법': 2703, '가득': 2704, '유럽': 2705, '외교': 2706, '보통': 2707, '놀라다': 2708, '쓰르라미': 2709, '가격': 2710, '그나저나': 2711, '완벽하다': 2712, '인류': 2713, '책임지다': 2714, '다리': 2715, '아름답다': 2716, '디자인': 2717, '어쩌지': 2718, '잘알다': 2719, '오타': 2720, '가문': 2721, '후회': 2722, '부치다': 2723, '가만히': 2724, '차지': 2725, '블랙': 2726, '오류': 2727, '단간': 2728, '살짝': 2729, '넷': 2730, '파주': 2731, '뒷북': 2732, '얘드': 2733, '전사': 2734, '훔치다': 2735, '퀄리티': 2736, '밀물': 2737, '서버': 2738, '처리': 2739, '사주': 2740, '아이고': 2741, '므찌다': 2742, '남기다': 2743, '맞추다': 2744, '방향': 2745, '디게': 2746, '기념': 2747, '애니메이션': 2748, '골': 2749, '범인': 2750, '어휴': 2751, '살아나다': 2752, '커비': 2753, '합치다': 2754, '쩐다': 2755, '죄': 2756, '하나요': 2757, '동아리': 2758, '문경시': 2759, '우왕': 2760, '글자': 2761, '꾼': 2762, '클릭': 2763, '업적': 2764, '나볼': 2765, '딴': 2766, '급하다': 2767, '픽시브': 2768, '송훈': 2769, '우천': 2770, '유튭': 2771, '코카': 2772, '외면': 2773, '트이다': 2774, '국룰': 2775, '서두': 2776, '다녀오다': 2777, '대야': 2778, '성향': 2779, '녕': 2780, '저저': 2781, '리뷰': 2782, '주최': 2783, '인척': 2784, '이해찬': 2785, '재밋음': 2786, '뻐꾸기': 2787, '데리다': 2788, '하남시': 2789, '온몸': 2790, '개열': 2791, '히로': 2792, '호텔': 2793, '개임': 2794, '북괴': 2795, '런닝맨': 2796, '한국사': 2797, '피고': 2798, '우정': 2799, '밤새': 2800, '이러니까': 2801, '라떼': 2802, '앵': 2803, '크라이': 2804, '적극': 2805, '오슷': 2806, '신들': 2807, '규': 2808, '위영': 2809, '파이': 2810, '극혐': 2811, '의문': 2812, '완성': 2813, '상승': 2814, '나노': 2815, '뭔들': 2816, '상담': 2817, '좃같': 2818, '기원': 2819, '쉬': 2820, '놀이터': 2821, '몸매': 2822, '리나': 2823, '팩트': 2824, '사상': 2825, '화랑': 2826, 'ㅅㅂㅋㅋ': 2827, '동방': 2828, '포승': 2829, '소음': 2830, '차선': 2831, '잡지': 2832, '채연': 2833, '인상': 2834, '축제': 2835, '알라딘': 2836, '혀': 2837, '양반': 2838, '깨우다': 2839, '홀리': 2840, '살맛': 2841, '질알': 2842, '인터넷': 2843, '호자': 2844, '개최': 2845, '히오스': 2846, 'ㅏㅏㅏ': 2847, '회원': 2848, '짖다': 2849, '디엠': 2850, '승연이': 2851, '모건': 2852, '오호': 2853, '기장': 2854, '출시': 2855, '어플': 2856, '대결': 2857, '제니': 2858, '글씨': 2859, '현기증': 2860, '자마자': 2861, '관악': 2862, '베이': 2863, '시스': 2864, '공원': 2865, '학과': 2866, '거제': 2867, '영덕': 2868, '승관': 2869, '추강': 2870, '수영': 2871, '룸': 2872, '메탈': 2873, '와인': 2874, '쫀': 2875, '빨갱이': 2876, '결단': 2877, '기대다': 2878, '가만': 2879, 'ㄱㅋ': 2880, '비키니': 2881, '조중동': 2882, '제휴': 2883, '낙파': 2884, '미지': 2885, '전과': 2886, '불타다': 2887, '택시': 2888, '계좌': 2889, '꼴뚜기': 2890, '이익': 2891, '팔지마다': 2892, '흐르다': 2893, '로리콘': 2894, '응원': 2895, '전기': 2896, '맥주': 2897, '감옥': 2898, '이뿌다': 2899, '경기도': 2900, '너무나도': 2901, '창피하다': 2902, '엠': 2903, '어유': 2904, '실감': 2905, '예전': 2906, '담': 2907, '추리소설': 2908, '직원': 2909, '관종': 2910, '햇살': 2911, '삐지다': 2912, '풀풀': 2913, '예술': 2914, '십덕': 2915, '그런데': 2916, 'ㅁㅏ': 2917, '필라테스': 2918, '뱀': 2919, '환승': 2920, '가즈': 2921, '피식': 2922, '울산': 2923, '문장': 2924, '해바': 2925, 'ㅈㅅㅎㄴㄷ': 2926, '가상': 2927, '자산': 2928, '구합': 2929, '우익': 2930, '청년': 2931, '분해': 2932, '재밋슴': 2933, '얏호': 2934, '땡': 2935, '강쥐': 2936, 'ㅃ': 2937, '곰': 2938, '치면': 2939, '는가': 2940, '아파트': 2941, '연예인': 2942, '교황': 2943, '보다도': 2944, '신음': 2945, '그러니까': 2946, '오아시스': 2947, '뉴스': 2948, '개재밋': 2949, '참여': 2950, '그나마': 2951, '킹덤': 2952, '동급생': 2953, '불안하다': 2954, '이신가': 2955, 'ㅈㄹ': 2956, '조작': 2957, '꿈속': 2958, '행패': 2959, '부리다': 2960, '의식': 2961, '평화': 2962, '로드': 2963, '날조': 2964, '찍': 2965, '레식': 2966, '에펙': 2967, '수행': 2968, '무식하다': 2969, '사하다': 2970, '시장': 2971, '길키': 2972, '경찰': 2973, '위주': 2974, '기록': 2975, '의상': 2976, '무재': 2977, '스케줄': 2978, '대가': 2979, '씨방': 2980, '남북': 2981, '통화': 2982, '두번째': 2983, '상관': 2984, '무슈': 2985, '만물': 2986, '짜증': 2987, '혁들': 2988, '카우보이': 2989, '메모': 2990, '태술': 2991, '즐': 2992, '군생활': 2993, '와아아': 2994, '해롭다': 2995, 'ㅍㅏ': 2996, '굿모닝': 2997, '레벨': 2998, '마스': 2999, '부동산': 3000, '손님': 3001, '직관': 3002, '재민': 3003, '한글': 3004, '공략': 3005, '스타일': 3006, '비도': 3007, '고살': 3008, '마트': 3009, '개비': 3010, '합동': 3011, '예지': 3012, '이대로': 3013, '미련': 3014, '비참하다': 3015, '찔끔': 3016, '달래다': 3017, '근본': 3018, '전화': 3019, '씨바': 3020, '일임': 3021, '커뮤니티': 3022, '포르노': 3023, '재밋겟다': 3024, '쿠라': 3025, '비유': 3026, '넥스트': 3027, '슈퍼스타': 3028, '치네다': 3029, '겹친': 3030, '거대하다': 3031, '참나': 3032, '올라오다': 3033, '분명': 3034, '논란': 3035, '스듀': 3036, '어게인': 3037, '오히려': 3038, '달리기': 3039, '유전자': 3040, '부스': 3041, '달성': 3042, '낙지': 3043, '홍': 3044, '한나라당': 3045, '심해': 3046, '떤다': 3047, '스크립트': 3048, '와도': 3049, '울트라': 3050, '행동': 3051, '학': 3052, '스튜디오': 3053, '소중하다': 3054, '긴장': 3055, '양기': 3056, '유후': 3057, '가용': 3058, '남충': 3059, '콜': 3060, '멸치': 3061, '운영': 3062, '리자': 3063, '그만큼': 3064, '아씨': 3065, '흐려지다': 3066, '그딴': 3067, '사춘기': 3068, '정모': 3069, '도우': 3070, '완독': 3071, '하고프다': 3072, '사유': 3073, '넼': 3074, '돌발': 3075, '부록': 3076, '방안': 3077, '한드': 3078, 'ㅇㅕ': 3079, '조음': 3080, '햄': 3081, '다가오다': 3082, '습도': 3083, '도착': 3084, '끔찍하다': 3085, '스쿠': 3086, '어쩐': 3087, '괴': 3088, '캐리': 3089, '자격': 3090, '통과': 3091, '안시': 3092, '랩': 3093, '네스': 3094, '한몫': 3095, '지나': 3096, '욘': 3097, '첸': 3098, '후안': 3099, '학스': 3100, '어묵': 3101, '소주': 3102, '갯': 3103, '마을': 3104, '틴': 3105, '매니아': 3106, '층': 3107, '나머지': 3108, '오냐': 3109, '장용': 3110, '개꿀': 3111, '서로': 3112, '살육': 3113, '에가': 3114, 'ㅇㅏ': 3115, '장녀': 3116, '굉장하다': 3117, '바가지': 3118, '스페이스': 3119, '낮다': 3120, '핑크': 3121, '실존': 3122, '와글': 3123, '메레': 3124, '재원': 3125, '일로': 3126, '감방': 3127, '든든하다': 3128, '하노': 3129, '쑤다': 3130, '창동': 3131, '손절': 3132, '이양': 3133, '욕먹다': 3134, '추방': 3135, 'ㅇㅎ': 3136, '거부': 3137, '데빌': 3138, '랬': 3139, '거머리': 3140, '박용진': 3141, '여당': 3142, '역전': 3143, '전락': 3144, '벵': 3145, '인들': 3146, '긔엽다': 3147, '홍시': 3148, '총선': 3149, '파일': 3150, '갱': 3151, 'ㅊㅊ': 3152, '힐로': 3153, '지브리': 3154, '과상': 3155, '국산': 3156, '대부분': 3157, '아라시': 3158, '반갑다': 3159, '훌륭하다': 3160, '안산': 3161, '선공': 3162, '응응': 3163, '기쁘다': 3164, '공이': 3165, '성동': 3166, '감싸다': 3167, '밴픽': 3168, '제주도': 3169, '남편': 3170, '나대다': 3171, '왜또': 3172, '얼레': 3173, '도쿄구울': 3174, '어째서': 3175, '거구': 3176, 'ㅉ': 3177, '지적': 3178, '처참하다': 3179, '핸드': 3180, '혼': 3181, '막다': 3182, '청렴': 3183, '무능하다': 3184, '질리다': 3185, '막산': 3186, '자세하다': 3187, '전두환': 3188, '혁이': 3189, '하쟈': 3190, '철저하다': 3191, '데이터': 3192, '개월': 3193, '언젠가': 3194, '빨간색': 3195, '길다': 3196, '채널': 3197, '간만': 3198, '섭렵': 3199, '털다': 3200, '공짜': 3201, '스케': 3202, '도쿄': 3203, '버그': 3204, '나서다': 3205, '최소': 3206, '선거운동': 3207, '박찬종': 3208, '부천': 3209, '떼다': 3210, '사형': 3211, '꾸준하다': 3212, '따로': 3213, '비행기': 3214, '썅놈': 3215, '죵': 3216, '시급': 3217, '믽': 3218, '당분간': 3219, '챙': 3220, '주의자': 3221, '월동': 3222, '제주': 3223, '내기': 3224, '논현': 3225, 'ㅜㅜㅜㅜ': 3226, '으앙': 3227, '누르다': 3228, '단말': 3229, '낌': 3230, 'ㅎㅎㅎㅎ': 3231, '키스방': 3232, '체리': 3233, '산아': 3234, '공산당': 3235, '유리': 3236, 'ㅔㅇ': 3237, '저렇게': 3238, '뜸': 3239, '마피아': 3240, '일산': 3241, '북유럽': 3242, '버렷': 3243, '훤': 3244, '이세': 3245, '탑': 3246, '케이크': 3247, '와중': 3248, '보노': 3249, '어딜': 3250, '취소': 3251, '패스': 3252, '순정': 3253, '반하다': 3254, '스트림': 3255, '교': 3256, '유치하다': 3257, '강추': 3258, '탄생': 3259, '자본': 3260, '깨지다': 3261, '넥': 3262, '씼': 3263, '라운드': 3264, '레인': 3265, '월드': 3266, '그릴': 3267, '평': 3268, '람': 3269, '나우': 3270, '페북': 3271, '맑음': 3272, '귀요미': 3273, '기하': 3274, '면서': 3275, '비교': 3276, '흐윽': 3277, '끝말잇기': 3278, '발라드': 3279, '준용': 3280, '코미': 3281, '잔잔하다': 3282, '믹': 3283, '쪽팔리다': 3284, '학생': 3285, '교류': 3286, '외침': 3287, '쩔': 3288, '나인': 3289, '파면': 3290, '꺄': 3291, '차로': 3292, '나가요': 3293, '더욱': 3294, '스벅': 3295, '개존잼': 3296, '부정선거': 3297, '위선': 3298, '시각': 3299, '하그': 3300, '영국': 3301, '다시다': 3302, '니체': 3303, '만난': 3304, '음료': 3305, '상자': 3306, '국면': 3307, '배경화면': 3308, '당내': 3309, '라며': 3310, '안봣': 3311, '복지': 3312, '개도': 3313, '안물': 3314, '크리스': 3315, '훨씬': 3316, '대사': 3317, '쇼타': 3318, '설치': 3319, '정적': 3320, '븅': 3321, '아치': 3322, '오직': 3323, '믿음': 3324, '정신차려라': 3325, '근거': 3326, '많아지다': 3327, '대안': 3328, '존잘님': 3329, '호호': 3330, '처자': 3331, '더힐임': 3332, '온리전': 3333, '페르소나': 3334, '짜장면': 3335, '황상훈': 3336, '약속': 3337, '부대': 3338, '파시': 3339, '쿠나': 3340, '여름': 3341, '주로': 3342, '늘스': 3343, '남부': 3344, '먹히다': 3345, '가면라이더': 3346, '지구과학': 3347, '그동안': 3348, '위장': 3349, '타오': 3350, '갈기': 3351, '영등포': 3352, '암세포': 3353, '발악': 3354, '데스노트': 3355, '용지': 3356, '돠': 3357, '왕국': 3358, '폴짝': 3359, '줜': 3360, '진영': 3361, '시나리오': 3362, '푸드': 3363, '낙선': 3364, '싸랑': 3365, '홍준표': 3366, '연합': 3367, '해달라다': 3368, '과연': 3369, '리타': 3370, '스테이지': 3371, '윤호중': 3372, '맞팔': 3373, '어떡': 3374, '원금': 3375, '욬': 3376, '사촌': 3377, '사시': 3378, '마산시': 3379, '컨디션': 3380, '국밥': 3381, '첼시': 3382, '이러니': 3383, '피어싱': 3384, '건대': 3385, '면전': 3386, '퍼': 3387, '어요': 3388, '여자친구': 3389, '신기': 3390, '돋다': 3391, '정아': 3392, '인용': 3393, '일해': 3394, '진진': 3395, '수빈': 3396, '폐해': 3397, '방패': 3398, '흐흐': 3399, '원트팀': 3400, '확정': 3401, '만도': 3402, '틀어주다': 3403, '긋다': 3404, '서구': 3405, '뭐더': 3406, '븐': 3407, '본색': 3408, '풀리다': 3409, '비올': 3410, '여캐': 3411, '써주다': 3412, '히트': 3413, '귀국': 3414, '용어': 3415, '시인': 3416, '사위': 3417, '복귀': 3418, '나와라': 3419, '미인': 3420, '찌질하다': 3421, '빼먹다': 3422, '사이즈': 3423, '이자': 3424, '모자': 3425, '경희대': 3426, '출신': 3427, '시국': 3428, '카오루': 3429, '어거지': 3430, '탈출': 3431, '헬로': 3432, '송이': 3433, '봣구': 3434, '어서': 3435, '이미지': 3436, '책임': 3437, '진주': 3438, '오열': 3439, '청와대': 3440, '마이크': 3441, '사지': 3442, '집회': 3443, '한계': 3444, '그네': 3445, '뺨': 3446, '빌다': 3447, '지도': 3448, '가챠': 3449, '핸드폰': 3450, '수도': 3451, '배팅': 3452, '너그럽다': 3453, '흘리다': 3454, '닉넴': 3455, '곱다': 3456, 'ㅁㅣ': 3457, '디컬': 3458, '그래프': 3459, '기회': 3460, '민정': 3461, '수석': 3462, '이어폰': 3463, '분만': 3464, '살아가다': 3465, '깊다': 3466, '가스': 3467, '거듭': 3468, '인게': 3469, '먄': 3470, '금발': 3471, '늙은이': 3472, '독일': 3473, '뚱땡이': 3474, '허상': 3475, '전략': 3476, '배틀로얄': 3477, '점점': 3478, '걔': 3479, '조절': 3480, '출발': 3481, '의도': 3482, '농구': 3483, '꾸미다': 3484, '프나펑': 3485, '안전': 3486, '캐디': 3487, '빱': 3488, '강하다': 3489, '휴대폰': 3490, '점령': 3491, '작전': 3492, '흔': 3493, '듬': 3494, '아끼다': 3495, '비스': 3496, '셧': 3497, '일러스트': 3498, '아우성': 3499, '푸른': 3500, '짜지다': 3501, '룰렛': 3502, '닥터페퍼': 3503, '프텔': 3504, '청불': 3505, '까지만': 3506, '지루하다': 3507, '동참': 3508, '꼬치': 3509, '바이': 3510, '핥다': 3511, '일만': 3512, '한당': 3513, '강아지': 3514, '흥행': 3515, '어스': 3516, '결전': 3517, '신령': 3518, '후유증': 3519, '레비': 3520, '얻다': 3521, '이수만': 3522, '대합': 3523, '찬성': 3524, '던파': 3525, '구먼': 3526, '기만': 3527, '저주': 3528, '화창하다': 3529, '남돌': 3530, '한강': 3531, '혜인': 3532, '뮤': 3533, '반지': 3534, '해드리다': 3535, '거왜': 3536, '첩': 3537, '음원': 3538, '영리': 3539, '류진': 3540, '저걸': 3541, '정우': 3542, '거보': 3543, '평소': 3544, '어흑': 3545, '구림': 3546, '길가': 3547, '괴담': 3548, '끌리다': 3549, '골프': 3550, '착각': 3551, '스카이': 3552, '초대': 3553, '지영': 3554, '콘택트': 3555, '사자': 3556, '오엠쥐': 3557, '화로': 3558, '밀양': 3559, '뫄님': 3560, '내시': 3561, '떡밥': 3562, '댁': 3563, '쌓이다': 3564, '아시안': 3565, '극장': 3566, '아베': 3567, '아애': 3568, '낮술': 3569, '탑승': 3570, '날씬데': 3571, '슬쩍': 3572, '캔버스': 3573, '입덕': 3574, '프롬': 3575, '포브스': 3576, '베': 3577, '연희': 3578, '궁금': 3579, '불만': 3580, '캔': 3581, '살해': 3582, '는데': 3583, '케재밋': 3584, '자지': 3585, '협': 3586, '꼬평': 3587, 'ㅜㅠ': 3588, '뒤졋으': 3589, '웃갸': 3590, '움직이다': 3591, '위도': 3592, '뮤직': 3593, '법사': 3594, '비언': 3595, '짜르': 3596, '소굴': 3597, '의욕': 3598, '주제가': 3599, '기븐': 3600, '형님': 3601, '강탈': 3602, '초성': 3603, '오케이': 3604, '그렇지만': 3605, 'ㅏㅏㅏㅏ': 3606, '아이디어': 3607, '단지': 3608, '얼싸다': 3609, '전직': 3610, '기두': 3611, '더더': 3612, '달려가다': 3613, '폐': 3614, '개발자': 3615, '상실': 3616, '간자': 3617, '북조선': 3618, '각도': 3619, '커미션': 3620, '홍원': 3621, '자신': 3622, '더하다': 3623, '은퇴': 3624, '축축': 3625, '처지다': 3626, '냠냠': 3627, '쉑': 3628, '설계자': 3629, '꼽': 3630, '묘': 3631, '영화관': 3632, '복습': 3633, '거울': 3634, '활동': 3635, '싯발': 3636, '사이코패스': 3637, '랴': 3638, '열심': 3639, '불법': 3640, '대권': 3641, 'ㅠㅠㅠㅜ': 3642, '봉': 3643, '삿': 3644, '입시': 3645, '코리아': 3646, '염병': 3647, '꼬우': 3648, '가수': 3649, '인터뷰': 3650, 'ㅋㅋㅋㅋㅋㅋㅋㅋㅋㅋㅋㅋㅋㅋ': 3651, '해처': 3652, '저건': 3653, '먹고다': 3654, '더니': 3655, '모해': 3656, '이요': 3657, '훠궈': 3658, '일진': 3659, '담배': 3660, '유성': 3661, '연상': 3662, '상우': 3663, '앗다': 3664, '년전': 3665, '군용': 3666, '수치': 3667, '반박': 3668, '본능': 3669, '재혀니': 3670, '장소': 3671, '킬': 3672, '까지가': 3673, '미미': 3674, '핸플': 3675, '희다': 3676, '할배': 3677, '마도카': 3678, '전남친': 3679, '거주': 3680, '서울대': 3681, '아카기': 3682, '국내': 3683, '가유': 3684, '소장': 3685, '자식': 3686, '농사': 3687, '이분': 3688, '괴롭히다': 3689, '펠': 3690, '렉': 3691, '자영': 3692, '신지': 3693, '구함': 3694, '넘치다': 3695, '라네': 3696, '거도': 3697, '기엽다': 3698, '나연': 3699, '속이다': 3700, '진성': 3701, '성대모사': 3702, '앤디': 3703, '흑화': 3704, '리가': 3705, '야마토': 3706, 'ㅠㅠㅜㅠ': 3707, '우선': 3708, '바다': 3709, '열시': 3710, '팔로': 3711, '민혁': 3712, '숨쉬다': 3713, '았': 3714, '글로벌': 3715, '개쪽': 3716, '지는': 3717, '것임': 3718, '내부': 3719, '퍽퍽': 3720, '구도': 3721, '시체': 3722, '아마도': 3723, '전투': 3724, '뚫다': 3725, '리버': 3726, '떠들다': 3727, '아버지': 3728, '조르다': 3729, '말르다': 3730, '박정민': 3731, '비하인드': 3732, '카메라': 3733, '에피': 3734, '다큐': 3735, '븅신': 3736, '가만두다': 3737, '요란': 3738, '활성화': 3739, '래퍼': 3740, '특히': 3741, '두렵다': 3742, '짜오': 3743, '미나': 3744, '어늘': 3745, '안양': 3746, '묵다': 3747, '볼라': 3748, '나발': 3749, '뜨겁다': 3750, '태풍': 3751, '혐한': 3752, '치부': 3753, '천년': 3754, '개꼰대': 3755, '나히': 3756, '브로맨스': 3757, '충분하다': 3758, '부자': 3759, '광광': 3760, '집안': 3761, '구슬': 3762, '뇌절': 3763, '나마': 3764, '남매': 3765, '보다는': 3766, '중년': 3767, '구별': 3768, '서리': 3769, '춘천': 3770, '드릴': 3771, 'ㅇㅈㅁ': 3772, '어린이': 3773, '지내다': 3774, '허락': 3775, '지하철': 3776, '승만': 3777, '괘씸하다': 3778, '혼란': 3779, '퍽': 3780, '볼걸': 3781, '벗기다': 3782, '에서는': 3783, '빅': 3784, '벌이다': 3785, '맘대로': 3786, '왼': 3787, '중고': 3788, '칼국수': 3789, '살생': 3790, '료': 3791, '레디': 3792, '호랑': 3793, '예수': 3794, '리듬': 3795, '취': 3796, '천국': 3797, '밑': 3798, '에너지': 3799, '고시': 3800, '멘탈': 3801, '코우': 3802, '선관위': 3803, '마스크': 3804, '빡세': 3805, '애국': 3806, '뭐애': 3807, '어떻': 3808, '넣기': 3809, '생방송': 3810, '조직': 3811, '유출': 3812, '중딩': 3813, '다만': 3814, '셔': 3815, '향수': 3816, '관캐': 3817, '어차피': 3818, '아이패드': 3819, '주장': 3820, '한판': 3821, '저지': 3822, '가르치다': 3823, '던전': 3824, '당적': 3825, '건데': 3826, '몰두하다': 3827, '주부': 3828, '좌판': 3829, '어쩌면': 3830, '기적': 3831, '시킴': 3832, '왕도': 3833, '거실': 3834, '문대': 3835, '심야': 3836, '야우리': 3837, '다한': 3838, '쿠치': 3839, '헌': 3840, '긴요': 3841, '갈기갈기': 3842, '월희': 3843, '태어나다': 3844, '현생': 3845, 'ㅎㅔ': 3846, '속상하다': 3847, '조종': 3848, '번호': 3849, '장사': 3850, '에이치': 3851, '암넷': 3852, '익선동': 3853, '화욜': 3854, '꽂다': 3855, '중력': 3856, '폭포': 3857, '청소': 3858, '설레다': 3859, '낼름': 3860, '로얄': 3861, '훈남': 3862, '정책': 3863, '리리': 3864, '우욱': 3865, '우울': 3866, '반드시': 3867, '자극': 3868, '친소': 3869, 'ㅋㅋㅌ': 3870, '해내다': 3871, '두근': 3872, '정해': 3873, '뒷걸음질': 3874, '렷': 3875, '태양': 3876, '쌈': 3877, '계산': 3878, '등록': 3879, '택배': 3880, '커넥션': 3881, '판단': 3882, '권권': 3883, '역대': 3884, '앙큼하다': 3885, '희망이': 3886, '쓰기': 3887, '유행': 3888, '비밀': 3889, '계폭': 3890, '총회': 3891, '이바': 3892, '세워지다': 3893, '뽑히다': 3894, '굳다': 3895, '나오니': 3896, '푸근하다': 3897, '우마': 3898, '무스': 3899, '오노': 3900, '짙다': 3901, '키링': 3902, '과는': 3903, '환상': 3904, '실드': 3905, '네모': 3906, '띠': 3907, '원고': 3908, 'ㅠㅠㅠㅠㅠ': 3909, '야식': 3910, '번은': 3911, '달콤': 3912, '에겐': 3913, '강남': 3914, '구독': 3915, '푸딩': 3916, '그릇': 3917, '구조': 3918, '우리나라': 3919, '전통': 3920, '로그라이크': 3921, '혈육': 3922, '흉기': 3923, '이래도': 3924, '메우다': 3925, '톡': 3926, '자의식': 3927, '과잉': 3928, '라라': 3929, '쿠테타': 3930, '막방': 3931, '결정': 3932, '갘': 3933, '원주': 3934, '로라': 3935, '신건': 3936, '랜덤': 3937, '둥이': 3938, '들어주다': 3939, '판권': 3940, '집단': 3941, '바바': 3942, '이드': 3943, '잘해야': 3944, '질색': 3945, '얀': 3946, '거르': 3947, '캠': 3948, '도의': 3949, '이채연': 3950, '멘션': 3951, '분열': 3952, '좋아지다': 3953, '니엘': 3954, '액션': 3955, '국회': 3956, '하남': 3957, '가왜': 3958, '음지': 3959, '소프트': 3960, '허니': 3961, '대구': 3962, '작붕': 3963, '밋앤그릿': 3964, '일찍': 3965, '상한': 3966, '아이거': 3967, '만주': 3968, '메이저': 3969, '살수': 3970, '따갑다': 3971, '버즈': 3972, '만요': 3973, '오예': 3974, '밤새다': 3975, '따위': 3976, '질투': 3977, '능지': 3978, '꽂히다': 3979, '판이': 3980, '경치': 3981, '실물': 3982, '으로도': 3983, '희생': 3984, '템': 3985, '년생': 3986, '뚱뚱하다': 3987, '사망': 3988, '노랗다': 3989, '잘생겻다': 3990, '됴': 3991, '수많다': 3992, '문프': 3993, '상식': 3994, '가짜': 3995, '소울': 3996, '리제': 3997, '싱': 3998, '일주일': 3999, '코딱지': 4000, '판도라하츠': 4001, '시지': 4002, '메타': 4003, '향기': 4004, '비상': 4005, '저쪽': 4006, '지해': 4007, '소재': 4008, '스우팤': 4009, '장벽': 4010, '동현': 4011, '브롤': 4012, '일이칠': 4013, '하므다': 4014, '찬스': 4015, '책갈피': 4016, '한숨': 4017, '이상은': 4018, '차례': 4019, '못자다': 4020, '실패하다': 4021, '신세계': 4022, '두시': 4023, '수입': 4024, '뎀': 4025, '단독': 4026, '파멸': 4027, '마치': 4028, '골칫거리': 4029, '드레퓌스': 4030, '시메': 4031, '빠바밤': 4032, '미사': 4033, '저렇다': 4034, '어허': 4035, '없어지다': 4036, '다양하다': 4037, '유익하다': 4038, 'ㅅㄱ': 4039, '단발': 4040, '졋': 4041, '할갑다': 4042, '벅스': 4043, '바르다': 4044, '귀멸': 4045, '무능': 4046, 'ㅈㅉ': 4047, '엉망': 4048, '깜빡': 4049, '높이다': 4050, '윙': 4051, '맥스': 4052, '번데기': 4053, '소멸': 4054, '킴': 4055, '프릭': 4056, '문준': 4057, '신판': 4058, '휑': 4059, '꽁': 4060, '내야': 4061, '우롱': 4062, '분도': 4063, '주사기': 4064, '엔조이': 4065, '의왕시': 4066, 'ㄹㅈㄷ': 4067, '이여성': 4068, '육': 4069, '박히다': 4070, '샛기': 4071, '도로': 4072, '피시': 4073, '땐데': 4074, '수완': 4075, '에만': 4076, '취한': 4077, '주기': 4078, '스킬': 4079, '짐승': 4080, '뜰': 4081, '어메이징': 4082, '헣': 4083, '생방': 4084, '뵤': 4085, '컬': 4086, '팩': 4087, '구찌': 4088, '하루히': 4089, '츄': 4090, '판다': 4091, '안바': 4092, '나눔': 4093, '해명': 4094, '몇몇': 4095, '강북': 4096, '가오': 4097, '파괴': 4098, '레코': 4099, '토바': 4100, '할리': 4101, '닦다': 4102, '조짐': 4103, '자동차': 4104, '실망': 4105, '그래그래': 4106, 'ㅅㅇㅍ': 4107, '기구': 4108, '알림': 4109, 'ㅂㄷㅂㄷ': 4110, '중앙': 4111, '아가리': 4112, '졸작': 4113, 'ㅠㅠㅠㅠㅠㅠㅠ': 4114, '쌀국수': 4115, '지사': 4116, '묻히다': 4117, '빠순이': 4118, '사가': 4119, '히스': 4120, '훅': 4121, '컴터': 4122, '숨': 4123, '엇을': 4124, '보컬로이드': 4125, '꼬추': 4126, '비싸다': 4127, '특별하다': 4128, '앓이': 4129, 'ㅇㅅㅇ': 4130, '새삼': 4131, '배다': 4132, '효녀': 4133, '러': 4134, '길이': 4135, '스티커': 4136, '코로': 4137, 'ㅠㅠㅠㅠㅠㅠㅠㅠㅠ': 4138, '달방': 4139, '진지하다': 4140, '자료': 4141, '하진': 4142, '타인': 4143, '즉석': 4144, '오키': 4145, '도박': 4146, '퇴트': 4147, '멀리': 4148, '나경원': 4149, '충남': 4150, '심각하다': 4151, '파악': 4152, '앍다': 4153, '통한': 4154, '터벅': 4155, '리터': 4156, '죄인': 4157, '선동': 4158, '으윽': 4159, '거뭐': 4160, '봩': 4161, '렌다': 4162, '르트': 4163, '미트': 4164, '모이다': 4165, '보오': 4166, '라인': 4167, '콘솔': 4168, '달걀': 4169, '플래닛': 4170, '아메리칸': 4171, '스나이퍼': 4172, 'ㅌㅂㅌ': 4173, '멈머님': 4174, '버터': 4175, '열공': 4176, '랍상': 4177, '깡통': 4178, '전정국': 4179, '만욱': 4180, '미워하다': 4181, '애꿎': 4182, '노려보다': 4183, '머머': 4184, '필터': 4185, '오마이': 4186, '쉅': 4187, '자간': 4188, '줫으': 4189, '위례': 4190, '바캉스': 4191, '스폐셜': 4192, '대산': 4193, '나현': 4194, '카케': 4195, '구루': 4196, '쿠다': 4197, '드라이브': 4198, '제논': 4199, '물어': 4200, '아니긔': 4201, 'ㅠㅠㅜ': 4202, '우원식': 4203, '제로니모': 4204, '묶다': 4205, '둥지': 4206, '다솜': 4207, '개발이익': 4208, '까지에': 4209, '아나스': 4210, '흥틀': 4211, '야바위': 4212, '타장르': 4213, '실질': 4214, '소속': 4215, '왕남': 4216, '공통점': 4217, '게시': 4218, '유물': 4219, '해시': 4220, '메시': 4221, '샹': 4222, '일맥상통': 4223, '독자': 4224, '어짜피': 4225, '김여정': 4226, '캉다': 4227, '잊프들': 4228, '모나': 4229, '전염병': 4230, '이준혁': 4231, '펨섭': 4232, '물주': 4233, '공주대': 4234, '여성향': 4235, '어나': 4236, '완존': 4237, 'ㅇㅣㅁㅏ': 4238, '넘더웡': 4239, '주우': 4240, '소원': 4241, '직감': 4242, '딸기': 4243, '물말': 4244, '사일런트': 4245, '둘리': 4246, '앱뒤': 4247, 'ㅇㅇㅋㅋ': 4248, '예상': 4249, '이생': 4250, '릐즤': 4251, '흐릿허내': 4252, '지혜': 4253, '마구': 4254, '악집': 4255, '벅차오르다': 4256, '명절': 4257, '특선': 4258, '특별방송': 4259, '바라카': 4260, '사르': 4261, '볌': 4262, '왜스': 4263, '별거': 4264, '우리엄마': 4265, '빡공': 4266, '잘렵니': 4267, '와줫음': 4268, '파파': 4269, '꿋꿋': 4270, '가하님': 4271, '비걸': 4272, '경비': 4273, '미나미': 4274, '어휘': 4275, '쌍방': 4276, '라이트': 4277, '씨댕': 4278, '스벅가': 4279, '슷': 4280, '검열': 4281, '다삿었': 4282, '일판': 4283, '산기': 4284, '양장본': 4285, '분동': 4286, '묘사': 4287, '얻어먹다': 4288, '뭣': 4289, '대게': 4290, '테이블': 4291, '멸망': 4292, '위드': 4293, '경험': 4294, '금골': 4295, '복면': 4296, '나왓음': 4297, '브': 4298, '파오': 4299, '금니': 4300, '국개': 4301, '반성': 4302, '헷': 4303, '위위위': 4304, '탁': 4305, '아바타': 4306, '지루함': 4307, '오란': 4308, '스릴러': 4309, '신세대': 4310, '건조하다': 4311, '빡준거': 4312, '군포': 4313, '겟잇뷰티': 4314, '소리치다': 4315, 'ㅏㅏㅏㅏㅏㅏㅏ': 4316, '책책책': 4317, '망무': 4318, '관부': 4319, '생리': 4320, '혈발': 4321, '마라샹궈': 4322, '수염': 4323, '냉철하다': 4324, '거땜': 4325, '책샀어욬': 4326, 'ㅋㅌㅌ': 4327, '어퍼': 4328, '어딘': 4329, '샌드박스': 4330, '통진당': 4331, '리트윗': 4332, '쩌는': 4333, '업읍': 4334, '제인': 4335, '지식인': 4336, '쫩빨': 4337, '입증': 4338, '옃': 4339, '태프': 4340, '구판': 4341, '헤으응': 4342, '황': 4343, '여러': 4344, '모로': 4345, '계열': 4346, '어째스까': 4347, '집안일': 4348, '모루': 4349, '좐': 4350, '어징오': 4351, '지터': 4352, '이콘': 4353, '엇옹': 4354, '짧게하다': 4355, '믹틀란': 4356, '아즈텍': 4357, '사제': 4358, '거니': 4359, 'ㄱㄱㄱㄱㄱ': 4360, '디평': 4361, '의수': 4362, '빛징': 4363, '감히': 4364, '좌증': 4365, '이형': 4366, '툰': 4367, '청강': 4368, '홀로': 4369, '아리랑': 4370, '님게임': 4371, '고만하다': 4372, '운빨': 4373, '네요': 4374, '간보': 4375, '슢슽': 4376, '조은하루': 4377, '즐추': 4378, '스타벅스': 4379, '됏대': 4380, '후집': 4381, '고트': 4382, '레이스': 4383, '드레스': 4384, '예산': 4385, '신러': 4386, '슬픔': 4387, '다미': 4388, '슬롯': 4389, '타령': 4390, '니니': 4391, '샹섕': 4392, '대명사': 4393, '진실게임': 4394, '자신감': 4395, '고호경': 4396, '괜츈해욬': 4397, '잔불': 4398, '귓말': 4399, '설봉': 4400, '덕수': 4401, '꽤괜탄': 4402, 'ㄹㅊ': 4403, '은데': 4404, '환율': 4405, '변화': 4406, '창작': 4407, '독립': 4408, '출판': 4409, '은비': 4410, '우기다': 4411, '시타': 4412, 'ㅁㅈㅇ': 4413, '혹독하다': 4414, '지휘': 4415, '후훗': 4416, '몸살': 4417, '나사': 4418, '심연': 4419, '법무': 4420, '레어': 4421, '모닝커피': 4422, '문호': 4423, '남북한': 4424, '분단': 4425, '한민족': 4426, '비극': 4427, '혁경': 4428, '양산시': 4429, '노무': 4430, '후훟': 4431, '화장품': 4432, 'ㄴㅁ': 4433, '묘미': 4434, '자금': 4435, '다름없다': 4436, '난이': 4437, '기지': 4438, '짅': 4439, 'ㅋㄱ': 4440, '통해': 4441, '적립': 4442, '화석': 4443, '발굴': 4444, 'ㄹㅈㄷㅋㅋㅋ': 4445, '스우파안봄': 4446, '니키': 4447, '폭징': 4448, '편임': 4449, '무소': 4450, '린지': 4451, '증권': 4452, '대여': 4453, '집어넣다': 4454, '춋토': 4455, '짱하다': 4456, '갸악': 4457, '델챕': 4458, '크레니히': 4459, '성남시': 4460, '공공': 4461, '출구조사': 4462, '매너': 4463, '사쿠라': 4464, '이치로': 4465, '수람': 4466, '에볼루션': 4467, '재밋돠': 4468, '격일': 4469, '관찰': 4470, '평가': 4471, '셀피': 4472, '무려': 4473, '헐레벌떢': 4474, '사오다': 4475, '궂응': 4476, '햤다': 4477, 'ㄹㅊㄱ': 4478, '도중': 4479, '일댤': 4480, '활보': 4481, '양장': 4482, '하드커버': 4483, '그르탐': 4484, '차후': 4485, '레고': 4486, '선거법': 4487, '다사': 4488, '놓정': 4489, '봣음': 4490, '수림': 4491, '오늘날': 4492, '그레이': 4493, '트홀': 4494, 'ㅛㅡ': 4495, '프세카어쩌': 4496, '어쩌고': 4497, '자빱': 4498, '땜시': 4499, '로제': 4500, '슨': 4501, 'ㅇㅁ': 4502, '허경영': 4503, '알리야': 4504, '부턴': 4505, '뮤트': 4506, '놑북꼭': 4507, '불친절하다': 4508, '븥이': 4509, '느긋하다': 4510, '자세': 4511, '박력': 4512, '물건': 4513, '로리': 4514, '넬': 4515, '추욱': 4516, '현성': 4517, '재밋겟': 4518, '제밌음': 4519, '홍대': 4520, '호루라기': 4521, '개란': 4522, '여행기': 4523, '긔스': 4524, '보긔': 4525, '쥴': 4526, '황도': 4527, '죤': 4528, '본전': 4529, '째듬': 4530, '덜하다': 4531, '힙한척': 4532, '싸이다': 4533, '어쩌구': 4534, '연장': 4535, '시파': 4536, '성모': 4537, '시계': 4538, '이레귤러': 4539, '론데': 4540, '취직': 4541, '덕구': 4542, '아앙': 4543, '안봤듬': 4544, '간독': 4545, '햇읍': 4546, '욕함': 4547, '지출': 4548, '뚜벅': 4549, '맛사지': 4550, '액자': 4551, '공손하다': 4552, '가산': 4553, '호석': 4554, '와나': 4555, '뭐시': 4556, 'ㅋㅎㅋㅎㅋㅎㅋㄹ': 4557, 'ㅋㅌㅌㅋㅋ': 4558, '클튜': 4559, '치킨너겟': 4560, '피폴': 4561, '에서의': 4562, '용산구': 4563, '당로': 4564, '거짓': 4565, '요즌': 4566, '거세': 4567, '쨍': 4568, '책상': 4569, '광활하다': 4570, '오전': 4571, '기리보이': 4572, '쿠키런': 4573, '킬포': 4574, '과외': 4575, '일반': 4576, '유권자': 4577, '없을껄': 4578, '비게퍼': 4579, '노트': 4580, '마님': 4581, '죨라잘생겻어': 4582, '이동': 4583, '연대': 4584, '황준호': 4585, '찌코': 4586, '원픽': 4587, 'ㅎㅌㅊ': 4588, '고고씽': 4589, '뜨끈하다': 4590, '다수결': 4591, '룻': 4592, '헤메': 4593, '식다': 4594, '콜미': 4595, '시벌': 4596, '헿': 4597, '뚫어지다': 4598, '피해': 4599, '으이': 4600, '제천시': 4601, '텨': 4602, '후광': 4603, '빽': 4604, '서부': 4605, '스패파': 4606, '싹통': 4607, '선불': 4608, '유심': 4609, '스도쿠': 4610, '윤사': 4611, '예리': 4612, '개추움': 4613, '똥개': 4614, '신성하다': 4615, '난책': 4616, '왓다넘': 4617, '도감': 4618, '울즤스': 4619, '정확': 4620, '창의력': 4621, '흥미진진': 4622, '러브': 4623, '도어': 4624, '캠퍼': 4625, '무지': 4626, '진상': 4627, '제자': 4628, '잠그다': 4629, '쇼토': 4630, '샤오미': 4631, '징징거리다': 4632, '카셀': 4633, '줫밥': 4634, '꼴릿': 4635, '쭝국': 4636, '유투브': 4637, '이론': 4638, '회복하다': 4639, '가드': 4640, '히틀러': 4641, '구글': 4642, '캘린더': 4643, '완죤': 4644, '유명인사': 4645, '고증': 4646, '쫄깃쫠': 4647, '깃': 4648, '밋잔': 4649, '돈까스': 4650, '악임': 4651, '키키': 4652, '동국': 4653, '해산': 4654, '박교진': 4655, '데박': 4656, '전동칫솔': 4657, '잇몸': 4658, '국수호': 4659, '멀티': 4660, '협동': 4661, '추살': 4662, 'ㅋㅡㅋ': 4663, '뭐랆': 4664, '머머멍': 4665, '나왓': 4666, '말햇': 4667, '병찬': 4668, '베설': 4669, 'ㅋㅋㅋㅁㅈ': 4670, '앙상블': 4671, '만능': 4672, '카터': 4673, '아웃도어': 4674, '도련님': 4675, '연하': 4676, '생떽쥐베리': 4677, '보아뱀': 4678, '보쿠': 4679, '노마': 4680, '이루다': 4681, '맜타쿠': 4682, '물씬': 4683, '다이어트식단': 4684, '끄적끄적': 4685, '초밥': 4686, '중남': 4687, '암기력': 4688, '실황': 4689, '범진': 4690, '플레리': 4691, '스팽': 4692, '제작사': 4693, '부럽드': 4694, '수용': 4695, '고백': 4696, '스쿠에': 4697, '겻': 4698, '엿같': 4699, '목떡뇌절': 4700, '호모': 4701, '들뜨다': 4702, '검찰총장': 4703, '개빡쵸': 4704, '권선구': 4705, '모집': 4706, '사설': 4707, '안괜찬': 4708, '미쳤냨': 4709, 'ㅓㄴ': 4710, '네나': 4711, '징구': 4712, '조차': 4713, '옹졸하다': 4714, '가이드': 4715, '팁': 4716, '대미': 4717, '이정후': 4718, '킹징': 4719, '쫄깃쫄깃하': 4720, '다나': 4721, '왜이랭': 4722, '환단고기': 4723, '초록': 4724, '동색': 4725, '샹궈맛': 4726, '부처님': 4727, '베타': 4728, '대지': 4729, '개좆': 4730, '갸챠': 4731, '플랫슈즈': 4732, '칭호': 4733, '색도': 4734, '영주시': 4735, '효자': 4736, '에그타르트': 4737, '월드컵': 4738, '어린시절': 4739, '밋는': 4740, '리키': 4741, '비록': 4742, '성별': 4743, '실보추': 4744, '남애집': 4745, '졉졉거리기': 4746, '형도': 4747, '동지': 4748, '닫히다': 4749, '블록': 4750, '닥치고': 4751, '취약': 4752, '밖에는': 4753, '셀': 4754, '채색': 4755, '수납': 4756, '어울림': 4757, '좆목': 4758, '뢰': 4759, '정중': 4760, '맙시': 4761, '비키': 4762, '상이': 4763, '잇듬': 4764, '에서라도': 4765, '뽕': 4766, '널렸는데': 4767, '소나': 4768, '토악질': 4769, '풋스멜': 4770, '종신': 4771, '도람뿌': 4772, '룻파': 4773, '좀덛': 4774, '썻': 4775, '스트라이커': 4776, '최고다': 4777, '개새': 4778, '트레이싱': 4779, '줁': 4780, '나타나다': 4781, '다이아몬드': 4782, '병맛': 4783, '알아보다': 4784, '신한': 4785, '타고': 4786, '마비': 4787, '알고리즘': 4788, '시뮬': 4789, '재밋는애': 4790, '윤수': 4791, '스우파끗': 4792, '툼': 4793, '하네스': 4794, '밀렷는데': 4795, '등분': 4796, '신부': 4797, '양재': 4798, '그니': 4799, '시골': 4800, '세우다': 4801, '당국': 4802, '부옇다': 4803, '간지': 4804, '잠자다': 4805, '고작': 4806, '악곡': 4807, '에픽': 4808, '고하': 4809, '큿소': 4810, '취익': 4811, '남도': 4812, '튜브': 4813, '이중간첩': 4814, '똑': 4815, '늠': 4816, '침범': 4817, '다됏어': 4818, '가글': 4819, '케재밋다': 4820, '재인': 4821, '가쟈': 4822, '박사임': 4823, '유니버셜': 4824, '공약': 4825, '아리아': 4826, '쩜길': 4827, '카마': 4828, '외함': 4829, '소드': 4830, '양지': 4831, '차태현': 4832, '디디': 4833, '사이사이': 4834, 'ㄱㅊㄱㅊ': 4835, '때마': 4836, '혹싱': 4837, '하슈': 4838, '얘예': 4839, '삼진': 4840, '힙해': 4841, '김밥': 4842, '제페터': 4843, '자의': 4844, '제국': 4845, '분책': 4846, 'ㅇㅡ': 4847, '고속': 4848, '게임시티': 4849, '뵙다': 4850, '참으로': 4851, '달콤하다': 4852, '아구': 4853, '사랑니': 4854, '정선': 4855, '좃다': 4856, '경남': 4857, 'ㅆㅃ': 4858, '코브라': 4859, '야샤히메': 4860, '가이드북': 4861, '항때': 4862, '준석': 4863, '하겟어': 4864, '가타': 4865, '액괴': 4866, '충주': 4867, '음방애': 4868, '괄치': 4869, '엘리트': 4870, '말겜': 4871, '목포': 4872, '놀곳': 4873, '페미혐': 4874, '진작': 4875, '냣진': 4876, '널스': 4877, '녹이다': 4878, '반짝반짝': 4879, '올려다보다': 4880, '남아나다': 4881, '곰팡이': 4882, '회색': 4883, '빛': 4884, '게뭐': 4885, '해산물': 4886, '보건': 4887, '교사': 4888, '안은영': 4889, '멱살': 4890, '엽습니': 4891, '사모': 4892, '의겸': 4893, '빠큐': 4894, '유용하다': 4895, '히히히': 4896, '수여': 4897, '식해': 4898, '거인': 4899, '쬽빨': 4900, '다이야': 4901, '춋': 4902, '징크스': 4903, '졸귀': 4904, '모닝스타': 4905, '넹영밙': 4906, '상대': 4907, '지금껏': 4908, '해오다': 4909, '소환': 4910, '어좀': 4911, '카요': 4912, 'ㄹㅕ': 4913, '밀키': 4914, '치의': 4915, '으르렁': 4916, '음중': 4917, '모가디슈': 4918, '스홈': 4919, '헐리웃': 4920, '실사': 4921, '알라': 4922, '행운': 4923, '열쇠': 4924, '킨다': 4925, '설탕': 4926, '뽑기': 4927, '며느리': 4928, '곰됴': 4929, '리보': 4930, '다욕': 4931, '대물': 4932, 'ㅆㅔ': 4933, '기형': 4934, '멜셸': 4935, '고성군': 4936, '깨르륵': 4937, '꺼리다': 4938, '에게도': 4939, '웃경': 4940, '무치': 4941, '티르': 4942, '원만하다': 4943, '합의': 4944, '췬책': 4945, '식단': 4946, '파기': 4947, '얼공': 4948, '각본': 4949, '콩': 4950, '슬금슬금': 4951, '스튜': 4952, '주류': 4953, '어느새다': 4954, '원딜': 4955, '영아': 4956, '차차차': 4957, '청량': 4958, '횀': 4959, '다봣어': 4960, '포크': 4961, '로어': 4962, '책음': 4963, '통방': 4964, '비숍': 4965, '좌낳괴좌파': 4966, '장성만': 4967, '몇개': 4968, '힐년': 4969, '서희': 4970, '롹': 4971, '영프였': 4972, '초면': 4973, '쬲임': 4974, '나무': 4975, '붐업': 4976, '거묘': 4977, '예은': 4978, '스트레스': 4979, '끗샤워': 4980, '동숲': 4981, '경험치': 4982, '라던가': 4983, '광안': 4984, '루이': 4985, '힐끔': 4986, '영미': 4987, '피피티': 4988, '드셧': 4989, '인간관계': 4990, '김서라': 4991, '이따가': 4992, '소리내다': 4993, '린네': 4994, '보이스': 4995, '겨루기': 4996, '원호': 4997, '미자': 4998, '불알': 4999, '호드': 5000, '기모': 5001, '대국': 5002, '크윽': 5003, '수상': 5004, '상인': 5005, '뽀뭉': 5006, '살이': 5007, '쥳': 5008, '관계성': 5009, '국뽕': 5010, '최대로': 5011, '후속': 5012, '말햇던': 5013, '쥭음': 5014, '잭': 5015, '아이폰': 5016, '알예': 5017, '참석': 5018, '나니': 5019, '사발': 5020, '거품': 5021, '툭검': 5022, '선딜': 5023, '좁다': 5024, '손가락': 5025, '또함': 5026, '구질구질하다': 5027, '초겨울': 5028, '개꼴': 5029, '우욱극혐': 5030, '스물': 5031, '다섯': 5032, '닝닝': 5033, '비트': 5034, '도우미': 5035, '코팅': 5036, '서른': 5037, '단편': 5038, '백발': 5039, '노출': 5040, '마천': 5041, '대루': 5042, '뿌요': 5043, '자네': 5044, '극악': 5045, '캐릭터송': 5046, '떳다': 5047, '뿌셔': 5048, '폐가': 5049, '연관': 5050, 'ㅠㅠㅠㅠㅜㅜ': 5051, '황금': 5052, '숨소리': 5053, '박문': 5054, '건프라': 5055, '삼지': 5056, '완연': 5057, '이랑은': 5058, '배짱': 5059, '임명': 5060, '평화로': 5061, '후사': 5062, '학위': 5063, '무효': 5064, '멈췃': 5065, '닼소': 5066, '유쾌하다': 5067, 'ㅓㅁ': 5068, '불버봘영': 5069, '재동': 5070, '쩨문슽책': 5071, '개십스레기': 5072, '밑밥': 5073, '코마츠': 5074, '용인시': 5075, '미쳣다': 5076, '좀빻': 5077, '초코': 5078, '스발': 5079, '역삽': 5080, '황교안': 5081, '늦': 5082, '지선': 5083, '폭': 5084, '다운로드': 5085, '긂': 5086, '윹': 5087, '발전': 5088, '고심': 5089, '노티': 5090, '온도': 5091, '습기': 5092, '위치': 5093, '미연시': 5094, '카게프로': 5095, '곡임': 5096, '해됴': 5097, '부활': 5098, '급기야': 5099, '순애': 5100, '공정하다': 5101, '종료': 5102, '말해': 5103, '더워지다': 5104, '두근두근': 5105, '지층': 5106, '홀짝': 5107, '속지': 5108, '현가': 5109, '전호': 5110, '발또': 5111, '꼬옥': 5112, '기선': 5113, '엔피씨': 5114, '리미': 5115, 'ㅅㅂㅋㅋㅋㅋㅋㅋㅋㅋㅋㅋ': 5116, '은우': 5117, '안타깝다': 5118, '스우파재밋': 5119, '설레임': 5120, '똘똘': 5121, '뭉치다': 5122, '아카이브': 5123, '협주': 5124, '온나라': 5125, '뒤집어지다': 5126, '싳': 5127, '블위': 5128, '트와이스': 5129, '자까님': 5130, '아닠': 5131, '집다': 5132, '맄': 5133, '의혹': 5134, '개개좋슴미': 5135, '선덕여왕': 5136, '사면초가': 5137, '레노레': 5138, '노파': 5139, 'ㅈㅗ': 5140, '타이완': 5141, '헤에에에엞': 5142, '맣': 5143, '송도': 5144, '증거': 5145, '침몰': 5146, '여야': 5147, '막론': 5148, '뺏늠': 5149, '수단': 5150, 'ㄷㅏ': 5151, '자루': 5152, '국토부': 5153, '혼술': 5154, '링해': 5155, '소아온': 5156, '급전': 5157, '시로': 5158, '의왕': 5159, '등눈': 5160, '모가지': 5161, '디모': 5162, '웹핟': 5163, '대명': 5164, '세금': 5165, '후불': 5166, '프레지던트': 5167, '하미': 5168, '쿱': 5169, '지급': 5170, '힘나다': 5171, '웃음소리': 5172, '오다노부나가': 5173, 'ㅇㅂ': 5174, '유방': 5175, '몽둥이': 5176, '가시': 5177, '스미다': 5178, '커미샨': 5179, '디럭스': 5180, '야동': 5181, '보년': 5182, '딸침': 5183, '개갓': 5184, '외웟음': 5185, '상체': 5186, '렌고쿠': 5187, '철인': 5188, '걔네': 5189, '홍데': 5190, '시소': 5191, '판결': 5192, '비용': 5193, '인비': 5194, '간씨': 5195, '눈알': 5196, 'ㄴㅣ': 5197, '부의': 5198, '개복': 5199, '옘병': 5200, '햇으': 5201, '롴': 5202, '비정상': 5203, '일침': 5204, '상금': 5205, '페인트': 5206, '이라곤': 5207, '길항': 5208, '후자': 5209, '전자': 5210, '알파': 5211, '글구': 5212, '아다': 5213, '노포': 5214, '배구': 5215, '개개': 5216, '셧던샤': 5217, '진흙': 5218, '생물': 5219, '돌파': 5220, '솔깃하다': 5221, '불가': 5222, '근원': 5223, '시드': 5224, '스킵': 5225, '측근': 5226, '진쟈님': 5227, '번거': 5228, 'ㅇㅇㅇ': 5229, '스이쌤': 5230, '아편': 5231, '숴': 5232, '롬': 5233, '용출': 5234, '한댜': 5235, '테레비': 5236, '탐지기': 5237, '피죤': 5238, '오복': 5239, '고달프다': 5240, '성남': 5241, '감지덕지': 5242, '종북좌파': 5243, '어헝': 5244, '낙화': 5245, '그렛봐': 5246, '어머나': 5247, '에반게리온': 5248, '데스티니': 5249, '가디언즈': 5250, '하곧스': 5251, '아카데미': 5252, 'ㅋㅋㅋㅠ': 5253, '르': 5254, '해부': 5255, '재밋나': 5256, '최곤데': 5257, '김병선': 5258, '포켓몬스터': 5259, '바빌로니아': 5260, 'ㅠㅜㅜ': 5261, '초선': 5262, 'ㄴㅎ': 5263, '추락': 5264, '유타': 5265, '쟌희': 5266, '도화살': 5267, '슈샤': 5268, '재선': 5269, '십년': 5270, '이석훈': 5271, '뱅꿈걸파': 5272, '피코': 5273, '구절': 5274, 'ㄴㅋㅋㅋㅋㅋ': 5275, '하울': 5276, '웹하드': 5277, '정읍': 5278, '을해': 5279, '필독': 5280, '마호': 5281, '영월군': 5282, '헤테': 5283, '박습': 5284, '날임': 5285, '김수현': 5286, '친노': 5287, 'ㅋㄱㄱㄱㄱㅋㄱ': 5288, '싱켱': 5289, '자컨': 5290, '쌩까다': 5291, '비타민': 5292, '팬덤': 5293, 'ㅅㅌㅊ': 5294, 'ㅈㄴㄴ': 5295, '빡추임': 5296, '엇어웨': 5297, '마코토': 5298, '어켈': 5299, '덴다': 5300, '왓는대': 5301, '예나': 5302, '셀프': 5303, '스탭': 5304, '꼬맹': 5305, '룡님': 5306, 'ㅋㅋㅋㅋㅋㅋㅋㅋㅋㅋㅋㅋㄹ': 5307, 'ㅌㅋㄴㄹㅈ': 5308, '진짜루': 5309, '김구라': 5310, '잘나가다': 5311, '질도': 5312, '뚱': 5313, '이제우': 5314, '리도': 5315, '죠셉': 5316, '심정': 5317, '글러먹': 5318, '배신': 5319, '가르다': 5320, '치르다': 5321, '뿅': 5322, '낮추다': 5323, '퀄': 5324, '가병': 5325, '성기훈': 5326, '루어낚시': 5327, '몇장': 5328, '이참': 5329, '청산': 5330, '계기': 5331, '이크': 5332, '깨끗하다': 5333, '승민': 5334, '오우': 5335, '압수': 5336, '젠틀': 5337, '수상하다': 5338, 'ㅋㄱㄱㅋㅋㅋㄱㅋ': 5339, '처울': 5340, 'ㅜㅋㅋㅋㅋㅋㅋㅋㅋㅋ': 5341, '쿠앤': 5342, '추징': 5343, '갚다': 5344, '구두': 5345, '정민용': 5346, '남욱': 5347, '동문': 5348, '회화': 5349, '기담': 5350, '비장': 5351, '마쟈': 5352, '찌': 5353, '수사물': 5354, '제시': 5355, '짱구': 5356, '을소': 5357, '몹': 5358, '죠그레스': 5359, '뭘꼬': 5360, '남침': 5361, '갯수': 5362, '방송사': 5363, '왓다': 5364, '과반수': 5365, '또르르': 5366, '타카': 5367, '영광': 5368, '랑게': 5369, '통장': 5370, '샤콘느': 5371, '헝': 5372, '유쾌': 5373, '제트': 5374, '들어서다': 5375, '마상': 5376, '세번': 5377, '흥분': 5378, '정명': 5379, '장창': 5380, '은성': 5381, 'ㅜㅜㅜㅜㅜㅠㅠ': 5382, '철': 5383, '강염': 5384, '쟈미': 5385, '총수': 5386, '른': 5387, '따라서': 5388, '야홍': 5389, 'ㅆㄱㄴ': 5390, '설거지': 5391, '파헤치다': 5392, '맞괄안': 5393, '갤탭': 5394, '성능': 5395, '도림': 5396, '엳시': 5397, '진돗개': 5398, '하늬': 5399, '피넛언': 5400, '인공': 5401, '처형': 5402, '살애': 5403, '바람막이': 5404, '빩밖': 5405, '태양신': 5406, '고교': 5407, '빼놓다': 5408, '진행중': 5409, '가능성': 5410, '후헷': 5411, 'ㅁㅊㅋㅋㅋㅋㅋㅋㅋㅋㅋㅋ': 5412, '프로게이머': 5413, '됴리': 5414, '무조': 5415, '적자': 5416, '감체': 5417, '십쇄': 5418, '조상': 5419, '중공': 5420, '일수': 5421, '웅': 5422, '보면섴': 5423, '국정': 5424, '치가': 5425, '피라미드': 5426, '이삼': 5427, '꽁냥꽁': 5428, '칠사': 5429, '컜': 5430, 'ㅌㅊ': 5431, '게이물': 5432, '팔리다': 5433, '트갤러': 5434, '댕기': 5435, '선빵': 5436, '강사': 5437, '김제시': 5438, '스균맨': 5439, '보어': 5440, '청소기': 5441, '시리우스': 5442, '책보': 5443, '김미리': 5444, '리곡긜': 5445, '역할': 5446, '능거': 5447, '선셋': 5448, '기도': 5449, '쫄보': 5450, '박덕흠': 5451, '긴급': 5452, '햇습니': 5453, '썸머': 5454, '아이돌스타': 5455, '찜질방': 5456, '는야': 5457, '예민하다': 5458, '죽여주다': 5459, '펀치': 5460, '공통': 5461, '관심사': 5462, '탄압': 5463, '파전': 5464, '헲': 5465, '썸피그': 5466, '엘프': 5467, '육개장': 5468, '이하늬': 5469, '월급': 5470, '팀왜': 5471, '화낫': 5472, '안봣는데': 5473, '못쳣으': 5474, '포천시': 5475, '연천군': 5476, '항': 5477, '앟': 5478, '가쿠간': 5479, '물감': 5480, '타치': 5481, '드럼': 5482, '체크카드': 5483, '원치않다': 5484, 'ㄹㅇㅋㅋ': 5485, 'ㅐㄹ': 5486, '드새': 5487, '까지야': 5488, '부엉': 5489, '부어': 5490, '서도': 5491, '화씨': 5492, '발아': 5493, '정주': 5494, '행해': 5495, '겄': 5496, '시크릿': 5497, '한결같이': 5498, '간전': 5499, '쎄이': 5500, '몬데': 5501, '별깅': 5502, '까맣다': 5503, '석촤': 5504, '겐': 5505, '절망': 5506, '커멸': 5507, '마야': 5508, '몬일': 5509, '사하라': 5510, '프린세스': 5511, '메이커': 5512, '깝': 5513, '긁다': 5514, '홀수': 5515, '라센님': 5516, '데레스테': 5517, '락찬': 5518, '유존': 5519, '무면허': 5520, '쭉': 5521, '훑다': 5522, '한화': 5523, '알아주다': 5524, '민소매': 5525, '경인': 5526, '니콜라': 5527, '베르가': 5528, '신양': 5529, '껄렁': 5530, '질병': 5531, '갈수': 5532, '정독': 5533, '관문': 5534, '지인': 5535, '뿔테': 5536, '포코': 5537, '무리다': 5538, '봇': 5539, '세끼': 5540, '왜밥': 5541, '릴댄': 5542, '특별': 5543, '예여': 5544, '도랏나봐': 5545, '꿀빨': 5546, '왱': 5547, '소취': 5548, '기민': 5549, '녹색': 5550, '자민': 5551, '그남자': 5552, '암만': 5553, '평일': 5554, '작작하다': 5555, '전과자': 5556, '스카이프': 5557, '이종명': 5558, '보아': 5559, '저격': 5560, '소비': 5561, '숏': 5562, '팬츠': 5563, '돈버는당': 5564, '일본사람': 5565, '임시': 5566, '미칭': 5567, '효쌤책': 5568, '차근차근': 5569, '박박': 5570, '짜내다': 5571, '까딱': 5572, '욀케': 5573, '꿀총': 5574, '태극기': 5575, '어째': 5576, '녜': 5577, '음식점': 5578, '프로그래밍': 5579, '밋름': 5580, '디디다': 5581, '유독': 5582, '작성': 5583, '날짜': 5584, '나또스': 5585, '케모': 5586, '은진': 5587, '짜미': 5588, '려닝': 5589, '남양주': 5590, '디튼트두애니띵': 5591, '섬세': 5592, '신포': 5593, '헲프': 5594, '달러': 5595, '구트': 5596, '군포시': 5597, '챗후': 5598, '박정': 5599, '배경': 5600, 'ㅇㅇㅇㅇㅇㅇㅇㅇㅇ': 5601, '징먼': 5602, '명품': 5603, '식사': 5604, '진가': 5605, '니다': 5606, '리브': 5607, '웨어': 5608, '매국노': 5609, '장이': 5610, '염색': 5611, '포민': 5612, '하쒸': 5613, '트혐': 5614, '운전면허': 5615, '클레이': 5616, '구글링': 5617, '진화': 5618, '버섯': 5619, '최저': 5620, '입구': 5621, '재롱': 5622, '잔치': 5623, '뱐쟈이': 5624, 'ㅉㅉㅉ': 5625, '부끄부끄': 5626, '귀여웡': 5627, '고무': 5628, '선선해지다': 5629, '역전재판': 5630, '적절하다': 5631, '인지도': 5632, '요괴': 5633, '메너': 5634, '님캐': 5635, '캐붕': 5636, '굴러가다': 5637, '망고': 5638, '누드': 5639, '토론회': 5640, '계보': 5641, '기생충': 5642, '미소녀': 5643, 'ㅣㅓ': 5644, '님드': 5645, 'ㅃㅃ': 5646, '자애': 5647, '죳': 5648, '신속하다': 5649, '가화': 5650, '효쟌': 5651, '운전': 5652, '유해': 5653, '방배': 5654, '우려': 5655, '세지': 5656, '힙하': 5657, '소고기': 5658, '하키': 5659, '완도군': 5660, '자두': 5661, '심재윤': 5662, '자임': 5663, '슬리데린': 5664, '자유도': 5665, '효진': 5666, '초이': 5667, '임개': 5668, '땅땅': 5669, '낙찰': 5670, '족발': 5671, '익다': 5672, '츠임': 5673, '젤머': 5674, '싣다': 5675, '신분': 5676, '애덜': 5677, '머함': 5678, '피씨': 5679, '들개': 5680, '암호': 5681, '연수구': 5682, '인대': 5683, '퀘': 5684, '실제': 5685, '서점': 5686, '퍼즐': 5687, '봄봄': 5688, '스쿨': 5689, '도서': 5690, '머파': 5691, '문상': 5692, '원내대표': 5693, '과자': 5694, '약탈': 5695, '본명': 5696, '해해': 5697, '애액': 5698, '특징': 5699, '카나타': 5700, '먹이다': 5701, '갸웃': 5702, '뜰때': 5703, '친박': 5704, '불안': 5705, '제거': 5706, '휴먼': 5707, '발교횐데': 5708, '놀래다': 5709, '사유화': 5710, '시렁': 5711, '답장': 5712, '위인': 5713, '연표': 5714, '노친': 5715, '면허': 5716, '자진': 5717, '내통': 5718, '갈리다': 5719, 'ㅇㅐ': 5720, '횧': 5721, '훙훙': 5722, '금괴': 5723, '맥락': 5724, '직알': 5725, '체중감량': 5726, '시정': 5727, '시간표': 5728, '뮤즈': 5729, '잡꿀': 5730, '리디북스': 5731, '이벵': 5732, '무죄판결': 5733, '사법부': 5734, '알리다': 5735, '책정': 5736, '리장': 5737, 'ㅋㅋㅋㅋㅋㅂㄱㅋ': 5738, '툭': 5739, '올려놓다': 5740, '뫄마뫄': 5741, '짤방': 5742, '서너': 5743, '번견같': 5744, '말세': 5745, '스엠': 5746, '돌팬': 5747, '루스': 5748, '애닠': 5749, '렌렌': 5750, '친절하다': 5751, '로란': 5752, '심오하다': 5753, '답사': 5754, '갸아': 5755, '땡큐': 5756, '개굴': 5757, '사나': 5758, '통채': 5759, '국군': 5760, '수권': 5761, '승질낼': 5762, 'ㅠㅠㅠㅋㅋㅋㅋ': 5763, '잼스': 5764, '하든': 5765, '햇다': 5766, 'ㄴㄱ': 5767, '특성': 5768, '므': 5769, '꼴통': 5770, '꿈파': 5771, '데레': 5772, '카페오레': 5773, '시진핑': 5774, '틱': 5775, '탈골': 5776, '성충': 5777, '샘둘': 5778, '내미다': 5779, '양말': 5780, '이건희': 5781, '인하다': 5782, '먀옹': 5783, '애벌레': 5784, '쉬키': 5785, '폐업': 5786, '소강': 5787, '밤부': 5788, '느무님': 5789, '잡아가다': 5790, '만반': 5791, '석고': 5792, '대죄': 5793, '주술': 5794, '화욜날': 5795, '이얍': 5796, '명인': 5797, '위키': 5798, '도크': 5799, '엑소시스트': 5800, '좌익': 5801, '파쇼': 5802, '한결같다': 5803, '이돈만': 5804, '읎': 5805, '무열': 5806, '쿠로': 5807, '장해': 5808, '하야': 5809, '앞서다': 5810, '어쩌겟': 5811, '반비례': 5812, '추기': 5813, '어쨌든': 5814, '현주소': 5815, '클리커': 5816, '민심': 5817, '김만': 5818, '뻗치다': 5819, '누움': 5820, '리헤이': 5821, '어벙': 5822, '중선': 5823, '어간': 5824, '힙합': 5825, '눈감다': 5826, '예의': 5827, '우취': 5828, '얼리다': 5829, '입어보다': 5830, '실현': 5831, '잠실': 5832, '완투': 5833, '쓰리다': 5834, '우수': 5835, '포천': 5836, '모텔': 5837, '개빡텨': 5838, '인팁': 5839, '하학': 5840, '킹카': 5841, '추쳔': 5842, '읍시다': 5843, '흉보다': 5844, '소마': 5845, '저만': 5846, '특강': 5847, '극혐됨': 5848, '오잉': 5849, '여운': 5850, '집밥': 5851, '문과': 5852, '발기부전': 5853, 'ㅂㅅㅎ': 5854, '섬모': 5855, '봣나': 5856, '전북구': 5857, '진안군': 5858, '젖': 5859, '꺄르륵': 5860, '거릴': 5861, '랙책': 5862, '진열': 5863, '요렇게': 5864, '흙': 5865, '수저': 5866, '좌빨': 5867, '함락': 5868, '슈토': 5869, '엑님': 5870, '이야말로': 5871, '붙잡다': 5872, '사리다': 5873, '교체': 5874, '떨어트린거': 5875, '전광훈': 5876, '김씨': 5877, '이태용': 5878, 'ㅃㅃㅇ': 5879, '에야': 5880, '왜글케': 5881, '얘디': 5882, '내보내다': 5883, '드라이빙': 5884, '실천': 5885, '깋': 5886, '선릉역': 5887, 'ㄴㄷ': 5888, '뤼스': 5889, '꺼내버': 5890, '폐인': 5891, '양성': 5892, '수능': 5893, '티스': 5894, '분명하다': 5895, '죠쟈': 5896, '토우': 5897, '남색': 5898, '아침밥': 5899, '불구속': 5900, '천만': 5901, 'ㅍㅣ': 5902, '부쿠부': 5903, '서면': 5904, '김제': 5905, '자켓': 5906, '보험': 5907, '혹': 5908, '레절레': 5909, '땀': 5910, '기상청': 5911, '종학': 5912, '씨부리다': 5913, '나왓다길': 5914, '추파': 5915, '냑오': 5916, '기숙사': 5917, '여하간': 5918, '마법사': 5919, '뭐햇': 5920, '사골': 5921, '해협': 5922, '소셜': 5923, '문선희': 5924, '사타구니': 5925, '시구': 5926, '시혁': 5927, '거미': 5928, '곱창전골': 5929, '교환': 5930, '다지다': 5931, '짜개다': 5932, '굣길': 5933, '분실': 5934, 'ㅏㄹ': 5935, '귀신': 5936, '열풍': 5937, '이나견': 5938, '졍말': 5939, 'ㅈㅂㅈㅂ': 5940, '시나': 5941, '키기': 5942, '항해': 5943, '대유행': 5944, '이사준': 5945, '닭강정': 5946, '미소년': 5947, '블랙잭': 5948, '와아': 5949, '무치다': 5950, '마렵다': 5951, '어늘날씨젛': 5952, '재밋따': 5953, '좔좔': 5954, '음탕하다': 5955, '요도': 5956, '못질': 5957, '바스': 5958, '의심': 5959, '에노시마': 5960, '스웨디시': 5961, 'ㅋㄱㅋ': 5962, '이외': 5963, '가까이': 5964, '진료': 5965, '쪼': 5966, '녀탈트': 5967, '이후': 5968, '어금니': 5969, '프레임': 5970, '기능': 5971, '여섯': 5972, '사격': 5973, '사살': 5974, '애창': 5975, '에일': 5976, '릐': 5977, 'ㅂㅗ': 5978, '요구': 5979, '핑': 5980, '음침하다': 5981, '남새': 5982, '끼들': 5983, 'ㄱㅇㄱ': 5984, '돈데': 5985, '가넝': 5986, '베베': 5987, '등급': 5988, '능': 5989, '축산물': 5990, '무식': 5991, '탄식': 5992, '걸식': 5993, '백현동': 5994, '쏟아지다': 5995, '발매': 5996, '장애': 5997, '포보스': 5998, '새우다': 5999, '라보': 6000, '박하나': 6001, '아스트로': 6002, '의지': 6003, '노골': 6004, '편파': 6005, '시반': 6006, '멈출수없어': 6007, '에니어그램': 6008, '지식': 6009, '잡식': 6010, '부상': 6011, '하겟습니': 6012, '탈돈': 6013, '더하기': 6014, '예시': 6015, '대진': 6016, '게스': 6017, '아기사진': 6018, '뜨개질': 6019, '바느질': 6020, '관해': 6021, '알차다': 6022, '연동': 6023, '포트폴리오': 6024, '단쿤': 6025, '송계': 6026, '일간베스트': 6027, '한화갑': 6028, '후예': 6029, '유희': 6030, '재즈': 6031, '수확': 6032, '체제': 6033, '일당': 6034, '독재': 6035, '잡히다': 6036, '서정': 6037, '부남': 6038, '호혈': 6039, '체무': 6040, '아명': 6041, 'ㄴㄴㄴ': 6042, '티디': 6043, '섴': 6044, '험악하다': 6045, '연감': 6046, '믹싱': 6047, '위대하다': 6048, '달방끛나구': 6049, '와자뵤': 6050, '저리': 6051, '닭': 6052, '그리스': 6053, '좀보': 6054, '유부녀': 6055, '규탄': 6056, '자몽': 6057, '유효하다': 6058, '못하겟': 6059, '삼크님': 6060, '형아': 6061, '개년드': 6062, '구진': 6063, '스노우': 6064, '고치': 6065, '인고': 6066, '설명': 6067, '아라키타': 6068, '잘빠지다': 6069, '샤람이문저': 6070, '고의': 6071, '못햇': 6072, '스노': 6073, '코마쓰': 6074, '백인': 6075, '킹발': 6076, '부터를': 6077, '깍': 6078, '굶다': 6079, '중산': 6080, '스무고개': 6081, '촛불': 6082, '권력': 6083, '실눈': 6084, '오어': 6085, '엘꼴': 6086, '라시': 6087, '코같다': 6088, '케잌': 6089, 'ㅎㄴ': 6090, '함부로': 6091, '쇄신': 6092, '배신자': 6093, '노래때뭉': 6094, '블레': 6095, '뛰어들다': 6096, '쟝': 6097, '뮨특': 6098, '음식물': 6099, '업졸': 6100, '죽엇음': 6101, '선하다': 6102, '친년임': 6103, '표병관': 6104, '탈출기': 6105, '퍽퍽퍼갚갚퍽팍': 6106, '핀돔': 6107, '핸플방': 6108, '넘어지다': 6109, '여하나': 6110, '광양': 6111, '마너': 6112, '성우진': 6113, '좌르륵': 6114, '본론': 6115, '풀꽃': 6116, '줜데': 6117, '잘라먹다': 6118, '장만': 6119, '장려': 6120, '실루엣': 6121, '장발': 6122, '업그레이드': 6123, '청명': 6124, '페하': 6125, 'ㄲㅋ': 6126, '기독': 6127, '이강': 6128, '무교': 6129, '고개': 6130, '재촉': 6131, '아마': 6132, '아우슈비츠': 6133, '경산시': 6134, '학겨': 6135, '끝놧돠': 6136, '내다보다': 6137, '창구': 6138, '우해': 6139, '가래침': 6140, '아이마스': 6141, '스트리밍': 6142, '온갖': 6143, '토라도라': 6144, '잡놈': 6145, '집합소': 6146, '격감': 6147, '말랑하다': 6148, '컴백': 6149, 'ㅣㅣ': 6150, '망원경': 6151, '곰됴리': 6152, '스킴': 6153, '본선': 6154, '뽀당님': 6155, '뽀': 6156, '궈': 6157, '레꼬': 6158, '연령': 6159, '중재법': 6160, '크림': 6161, '왓는데': 6162, '왜책': 6163, '부디': 6164, '소서': 6165, '남친': 6166, '가톨릭': 6167, '되쥬': 6168, '흐릿': 6169, '블베': 6170, '오디': 6171, '토함': 6172, '그루': 6173, '겜벨': 6174, '나웨': 6175, '못해': 6176, '나이키': 6177, '겨수': 6178, '가해자': 6179, 'ㅈㄱㅁ': 6180, '구미': 6181, '윤돌': 6182, '보들보들하다': 6183, '피클': 6184, '잼슴': 6185, '기특하다': 6186, '워게임': 6187, '소전': 6188, '쓸쓸': 6189, '느넫': 6190, '만을': 6191, '에픽하이': 6192, '여분': 6193, '목숨': 6194, '느끼하다': 6195, '때메': 6196, '실버': 6197, '지로': 6198, '큐셀': 6199, '퇴마': 6200, '구지': 6201, '압바': 6202, '김두관': 6203, '드가': 6204, '스타트업': 6205, '라스': 6206, '유한준': 6207, '강철': 6208, '수영구': 6209, '프리템포': 6210, '미모': 6211, '뿌라스된': 6212, '울진': 6213, '중심': 6214, '방도': 6215, '멉': 6216, '할쟉': 6217, '개구': 6218, '뼈': 6219, '실장': 6220, '슥': 6221, '한스타': 6222, '오래전': 6223, '늘어나다': 6224, '엠카': 6225, '오천억': 6226, '발정': 6227, '중대하다': 6228, '봐썽': 6229, '존맛': 6230, '느낌표': 6231, '최소한': 6232, '힘주다': 6233, '밀루': 6234, '화이': 6235, '랭': 6236, '서장': 6237, '레이지': 6238, '무거': 6239, '오원': 6240, '짜이다': 6241, '팔입': 6242, '상주시': 6243, '유로': 6244, '치사': 6245, '빵구': 6246, '종현': 6247, '긴밀하다': 6248, '가봉': 6249, '외웟': 6250, '재밋는대': 6251, '람보르기니': 6252, '못봣': 6253, '헉스': 6254, '승연': 6255, '봤댘': 6256, '도겸': 6257, '훈': 6258, '타투': 6259, '과니': 6260, '떡세': 6261, '마찬가지': 6262, '생파': 6263, '명상': 6264, '박정우': 6265, '라는데': 6266, '답답하다': 6267, '쒯': 6268, '시기하다': 6269, '농락': 6270, '씨밯': 6271, '수고': 6272, '종려': 6273, '별도': 6274, '상업': 6275, '관속': 6276, '존중': 6277, '구리지': 6278, '존버단': 6279, '유형': 6280, '세인트세이야': 6281, '빠직': 6282, '마일로': 6283, '반전': 6284, '갑작스럽다': 6285, '아니엇어': 6286, '늘렷': 6287, '쥐불놀이': 6288, '셧나요해봣겟': 6289, '지니다': 6290, '머싯더': 6291, '터키': 6292, '대국민': 6293, '용서': 6294, '어떢해': 6295, '하의': 6296, '검거': 6297, '유소': 6298, '스코프': 6299, '장착': 6300, '뿜었자너': 6301, '넹친구': 6302, '봣나뷰': 6303, 'ㅏㅠㅠㅋㅋㅋㅋㅋ': 6304, '수면제': 6305, '지각': 6306, '뿍치': 6307, '팍치': 6308, '치하': 6309, '겟습니': 6310, '박웅': 6311, '도끼': 6312, '포스터': 6313, '바꿧': 6314, '굿굿': 6315, '인증샷': 6316, '송파구': 6317, '낙동강': 6318, '리알': 6319, '앞서': 6320, '네이버스': 6321, '스우파왜부작': 6322, '덤벼': 6323, '읁강': 6324, '교재': 6325, '갸': 6326, '폭격': 6327, '창렬': 6328, '한자': 6329, '시즈쿠': 6330, '비프리': 6331, '마비노기': 6332, '선곡': 6333, '별루': 6334, '대손': 6335, '압빠': 6336, '나눙': 6337, '내세': 6338, '말함': 6339, '가어': 6340, '쩌구저쩌': 6341, '도항': 6342, '퍼펙': 6343, '미성년': 6344, '분거': 6345, '기엽': 6346, '사이좋다': 6347, '아낙': 6348, '덕임': 6349, '의파': 6350, '누적': 6351, '나랏돈': 6352, '호화': 6353, '관광': 6354, 'ㅔㅔㅔ': 6355, '교양': 6356, '종': 6357, '항만': 6358, '배후': 6359, '몸짱': 6360, '헬븐넷막힘': 6361, '영상편집': 6362, '젤드': 6363, '게르': 6364, '밤길': 6365, '심신': 6366, '미약': 6367, '친해지다': 6368, '대응': 6369, 'ㅜㅜㅜㅜㅜ': 6370, '니요': 6371, '캐입존': 6372, '나잘하다': 6373, '퍼플': 6374, '균': 6375, '남일': 6376, '아르테': 6377, '잣': 6378, '사냥꾼': 6379, '쿠쿠': 6380, '닿다': 6381, '스코티쉬폴드': 6382, '굿나잇': 6383, '임재': 6384, '위례신도시': 6385, '백운동': 6386, '망조': 6387, '해피': 6388, '진동': 6389, '미특즈': 6390, '추나': 6391, '쫙쫙': 6392, '빠세': 6393, '실전': 6394, '평화롭다': 6395, '주위': 6396, '싳다': 6397, '요것': 6398, '키타': 6399, '치산': 6400, '모에모에': 6401, '큥': 6402, '접': 6403, '박제': 6404, '필톡': 6405, '쓸모': 6406, '편집자': 6407, '싑헐': 6408, '필승': 6409, '주적': 6410, '학살': 6411, '딱지': 6412, '우하하': 6413, '햇엌': 6414, '에로게': 6415, '획': 6416, '천천히': 6417, '나름': 6418, '재밋서': 6419, '저스디스': 6420, '키드': 6421, '존잼임': 6422, '데재밋너': 6423, '텍대': 6424, '및': 6425, '수요일': 6426, '라니깐': 6427, '추위': 6428, '보답': 6429, '선우': 6430, '쫄려': 6431, '유투': 6432, '팝': 6433, '누군데': 6434, '표창': 6435, '식빵': 6436, '물대포': 6437, 'ㅇㅂㅇ': 6438, '헉헉': 6439, '끝낫묘': 6440, '군자': 6441, '우리형': 6442, '콜집': 6443, '창피해': 6444, '톱': 6445, '명언': 6446, '님제': 6447, '샘플': 6448, 'ㅅㄹㅐ': 6449, '촉촉하다': 6450, '체블': 6451, '일렉기타': 6452, '할아버지': 6453, '입지': 6454, '좋죵': 6455, '개빻았음': 6456, '새해': 6457, '야수': 6458, '문체': 6459, '다이빙': 6460, '운지': 6461, '스파게티': 6462, '마노': 6463, '고냥이': 6464, '너므': 6465, '가계부': 6466, '데기': 6467, '나하': 6468, '일본배': 6469, '로데': 6470, '폰디': 6471, '민평련계잡': 6472, '코징': 6473, 'ㅋㅋㅋㅋㅋㅋㅋㅋㅋㅋㅋ': 6474, '후배': 6475, '무거워': 6476, '강서': 6477, '주영': 6478, '첫인상': 6479, '유명': 6480, '간부': 6481, '철컹': 6482, '당진': 6483, '어애': 6484, '출첵': 6485, '잠수': 6486, '안행': 6487, '무게': 6488, '허가': 6489, '마리': 6490, '엌': 6491, '왜욬': 6492, '안됫': 6493, '요술': 6494, '물기': 6495, '마우스': 6496, '대망': 6497, '컵녀': 6498, '수건': 6499, '송편': 6500, '헬프': 6501, '비숑프리제': 6502, '작정': 6503, '빅매치': 6504, '리즈': 6505, '궁금타': 6506, '김웅': 6507, '스트레칭': 6508, '매튜': 6509, '고삼': 6510, '초구': 6511, '컨슈': 6512, '발광': 6513, '에릭': 6514, '콘드룰': 6515, '남녀': 6516, '노소': 6517, 'ㅁㅊㄴ': 6518, '정의당': 6519, '장본인': 6520, '상여': 6521, '다람쥐': 6522, '마크로': 6523, '롷함': 6524, '시오후키': 6525, '없엇으': 6526, '오피스': 6527, '자첫': 6528, '공기': 6529, '빨래': 6530, '무리하다': 6531, '뭐길': 6532, '개봄': 6533, '달관': 6534, '이슬람': 6535, '동일하다': 6536, '술자리': 6537, '족치다': 6538, '썻을거': 6539, 'ㅌㄴㅇ': 6540, '저렁': 6541, '장로': 6542, '몬엑': 6543, '굿즈들': 6544, '안봣기': 6545, '때무': 6546, '광기': 6547, '소시오패스': 6548, '데인': 6549, '졸음': 6550, '스읍': 6551, '좆창': 6552, '달리': 6553, '공평하다': 6554, '양주시': 6555, '골빈': 6556, '입건': 6557, '느아직안봣': 6558, '바나나': 6559, '으헹': 6560, '뿌에엥': 6561, '메이크업': 6562, '차도남': 6563, '드림랜드': 6564, '랍': 6565, '그늘': 6566, '윌슨': 6567, '쎤': 6568, 'ㅎㅇ': 6569, '읏갸': 6570, '롯소': 6571, '눈독': 6572, '포항': 6573, '정상인': 6574, '아작': 6575, '로마': 6576, '유명인': 6577, '때매': 6578, '옴니버스': 6579, '대의': 6580, '이의': 6581, '외출': 6582, '얔': 6583, 'ㅌㅌㅌㅌㅋㅋ': 6584, '충북': 6585, '지망': 6586, '리심': 6587, '면모': 6588, '드뎌': 6589, '안동시': 6590, '협박': 6591, '아오이': 6592, '교과서': 6593, '실리다': 6594, '기묘하다': 6595, '펀': 6596, '누님': 6597, '딥': 6598, '한비': 6599, '비스크': 6600, '강원도': 6601, '유발': 6602, '임오': 6603, '껵다': 6604, '고대': 6605, '이쉑': 6606, 'ㅑㅆ': 6607, '쫄': 6608, '마르': 6609, '학기': 6610, '패완몸': 6611, '곡성': 6612, '쉬멜': 6613, '격투': 6614, '한창': 6615, '스피넬': 6616, '이자나': 6617, '좌우': 6618, '법치': 6619, '사마': 6620, '꼬드김': 6621, '엎': 6622, '지수혁': 6623, '셧으': 6624, '빌보드': 6625, '막늗': 6626, '망구': 6627, '소모': 6628, '담임': 6629, '유나이티드': 6630, '총장': 6631, '부모님': 6632, '등짝': 6633, '조루': 6634, '해치': 6635, '말아먹다': 6636, '파라미터': 6637, '업데이트': 6638, '스탄': 6639, '뵐프': 6640, '드네': 6641, '흑역사': 6642, '좆징': 6643, '디퍼': 6644, '자정': 6645, '아유': 6646, '잉글리시': 6647, '순두부찌개': 6648, '연인': 6649, '유무': 6650, '고통': 6651, '싫어지다': 6652, '캐임': 6653, '평창': 6654, '풍작': 6655, '자원봉사': 6656, '본진': 6657, '스릴': 6658, '라야': 6659, '빡': 6660, '상호': 6661, '추움': 6662, '회도': 6663, '품타': 6664, '조상우': 6665, '뚝뚝': 6666, '집합': 6667, '가부장': 6668, '혈통': 6669, '스톱': 6670, '온유': 6671, '민호': 6672, '정충': 6673, '갠': 6674, '찮아다': 6675, '맞춤법': 6676, '틀림': 6677, '오륙': 6678, '이준호': 6679, '배부': 6680, '경산': 6681, '가목': 6682, '상함': 6683, '서치': 6684, '포맷': 6685, 'ㅜㅜㅜㅡ': 6686, '분부': 6687, '녓': 6688, '콩떡': 6689, '모교': 6690, '이북': 6691, '긑잇': 6692, '왓넹': 6693, '더블헤더': 6694, '척추': 6695, '관절': 6696, '브레이커': 6697, '종합': 6698, '리테': 6699, '딸리다': 6700, '말고는': 6701, '퍼센트': 6702, '서해': 6703, '전전': 6704, '졔': 6705, '렌슬럿': 6706, '트위터리안': 6707, '사백이': 6708, '멩': 6709, '널다': 6710, '어느덧다': 6711, '익숙해지다': 6712, '스냅': 6713, '바람불다': 6714, '구치소': 6715, '조범': 6716, '팔찌': 6717, '신세': 6718, '사용': 6719, '사르르': 6720, '솜사탕': 6721, '압도': 6722, '페스티벌': 6723, '뵈다': 6724, '난무': 6725, '슬의생': 6726, '추하다': 6727, '틀니': 6728, '대고': 6729, '사이드': 6730, '히터': 6731, '남씨': 6732, '변경': 6733, '김종민': 6734, '굿즈': 6735, '기반': 6736, '한순간': 6737, '물량인데': 6738, '추팰': 6739, '똥구멍': 6740, '할짝할짝': 6741, '조그맣다': 6742, 'ㄱㄱㄱ': 6743, '졸': 6744, '남성향': 6745, '헐랭': 6746, '올림픽대로': 6747, '특이': 6748, '레이싱': 6749, '그대로': 6750, '포케': 6751, '단금': 6752, '만지다': 6753, '토요일': 6754, '보호': 6755, '서핑': 6756, '큰소리치다': 6757, '지리': 6758, '년차': 6759, 'ㅍㅎㅎㅎ': 6760, '은꼴': 6761, 'ㅅㅏ': 6762, 'ㄱㅔ': 6763, '임란': 6764, '폰팅': 6765, '한닼': 6766, 'ㅋㅋㄲ': 6767, '동인': 6768, '한낮': 6769, '엄': 6770, '돈암동': 6771, '어아억': 6772, '롤킹': 6773, '캘리포니아': 6774, '만큼은': 6775, '동두천시': 6776, '헷갈리다': 6777, '장재': 6778, '무궁화': 6779, '정반합': 6780, '치한': 6781, '능가': 6782, '대치': 6783, '꾸무렁꾸무렁': 6784, '소꿉친구': 6785, '넝': 6786, '블노': 6787, '애증': 6788, '섞이다': 6789, '도래': 6790, '어카': 6791, '비밀리': 6792, '띠용': 6793, '오징스': 6794, '바나': 6795, '싯님': 6796, '한서': 6797, '깔리다': 6798, 'ㅌㅋㅋㅋ': 6799, '필름': 6800, '실정': 6801, '쥐쥐': 6802, '만화가': 6803, '됝': 6804, 'ㅆㅂㅁㅊ': 6805, '아찔하다': 6806, '자줜': 6807, 'ㅏㄷ': 6808, '거임': 6809, '피곤': 6810, '시방': 6811, '겨울연가': 6812, '미주': 6813, '웅웅': 6814, '태극': 6815, '훌': 6816, '젂다': 6817, '감수성': 6818, '줏': 6819, '살길': 6820, '유료': 6821, '잘만': 6822, '고정간첩': 6823, '투마': 6824, '지석': 6825, '유지쥴리': 6826, '루갈': 6827, '번호판': 6828, '위조': 6829, '건오': 6830, '얹다': 6831, '김구': 6832, '페르손': 6833, '저지르다': 6834, '상습': 6835, '뺑소니': 6836, '찌뿌둥해': 6837, '돌변': 6838, '사이버펑크': 6839, '뫃': 6840, '륌': 6841, '웰': 6842, '롭님': 6843, '첸쇼': 6844, '용케': 6845, '중신': 6846, '주간': 6847, '랭킹': 6848, '주차': 6849, '기기': 6850, '베리': 6851, '메이져': 6852, '창균': 6853, '화도안봣': 6854, '골랐엌': 6855, 'ㅋㅋㅋㅋㅠㅠ': 6856, '렐라': 6857, '곤약': 6858, '일간': 6859, '라곤': 6860, '바욥': 6861, '프로젝트': 6862, '검사': 6863, '긂체': 6864, '안봣소': 6865, '복선': 6866, '아리다': 6867, '발해': 6868, '배스': 6869, '발탁': 6870, '융': 6871, '타격': 6872, '영웅': 6873, '천황': 6874, '상책': 6875, '부가': 6876, '됏다': 6877, '스트': 6878, '아크': 6879, '찌그러지다': 6880, '따땃해짐': 6881, '제적': 6882, '춤짱': 6883, '노야': 6884, '일걸': 6885, '응당': 6886, '매니': 6887, '부드러움': 6888, '양옆': 6889, '퉁퉁': 6890, '나므': 6891, '과로': 6892, '억원': 6893, '챗방': 6894, '포텐독어떤': 6895, '냬': 6896, '구례군': 6897, '솓': 6898, '고아': 6899, 'ㄱㄴ': 6900, '생사': 6901, '중궈니': 6902, '넋두리': 6903, '우럭': 6904, '비키다': 6905, '상견례': 6906, '장멵': 6907, '괘그오': 6908, 'ㅋㅋㄱㅋㄱㅋ': 6909, '낫쥬': 6910, '또오': 6911, '덕열': 6912, '뻐킹': 6913, '빠졋': 6914, '인정받다': 6915, '말썽': 6916, '잠시': 6917, '양치': 6918, '영도': 6919, '시켜봣음': 6920, '좋갯다': 6921, '정색': 6922, '오토튠': 6923, '닼': 6924, '지동': 6925, '디지캐럿': 6926, '완디': 6927, '구장': 6928, '노브휘끼휘끼': 6929, '선호': 6930, '구분': 6931, '고가': 6932, '새우': 6933, '튀김': 6934, '고현정': 6935, '혹쉬': 6936, '삼겹살': 6937, '개멋': 6938, '놉': 6939, '가부장제': 6940, '관중석': 6941, 'ㅈㄴㅇㄱ': 6942, '평온하다': 6943, '우짜노': 6944, '라디오': 6945, '퀴즈': 6946, '홀릭님': 6947, '강남역': 6948, '쏱아짐': 6949, '하가렌': 6950, '였음': 6951, '압쥐': 6952, 'ㅁㅏㅅㅏㅈㅣ': 6953, '니아': 6954, '마키': 6955, '배겨': 6956, '자결': 6957, '폼': 6958, '체험': 6959, '죽겠네': 6960, '고로': 6961, '면오': 6962, '유비': 6963, '플래툰': 6964, '강물': 6965, '낮아지다': 6966, '정황': 6967, '개그맨': 6968, '향': 6969, '차라': 6970, '꼬봉': 6971, '기타': 6972, '낯설다': 6973, '신혼집': 6974, '은한': 6975, '힐알': 6976, '람캠': 6977, '간판': 6978, '옭': 6979, '어쩌다가': 6980, '셋팅좀': 6981, 'ㅠㅜㅜㅜ': 6982, '나바라': 6983, '분필': 6984, '영악': 6985, '이석': 6986, '소신발': 6987, '언스': 6988, '보새': 6989, '장군': 6990, '샤끼': 6991, '안볼례': 6992, '엨': 6993, 'ㅈㄱㅇ': 6994, '카르마온라인': 6995, '어글리슈즈': 6996, '홈페이지': 6997, '웂': 6998, '김치': 6999, '뚱남임': 7000, '피자': 7001, '해설': 7002, '뭐함': 7003, '미츠루': 7004, '아니스': 7005, '까지는': 7006, '다봣으': 7007, '패러렐': 7008, '노통': 7009, '공신': 7010, '트랜': 7011, '일구': 7012, '왜냐면': 7013, '버렷어욬': 7014, 'ㅇㄴㅇ': 7015, '오리': 7016, '개싸움': 7017, '상해': 7018, '현이': 7019, '드라큘라': 7020, '폴리오': 7021, '통영': 7022, '불토': 7023, '이영': 7024, '기각': 7025, '인강': 7026, '좌헌': 7027, '파우스트': 7028, '좌존파좐파': 7029, '캄': 7030, '사행': 7031, '성은': 7032, '안막': 7033, '사월': 7034, '볼거얍': 7035, '닥스': 7036, '저스트': 7037, '비명': 7038, '레빈': 7039, '번갈아': 7040, '점프': 7041, '케콘스': 7042, '비지': 7043, '만천원': 7044, '조정': 7045, '그날': 7046, '개조': 7047, '허탈': 7048, '조현병': 7049, '불신': 7050, '흐물텅하': 7051, '헤헹': 7052, '져서': 7053, '천좨': 7054, '잌': 7055, '아요': 7056, '속박': 7057, '캐좀': 7058, 'ㄷㄷㄷㄷㄷㄷㄷ': 7059, '당시': 7060, '린날': 7061, 'ㅠㅎ': 7062, '귀차니즘': 7063, '구당': 7064, '동주': 7065, '루어': 7066, '병들다': 7067, '생태계': 7068, '파라': 7069, '로봇': 7070, '놧': 7071, '출근길': 7072, '놀토': 7073, '버튼': 7074, '눌렸': 7075, '안기다': 7076, '가래': 7077, '세명': 7078, 'ㅅㅂㅋㅌㅌㅌ': 7079, '체육': 7080, '삼보': 7081, '도시락': 7082, '토착': 7083, '왜구': 7084, '쥐광': 7085, '하드': 7086, '엣날': 7087, '고양시': 7088, '바쁘다': 7089, '스톱모션': 7090, '어어어어': 7091, '이모': 7092, '결탁': 7093, '전라도': 7094, '피엠': 7095, '심슨': 7096, '존뇌': 7097, '개욱겨': 7098, '쪼잔하': 7099, '딜': 7100, '냔': 7101, '뜽': 7102, '진행': 7103, '동두천': 7104, '유튜버': 7105, '아리시': 7106, '초췌하다': 7107, '득표율': 7108, '철학': 7109, '설화수': 7110, '전이': 7111, '곤혹': 7112, '서나': 7113, '밟다': 7114, '자폭': 7115, '능겨': 7116, '한두': 7117, '기차': 7118, '화려': 7119, '설리': 7120, '문서': 7121, '쯧쯧': 7122, '통일': 7123, '요청': 7124, '돌아서다': 7125, '보더': 7126, '탈통': 7127, '문방구': 7128, '달이': 7129, '걸렷': 7130, '프하하': 7131, '년뒤': 7132, '재밋네': 7133, '둘걸': 7134, '몰량': 7135, '고운동': 7136, '랜드': 7137, '데헷': 7138, '휴폴플': 7139, '일시': 7140, '무쟈': 7141, '구걸': 7142, '디지털': 7143, '머릿속': 7144, '존내': 7145, '울림': 7146, '똥손': 7147, '극뽁': 7148, '실사판': 7149, '파이트': 7150, '리쿠': 7151, '하동': 7152, '또뭐임': 7153, '미즈': 7154, '류민석': 7155, '새참': 7156, '몰빵해버렷어': 7157, '기온': 7158, '개요': 7159, '쓸쓸하다': 7160, '타닥': 7161, '내후년': 7162, '비토': 7163, '화목': 7164, '사회인': 7165, '허무하다': 7166, '이노리': 7167, '파렴치': 7168, '수시': 7169, '이누야샤': 7170, '일링': 7171, '흫흫흫흫': 7172, '분임': 7173, '이승만': 7174, 'ㄴㅋㅋ': 7175, '강강술래': 7176, '꿀꺽': 7177, '쏰': 7178, 'ㄹㅋㄹㅋㅋ': 7179, '예비': 7180, '코디': 7181, '겨우': 7182, '개화': 7183, '나왓으': 7184, '하느리': 7185, '고장': 7186, '흐느적흐느적': 7187, '조케따앙': 7188, '퍽퍽퍽': 7189, '가족사진': 7190, '죙일': 7191, '증평': 7192, '엇쟈': 7193, '군호': 7194, '료코': 7195, '뻥': 7196, '재밋더': 7197, '유흥': 7198, '고집': 7199, '혜': 7200, '맘마': 7201, '스퀴드': 7202, '적대': 7203, '공생': 7204, '에서나': 7205, '원동력': 7206, '한정': 7207, '분조': 7208, '시켯다': 7209, '음치': 7210, '그래픽': 7211, '제기랄': 7212, '만응': 7213, '맥아더': 7214, '좌민': 7215, '헐퀴': 7216, '능청': 7217, '월노': 7218, '오해': 7219, '에코': 7220, '사활': 7221, '주루': 7222, '가도': 7223, '피부': 7224, '통통하다': 7225, '죠오': 7226, '매각': 7227, '중시조': 7228, '갠찮나': 7229, '서든어택': 7230, '겜드': 7231, '만조': 7232, '너넨': 7233, '바알': 7234, '하로가자밍': 7235, '보넹': 7236, '눌곤': 7237, '애니좋아': 7238, '경안': 7239, '인터': 7240, '냇': 7241, '이툥': 7242, '단체사진': 7243, '맙': 7244, '정심': 7245, '페티쉬': 7246, '달방시': 7247, '롯데': 7248, '타워': 7249, '유딩': 7250, '함양': 7251, '세차': 7252, '런닝머신': 7253, '켯': 7254, '만전': 7255, '밋겟': 7256, '수인': 7257, '혀누': 7258, '단말기': 7259, '바다이야기': 7260, '우짜': 7261, '페는오쿠': 7262, '천안': 7263, '사랑받다': 7264, '포지': 7265, '이성': 7266, '종족': 7267, '상어': 7268, '손웬': 7269, '손수건': 7270, '추팔': 7271, '굳은살': 7272, '핏줄': 7273, '선명': 7274, '자손': 7275, '비쥬': 7276, '조만간': 7277, '사랑스럽다': 7278, '대군': 7279, '뀨시': 7280, '나은': 7281, '작년': 7282, '스톰': 7283, '정호': 7284, '핵폭탄': 7285, '제조': 7286, '스톤': 7287, '오션': 7288, '비행': 7289, '화질': 7290, '로고': 7291, '남중': 7292, '어페미': 7293, '도시': 7294, '월요일': 7295, '요요': 7296, '견씨': 7297, '쟈꼬': 7298, '동물': 7299, '멍멍': 7300, '라고는': 7301, '찬희': 7302, '솔': 7303, '최곤듯': 7304, '알펫스': 7305, '떠나다': 7306, '하래': 7307, '높다': 7308, '마유': 7309, '됴잉': 7310, '츳키': 7311, '밋그': 7312, '괴사': 7313, '콘돔': 7314, '옶다고샹': 7315, '네코': 7316, '마타': 7317, '시위': 7318, '통령': 7319, '샹치': 7320, '남방': 7321, '안짝': 7322, '나엿으': 7323, '거창': 7324, '연솓': 7325, '보도자료': 7326, '좟가튼': 7327, '안떨어지다': 7328, '휴식': 7329, '지겹다': 7330, '섹': 7331, '테러': 7332, '깡패': 7333, '상도': 7334, '입당': 7335, '잠재': 7336, '아도니스': 7337, '분발': 7338, '유곽': 7339, '씹쌔끼들': 7340, '으에에': 7341, '견': 7342, '이진택': 7343, '아홉': 7344, '쇼쇼쇼': 7345, '하여튼': 7346, '제곧내': 7347, '비례': 7348, '짱짱맨': 7349, '왁킹': 7350, '부카': 7351, '덩어리': 7352, '엎어': 7353, '웨얼': 7354, '애수': 7355, '시원': 7356, '재우다': 7357, '득실': 7358, '막둥': 7359, '윤가': 7360, '노릇': 7361, '나이트': 7362, 'ㅍㅍ': 7363, '서럽다': 7364, '게우다': 7365, '문성근': 7366, '오일': 7367, '속보': 7368, '중국산': 7369, '민속놀이': 7370, '찍으셧나': 7371, 'ㄱㄱ': 7372, '빤스바람': 7373, '아들내미': 7374, '철컹철컹': 7375, '보슈': 7376, '모자라다': 7377, '감고': 7378, '모근': 7379, '어질어질하다': 7380, '드더': 7381, '패배': 7382, '무효표': 7383, '앺뮤': 7384, '차안': 7385, '재생': 7386, '상급': 7387, '응데': 7388, '개꼰': 7389, '아무나': 7390, '메르': 7391, '웨딩홀': 7392, '키링포카': 7393, '자칭': 7394, '이반': 7395, '날얏호': 7396, '울적': 7397, '국함': 7398, '치인': 7399, '으로서': 7400, '갈등': 7401, '래서': 7402, '몬합니': 7403, '하이힐': 7404, '힐엌': 7405, '분옆': 7406, '슴메': 7407, '김영훈': 7408, '가게': 7409, '가죽': 7410, '신인': 7411, '보고서': 7412, '오십': 7413, '시오': 7414, '앱코': 7415, '잘맞다': 7416, '핰핰': 7417, '남하': 7418, '차기': 7419, '대통령제': 7420, '렘': 7421, '헐스': 7422, '꺄악': 7423, '기름': 7424, '삼천원': 7425, '로사': 7426, '현금': 7427, '동갑': 7428, '슾디': 7429, '헤필': 7430, '원수': 7431, '로남불': 7432, '미첬어': 7433, '바꼇나': 7434, 'ㅂㅅ': 7435, '떄문': 7436, '시도': 7437, '스타킹': 7438, '꼼수': 7439, '스키': 7440, '오랫': 7441, '밬': 7442, '슬림': 7443, '칩거': 7444, '한일': 7445, '락': 7446, '엠티': 7447, '튀어': 7448, '인세': 7449, '미니미': 7450, '장보기': 7451, 'ㅂㅈㅅ': 7452, '어두워지다': 7453, '찌찌': 7454, '스아악흐악': 7455, 'ㅇㅅ': 7456, '어헠': 7457, '영천시': 7458, '창조': 7459, '짬빰': 7460, '디안': 7461, '성형': 7462, '셍김': 7463, '원본': 7464, '쿠징': 7465, '제육': 7466, '애가': 7467, '유임': 7468, '계자': 7469, '조언': 7470, '원더': 7471, '물가': 7472, '안개': 7473, '모양': 7474, '워쩐': 7475, '과지': 7476, '보피': 7477, '부안': 7478, '녀임': 7479, '플래시': 7480, '태훈이': 7481, '수꼴': 7482, '먹튀': 7483, '러임': 7484, '토큰': 7485, '로투스': 7486, '롸': 7487, 'ㅑㅅ': 7488, '으면': 7489, 'ㅊ': 7490, '민중': 7491, '밧엇어': 7492, '훗': 7493, '전입': 7494, '봬': 7495, '액타': 7496, '김둉김': 7497, '동그라미': 7498, '세모': 7499, '김김': 7500, '사리': 7501, '같앳어': 7502, '줏세': 7503, '끊임없다': 7504, '배우자': 7505, '하피': 7506, '함잼민스': 7507, '빼꼼': 7508, '려면': 7509, '자중': 7510, '메이비': 7511, '스타트': 7512, '움쪽': 7513, '한국인': 7514, '조전': 7515, '돌보다': 7516, '지존': 7517, '까지와': 7518, '제만': 7519, '갈구다': 7520, 'ㅅㄲ': 7521, '같아옄': 7522, '얄': 7523, 'ㅁㄴㅋ': 7524, '이개': 7525, '끼니': 7526, '악하다': 7527, '비장하다': 7528, '암담하다': 7529, '있겠댘': 7530, '오덕': 7531, '해달': 7532, '넘어오다': 7533, '진지': 7534, '반한': 7535, '쇼헤이': 7536, '토닥토닥': 7537, '리스크': 7538, '불가피': 7539, '유도현': 7540, '시민': 7541, '기둥': 7542, '가후': 7543, '원조': 7544, '나루토': 7545, '바리온': 7546, '간지나다': 7547, '놓쳣따': 7548, '천왕': 7549, '기트': 7550, '제인걸': 7551, '코로스': 7552, '뭐시기': 7553, '언변': 7554, '만사': 7555, '것등': 7556, '책등': 7557, '니트': 7558, '대법관': 7559, '십지': 7560, '형법': 7561, '동해시': 7562, '핵': 7563, '낼스': 7564, '간나': 7565, '유태': 7566, '찰지다': 7567, '나즈나': 7568, '판완': 7569, '나시': 7570, '다봣너': 7571, '하감': 7572, '머햇': 7573, '서요': 7574, 'ㅏㄱ': 7575, '박스': 7576, '간요': 7577, '아무렇다': 7578, '도국': 7579, '특공대': 7580, '토나오다': 7581, '랄라': 7582, '증': 7583, '자멸': 7584, '락낼롬낼름': 7585, '롬냘롬낼롬': 7586, '은발': 7587, '키리': 7588, '유또': 7589, '시빌': 7590, '극우파': 7591, '뚜시': 7592, '서브': 7593, 'ㅡㅁㅅㅂ': 7594, '곁': 7595, '로리스': 7596, '정녕': 7597, '테로': 7598, '고구': 7599, '니은': 7600, '어딘데': 7601, '틈새': 7602, '숲': 7603, '시그널': 7604, '취좆': 7605, '자제': 7606, '길들이다': 7607, '찌끄레기들': 7608, '줄알': 7609, '만화애니': 7610, '공간': 7611, '왜례': 7612, '임업': 7613, '쭈연': 7614, '한때': 7615, '나이프': 7616, '고깃집': 7617, 'ㅇㄴㅠ': 7618, '멀쩡하다': 7619, '어그': 7620, '김연주': 7621, '대변인': 7622, '해프': 7623, '초등생': 7624, '학생회장': 7625, '대구시': 7626, '방기': 7627, '시야': 7628, '명의': 7629, '젛': 7630, '아해': 7631, '고급': 7632, '분구': 7633, 'ㅂㅂ': 7634, '런녀': 7635, '태클': 7636, '싸이코패스': 7637, '뽀빠이': 7638, '겜처': 7639, '바퀴': 7640, '석훈': 7641, '윤지선': 7642, '논문': 7643, '박애주의자': 7644, '띄어쓰기': 7645, '자칫하면': 7646, '영계': 7647, '나신': 7648, '띵머리가띵': 7649, '돌멩이': 7650, '도랏': 7651, '했드': 7652, '장바구니': 7653, '로군요': 7654, 'ㄴㅋㅁㅁ': 7655, '니드': 7656, '샨': 7657, '개탄': 7658, '경축': 7659, '소히': 7660, '액체': 7661, '세대': 7662, '밋다': 7663, '에타': 7664, '세작': 7665, '숏컷': 7666, '바레': 7667, 'ㄱㅣ': 7668, 'ㅌㅓ': 7669, '프롬파티': 7670, '결투': 7671, '짆': 7672, '총무': 7673, '했넼': 7674, '양평': 7675, '리얼리티': 7676, '고변': 7677, '한스': 7678, '함보쟈': 7679, '카프': 7680, '권한': 7681, 'ㅈㅔ': 7682, '공익': 7683, '욕망': 7684, '더블': 7685, '홈피': 7686, '준더베': 7687, '무승': 7688, '힘빠지다': 7689, '갈수록': 7690, '구랴': 7691, '피기': 7692, '디힐': 7693, '뚱티부': 7694, '긔': 7695, '쪼굴': 7696, '뭣들': 7697, '본성': 7698, '얖': 7699, '남짓하다': 7700, '대상': 7701, '외다': 7702, '프세카애니미쳣구': 7703, '일가': 7704, '부랴부랴': 7705, '활짝': 7706, '울렁증': 7707, '썽': 7708, '켄마': 7709, '의원직': 7710, '시름': 7711, '책임자': 7712, '주지': 7713, '타락': 7714, '단간론파': 7715, '이과': 7716, '볼겨': 7717, '수위': 7718, '카노': 7719, '인과율': 7720, '페스': 7721, '체스': 7722, '논평': 7723, '리다': 7724, '조로': 7725, '됏어': 7726, '이샘': 7727, '징계': 7728, '게다가': 7729, '손발': 7730, '씨땡': 7731, '아슬아슬하다': 7732, '규어': 7733, '명중': 7734, '보르헤스': 7735, '알레프': 7736, '생패': 7737, '대악': 7738, '어언': 7739, '못킬': 7740, 'ㅎㅌㄹ': 7741, '에로': 7742, '돌싱': 7743, '규칙': 7744, '마블': 7745, '가년': 7746, '카르': 7747, '웊하스': 7748, '시선': 7749, '마창': 7750, '입관': 7751, '미츠리': 7752, '카구야': 7753, '루코': 7754, '엘마': 7755, '인권': 7756, '한판만': 7757, '외로워': 7758, '지기': 7759, '몰랏는데': 7760, '핔': 7761, '방출': 7762, '오픈': 7763, '당일': 7764, '현장': 7765, '번쩍': 7766, '논바': 7767, '아비': 7768, '싀바': 7769, '땀내': 7770, '지갑': 7771, '이완용': 7772, '큐큐': 7773, '큨': 7774, '배속': 7775, '장수': 7776, '음란': 7777, '팝송': 7778, '반년': 7779, '문스독': 7780, '콩콩': 7781, '겻러': 7782, '미가': 7783, '콘텍': 7784, '독일어': 7785, '언어': 7786, '종말': 7787, '교포': 7788, '쟈히': 7789, '라리사': 7790, '블링크': 7791, '요구르트': 7792, '돌아보다': 7793, '남지': 7794, '야매': 7795, '배움': 7796, '대세': 7797, '짜장': 7798, '역습': 7799, '책책': 7800, '데잉쯧': 7801, '늑대': 7802, '쇼발': 7803, 'ㅅㅐ': 7804, '민감하다': 7805, '깜': 7806, '이준영': 7807, '몰이': 7808, '피리어드': 7809, '방사': 7810, '수태': 7811, '포지션': 7812, '똥겜': 7813, '머그': 7814, '보즈': 7815, '샤님': 7816, '이대': 7817, '울리다': 7818, '버거킹': 7819, '짜파게티': 7820, '신주쿠': 7821, '오입': 7822, '문턔일': 7823, '가우리': 7824, '얕다': 7825, '굵직하다': 7826, '기억나다': 7827, '때우다': 7828, '고추가': 7829, '코닥': 7830, '나니요': 7831, '리해': 7832, '크보': 7833, '당근': 7834, '개입': 7835, '시발련': 7836, '했눼': 7837, '수온': 7838, '식스센스': 7839, '오로지': 7840, '취푸': 7841, '풋잡': 7842, '왤케많': 7843, '텍스트': 7844, '멀미': 7845, '요게': 7846, '최애캐': 7847, '개극혐': 7848, '코코': 7849, '편도': 7850, '쩔어요': 7851, '재윤': 7852, '특근': 7853, '오이': 7854, '맞먹다': 7855, '세종': 7856, '퍼랭': 7857, '마가': 7858, '로스': 7859, '누굴': 7860, '맨첨': 7861, '찰졋음': 7862, '바치': 7863, '외롭다': 7864, '주렴': 7865, '규논': 7866, '보깅': 7867, '뭐임또': 7868, '사양': 7869, '년치': 7870, '랜서': 7871, '세이': 7872, '때베': 7873, '음성': 7874, '해봣': 7875, '까먹엇어': 7876, '꺄앍': 7877, '맨홀': 7878, '매수': 7879, '가가': 7880, '가각': 7881, '버들': 7882, '손톱': 7883, '깎다': 7884, '쵝오': 7885, '효초': 7886, '코빅': 7887, '자밋어': 7888, '저만큼': 7889, '고상하다': 7890, '여혐': 7891, '여성신문': 7892, 'ㅇㅌ': 7893, '스톼일이어똬': 7894, '흥해랏': 7895, '병뚜껑': 7896, '나트': 7897, '발작': 7898, '삶다': 7899, '랭스': 7900, '만대': 7901, '수원시': 7902, '파불': 7903, '대패': 7904, '끝임': 7905, '피아': 7906, '배심원': 7907, '개쩌': 7908, 'ㅠㅠㅠㅋㅋㅋㅋㅋ': 7909, '강연': 7910, '박일': 7911, '변호인': 7912, 'ㅠㅠㅜㅜ': 7913, '자기야': 7914, '버팔로': 7915, '위비': 7916, '반대편': 7917, '일본만화': 7918, '직': 7919, '관할': 7920, '귤현': 7921, '더쇼': 7922, '영향': 7923, '덜덜': 7924, '동남구': 7925, 'ㅋㅋㅋㅋㅋㅋㅋㅋㅋㅋㅋㅋㅋㅋㅋ': 7926, '레넥톤': 7927, '캠방': 7928, '었던': 7929, '친규': 7930, '칸': 7931, '지배': 7932, '기존': 7933, 'ㅜㅜㅎ': 7934, '일상사진': 7935, '울음': 7936, '서흥': 7937, '미우다': 7938, '워딩': 7939, '니뇨': 7940, '개시': 7941, '발애': 7942, '괴롭다': 7943, '국기': 7944, '문란': 7945, '회식': 7946, '연금술사': 7947, '헝거게임': 7948, '봐야딧': 7949, '칫치': 7950, '에헴': 7951, '기엽따': 7952, '야망': 7953, '예비신부': 7954, '욱': 7955, '조우': 7956, '카피라이팅': 7957, '복사': 7958, '조선업': 7959, '답답': 7960, '입장': 7961, '루삥뽕': 7962, '잠듬': 7963, '듀스': 7964, '연패': 7965, '생략': 7966, '사탄': 7967, '화음': 7968, '인사': 7969, '참사': 7970, '천둥': 7971, '우치': 7972, '씌바': 7973, '앖음': 7974, '살인마': 7975, '실크': 7976, '고여': 7977, '히프': 7978, '바이너리': 7979, '네임드': 7980, '사다리': 7981, '대차다': 7982, '업무': 7983, '스춤': 7984, '워디': 7985, '야합': 7986, '민폐': 7987, '쥐다': 7988, '나아': 7989, '쟁하': 7990, '안행햐': 7991, '케키님': 7992, '각하': 7993, '특이하다': 7994, '경부': 7995, '고속도로': 7996, '서초': 7997, '정체': 7998, '에게는': 7999, '주어지다': 8000, '듀얼': 8001, '센스': 8002, '충전': 8003, '거치': 8004, '천벌': 8005, '일본애니': 8006, '퇴화': 8007, '고조선': 8008, '릴리': 8009, '빻남들': 8010, '그림판': 8011, '에디': 8012, '션': 8013, '퀴코': 8014, '포카살돈': 8015, '소개팅': 8016, '버논뷔하': 8017, '뷔임': 8018, '말랑말랑하다': 8019, '현상': 8020, 'ㅅㅂㅋㅋㅋㅋㅋㅋ': 8021, '죠타로': 8022, '큐티걸': 8023, '운명': 8024, '광합성': 8025, '강가': 8026, '었구': 8027, '더힝': 8028, '괸찬': 8029, '한마음': 8030, '쩍': 8031, '다이어터': 8032, '심해지다': 8033, '우회': 8034, '아리': 8035, '마려운': 8036, 'ㄱㅎㄹㅅㄲ': 8037, '둘러보다': 8038, '모레': 8039, '사례': 8040, '참교육마렵다': 8041, '미러링': 8042, '닌함': 8043, '소매': 8044, '실글': 8045, '벙글': 8046, '들려주다': 8047, '동복': 8048, '텃밭': 8049, '유병재': 8050, '캡': 8051, '본보다': 8052, '샊': 8053, 'ㄲㅣ': 8054, '모순': 8055, '정계': 8056, '흡사': 8057, '라이온즈': 8058, '터덜': 8059, '조선시대': 8060, '업너': 8061, '조슴니': 8062, '심리상담': 8063, '후속작': 8064, '바야듸': 8065, '호오': 8066, '베스': 8067, '판타지': 8068, '변덕': 8069, '토종': 8070, '골프공': 8071, '콜도': 8072, '열사': 8073, '피로': 8074, '광교': 8075, '담그다': 8076, '러닝': 8077, '산타': 8078, '사전': 8079, '카모': 8080, '풍류': 8081, '대장': 8082, '무사도': 8083, '차림': 8084, '타비': 8085, '수상한': 8086, '왓습': 8087, '박자': 8088, '왈츠': 8089, '뻘하': 8090, '필기': 8091, '봣냐': 8092, '장흥': 8093, '영덕시': 8094, '분수': 8095, '가리다': 8096, '프커애': 8097, '페코캬루': 8098, '빠삭해': 8099, '스트리머': 8100, 'ㅎㄷㄷ': 8101, '어케해': 8102, '강렬하다': 8103, '뽐뿌': 8104, '일자리': 8105, '기권': 8106, '껍': 8107, '오바': 8108, '지반': 8109, '도꽤': 8110, '레스': 8111, '돌배': 8112, '버츄얼': 8113, '데뷰': 8114, '전번': 8115, '뭍기': 8116, '뒤집헛다': 8117, '리우': 8118, '노답': 8119, '데쥬륵': 8120, '재밋다드': 8121, '스치다': 8122, '교복': 8123, '왓챠파티': 8124, '징사': 8125, '유스': 8126, '답멘': 8127, '시퍼': 8128, '봤넼': 8129, '햇우': 8130, 'ㅠㅠㅜㅠㅠ': 8131, '젠이츠': 8132, '여장': 8133, '볼듯': 8134, '다해': 8135, '도적': 8136, '게릴라': 8137, '데싱': 8138, '디바': 8139, '신상': 8140, '네버': 8141, '스탑': 8142, '스파': 8143, '삻어': 8144, '앸': 8145, '홋승': 8146, '님때문': 8147, 'ㄱㅅ': 8148, '시기': 8149, '헤어': 8150, '엔네아드': 8151, '오수': 8152, '솔딕히': 8153, '킹정': 8154, '안전하다': 8155, '돕다': 8156, '로웬': 8157, '압살': 8158, 'ㅛㅜㅇ': 8159, '전생': 8160, '쉑쫄튀한다긩': 8161, '건너': 8162, '아로마': 8163, '모니터': 8164, '불가능': 8165, '두피': 8166, '문신': 8167, '유의': 8168, '어물': 8169, '쩡': 8170, '으응': 8171, '인싸픽아닌': 8172, '겟음': 8173, '플랫': 8174, '극지': 8175, '드씨': 8176, '욕심': 8177, '치트키': 8178, '기릿함': 8179, '부지런하다': 8180, '김선진': 8181, '룸파': 8182, '하늘색': 8183, '두껍다': 8184, '무겁다': 8185, '투성이': 8186, '딸바보': 8187, '화장': 8188, '원령공주': 8189, '부작용': 8190, '타겟': 8191, '논픽션': 8192, '똑바르다': 8193, '천지창조': 8194, '누리다': 8195, '밥줘': 8196, '그칭': 8197, '스폰지밥': 8198, '하랫더': 8199, '정진': 8200, '민주주의': 8201, '넘어서다': 8202, '편안': 8203, '잡화': 8204, '중뮤': 8205, '고갈': 8206, '데쟈뷰왔어': 8207, '카드게임': 8208, '꺄학': 8209, '시금치': 8210, '건휘뿡': 8211, '제도': 8212, '쥐약': 8213, '죄명': 8214, '빡리': 8215, '청주': 8216, '모찡': 8217, '느갭': 8218, '개소릴': 8219, '선도': 8220, '성실': 8221, '구한': 8222, '김원중': 8223, '텐션': 8224, '나왜케': 8225, '빵터지다': 8226, '낰': 8227, '손자병법': 8228, '믕뭐': 8229, '압화해둠': 8230, '아잉': 8231, '어지간하다': 8232, '범운': 8233, '폐부': 8234, '은밀': 8235, '도나': 8236, '븐놈': 8237, '명과': 8238, '쪼구기': 8239, '포타': 8240, '조명': 8241, '북구': 8242, '금산': 8243, '재불': 8244, '요화': 8245, '당황': 8246, '스럽게': 8247, '야외': 8248, '취침': 8249, '당첨': 8250, '정년': 8251, '퇴임': 8252, '잇엇어': 8253, '체리렛판': 8254, '상설': 8255, '시체놀이': 8256, '괜찬': 8257, '아난': 8258, '유기': 8259, '법대': 8260, '늘어지다': 8261, '후바': 8262, '개막': 8263, '마츠코': 8264, 'ㅜㅋ': 8265, '감쟈싹': 8266, '헤브': 8267, '꼬라박': 8268, '랏': 8269, '채보': 8270, '드하': 8271, '보름달': 8272, '키러': 8273, '스샷': 8274, '널캐': 8275, '보시락': 8276, '개쩖': 8277, '개기엽닥우': 8278, '인민재판': 8279, '데쟈뷰': 8280, '리벤저스': 8281, '스킨': 8282, '플릭': 8283, '이음': 8284, '이징': 8285, '분석': 8286, '근육': 8287, '햄찌': 8288, '날이넹': 8289, '비건': 8290, '빛나다': 8291, '유입': 8292, '기일': 8293, '텐': 8294, '잉좆': 8295, '결과물': 8296, '페잉': 8297, '전영': 8298, '이실': 8299, '글치': 8300, '정복': 8301, '네이버': 8302, '밧지': 8303, '로다': 8304, '놀람': 8305, '사고방식': 8306, '물살': 8307, '썬칩': 8308, '역쉬국': 8309, '젠떡열': 8310, '인트': 8311, '검삭': 8312, '순삭': 8313, '과천': 8314, 'ㅠㅠㅠㅠㅠㅠㅠㅠㅠㅠ': 8315, '가깝다': 8316, '샏님': 8317, '국감': 8318, '제본': 8319, '훗내일스': 8320, '퐝린씨': 8321, '트메': 8322, '직장인': 8323, '식감': 8324, '뛰어나다': 8325, '수필집': 8326, '오르가즘': 8327, '열시미': 8328, '슈게이징': 8329, '손민수': 8330, '노농': 8331, '자알': 8332, '안봣냐': 8333, '왁싱': 8334, '복원': 8335, '좀해': 8336, '에휴어째': 8337, '싸지르다': 8338, '후니': 8339, '정윤희': 8340, '파란색': 8341, '갣': 8342, '서여': 8343, '감염': 8344, '두께': 8345, '글쎄': 8346, '데미안': 8347, '총균쇠': 8348, '삘받아': 8349, '이병훈': 8350, '항아리': 8351, '견찰': 8352, '데이트': 8353, '찡얼찡얼': 8354, '보정': 8355, '소년': 8356, '탐정': 8357, '김전일': 8358, '게임화': 8359, '생리대': 8360, '화형': 8361, '진창': 8362, '파레트': 8363, '공홈': 8364, '자캑각': 8365, '나일': 8366, '영동': 8367, '에놀': 8368, '체고': 8369, '보냇': 8370, '구심': 8371, '헤엎': 8372, '영칠': 8373, '섭종': 8374, '감축': 8375, '증후군': 8376, '비왓는데': 8377, '미츠': 8378, '히데': 8379, '다키키': 8380, '애깅들': 8381, '떨기': 8382, '호전': 8383, '광': 8384, '화전': 8385, '양면': 8386, '상의': 8387, '안옴': 8388, '명왕': 8389, '방장': 8390, '통진': 8391, '쿵쾅': 8392, '일본인': 8393, '자유당': 8394, '프라': 8395, '우드': 8396, '노랑': 8397, '뉴룰': 8398, '에숙파': 8399, '아앆': 8400, '꼰머': 8401, '우웩': 8402, '야무지다': 8403, '서영이': 8404, '동강': 8405, '라오': 8406, '만고': 8407, '다시없다': 8408, '성군': 8409, '닏': 8410, '녀옷': 8411, '정유': 8412, '라가': 8413, '혜경궁': 8414, '디아블로': 8415, '합': 8416, '알곡': 8417, '심녀': 8418, '부패': 8419, '푸른밤': 8420, '위스키': 8421, '석방': 8422, '깨트려': 8423, '용도': 8424, '연좌제': 8425, '우승상금': 8426, '어징': 8427, '수호': 8428, '특유': 8429, '승석': 8430, '이재띵': 8431, '노미': 8432, '호수': 8433, '핵핵': 8434, '홍카': 8435, '오도': 8436, '알구': 8437, '파드득': 8438, '삐': 8439, '훼손': 8440, '졸업': 8441, '혼돈': 8442, '세구': 8443, '순회': 8444, '안봣어시': 8445, '정조대': 8446, '차고': 8447, '밝다': 8448, '임마': 8449, '딜도': 8450, '자위': 8451, '안키': 8452, '북도': 8453, '오대': 8454, '백과사전': 8455, '튜버': 8456, '썸네일': 8457, '상더': 8458, '책장': 8459, '임종이': 8460, '더미': 8461, '힙스터': 8462, '함평': 8463, '곱상하다': 8464, '척임': 8465, '에게로': 8466, '배포': 8467, '정은경': 8468, '버젼': 8469, '앨리스': 8470, '라그나로크': 8471, 'ㄴㅋ': 8472, '금욕': 8473, '수도권': 8474, '출판사': 8475, '북스': 8476, '경제': 8477, '공수': 8478, '구역': 8479, '멧': 8480, '외캐': 8481, '옵머': 8482, '본당': 8483, '왓다안왓다': 8484, '자장자장': 8485, '챠키': 8486, 'ㅋㅆ': 8487, '서귀포': 8488, '스브스': 8489, '리미트': 8490, '에취': 8491, '쩍벌': 8492, '우우욱': 8493, '괴웃김': 8494, '한킬한남킬': 8495, '버밀리온': 8496, '전도': 8497, '성찬': 8498, '타로': 8499, '얼릉': 8500, '후다닥': 8501, '해치다': 8502, '라니까요': 8503, '소유자': 8504, '가증': 8505, '작자': 8506, '걸어가다': 8507, '파스모': 8508, '곸': 8509, '음식': 8510, '해탈': 8511, '배우': 8512, '해석': 8513, '보넼': 8514, '느금마': 8515, '얄밉다': 8516, '근혜': 8517, '복불': 8518, '행자': 8519, '하렘': 8520, '델리': 8521, '고다': 8522, '보스': 8523, '하다못해': 8524, '슬푸': 8525, '오키나와': 8526, '주된': 8527, 'ㅋㅋㅋㅠㅠㅠㅠ': 8528, '닌해': 8529, '느징': 8530, '책자': 8531, '야시': 8532, '양산': 8533, '곱': 8534, '뇌물': 8535, '보셧길': 8536, '하십뢰까': 8537, '토익': 8538, '인기투표': 8539, '서칭': 8540, '분하다': 8541, '재밌뇨': 8542, '머거다': 8543, '셔누': 8544, '본업': 8545, '맡기다': 8546, '폭망': 8547, '각인': 8548, '주경야독': 8549, '살빼다': 8550, '일부': 8551, '팀합': 8552, '키배': 8553, '용인대': 8554, '정이': 8555, '태욤': 8556, '더기': 8557, '엽답': 8558, '햇데': 8559, '카악': 8560, '더러': 8561, '움집': 8562, '트랜스': 8563, '두리': 8564, '닝': 8565, '기까지': 8566, '버닝중': 8567, '티엠아': 8568, '공중': 8569, '제비': 8570, '메르스': 8571, '중추': 8572, '빈유': 8573, '콘도': 8574, '대니': 8575, '쳣다': 8576, '그닥': 8577, '사악하다': 8578, '설훈': 8579, '후방': 8580, '털보': 8581, '반지하': 8582, '와스': 8583, '이만': 8584, '유토': 8585, '정숙': 8586, '외계인': 8587, '원우': 8588, '막내': 8589, '망상': 8590, '이준': 8591, '해주셍': 8592, '애니쥕겫거': 8593, '옷맟상': 8594, '디얍': 8595, '터득': 8596, '감점': 8597, '팍팍': 8598, '얼굴인식': 8599, '징거': 8600, '풀싸롱': 8601, '회피': 8602, '여깄습니': 8603, '바이브레이터': 8604, '파생': 8605, '원님': 8606, '속도': 8607, '람지': 8608, '헤드': 8609, '오세훈': 8610, '댜': 8611, '머임': 8612, 'ㅠㅋㅋㅋ': 8613, '하트': 8614, '왜깨졋어': 8615, '반모': 8616, '습니까': 8617, '걸레': 8618, '토픽': 8619, 'ㅠㅋ': 8620, '불쾌하다': 8621, '골짜기': 8622, '팍': 8623, '더위': 8624, '나티': 8625, '시뮬레이터': 8626, '정리정돈': 8627, '쇼핑': 8628, '총총': 8629, '부도': 8630, '의자': 8631, '림': 8632, '인스타그램': 8633, '각종': 8634, '이권': 8635, '사업': 8636, '건축': 8637, '토목': 8638, '조경': 8639, '하해': 8640, '헤어스타일': 8641, '떡하니': 8642, '어색': 8643, '정은아': 8644, '귀하다': 8645, '즐거움': 8646, '테디': 8647, '색근': 8648, '후우욱': 8649, '쿠치짱': 8650, '김철민': 8651, '임나': 8652, '안봣다': 8653, '도둑질': 8654, '틀키': 8655, '반성은': 8656, '헛산': 8657, '섹계': 8658, '유괴': 8659, '아뇽': 8660, '나빠지다': 8661, '건우': 8662, '사조': 8663, '클린': 8664, '한동훈': 8665, '시디': 8666, '다임': 8667, 'ㅂㄷㅂㄷㅂㄷ': 8668, '크으': 8669, '조조': 8670, '베이비': 8671, '기다렷': 8672, '재밋습니': 8673, '삘와': 8674, '초때봣다': 8675, '멍텅': 8676, '장기': 8677, '회로': 8678, '늘엇네': 8679, '엠비티아이': 8680, '없뵤': 8681, '쇠': 8682, '웟': 8683, '비자': 8684, '본즈': 8685, '백서': 8686, '스페셔루': 8687, '포장': 8688, '플스': 8689, '재테크': 8690, 'ㅏㅂㄹ': 8691, '번임': 8692, 'ㅡㅡㅅㅂ': 8693, '펑빝': 8694, '가담': 8695, '항설': 8696, '난중': 8697, '서수': 8698, '이두': 8699, '마태': 8700, '길거리': 8701, '치킨홀스': 8702, '웅넷': 8703, '충무': 8704, '아이즈': 8705, '스케치북': 8706, '태연': 8707, '감자': 8708, '러프': 8709, '오제': 8710, '이한세': 8711, '플레인': 8712, '삼촌': 8713, '첨봤늠데': 8714, '구현': 8715, '보름': 8716, '으론': 8717, '사정': 8718, '일케': 8719, '직장': 8720, '모에': 8721, '오금': 8722, '저림': 8723, '노조': 8724, '토지': 8725, '구획': 8726, '이서': 8727, '스냅샷': 8728, '왕구': 8729, '궁예': 8730, '환자': 8731, '이키': 8732, '왁': 8733, '극우': 8734, '개신교': 8735, '겡': 8736, '두꺼비': 8737, '연희동': 8738, '자택': 8739, '군데': 8740, '치료': 8741, '콜바넴': 8742, '속편': 8743, '아이유': 8744, '일텐데': 8745, '뿐듯': 8746, '대리': 8747, '엩': 8748, '웅앵웅': 8749, '마루': 8750, '우승자': 8751, '매양': 8752, '일부러': 8753, '맘눌뎀': 8754, '업보': 8755, '불어': 8756, '중간고사': 8757, '검색어': 8758, '영부인': 8759, '가루': 8760, '의하다': 8761, '여수시': 8762, '머리스타일': 8763, '신예': 8764, '인질': 8765, '다봣다': 8766, '사비': 8767, '께빵': 8768, '명치': 8769, '개판': 8770, '시프': 8771, '박재범': 8772, '핫초코': 8773, '보는듈': 8774, '합쭉': 8775, '다합': 8776, '협상': 8777, '커마': 8778, '물외': 8779, '바서': 8780, '두르다': 8781, '침묵': 8782, '기백': 8783, '작작': 8784, '이러다가': 8785, '언팔': 8786, '문소리': 8787, '매체': 8788, '기고': 8789, '개원': 8790, '뀔때': 8791, '북북': 8792, '거덩': 8793, '수파': 8794, '문책': 8795, '단공': 8796, '말갈': 8797, '부딪히다': 8798, '마린룩': 8799, '이빨': 8800, '해물찜': 8801, '후르츠바스켓': 8802, '관동': 8803, '야속': 8804, '등쉰': 8805, '육갑': 8806, '스요일스': 8807, '하셧내': 8808, '봣다': 8809, '시뮬레이션': 8810, '표지': 8811, '간절하다': 8812, '소울이터': 8813, '킬개': 8814, '팬데믹': 8815, '호날두': 8816, '알도': 8817, '화신': 8818, '저장': 8819, '막춤': 8820, '히어': 8821, '법좀': 8822, '피타': 8823, '보임': 8824, '문화': 8825, '조명하': 8826, '개쇳키': 8827, '발바닥': 8828, '지지다': 8829, '알걸': 8830, '헛참': 8831, '부루마블': 8832, '베팅': 8833, '잃엇어': 8834, '파보': 8835, '지껄이다': 8836, '단장': 8837, '짝퉁': 8838, '꼬지보리': 8839, '의아': 8840, '광양시': 8841, 'ㅃㄹ': 8842, '바부': 8843, '알피': 8844, '한글패치': 8845, '더테일': 8846, '암캐': 8847, '봥': 8848, '버송': 8849, '담당': 8850, '몬소리': 8851, '여태': 8852, 'ㅋㅋㅋㅋㅋㅋㅋㅋㅋㅋㅋㅋㅋㅋㅋㅋ': 8853, '텡': 8854, '마무리': 8855, '레바': 8856, '나치': 8857, '삼박자': 8858, '야구장': 8859, '이정재': 8860, '재밋당': 8861, '님두라': 8862, '정수현': 8863, '수기': 8864, '골드': 8865, '데이비슨': 8866, '나유타': 8867, '반려': 8868, '알렌': 8869, '흉가': 8870, '보내섯': 8871, '오느른': 8872, '절락': 8873, '오래되다': 8874, '꼽낵임': 8875, '런': 8876, '인펙티드': 8877, '머쉬룸': 8878, '몰라쯔꾸르': 8879, '온당': 8880, '청원': 8881, '발견': 8882, '콤퓨타': 8883, '블블햇어용빠잉': 8884, '마시멜로': 8885, '헤드셋': 8886, '기생': 8887, '공시가격': 8888, '윗': 8889, '무리': 8890, '스케이트': 8891, '쏙독새': 8892, '로벨': 8893, '쩝쩝': 8894, '한단': 8895, '중원구': 8896, '날죽': 8897, '벗겨지다': 8898, '다물다': 8899, '치루게됨': 8900, '헬로월드': 8901, '깨어나다': 8902, '떳떳하다': 8903, '나사렛': 8904, '쫒다': 8905, '닌텐도': 8906, '아흐흑': 8907, '쩌': 8908, '합법': 8909, '미샤': 8910, '삼성': 8911, '밀림': 8912, '키쿠': 8913, '이몸': 8914, '이예': 8915, '부녀': 8916, 'ㅂㄱㅎ': 8917, '빨린': 8918, '세비지': 8919, '엘베': 8920, '의업': 8921, '드래곤볼': 8922, '여기저기': 8923, '선형': 8924, '가령': 8925, '놀때': 8926, '또리': 8927, '쎅끈빠': 8928, '끈': 8929, '망언': 8930, '실수': 8931, '비사': 8932, '꽃뱀': 8933, '억눌리다': 8934, '폭발': 8935, '어미': 8936, '구구': 8937, '띵가띵가': 8938, '애리': 8939, '나용': 8940, '러러휜': 8941, '동기': 8942, '오랄': 8943, '즘': 8944, '휴닝': 8945, '온격': 8946, '돌림': 8947, '밀크': 8948, '스네이크': 8949, '이십': 8950, '분스': 8951, '호주': 8952, '멍뭉이': 8953, '불과하다': 8954, 'ㅎㅎㅎㅎㅎㅎㅎ': 8955, '뿌듯하다': 8956, '런던': 8957, '쓴다': 8958, '월말': 8959, '골카': 8960, '만료': 8961, '플레이어': 8962, '개별': 8963, '플레디스': 8964, '악보': 8965, '입히다': 8966, '옺': 8967, '일컫다': 8968, '틴더': 8969, '되찾다': 8970, '샤워': 8971, '뽀송하다': 8972, '보깉': 8973, 'ㅠㅜㅠㅠ': 8974, '제멋대로': 8975, '트랙': 8976, '스카': 8977, '넓다': 8978, '직하다': 8979, '외치다': 8980, '케익': 8981, '로망': 8982, '쑥': 8983, '비밀스럽다': 8984, '올랴쥬세': 8985, '보랬': 8986, '알딸딸': 8987, '군필': 8988, '졍호뎏': 8989, '액': 8990, '삭았': 8991, '눈매': 8992, '미소': 8993, '이왕': 8994, '날림': 8995, '비율': 8996, '물고기': 8997, '중구': 8998, '난방': 8999, '만스': 9000, '소유': 9001, '청학동': 9002, '개빡': 9003, '대갈': 9004, '고시생': 9005, '베츙': 9006, '떨구다': 9007, '구형': 9008, '팔다리': 9009, '부착': 9010, '뻐드': 9011, '팔고': 9012, '좃됏다': 9013, '치엿썽': 9014, '오늘이': 9015, '내의': 9016, '헤스': 9017, '성진': 9018, '프세카': 9019, '도장': 9020, '찍기': 9021, '잆니': 9022, '갱뱅': 9023, '숨쉬기': 9024, '취민데': 9025, '초기': 9026, '수량': 9027, '인쇄': 9028, '남초': 9029, '마마도': 9030, '팡': 9031, '돼브렀어': 9032, '사복': 9033, '두레': 9034, '박영수': 9035, '로열': 9036, '튤립': 9037, '죽갯': 9038, '배밋': 9039, '발미': 9040, '예능': 9041, '마치다': 9042, '뤠알': 9043, '범규': 9044, '와카': 9045, '케루': 9046, '나오넹': 9047, '부서지다': 9048, '해진': 9049, '랰': 9050, '이동욱': 9051, '큐티': 9052, '차악': 9053, '화작': 9054, '슉샥샥': 9055, '엮': 9056, '류인챠': 9057, '와타시': 9058, '나아지다': 9059, '몽': 9060, '다야': 9061, '개존잼잉': 9062, '사진사': 9063, '치명': 9064, '단점': 9065, '에필로그': 9066, '님입니': 9067, '흐음': 9068, 'ㄴㅔ': 9069, '구구단': 9070, '이서은': 9071, '판박이': 9072, '양심': 9073, '부여잡다': 9074, '오메가': 9075, '임산부': 9076, '입맛': 9077, '도배': 9078, '싸이': 9079, '달개': 9080, '물쿠': 9081, '구북구': 9082, '가발': 9083, '부품': 9084, '휴면': 9085, '불륜': 9086, '짓거리': 9087, '키킼': 9088, '쟤넨': 9089, '벌겋다': 9090, '앰피비': 9091, '흥흥': 9092, '케어': 9093, '낙원': 9094, '쪼로': 9095, '접수': 9096, '목호': 9097, '가제': 9098, '첫키스': 9099, '축하파티': 9100, '더힐루': 9101, '집관': 9102, '조아영': 9103, '진즉': 9104, '오랜만': 9105, '안봉': 9106, '정찰': 9107, '샤크': 9108, '그러나': 9109, '키로': 9110, '인왕': 9111, '베인': 9112, '도잉': 9113, '백퍼': 9114, '위턴': 9115, '기요': 9116, '불매운동': 9117, '주도하다': 9118, '한쇼': 9119, '남작': 9120, '정성': 9121, '찬': 9122, '치고는': 9123, '도디': 9124, '도스': 9125, '밭': 9126, '랄노': 9127, '바바라': 9128, '입음': 9129, '개색기': 9130, '튀어나오다': 9131, '동료': 9132, '김호중': 9133, '백전백승': 9134, '부심': 9135, '벨트': 9136, '이준석': 9137, '삽': 9138, '외모': 9139, '예절': 9140, '삼국지': 9141, '스포츠토토': 9142, '콩쥐': 9143, '댝': 9144, 'ㅇㅇㅇㅇㅇㅇㅇㅇ': 9145, '마주': 9146, '레즈비언': 9147, '잔혹하다': 9148, '왜훅': 9149, '태안군': 9150, '전라북도': 9151, '전주시': 9152, '공범': 9153, '엇으': 9154, '스우파보짘': 9155, '만치': 9156, '참여정부': 9157, '비난': 9158, '우씨': 9159, '갠찮겟어': 9160, '아부지': 9161, '업계': 9162, '맨투맨': 9163, '신저': 9164, '미금역': 9165, '출구': 9166, 'ㅠㅜㅠㅜㅠㅜㅠ': 9167, '자살토끼': 9168, '쟁이': 9169, '고비': 9170, '줄좀': 9171, '이재희': 9172, '픽함': 9173, '미용실': 9174, '누굴까': 9175, 'ㅗㅗ': 9176, '영역': 9177, '내려가다': 9178, '뭐노': 9179, '재밋노': 9180, '돔': 9181, '리메이크': 9182, '밋슴': 9183, '돌돌': 9184, '갗애': 9185, '정싱못': 9186, '음신': 9187, '빨깽이쌔끼': 9188, '변태': 9189, '솜': 9190, '스탠바이': 9191, '얼죽': 9192, '투데이': 9193, '기상': 9194, '천외': 9195, '관람': 9196, '헤르미온느': 9197, '나주시': 9198, '입국': 9199, '제한': 9200, '도위': 9201, 'ㄷㅅ': 9202, '거상': 9203, '내게로': 9204, '사쥬새': 9205, '황씨': 9206, '금단현상': 9207, '힘차다': 9208, '겁': 9209, '니당다': 9210, '탈좀': 9211, '흡': 9212, '짬': 9213, '민망하다': 9214, '깨끗이': 9215, '나아가다': 9216, '윤지': 9217, '밑바닥': 9218, '팬티': 9219, '작렬': 9220, '사람인': 9221, '크레용': 9222, '빗쭈': 9223, '로미로미': 9224, '남구': 9225, '개극혐함': 9226, '벤츠': 9227, '혐혼': 9228, '서산시': 9229, '시청자': 9230, '바이든': 9231, '만약': 9232, '버거': 9233, '다과': 9234, '번외': 9235, '수제비': 9236, '차이다': 9237, '쿰척쿰': 9238, '중국어': 9239, '마이키': 9240, '사도': 9241, '일산동구': 9242, '철회': 9243, '증인': 9244, '요하': 9245, '인재': 9246, '사려': 9247, '품절': 9248, '푸슝': 9249, '인셀': 9250, '붗인데': 9251, '울컥': 9252, '리징': 9253, '케이스': 9254, '극히': 9255, 'ㄷㄷㄷㄷ': 9256, '환': 9257, '콜라': 9258, '종특': 9259, '솔직': 9260, '감다': 9261, '쓸랭': 9262, '성해': 9263, '김종국': 9264, '제외': 9265, '언듀책': 9266, '히힉': 9267, '재력': 9268, '없슴다': 9269, '랖텔': 9270, 'ㅎㄸ': 9271, '북두': 9272, '장흥군': 9273, '보투': 9274, '철판': 9275, '티부': 9276, '미췬': 9277, '시냐': 9278, '작고': 9279, '이아': 9280, '개명': 9281, '확': 9282, '지하': 9283, '대디': 9284, '월급쟁이': 9285, '런닝': 9286, 'ㅁㅐㄴ': 9287, '태뇽씨': 9288, '단추': 9289, '모션': 9290, '참담하다': 9291, '때영': 9292, '오니': 9293, '또뭐': 9294, '기내': 9295, '모멘트': 9296, '믓찌다구': 9297, '반항': 9298, '선진': 9299, '병영': 9300, '꼬부랑하다': 9301, '장위동': 9302, '골점': 9303, '티제': 9304, '광팬': 9305, '뱃지': 9306, '고발': 9307, '호다닥': 9308, '숩': 9309, '넵워스': 9310, '녤': 9311, '티저': 9312, '수류탄': 9313, '적통': 9314, '조민기': 9315, '휘수': 9316, '무사': 9317, '소치': 9318, '크기': 9319, '화남': 9320, '음뭐': 9321, '판정': 9322, '길바': 9323, '기레기': 9324, '추측': 9325, '코스튬': 9326, '문어': 9327, '엄지': 9328, '검지': 9329, '여거': 9330, '하묜': 9331, '드드드드': 9332, '형수': 9333, '쌍욕': 9334, '페르마타': 9335, '이탈리아': 9336, '칭': 9337, '구생': 9338, '길뻔': 9339, '잉오': 9340, '행앗': 9341, '련': 9342, '땨': 9343, '압니': 9344, '리버티': 9345, '템포': 9346, '합격': 9347, '봉사': 9348, '부들': 9349, '경비실': 9350, '늙다': 9351, '따리': 9352, '권성동': 9353, '김연경': 9354, '터뜨리다': 9355, '완주': 9356, '일괄': 9357, '겜죽겜살': 9358, '특촬': 9359, '마침': 9360, '부작됏어': 9361, '냐겨': 9362, 'ㄱㅅㄲ': 9363, '여유만만': 9364, '경악': 9365, '매칭': 9366, '오염시키다': 9367, '접대': 9368, '같이보쟈': 9369, '시차': 9370, '무의미': 9371, '보자기': 9372, '머햐': 9373, '야니': 9374, '대변': 9375, '하고는': 9376, '이돈': 9377, '토크': 9378, '유체이탈': 9379, '유메': 9380, '줫': 9381, '리언': 9382, '면회': 9383, '튕겨냈어': 9384, '구멍': 9385, '관리자': 9386, '락파': 9387, '쑈햇댜': 9388, '뤁틸': 9389, '꼬셔': 9390, '읍읍': 9391, '인외': 9392, '말나': 9393, '쩌겟': 9394, '성재기': 9395, '면접': 9396, '김소현': 9397, '스캇': 9398, '주객': 9399, '김또잉': 9400, '파란': 9401, '덜다': 9402, '구오': 9403, '칼잼민': 9404, '흥얼거리다': 9405, '대기업': 9406, '대공': 9407, '놀앟어': 9408, '민트': 9409, '플라시보': 9410, '골동': 9411, '사기꾼': 9412, '모리': 9413, '남가딘': 9414, '쑻': 9415, '브린': 9416, '그레이스': 9417, '펌': 9418, '잡책': 9419, '중얼중얼': 9420, '재택': 9421, '개인': 9422, '구좌읍': 9423, '떠돌다': 9424, '상징': 9425, '돌겜': 9426, '그리핀도르': 9427, '패러': 9428, '부요': 9429, '착석': 9430, '권유': 9431, '거너': 9432, '혼쭐내': 9433, '하넹': 9434, '사드': 9435, '죄악': 9436, '데미지': 9437, '간장': 9438, '결함': 9439, '요란하다': 9440, '살때': 9441, 'ㅅㄷ': 9442, '까다롭다': 9443, '부메랑': 9444, '사먹다': 9445, '팝픈': 9446, '일벌': 9447, '후짐': 9448, '하뤤님': 9449, '전뇌': 9450, '코일': 9451, '대서': 9452, 'ㅡㅠ': 9453, '화풍': 9454, '보령시': 9455, '재충': 9456, '임원': 9457, '령': 9458, '공감': 9459, '어깨': 9460, '견제': 9461, 'ㅜㅜㅅㅂ': 9462, '또박또박': 9463, '평균값': 9464, '감안': 9465, '로진': 9466, '남원': 9467, '냐님': 9468, '펨돔': 9469, '재밋엇던': 9470, '디오라마': 9471, '수주': 9472, '귀첞': 9473, '엽서': 9474, '회용': 9475, '낵책': 9476, '야드': 9477, '디어': 9478, '다애': 9479, '유지니': 9480, '나방': 9481, '후디후디': 9482, '내겐': 9483, '인자': 9484, '펫': 9485, '얜': 9486, '티켓': 9487, '역적': 9488, '빙기': 9489, '퇴치': 9490, '강아지풀': 9491, '노는언니': 9492, '주시': 9493, '담천': 9494, '꾸벅': 9495, '원인': 9496, '타이': 9497, '스님': 9498, '털썩': 9499, '한티역': 9500, '초월': 9501, '궤': 9502, '정발': 9503, '목표': 9504, '전기장판': 9505, '가시다': 9506, '소방대': 9507, '안마': 9508, '고본': 9509, '오돌오돌': 9510, '돌뼈': 9511, '산이': 9512, '다림질': 9513, '급구': 9514, '솩쿤': 9515, '달토': 9516, '풍향': 9517, '받아들이다': 9518, '넷파': 9519, '부터는': 9520, '조금씩': 9521, '헤헷': 9522, '놈드': 9523, '대덕': 9524, '로밀': 9525, '한남잇엇어': 9526, '페퍼': 9527, '마인크래프트': 9528, '고촬': 9529, '창문': 9530, '위원회': 9531, '왠': 9532, '종뷔': 9533, '세면': 9534, '동심파괴': 9535, '비핵화': 9536, '알쎀': 9537, '민생': 9538, '파탄': 9539, '미니어쳐': 9540, '새까맣다': 9541, '그려지다': 9542, '할미': 9543, '시밬': 9544, '좀더': 9545, '필요': 9546, '짝': 9547, '여우비': 9548, '재탕하다': 9549, '패륜': 9550, '발우': 9551, '리집': 9552, '뻑': 9553, '빽가': 9554, '거처': 9555, '깔끔하다': 9556, '세이쥬로': 9557, '신타로': 9558, '디그': 9559, '레이디': 9560, '풍속': 9561, '이지방': 9562, '카페인': 9563, '마시다': 9564, '곽산': 9565, '젊음': 9566, '열정': 9567, '만들어지다': 9568, '픈데': 9569, '잠기다': 9570, '진쩌': 9571, '뒹굴': 9572, '역량': 9573, '녹': 9574, '동사': 9575, '꼬아놓': 9576, '상쾌하다': 9577, '괓추': 9578, '꺆스': 9579, '강진': 9580, '첫사랑': 9581, '아니랬': 9582, '헤나': 9583, '빨갱': 9584, '류스': 9585, '감바': 9586, '레루': 9587, '은씨': 9588, '발다': 9589, '아보': 9590, '츠적어둿': 9591, '자시다': 9592, '방식': 9593, '봐쌍녕': 9594, '코미디': 9595, '승가': 9596, '단위': 9597, '피디': 9598, 'ㅁㅎㅇㅋ': 9599, '무추': 9600, '거림': 9601, '자기애': 9602, '인격장애': 9603, '라이어': 9604, '내려놓음': 9605, '대깨빠심': 9606, '질린다': 9607, '뱅크': 9608, '와플': 9609, '이하이': 9610, '종영': 9611, '상앙': 9612, '래프팅': 9613, '할떄': 9614, '릴게': 9615, '투맨': 9616, '아우': 9617, '잼깨': 9618, '비니': 9619, '스마': 9620, '인겜': 9621, '나왓나보': 9622, '오만': 9623, '장학금': 9624, '으스스하다': 9625, '장임': 9626, '고려청자': 9627, '외관': 9628, '방습': 9629, '가일': 9630, '워치': 9631, '정지': 9632, '거지같다': 9633, '자게': 9634, '전가': 9635, '펨코': 9636, '직전': 9637, '머글': 9638, '겜삭': 9639, '해쥬': 9640, '이잉': 9641, '세트': 9642, '정겹다': 9643, '버니': 9644, '섹후땡': 9645, '박성진': 9646, '패치': 9647, '삭제': 9648, '노후': 9649, '대비': 9650, '현지': 9651, '밀랍인형': 9652, '힐러': 9653, '투영': 9654, '수집': 9655, '행정': 9656, '컹스입니': 9657, 'ㅅㅂㅅㅂ': 9658, '정윤': 9659, '강백호': 9660, '날기': 9661, '달료': 9662, '깃털': 9663, '주샄': 9664, '표업': 9665, '뎃': 9666, '람쥐': 9667, '시트': 9668, '름님': 9669, '종류': 9670, '폴아웃': 9671, '역함': 9672, '쌍벽': 9673, '중하': 9674, '시미즈': 9675, '취준': 9676, '참가자': 9677, '베요네타': 9678, '뒷걸음': 9679, '남앟': 9680, '끼약': 9681, '슈프림': 9682, '시픔': 9683, '유포터블': 9684, '테런': 9685, '고수': 9686, '기해': 9687, '국짐척결': 9688, '올인': 9689, '만자': 9690, '장인': 9691, '페어': 9692, '퇴진': 9693, '안햇숴': 9694, '풀셋': 9695, '곴': 9696, '씹창롬': 9697, '겅': 9698, '넴': 9699, '유령': 9700, '색출': 9701, '손글씨': 9702, '확장': 9703, '상수': 9704, '애하': 9705, '이이': 9706, '환멸': 9707, '비겁하다': 9708, '지나치다': 9709, '전체': 9710, '시청률': 9711, '철권': 9712, '불리': 9713, '배터': 9714, '리퍼': 9715, 'ㅜㅅ': 9716, '즈샤': 9717, 'ㅑㅂㅜㅠ': 9718, '웩': 9719, '헤라': 9720, 'ㅅㅂㅋㅋㅋ': 9721, '꿰뚫다': 9722, '인겜컷': 9723, '만족하다': 9724, '찡긋': 9725, '콘지': 9726, '옶잔': 9727, '열두': 9728, '베터': 9729, '대학교': 9730, '버혀': 9731, '젤귀': 9732, '꽉꽉': 9733, '밀양시': 9734, '페탐썻다': 9735, '왤케한남됨': 9736, '오락': 9737, '이문': 9738, '와락': 9739, '광팬임': 9740, '청담': 9741, '중고나라': 9742, '이주': 9743, '단호': 9744, '박치': 9745, '케랑': 9746, '어따': 9747, '영혼': 9748, '쌍둥이': 9749, '우의': 9750, '야키소바빵': 9751, '넴넴': 9752, '지대': 9753, '세례명': 9754, '티모테오': 9755, '실기': 9756, '그야': 9757, '유치원': 9758, '캐캐체': 9759, '기술': 9760, '사부': 9761, '스시': 9762, '요지': 9763, '화붓': 9764, '채원': 9765, '일꾼': 9766, '스와핑': 9767, '홍빈': 9768, '우리동네': 9769, '을사오적': 9770, '세계관': 9771, '계세': 9772, '참수': 9773, '시급하다': 9774, '일일': 9775, '노인': 9776, '악기': 9777, '소사동': 9778, '레베카': 9779, '저렙': 9780, '순수하다': 9781, '주인': 9782, 'ㅇㅑ': 9783, '이재': 9784, '늪': 9785, '선글라스': 9786, '어린이집': 9787, '준비물': 9788, '일기': 9789, '짇': 9790, '배웟': 9791, '아메': 9792, '환가': 9793, '갱생': 9794, '동의': 9795, 'ㄲㅈ': 9796, '상속': 9797, '가엽': 9798, '케알': 9799, '스마타': 9800, '픽사': 9801, '앆': 9802, '흑백': 9803, '라테일': 9804, '직스': 9805, '킵해둔': 9806, '엑스박스': 9807, '다치다': 9808, '객관': 9809, '플릿': 9810, '네야': 9811, '울면': 9812, '졵': 9813, '퇴폐': 9814, '독약': 9815, '묘아': 9816, '관념': 9817, '장단': 9818, '자매': 9819, '다이에이': 9820, '럭비': 9821, '로나': 9822, '안뇽': 9823, '절실': 9824, '합리': 9825, '러팅': 9826, '자존감': 9827, '츠테일': 9828, '에터': 9829, '방관': 9830, '방수': 9831, '가평': 9832, '햇음': 9833, '긍데': 9834, '기범': 9835, '망신': 9836, 'ㅇㅋ': 9837, '카밍': 9838, '쉐': 9839, '남극': 9840, '빡쎄': 9841, '폭하': 9842, 'ㅋㅋㅋㅋㅋㅋㅋㅋㅋㅋㅋㅋ': 9843, '갈': 9844, '신혼부부': 9845, '시시하다': 9846, '발안': 9847, '이쯤': 9848, '환수': 9849, '절반': 9850, '한시': 9851, '클로버': 9852, '김현정': 9853, '불멸': 9854, '압점': 9855, '대낮': 9856, '강민호': 9857, '허구연': 9858, '윤희': 9859, '숙': 9860, '지릉': 9861, 'ㅇㄷ': 9862, '혈전': 9863, 'ㅋㅋㅋㅋㅋㅋㅋㅋㅋㅎㅋ': 9864, '머스크': 9865, '멀어지다': 9866, '개사': 9867, '흥미롭다': 9868, '무언가': 9869, '불닭': 9870, '토마토': 9871, '약물': 9872, '샤': 9873, '수레': 9874, 'ㅡㄴ': 9875, '임기': 9876, '회하': 9877, '머신': 9878, '심각': 9879, '코테': 9880, '남코': 9881, '피크닉': 9882, '존버랩': 9883, '개남': 9884, '임본': 9885, '볼겅': 9886, '사리면': 9887, '자존심': 9888, '꺽': 9889, '지정': 9890, '수희': 9891, '몰겄어용': 9892, '툐': 9893, '머선': 9894, '추살붕': 9895, '속임수': 9896, '문탤': 9897}\n"
          ]
        }
      ]
    },
    {
      "cell_type": "code",
      "metadata": {
        "id": "xC_pz3njA91n"
      },
      "source": [
        "import json\n",
        "tokenizer_json = tokenizer.to_json()\n",
        "with open('tokenizer.json', 'w', encoding='utf-8') as f:\n",
        "    f.write(json.dumps(tokenizer_json, ensure_ascii=False))"
      ],
      "execution_count": 30,
      "outputs": []
    },
    {
      "cell_type": "code",
      "metadata": {
        "colab": {
          "base_uri": "https://localhost:8080/"
        },
        "id": "cu4fcFGVPfEJ",
        "outputId": "23538b8d-eb17-4e7c-c6a5-ebd22d5c7ecf"
      },
      "source": [
        "threshold = 3\n",
        "total_cnt = len(tokenizer.word_index)\n",
        "rare_cnt = 0\n",
        "total_freq = 0\n",
        "rare_freq = 0\n",
        "\n",
        "for key, value in tokenizer.word_counts.items():\n",
        "    total_freq = total_freq + value\n",
        "\n",
        "    if(value < threshold):\n",
        "        rare_cnt = rare_cnt + 1\n",
        "        rare_freq = rare_freq + value\n",
        "\n",
        "print('단어 집합(vocabulary)의 크기 :',total_cnt)\n",
        "print('등장 빈도가 %s번 이하인 희귀 단어의 수: %s'%(threshold - 1, rare_cnt))\n",
        "print(\"단어 집합에서 희귀 단어의 비율:\", (rare_cnt / total_cnt)*100)\n",
        "print(\"전체 등장 빈도에서 희귀 단어 등장 빈도 비율:\", (rare_freq / total_freq)*100)"
      ],
      "execution_count": 31,
      "outputs": [
        {
          "output_type": "stream",
          "name": "stdout",
          "text": [
            "단어 집합(vocabulary)의 크기 : 9897\n",
            "등장 빈도가 2번 이하인 희귀 단어의 수: 7131\n",
            "단어 집합에서 희귀 단어의 비율: 72.05213701121552\n",
            "전체 등장 빈도에서 희귀 단어 등장 빈도 비율: 12.562295420365075\n"
          ]
        }
      ]
    },
    {
      "cell_type": "code",
      "metadata": {
        "colab": {
          "base_uri": "https://localhost:8080/"
        },
        "id": "DZ6TQVsJPfGM",
        "outputId": "48918978-7509-46c5-b1da-eab03e196f89"
      },
      "source": [
        "vocab_size = total_cnt - rare_cnt + 1\n",
        "print('단어 집합의 크기 :',vocab_size)"
      ],
      "execution_count": 32,
      "outputs": [
        {
          "output_type": "stream",
          "name": "stdout",
          "text": [
            "단어 집합의 크기 : 2767\n"
          ]
        }
      ]
    },
    {
      "cell_type": "code",
      "metadata": {
        "id": "zh1bixPjPfIP"
      },
      "source": [
        "tokenizer = Tokenizer(vocab_size) \n",
        "tokenizer.fit_on_texts(X_train)\n",
        "X_train = tokenizer.texts_to_sequences(X_train)\n",
        "X_test = tokenizer.texts_to_sequences(X_test)"
      ],
      "execution_count": 33,
      "outputs": []
    },
    {
      "cell_type": "code",
      "metadata": {
        "id": "ouLc3XpcPk6x"
      },
      "source": [
        "mapping = {'hate': 0, 'offensive': 0, 'none': 1}\n",
        "y_train = np.array(list(map(lambda x: mapping[x], train_data['hate'])))\n",
        "y_test = np.array(list(map(lambda x: mapping[x], test_data['hate'])))"
      ],
      "execution_count": 34,
      "outputs": []
    },
    {
      "cell_type": "code",
      "metadata": {
        "id": "o9LzsKWlPk9V"
      },
      "source": [
        "drop_train = [index for index, sentence in enumerate(X_train) if len(sentence) < 1]"
      ],
      "execution_count": 35,
      "outputs": []
    },
    {
      "cell_type": "code",
      "metadata": {
        "colab": {
          "base_uri": "https://localhost:8080/"
        },
        "id": "tjvBUw7EPk_S",
        "outputId": "d93521cb-f147-464b-a85e-23af4d7e5740"
      },
      "source": [
        "X_train = np.delete(X_train, drop_train, axis=0)\n",
        "y_train = np.delete(y_train, drop_train, axis=0)\n",
        "print(len(X_train))\n",
        "print(len(y_train))"
      ],
      "execution_count": 36,
      "outputs": [
        {
          "output_type": "stream",
          "name": "stdout",
          "text": [
            "12756\n",
            "12756\n"
          ]
        },
        {
          "output_type": "stream",
          "name": "stderr",
          "text": [
            "/usr/local/lib/python3.7/dist-packages/numpy/core/_asarray.py:83: VisibleDeprecationWarning: Creating an ndarray from ragged nested sequences (which is a list-or-tuple of lists-or-tuples-or ndarrays with different lengths or shapes) is deprecated. If you meant to do this, you must specify 'dtype=object' when creating the ndarray\n",
            "  return array(a, dtype, copy=False, order=order)\n"
          ]
        }
      ]
    },
    {
      "cell_type": "code",
      "metadata": {
        "colab": {
          "base_uri": "https://localhost:8080/",
          "height": 317
        },
        "id": "JxNACuJpPlBj",
        "outputId": "006c883b-2fe6-4bd8-d661-673aea84f2ff"
      },
      "source": [
        "print('리뷰의 최대 길이 :',max(len(l) for l in X_train))\n",
        "print('리뷰의 평균 길이 :',sum(map(len, X_train))/len(X_train))\n",
        "plt.hist([len(s) for s in X_train], bins=50)\n",
        "plt.xlabel('length of samples')\n",
        "plt.ylabel('number of samples')\n",
        "plt.show()"
      ],
      "execution_count": 37,
      "outputs": [
        {
          "output_type": "stream",
          "name": "stdout",
          "text": [
            "리뷰의 최대 길이 : 17\n",
            "리뷰의 평균 길이 : 4.648949513954218\n"
          ]
        },
        {
          "output_type": "display_data",
          "data": {
            "image/png": "[encoded data removed]",
            "text/plain": [
              "<Figure size 432x288 with 1 Axes>"
            ]
          },
          "metadata": {
            "needs_background": "light"
          }
        }
      ]
    },
    {
      "cell_type": "code",
      "metadata": {
        "id": "O_q4OQbvPlDw"
      },
      "source": [
        "def below_threshold_len(max_len, nested_list):\n",
        "  cnt = 0\n",
        "  for s in nested_list:\n",
        "    if(len(s) <= max_len):\n",
        "        cnt = cnt + 1\n",
        "  print('전체 샘플 중 길이가 %s 이하인 샘플의 비율: %s'%(max_len, (cnt / len(nested_list))*100))"
      ],
      "execution_count": 38,
      "outputs": []
    },
    {
      "cell_type": "code",
      "metadata": {
        "colab": {
          "base_uri": "https://localhost:8080/"
        },
        "id": "SErdwF8PPlGC",
        "outputId": "e3d01e5a-d54a-4b7e-f395-3938747bdaea"
      },
      "source": [
        "max_len = 30\n",
        "below_threshold_len(max_len, X_train)"
      ],
      "execution_count": 39,
      "outputs": [
        {
          "output_type": "stream",
          "name": "stdout",
          "text": [
            "전체 샘플 중 길이가 30 이하인 샘플의 비율: 100.0\n"
          ]
        }
      ]
    },
    {
      "cell_type": "code",
      "metadata": {
        "id": "HuLrvdicPlIf"
      },
      "source": [
        "X_train = pad_sequences(X_train, maxlen = max_len)\n",
        "X_test = pad_sequences(X_test, maxlen = max_len)"
      ],
      "execution_count": 40,
      "outputs": []
    },
    {
      "cell_type": "code",
      "metadata": {
        "id": "2ZzwxhB-PlKh"
      },
      "source": [
        "from tensorflow.keras.layers import Embedding, Dense, LSTM, Bidirectional\n",
        "from tensorflow.keras.models import Sequential\n",
        "from tensorflow.keras.models import load_model\n",
        "from tensorflow.keras.callbacks import EarlyStopping, ModelCheckpoint"
      ],
      "execution_count": 41,
      "outputs": []
    },
    {
      "cell_type": "code",
      "metadata": {
        "id": "12J-y7VdPlM9"
      },
      "source": [
        "model = Sequential()\n",
        "model.add(Embedding(vocab_size, 100))\n",
        "model.add(Bidirectional(LSTM(128, return_sequences=True)))\n",
        "model.add(Bidirectional(LSTM(64)))\n",
        "model.add(Dense(32, activation='relu'))\n",
        "model.add(Dense(16, activation='relu'))\n",
        "model.add(Dense(1, activation='sigmoid'))"
      ],
      "execution_count": 42,
      "outputs": []
    },
    {
      "cell_type": "code",
      "metadata": {
        "id": "uSRsLRedPu2l"
      },
      "source": [
        "es = EarlyStopping(monitor='val_loss', mode='min', verbose=1, patience=4)\n",
        "mc = ModelCheckpoint('best_model.h5', monitor='val_acc', mode='max', verbose=1, save_best_only=True)"
      ],
      "execution_count": 43,
      "outputs": []
    },
    {
      "cell_type": "code",
      "metadata": {
        "colab": {
          "base_uri": "https://localhost:8080/"
        },
        "id": "jwTOYFh5Pu5G",
        "outputId": "891fcc93-14dc-4142-ee21-84aed29c47a3"
      },
      "source": [
        "model.compile(optimizer='rmsprop', loss='binary_crossentropy', metrics=['acc'])\n",
        "history = model.fit(X_train, y_train, epochs=15, callbacks=[es, mc], batch_size=5, validation_split=0.2)"
      ],
      "execution_count": null,
      "outputs": [
        {
          "output_type": "stream",
          "name": "stdout",
          "text": [
            "Epoch 1/15\n",
            "2041/2041 [==============================] - 188s 86ms/step - loss: 0.2656 - acc: 0.9012 - val_loss: 0.1844 - val_acc: 0.8993\n",
            "\n",
            "Epoch 00001: val_acc improved from -inf to 0.89929, saving model to best_model.h5\n",
            "Epoch 2/15\n",
            "  76/2041 [>.............................] - ETA: 2:43 - loss: 0.2330 - acc: 0.9184"
          ]
        }
      ]
    },
    {
      "cell_type": "code",
      "metadata": {
        "id": "o-RUWf2cPu7X"
      },
      "source": [
        "loaded_model = load_model('best_model.h5')\n",
        "print(\"\\n 테스트 정확도: %.4f\" % (loaded_model.evaluate(X_test, y_test)[1]))"
      ],
      "execution_count": null,
      "outputs": []
    },
    {
      "cell_type": "code",
      "metadata": {
        "id": "vfnFjnBf_AN5"
      },
      "source": [
        "loaded_model.save('my_model.h5')"
      ],
      "execution_count": null,
      "outputs": []
    },
    {
      "cell_type": "code",
      "metadata": {
        "id": "REYU33HGPu97"
      },
      "source": [
        "def sentiment_predict(new_sentence):\n",
        "  new_sentence = okt.morphs(new_sentence, stem=True)\n",
        "  new_sentence = [word for word in new_sentence if not word in stopwords]\n",
        "  encoded = tokenizer.texts_to_sequences([new_sentence])\n",
        "  pad_new = pad_sequences(encoded, maxlen = max_len)\n",
        "  score = float(loaded_model.predict(pad_new))\n",
        "  if(score > 0.5):\n",
        "    print(\"{:.2f}% 확률로 해악성이 없는 댓글입니다.\\n\".format(score * 100))\n",
        "  else:\n",
        "    print(\"{:.2f}% 확률로 해악성이 있는 댓글입니다.\\n\".format((1 - score) * 100))"
      ],
      "execution_count": null,
      "outputs": []
    },
    {
      "cell_type": "code",
      "metadata": {
        "id": "8yIp72DAPvAJ"
      },
      "source": [
        "sentiment_predict('')"
      ],
      "execution_count": null,
      "outputs": []
    }
  ]
}