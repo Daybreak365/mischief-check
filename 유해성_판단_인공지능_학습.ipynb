{
  "nbformat": 4,
  "nbformat_minor": 0,
  "metadata": {
    "colab": {
      "name": "유해성 판단 인공지능 학습.ipynb",
      "provenance": [],
      "collapsed_sections": [],
      "authorship_tag": "ABX9TyOHYgilP+xMht6SFWWJBg8/",
      "include_colab_link": true
    },
    "kernelspec": {
      "display_name": "Python 3",
      "name": "python3"
    },
    "language_info": {
      "name": "python"
    }
  },
  "cells": [
    {
      "cell_type": "markdown",
      "metadata": {
        "id": "view-in-github",
        "colab_type": "text"
      },
      "source": [
        "<a href=\"https://colab.research.google.com/github/Daybreak365/mischief-check/blob/master/%EC%9C%A0%ED%95%B4%EC%84%B1_%ED%8C%90%EB%8B%A8_%EC%9D%B8%EA%B3%B5%EC%A7%80%EB%8A%A5_%ED%95%99%EC%8A%B5.ipynb\" target=\"_parent\"><img src=\"https://colab.research.google.com/assets/colab-badge.svg\" alt=\"Open In Colab\"/></a>"
      ]
    },
    {
      "cell_type": "code",
      "metadata": {
        "colab": {
          "base_uri": "https://localhost:8080/"
        },
        "id": "X4pK0MVCOOXO",
        "outputId": "f54dfda1-2979-4939-b0e2-340110df9af4"
      },
      "source": [
        "import pandas as pd\n",
        "import numpy as np\n",
        "%matplotlib inline\n",
        "import matplotlib.pyplot as plt\n",
        "import re\n",
        "import urllib.request\n",
        "%pip install konlpy\n",
        "from konlpy.tag import Okt\n",
        "from tensorflow.keras.preprocessing.text import Tokenizer\n",
        "from tensorflow.keras.preprocessing.sequence import pad_sequences"
      ],
      "execution_count": null,
      "outputs": [
        {
          "output_type": "stream",
          "name": "stdout",
          "text": [
            "Collecting konlpy\n",
            "  Downloading konlpy-0.5.2-py2.py3-none-any.whl (19.4 MB)\n",
            "\u001b[K     |████████████████████████████████| 19.4 MB 1.1 MB/s \n",
            "\u001b[?25hCollecting JPype1>=0.7.0\n",
            "  Downloading JPype1-1.3.0-cp37-cp37m-manylinux_2_5_x86_64.manylinux1_x86_64.whl (448 kB)\n",
            "\u001b[K     |████████████████████████████████| 448 kB 56.2 MB/s \n",
            "\u001b[?25hCollecting colorama\n",
            "  Downloading colorama-0.4.4-py2.py3-none-any.whl (16 kB)\n",
            "Requirement already satisfied: tweepy>=3.7.0 in /usr/local/lib/python3.7/dist-packages (from konlpy) (3.10.0)\n",
            "Requirement already satisfied: numpy>=1.6 in /usr/local/lib/python3.7/dist-packages (from konlpy) (1.19.5)\n",
            "Requirement already satisfied: lxml>=4.1.0 in /usr/local/lib/python3.7/dist-packages (from konlpy) (4.2.6)\n",
            "Collecting beautifulsoup4==4.6.0\n",
            "  Downloading beautifulsoup4-4.6.0-py3-none-any.whl (86 kB)\n",
            "\u001b[K     |████████████████████████████████| 86 kB 5.9 MB/s \n",
            "\u001b[?25hRequirement already satisfied: typing-extensions in /usr/local/lib/python3.7/dist-packages (from JPype1>=0.7.0->konlpy) (3.7.4.3)\n",
            "Requirement already satisfied: requests-oauthlib>=0.7.0 in /usr/local/lib/python3.7/dist-packages (from tweepy>=3.7.0->konlpy) (1.3.0)\n",
            "Requirement already satisfied: six>=1.10.0 in /usr/local/lib/python3.7/dist-packages (from tweepy>=3.7.0->konlpy) (1.15.0)\n",
            "Requirement already satisfied: requests[socks]>=2.11.1 in /usr/local/lib/python3.7/dist-packages (from tweepy>=3.7.0->konlpy) (2.23.0)\n",
            "Requirement already satisfied: oauthlib>=3.0.0 in /usr/local/lib/python3.7/dist-packages (from requests-oauthlib>=0.7.0->tweepy>=3.7.0->konlpy) (3.1.1)\n",
            "Requirement already satisfied: urllib3!=1.25.0,!=1.25.1,<1.26,>=1.21.1 in /usr/local/lib/python3.7/dist-packages (from requests[socks]>=2.11.1->tweepy>=3.7.0->konlpy) (1.24.3)\n",
            "Requirement already satisfied: chardet<4,>=3.0.2 in /usr/local/lib/python3.7/dist-packages (from requests[socks]>=2.11.1->tweepy>=3.7.0->konlpy) (3.0.4)\n",
            "Requirement already satisfied: idna<3,>=2.5 in /usr/local/lib/python3.7/dist-packages (from requests[socks]>=2.11.1->tweepy>=3.7.0->konlpy) (2.10)\n",
            "Requirement already satisfied: certifi>=2017.4.17 in /usr/local/lib/python3.7/dist-packages (from requests[socks]>=2.11.1->tweepy>=3.7.0->konlpy) (2021.5.30)\n",
            "Requirement already satisfied: PySocks!=1.5.7,>=1.5.6 in /usr/local/lib/python3.7/dist-packages (from requests[socks]>=2.11.1->tweepy>=3.7.0->konlpy) (1.7.1)\n",
            "Installing collected packages: JPype1, colorama, beautifulsoup4, konlpy\n",
            "  Attempting uninstall: beautifulsoup4\n",
            "    Found existing installation: beautifulsoup4 4.6.3\n",
            "    Uninstalling beautifulsoup4-4.6.3:\n",
            "      Successfully uninstalled beautifulsoup4-4.6.3\n",
            "Successfully installed JPype1-1.3.0 beautifulsoup4-4.6.0 colorama-0.4.4 konlpy-0.5.2\n"
          ]
        }
      ]
    },
    {
      "cell_type": "code",
      "metadata": {
        "colab": {
          "base_uri": "https://localhost:8080/"
        },
        "id": "Egm9__iZPCne",
        "outputId": "b5447136-f301-4135-d1be-cd96b38984c9"
      },
      "source": [
        "urllib.request.urlretrieve(\"https://raw.githubusercontent.com/Daybreak365/mischief-check/master/labeled_processed.tsv\", filename=\"labeled_processed.tsv\")\n",
        "urllib.request.urlretrieve(\"https://raw.githubusercontent.com/Daybreak365/mischief-check/master/dev.tsv\", filename=\"dev.tsv\")"
      ],
      "execution_count": null,
      "outputs": [
        {
          "output_type": "execute_result",
          "data": {
            "text/plain": [
              "('dev.tsv', <http.client.HTTPMessage at 0x7f9b70bc26d0>)"
            ]
          },
          "metadata": {},
          "execution_count": 2
        }
      ]
    },
    {
      "cell_type": "code",
      "metadata": {
        "id": "gDXLh0xWPDm-"
      },
      "source": [
        "train_data = pd.read_table('labeled_processed.tsv', sep='\\t')\n",
        "test_data = pd.read_table('dev.tsv', sep='\\t')"
      ],
      "execution_count": null,
      "outputs": []
    },
    {
      "cell_type": "code",
      "metadata": {
        "colab": {
          "base_uri": "https://localhost:8080/"
        },
        "id": "-Y0_ArQbPD-R",
        "outputId": "90ba59a5-08d5-44ef-ffce-234c946e1238"
      },
      "source": [
        "print('훈련용 리뷰 개수 :',len(train_data))"
      ],
      "execution_count": null,
      "outputs": [
        {
          "output_type": "stream",
          "name": "stdout",
          "text": [
            "훈련용 리뷰 개수 : 13167\n"
          ]
        }
      ]
    },
    {
      "cell_type": "code",
      "metadata": {
        "colab": {
          "base_uri": "https://localhost:8080/",
          "height": 201
        },
        "id": "8OZb5e7dPEAT",
        "outputId": "442fe9e0-4944-424a-df6d-0a8fe1f39939"
      },
      "source": [
        "train_data[:5]"
      ],
      "execution_count": null,
      "outputs": [
        {
          "output_type": "execute_result",
          "data": {
            "text/html": [
              "<div>\n",
              "<style scoped>\n",
              "    .dataframe tbody tr th:only-of-type {\n",
              "        vertical-align: middle;\n",
              "    }\n",
              "\n",
              "    .dataframe tbody tr th {\n",
              "        vertical-align: top;\n",
              "    }\n",
              "\n",
              "    .dataframe thead th {\n",
              "        text-align: right;\n",
              "    }\n",
              "</style>\n",
              "<table border=\"1\" class=\"dataframe\">\n",
              "  <thead>\n",
              "    <tr style=\"text-align: right;\">\n",
              "      <th></th>\n",
              "      <th>comments</th>\n",
              "      <th>contain_gender_bias</th>\n",
              "      <th>bias</th>\n",
              "      <th>hate</th>\n",
              "    </tr>\n",
              "  </thead>\n",
              "  <tbody>\n",
              "    <tr>\n",
              "      <th>0</th>\n",
              "      <td>게임 바둑이 노리터게임</td>\n",
              "      <td>False</td>\n",
              "      <td>none</td>\n",
              "      <td>none</td>\n",
              "    </tr>\n",
              "    <tr>\n",
              "      <th>1</th>\n",
              "      <td>죄인이존나ㅋㅋㅋㅋㅋ한남잼민이같아</td>\n",
              "      <td>False</td>\n",
              "      <td>none</td>\n",
              "      <td>hate</td>\n",
              "    </tr>\n",
              "    <tr>\n",
              "      <th>2</th>\n",
              "      <td>민주당 잡 것들 또 선동질 특검가자</td>\n",
              "      <td>False</td>\n",
              "      <td>none</td>\n",
              "      <td>hate</td>\n",
              "    </tr>\n",
              "    <tr>\n",
              "      <th>3</th>\n",
              "      <td>한남화됨</td>\n",
              "      <td>False</td>\n",
              "      <td>none</td>\n",
              "      <td>hate</td>\n",
              "    </tr>\n",
              "    <tr>\n",
              "      <th>4</th>\n",
              "      <td>너  그런게임해</td>\n",
              "      <td>False</td>\n",
              "      <td>none</td>\n",
              "      <td>none</td>\n",
              "    </tr>\n",
              "  </tbody>\n",
              "</table>\n",
              "</div>"
            ],
            "text/plain": [
              "              comments  contain_gender_bias  bias  hate\n",
              "0         게임 바둑이 노리터게임                False  none  none\n",
              "1    죄인이존나ㅋㅋㅋㅋㅋ한남잼민이같아                False  none  hate\n",
              "2  민주당 잡 것들 또 선동질 특검가자                False  none  hate\n",
              "3                 한남화됨                False  none  hate\n",
              "4             너  그런게임해                False  none  none"
            ]
          },
          "metadata": {},
          "execution_count": 5
        }
      ]
    },
    {
      "cell_type": "code",
      "metadata": {
        "colab": {
          "base_uri": "https://localhost:8080/"
        },
        "id": "VL_ZUNpTPECK",
        "outputId": "039e09f7-cbee-42b2-c62d-2181c3973b95"
      },
      "source": [
        "print('테스트용 리뷰 개수 :',len(test_data))"
      ],
      "execution_count": null,
      "outputs": [
        {
          "output_type": "stream",
          "name": "stdout",
          "text": [
            "테스트용 리뷰 개수 : 3548\n"
          ]
        }
      ]
    },
    {
      "cell_type": "code",
      "metadata": {
        "colab": {
          "base_uri": "https://localhost:8080/",
          "height": 201
        },
        "id": "1o-hSDq5PEEV",
        "outputId": "6e455d64-9374-4779-8e25-bf26eb46d653"
      },
      "source": [
        "test_data[:5]"
      ],
      "execution_count": null,
      "outputs": [
        {
          "output_type": "execute_result",
          "data": {
            "text/html": [
              "<div>\n",
              "<style scoped>\n",
              "    .dataframe tbody tr th:only-of-type {\n",
              "        vertical-align: middle;\n",
              "    }\n",
              "\n",
              "    .dataframe tbody tr th {\n",
              "        vertical-align: top;\n",
              "    }\n",
              "\n",
              "    .dataframe thead th {\n",
              "        text-align: right;\n",
              "    }\n",
              "</style>\n",
              "<table border=\"1\" class=\"dataframe\">\n",
              "  <thead>\n",
              "    <tr style=\"text-align: right;\">\n",
              "      <th></th>\n",
              "      <th>comments</th>\n",
              "      <th>contain_gender_bias</th>\n",
              "      <th>bias</th>\n",
              "      <th>hate</th>\n",
              "    </tr>\n",
              "  </thead>\n",
              "  <tbody>\n",
              "    <tr>\n",
              "      <th>0</th>\n",
              "      <td>송중기 시대극은 믿고본다. 첫회 신선하고 좋았다.</td>\n",
              "      <td>False</td>\n",
              "      <td>none</td>\n",
              "      <td>none</td>\n",
              "    </tr>\n",
              "    <tr>\n",
              "      <th>1</th>\n",
              "      <td>지현우 나쁜놈</td>\n",
              "      <td>False</td>\n",
              "      <td>none</td>\n",
              "      <td>offensive</td>\n",
              "    </tr>\n",
              "    <tr>\n",
              "      <th>2</th>\n",
              "      <td>알바쓰고많이만들면되지 돈욕심없으면골목식당왜나온겨 기댕기게나하고 산에가서팔어라</td>\n",
              "      <td>False</td>\n",
              "      <td>none</td>\n",
              "      <td>hate</td>\n",
              "    </tr>\n",
              "    <tr>\n",
              "      <th>3</th>\n",
              "      <td>설마 ㅈ 현정 작가 아니지??</td>\n",
              "      <td>True</td>\n",
              "      <td>gender</td>\n",
              "      <td>hate</td>\n",
              "    </tr>\n",
              "    <tr>\n",
              "      <th>4</th>\n",
              "      <td>이미자씨 송혜교씨 돈이 그리 많으면 탈세말고 그돈으로 평소에 불우이웃에게 기부도 좀...</td>\n",
              "      <td>False</td>\n",
              "      <td>none</td>\n",
              "      <td>offensive</td>\n",
              "    </tr>\n",
              "  </tbody>\n",
              "</table>\n",
              "</div>"
            ],
            "text/plain": [
              "                                            comments  ...       hate\n",
              "0                        송중기 시대극은 믿고본다. 첫회 신선하고 좋았다.  ...       none\n",
              "1                                            지현우 나쁜놈  ...  offensive\n",
              "2         알바쓰고많이만들면되지 돈욕심없으면골목식당왜나온겨 기댕기게나하고 산에가서팔어라  ...       hate\n",
              "3                                   설마 ㅈ 현정 작가 아니지??  ...       hate\n",
              "4  이미자씨 송혜교씨 돈이 그리 많으면 탈세말고 그돈으로 평소에 불우이웃에게 기부도 좀...  ...  offensive\n",
              "\n",
              "[5 rows x 4 columns]"
            ]
          },
          "metadata": {},
          "execution_count": 7
        }
      ]
    },
    {
      "cell_type": "code",
      "metadata": {
        "colab": {
          "base_uri": "https://localhost:8080/"
        },
        "id": "NfZ_yuY5PEGf",
        "outputId": "c52589ae-62cf-48dc-aa35-e704182261db"
      },
      "source": [
        "train_data['comments'].nunique(), train_data['hate'].nunique()"
      ],
      "execution_count": null,
      "outputs": [
        {
          "output_type": "execute_result",
          "data": {
            "text/plain": [
              "(13107, 2)"
            ]
          },
          "metadata": {},
          "execution_count": 8
        }
      ]
    },
    {
      "cell_type": "code",
      "metadata": {
        "id": "ml9jFGlTPEIk"
      },
      "source": [
        "train_data.drop_duplicates(subset=['comments'], inplace=True)"
      ],
      "execution_count": null,
      "outputs": []
    },
    {
      "cell_type": "code",
      "metadata": {
        "colab": {
          "base_uri": "https://localhost:8080/"
        },
        "id": "vPbiw8SbPEKj",
        "outputId": "169ec52e-0079-4111-84bc-4476cd860b06"
      },
      "source": [
        "print('총 샘플의 수 :',len(train_data))"
      ],
      "execution_count": null,
      "outputs": [
        {
          "output_type": "stream",
          "name": "stdout",
          "text": [
            "총 샘플의 수 : 13107\n"
          ]
        }
      ]
    },
    {
      "cell_type": "code",
      "metadata": {
        "colab": {
          "base_uri": "https://localhost:8080/",
          "height": 301
        },
        "id": "0i0_FZjYPKX0",
        "outputId": "bdb4da4b-e9e4-4519-8ed6-4763f980dda4"
      },
      "source": [
        "train_data['hate'].value_counts().plot(kind = 'bar')"
      ],
      "execution_count": null,
      "outputs": [
        {
          "output_type": "execute_result",
          "data": {
            "text/plain": [
              "<matplotlib.axes._subplots.AxesSubplot at 0x7f9b6fe08550>"
            ]
          },
          "metadata": {},
          "execution_count": 11
        },
        {
          "output_type": "display_data",
          "data": {
            "image/png": "[encoded data removed]",
            "text/plain": [
              "<Figure size 432x288 with 1 Axes>"
            ]
          },
          "metadata": {
            "needs_background": "light"
          }
        }
      ]
    },
    {
      "cell_type": "code",
      "metadata": {
        "colab": {
          "base_uri": "https://localhost:8080/",
          "height": 301
        },
        "id": "QN9jvo_lKTEU",
        "outputId": "9dba1596-a9ba-4c2b-ce7a-9f91bc372869"
      },
      "source": [
        "train_data = train_data.drop(train_data[train_data.hate.eq('none')].sample(frac=.5).index)\n",
        "train_data['hate'].value_counts().plot(kind = 'bar')"
      ],
      "execution_count": null,
      "outputs": [
        {
          "output_type": "execute_result",
          "data": {
            "text/plain": [
              "<matplotlib.axes._subplots.AxesSubplot at 0x7f9b6fcdeb10>"
            ]
          },
          "metadata": {},
          "execution_count": 12
        },
        {
          "output_type": "display_data",
          "data": {
            "image/png": "[encoded data removed]",
            "text/plain": [
              "<Figure size 432x288 with 1 Axes>"
            ]
          },
          "metadata": {
            "needs_background": "light"
          }
        }
      ]
    },
    {
      "cell_type": "code",
      "metadata": {
        "colab": {
          "base_uri": "https://localhost:8080/"
        },
        "id": "vCopjaxRPKZ_",
        "outputId": "a655d92b-8f7c-4413-c559-e29e2bd03798"
      },
      "source": [
        "print(train_data.groupby('hate').size().reset_index(name = 'count'))"
      ],
      "execution_count": null,
      "outputs": [
        {
          "output_type": "stream",
          "name": "stdout",
          "text": [
            "   hate  count\n",
            "0  hate   1586\n",
            "1  none   5761\n"
          ]
        }
      ]
    },
    {
      "cell_type": "code",
      "metadata": {
        "colab": {
          "base_uri": "https://localhost:8080/"
        },
        "id": "ZsF8vo0EPKb7",
        "outputId": "d4f07557-7a2b-4822-b2ac-ed65db714b8e"
      },
      "source": [
        "print(train_data.isnull().values.any())"
      ],
      "execution_count": null,
      "outputs": [
        {
          "output_type": "stream",
          "name": "stdout",
          "text": [
            "False\n"
          ]
        }
      ]
    },
    {
      "cell_type": "code",
      "metadata": {
        "colab": {
          "base_uri": "https://localhost:8080/"
        },
        "id": "DDCBQ9l_PKeO",
        "outputId": "f278643c-cabe-4b14-9037-e44cd3106b3c"
      },
      "source": [
        "print(train_data.isnull().sum())"
      ],
      "execution_count": null,
      "outputs": [
        {
          "output_type": "stream",
          "name": "stdout",
          "text": [
            "comments               0\n",
            "contain_gender_bias    0\n",
            "bias                   0\n",
            "hate                   0\n",
            "dtype: int64\n"
          ]
        }
      ]
    },
    {
      "cell_type": "code",
      "metadata": {
        "colab": {
          "base_uri": "https://localhost:8080/",
          "height": 49
        },
        "id": "qpRarJVvPKgJ",
        "outputId": "7cffb10e-188e-4392-e8bd-93798ec21f60"
      },
      "source": [
        "train_data.loc[train_data.comments.isnull()]"
      ],
      "execution_count": null,
      "outputs": [
        {
          "output_type": "execute_result",
          "data": {
            "text/html": [
              "<div>\n",
              "<style scoped>\n",
              "    .dataframe tbody tr th:only-of-type {\n",
              "        vertical-align: middle;\n",
              "    }\n",
              "\n",
              "    .dataframe tbody tr th {\n",
              "        vertical-align: top;\n",
              "    }\n",
              "\n",
              "    .dataframe thead th {\n",
              "        text-align: right;\n",
              "    }\n",
              "</style>\n",
              "<table border=\"1\" class=\"dataframe\">\n",
              "  <thead>\n",
              "    <tr style=\"text-align: right;\">\n",
              "      <th></th>\n",
              "      <th>comments</th>\n",
              "      <th>contain_gender_bias</th>\n",
              "      <th>bias</th>\n",
              "      <th>hate</th>\n",
              "    </tr>\n",
              "  </thead>\n",
              "  <tbody>\n",
              "  </tbody>\n",
              "</table>\n",
              "</div>"
            ],
            "text/plain": [
              "Empty DataFrame\n",
              "Columns: [comments, contain_gender_bias, bias, hate]\n",
              "Index: []"
            ]
          },
          "metadata": {},
          "execution_count": 16
        }
      ]
    },
    {
      "cell_type": "code",
      "metadata": {
        "colab": {
          "base_uri": "https://localhost:8080/"
        },
        "id": "c_gJyywrPKiU",
        "outputId": "01a745b1-ac83-44a1-879c-1a3852654772"
      },
      "source": [
        "train_data = train_data.dropna(how = 'any')\n",
        "print(train_data.isnull().values.any())"
      ],
      "execution_count": null,
      "outputs": [
        {
          "output_type": "stream",
          "name": "stdout",
          "text": [
            "False\n"
          ]
        }
      ]
    },
    {
      "cell_type": "code",
      "metadata": {
        "colab": {
          "base_uri": "https://localhost:8080/"
        },
        "id": "gA1WjZNuPKkS",
        "outputId": "1c955cbb-bb59-495b-e632-e59515dbddc7"
      },
      "source": [
        "print(len(train_data))"
      ],
      "execution_count": null,
      "outputs": [
        {
          "output_type": "stream",
          "name": "stdout",
          "text": [
            "7347\n"
          ]
        }
      ]
    },
    {
      "cell_type": "code",
      "metadata": {
        "colab": {
          "base_uri": "https://localhost:8080/",
          "height": 201
        },
        "id": "2nCEro2jPKmr",
        "outputId": "cf261574-500d-47cb-ae35-92b2219be6b1"
      },
      "source": [
        "train_data['comments'] = train_data['comments'].str.replace(\"[^ㄱ-ㅎㅏ-ㅣ가-힣 ]\",\"\")\n",
        "train_data[:5]"
      ],
      "execution_count": null,
      "outputs": [
        {
          "output_type": "execute_result",
          "data": {
            "text/html": [
              "<div>\n",
              "<style scoped>\n",
              "    .dataframe tbody tr th:only-of-type {\n",
              "        vertical-align: middle;\n",
              "    }\n",
              "\n",
              "    .dataframe tbody tr th {\n",
              "        vertical-align: top;\n",
              "    }\n",
              "\n",
              "    .dataframe thead th {\n",
              "        text-align: right;\n",
              "    }\n",
              "</style>\n",
              "<table border=\"1\" class=\"dataframe\">\n",
              "  <thead>\n",
              "    <tr style=\"text-align: right;\">\n",
              "      <th></th>\n",
              "      <th>comments</th>\n",
              "      <th>contain_gender_bias</th>\n",
              "      <th>bias</th>\n",
              "      <th>hate</th>\n",
              "    </tr>\n",
              "  </thead>\n",
              "  <tbody>\n",
              "    <tr>\n",
              "      <th>1</th>\n",
              "      <td>죄인이존나ㅋㅋㅋㅋㅋ한남잼민이같아</td>\n",
              "      <td>False</td>\n",
              "      <td>none</td>\n",
              "      <td>hate</td>\n",
              "    </tr>\n",
              "    <tr>\n",
              "      <th>2</th>\n",
              "      <td>민주당 잡 것들 또 선동질 특검가자</td>\n",
              "      <td>False</td>\n",
              "      <td>none</td>\n",
              "      <td>hate</td>\n",
              "    </tr>\n",
              "    <tr>\n",
              "      <th>3</th>\n",
              "      <td>한남화됨</td>\n",
              "      <td>False</td>\n",
              "      <td>none</td>\n",
              "      <td>hate</td>\n",
              "    </tr>\n",
              "    <tr>\n",
              "      <th>4</th>\n",
              "      <td>너  그런게임해</td>\n",
              "      <td>False</td>\n",
              "      <td>none</td>\n",
              "      <td>none</td>\n",
              "    </tr>\n",
              "    <tr>\n",
              "      <th>5</th>\n",
              "      <td>능력이 안된다</td>\n",
              "      <td>False</td>\n",
              "      <td>none</td>\n",
              "      <td>hate</td>\n",
              "    </tr>\n",
              "  </tbody>\n",
              "</table>\n",
              "</div>"
            ],
            "text/plain": [
              "              comments  contain_gender_bias  bias  hate\n",
              "1    죄인이존나ㅋㅋㅋㅋㅋ한남잼민이같아                False  none  hate\n",
              "2  민주당 잡 것들 또 선동질 특검가자                False  none  hate\n",
              "3                 한남화됨                False  none  hate\n",
              "4             너  그런게임해                False  none  none\n",
              "5              능력이 안된다                False  none  hate"
            ]
          },
          "metadata": {},
          "execution_count": 19
        }
      ]
    },
    {
      "cell_type": "code",
      "metadata": {
        "colab": {
          "base_uri": "https://localhost:8080/"
        },
        "id": "BYJcnANbPKoy",
        "outputId": "7ecabe45-5327-40e0-a3bd-a38728d365b2"
      },
      "source": [
        "train_data['comments'] = train_data['comments'].str.replace('^ +', \"\")\n",
        "train_data['comments'].replace('', np.nan, inplace=True)\n",
        "print(train_data.isnull().sum())"
      ],
      "execution_count": null,
      "outputs": [
        {
          "output_type": "stream",
          "name": "stdout",
          "text": [
            "comments               0\n",
            "contain_gender_bias    0\n",
            "bias                   0\n",
            "hate                   0\n",
            "dtype: int64\n"
          ]
        }
      ]
    },
    {
      "cell_type": "code",
      "metadata": {
        "colab": {
          "base_uri": "https://localhost:8080/",
          "height": 49
        },
        "id": "8OJaizEsPW9L",
        "outputId": "67c69019-ef9e-42fd-a69c-c3443daf4e55"
      },
      "source": [
        "train_data.loc[train_data.comments.isnull()][:5]"
      ],
      "execution_count": null,
      "outputs": [
        {
          "output_type": "execute_result",
          "data": {
            "text/html": [
              "<div>\n",
              "<style scoped>\n",
              "    .dataframe tbody tr th:only-of-type {\n",
              "        vertical-align: middle;\n",
              "    }\n",
              "\n",
              "    .dataframe tbody tr th {\n",
              "        vertical-align: top;\n",
              "    }\n",
              "\n",
              "    .dataframe thead th {\n",
              "        text-align: right;\n",
              "    }\n",
              "</style>\n",
              "<table border=\"1\" class=\"dataframe\">\n",
              "  <thead>\n",
              "    <tr style=\"text-align: right;\">\n",
              "      <th></th>\n",
              "      <th>comments</th>\n",
              "      <th>contain_gender_bias</th>\n",
              "      <th>bias</th>\n",
              "      <th>hate</th>\n",
              "    </tr>\n",
              "  </thead>\n",
              "  <tbody>\n",
              "  </tbody>\n",
              "</table>\n",
              "</div>"
            ],
            "text/plain": [
              "Empty DataFrame\n",
              "Columns: [comments, contain_gender_bias, bias, hate]\n",
              "Index: []"
            ]
          },
          "metadata": {},
          "execution_count": 21
        }
      ]
    },
    {
      "cell_type": "code",
      "metadata": {
        "colab": {
          "base_uri": "https://localhost:8080/"
        },
        "id": "kxr_yLRJPW_R",
        "outputId": "a38d8009-c656-496c-e1d2-6574bd144915"
      },
      "source": [
        "train_data = train_data.dropna(how = 'any')\n",
        "print(len(train_data))"
      ],
      "execution_count": null,
      "outputs": [
        {
          "output_type": "stream",
          "name": "stdout",
          "text": [
            "7347\n"
          ]
        }
      ]
    },
    {
      "cell_type": "code",
      "metadata": {
        "colab": {
          "base_uri": "https://localhost:8080/"
        },
        "id": "T-PeiyF0PXBh",
        "outputId": "ea2c8fe3-d32d-44c0-aaec-335bc7c86446"
      },
      "source": [
        "test_data.drop_duplicates(subset = ['comments'], inplace=True)\n",
        "test_data['comments'] = test_data['comments'].str.replace(\"[^ㄱ-ㅎㅏ-ㅣ가-힣 ]\",\"\")\n",
        "test_data['comments'] = test_data['comments'].str.replace('^ +', \"\")\n",
        "test_data['comments'].replace('', np.nan, inplace=True)\n",
        "test_data = test_data.dropna(how='any')\n",
        "print('전처리 후 테스트용 샘플의 개수 :',len(test_data))"
      ],
      "execution_count": null,
      "outputs": [
        {
          "output_type": "stream",
          "name": "stdout",
          "text": [
            "전처리 후 테스트용 샘플의 개수 : 3540\n"
          ]
        }
      ]
    },
    {
      "cell_type": "code",
      "metadata": {
        "id": "lS6P7ORUPXDv"
      },
      "source": [
        "stopwords = ['의','가','이','은','들','는','좀','잘','걍','과','도','를','으로','자','에','와','한','하다']"
      ],
      "execution_count": null,
      "outputs": []
    },
    {
      "cell_type": "code",
      "metadata": {
        "colab": {
          "base_uri": "https://localhost:8080/"
        },
        "id": "2m7sJExCPXGB",
        "outputId": "e67cb814-2d24-44f2-d3e8-af3605548746"
      },
      "source": [
        "okt = Okt()\n",
        "okt.morphs('와 이런 것도 영화라고 차라리 뮤직비디오를 만드는 게 나을 뻔', stem = True)"
      ],
      "execution_count": null,
      "outputs": [
        {
          "output_type": "execute_result",
          "data": {
            "text/plain": [
              "['오다', '이렇다', '것', '도', '영화', '라고', '차라리', '뮤직비디오', '를', '만들다', '게', '나다', '뻔']"
            ]
          },
          "metadata": {},
          "execution_count": 25
        }
      ]
    },
    {
      "cell_type": "code",
      "metadata": {
        "id": "2EzKkA_NPXIK"
      },
      "source": [
        "X_train = []\n",
        "for sentence in train_data['comments']:\n",
        "    temp_X = okt.morphs(sentence, stem=True)\n",
        "    temp_X = [word for word in temp_X if not word in stopwords]\n",
        "    X_train.append(temp_X)"
      ],
      "execution_count": null,
      "outputs": []
    },
    {
      "cell_type": "code",
      "metadata": {
        "colab": {
          "base_uri": "https://localhost:8080/"
        },
        "id": "-IFW77uyPXKZ",
        "outputId": "37023545-1343-4407-d597-e91c1ebd3f25"
      },
      "source": [
        "print(X_train[:3])"
      ],
      "execution_count": null,
      "outputs": [
        {
          "output_type": "stream",
          "name": "stdout",
          "text": [
            "[['죄인', '존나', 'ㅋㅋㅋㅋㅋ', '한남', '잼민', '같다'], ['민주당', '잡', '것', '또', '선동', '질', '특검', '가다'], ['한남', '화', '되다']]\n"
          ]
        }
      ]
    },
    {
      "cell_type": "code",
      "metadata": {
        "id": "cxa_R9DTPXMW"
      },
      "source": [
        "X_test = []\n",
        "for sentence in test_data['comments']:\n",
        "    temp_X = okt.morphs(sentence, stem=True)\n",
        "    temp_X = [word for word in temp_X if not word in stopwords]\n",
        "    X_test.append(temp_X)"
      ],
      "execution_count": null,
      "outputs": []
    },
    {
      "cell_type": "code",
      "metadata": {
        "id": "s3GNqma1Pe_k"
      },
      "source": [
        "tokenizer = Tokenizer()\n",
        "tokenizer.fit_on_texts(X_train)"
      ],
      "execution_count": null,
      "outputs": []
    },
    {
      "cell_type": "code",
      "metadata": {
        "colab": {
          "base_uri": "https://localhost:8080/"
        },
        "id": "M9jva0oEPfB_",
        "outputId": "055b8f2e-bb16-46b6-eb09-a899efc6636b"
      },
      "source": [
        "print(tokenizer.word_index)"
      ],
      "execution_count": null,
      "outputs": [
        {
          "output_type": "stream",
          "name": "stdout",
          "text": [
            "{'우파': 1, '한남': 2, '스': 3, '애니': 4, '게임': 5, '보다': 6, '책': 7, '날씨': 8, '아': 9, '나': 10, '문재인': 11, '민주당': 12, '오늘': 13, '다': 14, '같다': 15, '을': 16, '틀': 17, '진짜': 18, '이다': 19, '좋다': 20, '딱': 21, '아니다': 22, '요': 23, '저': 24, '오징어': 25, '야': 26, '안': 27, '하': 28, '되다': 29, '페미': 30, '있다': 31, '네': 32, '노엘': 33, '개': 34, '없다': 35, '나오다': 36, '내': 37, '오다': 38, '님': 39, '뭐': 40, '로': 41, '만': 42, '읽다': 43, '너무': 44, '왜': 45, '거': 46, '그': 47, '보고': 48, '중': 49, '박근혜': 50, 'ㅋㅋ': 51, '들다': 52, 'ㅅㅂ': 53, '어': 54, '취미': 55, '좌파': 56, '일베': 57, '가다': 58, '에서': 59, '새끼': 60, '고': 61, '더힐': 62, '그렇다': 63, '화': 64, '라': 65, '못': 66, '게': 67, '시발': 68, '니': 69, '미치다': 70, '유충': 71, '잇다': 72, '알다': 73, '랑': 74, '재밌다': 75, '자다': 76, '나다': 77, '사람': 78, '날': 79, '존나': 80, '임': 81, '지': 82, '이야': 83, '인': 84, '지금': 85, 'ㅠ': 86, '해주다': 87, '추천': 88, '딱이다': 89, '더': 90, '씨발': 91, '근데': 92, '분': 93, '싶다': 94, '너': 95, '먹다': 96, '또': 97, '헐다': 98, '당': 99, '무슨': 100, '인데': 101, '하고': 102, '좋아하다': 103, '어떻다': 104, '인가': 105, '싫다': 106, '해': 107, '면': 108, '맞다': 109, '이랑': 110, '일': 111, '지다': 112, '난': 113, '앙': 114, 'ㅋㅋㅋ': 115, '까지': 116, 'ㅠㅠ': 117, '시': 118, '함': 119, '그냥': 120, '오': 121, '전': 122, '요즘': 123, '이제': 124, '말': 125, '제': 126, '빨리': 127, '것': 128, '생각': 129, '냐': 130, '죽다': 131, '죠': 132, '원': 133, '대통령': 134, 'ㅋ': 135, '독서': 136, '돼다': 137, '두': 138, '받다': 139, '소': 140, '만들다': 141, '서': 142, '년': 143, '내다': 144, '애': 145, '부터': 146, '볼': 147, '좆': 148, '보기': 149, '기': 150, '언니': 151, '이재명': 152, 'ㅜ': 153, '케이': 154, '이나': 155, '여': 156, '모르다': 157, '뭔': 158, '넘다': 159, '비': 160, '많이': 161, '사다': 162, '않다': 163, '이네': 164, '국힘': 165, '집': 166, '놈': 167, '인가요': 168, '때': 169, '우리': 170, '남자': 171, '구': 172, '신': 173, '데': 174, '몰입': 175, '남': 176, '래': 177, '늘다': 178, '개다': 179, '수': 180, 'ㅋㅋㅋㅋ': 181, '라고': 182, '귀엽다': 183, '콘': 184, '봄': 185, '시간': 186, '이지': 187, '많다': 188, '같이': 189, '머': 190, '다시': 191, '언제': 192, '대': 193, '적': 194, '이렇다': 195, '주다': 196, '차다': 197, '살다': 198, '사랑': 199, '역시': 200, '씨': 201, '한테': 202, '정말': 203, '국민': 204, '죽이다': 205, '갈다': 206, '버리다': 207, '시작': 208, '끄다': 209, '소리': 210, '아아': 211, '제발': 212, '완전': 213, '듯': 214, '이름': 215, '얘기': 216, '웃기다': 217, '징': 218, '안되다': 219, '국': 220, '문': 221, '짱': 222, 'ㄹㅇ': 223, '쓰다': 224, '때문': 225, '조': 226, '노래': 227, '야하다': 228, '엔': 229, '줄': 230, '내일': 231, '말다': 232, '갑자기': 233, '밉다': 234, '써다': 235, '최고': 236, '얘': 237, '이라': 238, '살': 239, '멀다': 240, '정': 241, '처럼': 242, '스타': 243, '따다': 244, '프사': 245, '수준': 246, '그거': 247, '새': 248, '끝나다': 249, '치다': 250, '다음': 251, '녀': 252, 'ㅋㅋㅋㅋㅋ': 253, '찌다': 254, '추다': 255, '해보다': 256, '벌써': 257, '덥다': 258, '뜨다': 259, '충': 260, '햇': 261, '히': 262, '크다': 263, '반': 264, '팀': 265, '후': 266, '라는': 267, '우': 268, '추': 269, '내주다': 270, '보': 271, '나가다': 272, '누가': 273, '짐': 274, '걸': 275, '기분': 276, '사': 277, 'ㅜㅜ': 278, '울': 279, '특검': 280, '장제원': 281, '경선': 282, '어디': 283, '바': 284, '휴': 285, '보내다': 286, '생기다': 287, '니까': 288, '응': 289, '이래': 290, '제목': 291, '쓰레기': 292, '군': 293, '누구': 294, '놓다': 295, '에요': 296, '정식': 297, '타': 298, '눈치': 299, '밖에': 300, '그램': 301, '끝': 302, '캐': 303, '세': 304, '만남': 305, '여기': 306, '궁금하다': 307, '언': 308, '최애': 309, '이라고': 310, '하이라이트': 311, 'ㅇ': 312, '엥': 313, '결방': 314, '학교': 315, '하나': 316, '이에요': 317, '아들': 318, '이미': 319, '보이다': 320, '즈': 321, '시키다': 322, '발': 323, '주': 324, '씹다': 325, '비다': 326, '흑': 327, 'ㅎㅎ': 328, '열': 329, '꾸다': 330, '빡치다': 331, '데이': 332, '망하다': 333, '인생': 334, 'ㅎ': 335, 'ㄴ': 336, '꼭': 337, '명': 338, '파': 339, '사실': 340, '허다': 341, '성': 342, '예요': 343, '그런': 344, '곽상도': 345, '탐라': 346, '재앙': 347, '티': 348, '예': 349, '원래': 350, '이번': 351, '뒤지다': 352, '두다': 353, '슬프다': 354, '아저씨': 355, '정신': 356, '그만': 357, '노': 358, '기다리다': 359, '트친': 360, '갓': 361, '뭘': 362, '키': 363, '뭔가': 364, '친구': 365, '장': 366, '느낌': 367, 'ㄱ': 368, '음': 369, '아동': 370, '그래도': 371, 'ㅆㅂ': 372, '메': 373, '진심': 374, '엉': 375, '하루': 376, '알': 377, '말투': 378, '헤': 379, '듣기': 380, '업다': 381, '대체': 382, '혹시': 383, '오빠': 384, '이냐': 385, '사주다': 386, '가보다': 387, '싸다': 388, '밥': 389, '부': 390, 'ㄷㄷ': 391, '감': 392, '화천': 393, '머리': 394, '겜': 395, '재밋': 396, '대다': 397, '월': 398, '미안하다': 399, 'ㅋㅋㅋㅋㅋㅋ': 400, '후보': 401, '건가': 402, '공부': 403, '울다': 404, 'ㅅ': 405, '씻다': 406, '흐리다': 407, '상상': 408, '본방': 409, '엿': 410, '티비': 411, '말고': 412, '주행': 413, '돌리다': 414, '만화': 415, '잖다': 416, '도태': 417, '타다': 418, '인간': 419, '짜다': 420, '대유': 421, '겁니다': 422, '열심히': 423, '이상하다': 424, '불다': 425, '안보': 426, '아직': 427, '내놓다': 428, '어울리다': 429, '이구나': 430, '헉': 431, '권': 432, '따르다': 433, '트위터': 434, '당장': 435, '곡': 436, '남다': 437, '사회': 438, '얼굴': 439, '괜찮다': 440, '마': 441, '몇': 442, 'ㅡㅡ': 443, '어케': 444, '넷플': 445, '조심하다': 446, '악': 447, '세카': 448, '영화': 449, '자기': 450, '손': 451, '그리다': 452, '이기다': 453, '꼴': 454, '둘': 455, '계': 456, '이렇게': 457, '도리': 458, '건': 459, '섹스': 460, '이라는': 461, '뽑다': 462, '광주': 463, '페미니스트': 464, '그치다': 465, '듣다': 466, '굿': 467, '으': 468, '대박': 469, '욕': 470, '드디어': 471, '무섭다': 472, '봣': 473, '꾸리': 474, '이건': 475, '펴다': 476, '팔': 477, '피다': 478, '엇': 479, '라도': 480, '아시': 481, '롤': 482, '짜증나다': 483, '수박': 484, '발언': 485, '디': 486, '정치': 487, '마다': 488, '법': 489, '챙기다': 490, '믿다': 491, '베다': 492, '한국': 493, '그게': 494, '바로': 495, '문제': 496, '이르다': 497, '폰': 498, '앗': 499, '연': 500, '에게': 501, '감사하다': 502, '이런': 503, '하자': 504, '웃기': 505, '돈': 506, '잘생기다': 507, '이명박': 508, '어떡하다': 509, '끼다': 510, '다른': 511, '캣맘': 512, '설마': 513, 'ㄷ': 514, '안해': 515, '자체': 516, '되어다': 517, '여행': 518, '이낙연': 519, '혐오': 520, '위': 521, '작': 522, '꺼지다': 523, '뿐': 524, '김': 525, '빼다': 526, '속': 527, '예고': 528, '밸런스': 529, '세상': 530, '짧다': 531, '안녕하다': 532, '지지': 533, '깔다': 534, '힘들다': 535, '모음': 536, '강': 537, 'ㅏ': 538, '뭐임': 539, '쟤': 540, 'ㅈㄴ': 541, '력': 542, '냄새': 543, '미니': 544, '편': 545, '들어오다': 546, '잠': 547, '형': 548, '취향': 549, '들이다': 550, '번': 551, '보여주다': 552, '지랄': 553, '짤': 554, '이니까': 555, '돌': 556, '맨': 557, '확인': 558, '까먹다': 559, '태용': 560, '구려': 561, '아오': 562, '낫다': 563, '옴': 564, '차': 565, '놀다': 566, 'ㅠㅠㅠㅠ': 567, '스윗': 568, '파다': 569, '게이트': 570, '십': 571, '웨이': 572, '일이': 573, '당하다': 574, '혼자': 575, '정부': 576, '방금': 577, '작화': 578, '레즈': 579, '촉법소년': 580, '맛': 581, '종이': 582, '날다': 583, '일본': 584, '재': 585, '후기': 586, '앞장서다': 587, '재기': 588, '오는': 589, '댄서': 590, '대한민국': 591, '영상': 592, '지만': 593, '졸라': 594, '게이': 595, '잼': 596, '목소리': 597, '이라니': 598, '가야': 599, '무대': 600, '엠씨': 601, '더럽다': 602, '장르': 603, '여자': 604, 'ㅁ': 605, '옷': 606, '잼민': 607, '알티': 608, '그리고': 609, '특집': 610, '이유': 611, '라서': 612, '티빙': 613, '병신': 614, '없이': 615, '마저': 616, '나라': 617, '왕': 618, '명예': 619, '용': 620, '당신': 621, '옛날': 622, '부르다': 623, '여성': 624, '모습': 625, '본': 626, '부럽다': 627, '온': 628, '모': 629, '계속': 630, '입': 631, 'ㅓ': 632, '답': 633, '글': 634, '서다': 635, 'ㅋㅋㅋㅋㅋㅋㅋ': 636, '입다': 637, '풀다': 638, '맨날': 639, '과제': 640, 'ㅋㅋㅋㅋㅋㅋㅋㅋ': 641, '즐기다': 642, '귀': 643, '새롭다': 644, '프': 645, '막': 646, '소설': 647, '보단': 648, '오타쿠': 649, '정도': 650, '출처': 651, '마지막': 652, '뎅': 653, '어쩔': 654, '달라': 655, '문죄인': 656, '아직도': 657, '찍다': 658, 'ㅡ': 659, '아기': 660, '상': 661, '춤': 662, '어제': 663, '짓': 664, '리': 665, '찾다': 666, '일단': 667, '사사오입': 668, '계정': 669, '마마': 670, '어렵다': 671, '주년': 672, '공식': 673, '사진': 674, '포기': 675, '대선': 676, '곧': 677, '감성': 678, '진': 679, '저런': 680, '빠지다': 681, '제일': 682, '양': 683, '뭐라다': 684, '한번': 685, '총': 686, '인지': 687, '패': 688, '첫': 689, 'ㅇㅇ': 690, '아이': 691, '오오': 692, '예스': 693, '기다': 694, '생각나다': 695, '자꾸': 696, '쪽': 697, '트친소': 698, '보수': 699, '고맙다': 700, '사수': 701, 'ㅜㅜㅜ': 702, '시험': 703, 'ㅣ': 704, '새벽': 705, '만나다': 706, '회사': 707, '심하다': 708, '프로': 709, '안녕': 710, '단어': 711, '중이': 712, '역겹다': 713, '재다': 714, '그만하다': 715, '줄다': 716, '뜻': 717, '밀리': 718, '넣다': 719, '참다': 720, '습하다': 721, '멍청하다': 722, '띵': 723, '아무': 724, '회': 725, '싸': 726, '반대': 727, '그림': 728, '치우다': 729, '바뀌다': 730, '다르다': 731, '효': 732, '판': 733, '늦다': 734, '가요': 735, '진자': 736, '타래': 737, '가슴': 738, '크루': 739, '투표': 740, '가능': 741, '인거': 742, '기대': 743, '아빠': 744, '조금': 745, '참가': 746, '닌': 747, '중독': 748, '실': 749, '현실': 750, '실트': 751, '만들기': 752, '잡다': 753, '땡기다': 754, '터': 755, '디씨': 756, '해결': 757, '샵': 758, '토론': 759, '되게': 760, '화가': 761, '걸다': 762, '모글': 763, '힘': 764, '어떤': 765, '생활': 766, '칠': 767, '똥': 768, '화하다': 769, '빨다': 770, '패러디': 771, '붙다': 772, '실패': 773, '찢다': 774, '보징': 775, '캐릭터': 776, '피': 777, '플': 778, '스럽다': 779, '방송': 780, '간다': 781, '특': 782, '학원': 783, '몰다': 784, '사이트': 785, '엄마': 786, 'ㅎㅎㅎ': 787, '술': 788, 'ㅇㅈ': 789, '팬': 790, '존잼': 791, '낼': 792, '달다': 793, '보지': 794, '일상': 795, '멋지다': 796, '수학': 797, '뒤': 798, '아주': 799, '시즌': 800, '억': 801, '약': 802, '대요': 803, '유튜브': 804, '클립': 805, 'ㅠㅠㅠ': 806, '움': 807, '귀찮다': 808, '성인': 809, '음악': 810, '이명': 811, '죽': 812, '창': 813, '하하': 814, '역사': 815, '동생': 816, '아스': 817, '비혼': 818, '심심하다': 819, '어이없다': 820, '버전': 821, 'ㅈ': 822, '관': 823, '확실하다': 824, '노제': 825, '토': 826, '만에': 827, '당연하다': 828, '나나': 829, '레전드': 830, '질문': 831, '끼': 832, '콜라보': 833, '자르다': 834, '호': 835, '연애': 836, '갖다': 837, '솔직하다': 838, 'ㅁㅊ': 839, '개재': 840, '고추': 841, '보고오다': 842, '별': 843, '약간': 844, '앞': 845, '힘내다': 846, '힐링': 847, '죠죠': 848, '고스': 849, '이쁘다': 850, '싸우다': 851, '재미있다': 852, '저희': 853, '구리다': 854, '거의': 855, '우중충하다': 856, '오프': 857, '케이콘': 858, '작다': 859, '스토리': 860, '쇼': 861, '쯤': 862, '다니다': 863, '아침': 864, '올리다': 865, '통': 866, '젊다': 867, '사이': 868, '태': 869, '공포': 870, '착하다': 871, '만이': 872, '캐다': 873, '탓': 874, '이라서': 875, '여러분': 876, '별로': 877, '넌': 878, '코': 879, '엠넷': 880, '극': 881, '길': 882, '결국': 883, '연성': 884, '첨': 885, '에스': 886, '빨': 887, '피곤하다': 888, '모두': 889, '올': 890, '지키다': 891, '앱': 892, '세다': 893, '쏘다': 894, '냥': 895, '애인': 896, '형벌': 897, '끝내다': 898, '시세': 899, '그래서': 900, '오란고교': 901, '얼른': 902, '강경': 903, '이즈': 904, '예쁘다': 905, '삼': 906, '선택': 907, '요정': 908, '현재': 909, '스포': 910, '완료': 911, '관련': 912, '영': 913, '절대': 914, '큰일': 915, '걸리다': 916, '식': 917, '다음주': 918, '눈': 919, '아웃': 920, '그녀': 921, '만큼': 922, '정신차리다': 923, '이라도': 924, '안함': 925, '고르다': 926, '무': 927, '안다': 928, '들어가다': 929, '관심': 930, '캠핑': 931, '처음': 932, '재미없다': 933, '분기': 934, '민국': 935, '이리': 936, '잊다': 937, '취급': 938, '현': 939, '잔': 940, '미쳣': 941, '추미애': 942, '딸': 943, '카': 944, '덮다': 945, '차리다': 946, '만화책': 947, '이고': 948, '디코': 949, '드라마': 950, '결혼': 951, '죄송': 952, '보라': 953, '에도': 954, '찾아보다': 955, '돼지': 956, '뱅': 957, '어디서': 958, '부산': 959, '가면': 960, '공개': 961, '밍': 962, '섹트': 963, '부탁드리다': 964, '동': 965, '에선': 966, '쓸다': 967, '트윗': 968, '레드': 969, '아악': 970, '배틀': 971, '라프텔': 972, '꿈': 973, '마르다': 974, '싹': 975, '의원': 976, '사귀다': 977, '컷': 978, '모으다': 979, '젤': 980, '존': 981, '배그': 982, '핫': 983, '색': 984, '재방': 985, '데스': 986, '가져오다': 987, '준비': 988, '윤석열': 989, '밴드': 990, '쥐': 991, '꽤': 992, '감기': 993, '나이': 994, '수업': 995, '오지': 996, '인걸': 997, '촬영': 998, '화요': 999, '공': 1000, '먼저': 1001, '떨다': 1002, '죄송하다': 1003, '최악': 1004, '그니까': 1005, '연설': 1006, '며': 1007, '썩다': 1008, '이상': 1009, '매': 1010, '꼬리': 1011, '소개': 1012, '먹기': 1013, '달': 1014, '여기다': 1015, '마사지': 1016, '무기': 1017, '유명하다': 1018, '정리': 1019, '정보': 1020, '열다': 1021, '경': 1022, 'ㅇㅈㄹ': 1023, '맛집': 1024, '노잼': 1025, '이해': 1026, '모바일': 1027, '키스': 1028, '더불다': 1029, '심': 1030, '원작': 1031, '근': 1032, '추가': 1033, '가기': 1034, '찝찝하다': 1035, '개웃': 1036, '기네': 1037, '얼': 1038, '주거': 1039, '터지다': 1040, '으로만': 1041, '보시': 1042, '논리': 1043, '내리다': 1044, '천재': 1045, '구나': 1046, '이벤트': 1047, '추억': 1048, '언제나': 1049, '시청': 1050, '빠': 1051, '출장': 1052, '점': 1053, '어르다': 1054, '금지': 1055, '이래서': 1056, '도대체': 1057, '고프다': 1058, '도부': 1059, '재밋다': 1060, '유교': 1061, '꺼': 1062, '틀다': 1063, 'ㅇㄴ': 1064, '정병': 1065, '고요': 1066, '화요일': 1067, '해조': 1068, '블락': 1069, '승리': 1070, '이여': 1071, '미쿠': 1072, '대단하다': 1073, '탈락': 1074, '내용': 1075, '엄청': 1076, '으악': 1077, '대행': 1078, '탄핵': 1079, '천': 1080, '쉬다': 1081, '각': 1082, '척': 1083, '종일': 1084, '금': 1085, '조아하다': 1086, '지르다': 1087, '라면': 1088, '이신': 1089, '걸스': 1090, '겠다': 1091, '거야': 1092, '추석': 1093, '구리': 1094, '존재': 1095, '도서관': 1096, '꼰': 1097, '떨리다': 1098, '타임': 1099, '유미': 1100, '에이': 1101, '물': 1102, '보나': 1103, '플리': 1104, '바로가기': 1105, '헤헤': 1106, '저기': 1107, '고딩': 1108, 'ㄹ': 1109, '휴게소': 1110, '아싸': 1111, '바보': 1112, '신발': 1113, '이상민': 1114, '광고': 1115, '셈': 1116, '구매': 1117, '자고': 1118, '교육': 1119, '잃어버리다': 1120, '민': 1121, '전형': 1122, '초반': 1123, '끌다': 1124, '등장': 1125, '벌': 1126, '아가씨': 1127, '연락': 1128, '끝판': 1129, '이면': 1130, '쿠': 1131, '엔딩': 1132, '그건': 1133, '고민': 1134, '거기': 1135, '여우': 1136, '숙제': 1137, '땅': 1138, '백합': 1139, '캔두': 1140, '김도영': 1141, '실시간': 1142, '바꾸다': 1143, '춥다': 1144, '그저': 1145, '이기': 1146, '겟': 1147, '강제': 1148, '탕': 1149, '돌다': 1150, '야구': 1151, '탈당': 1152, '정권': 1153, '보카로': 1154, '다운': 1155, '징징': 1156, '특기': 1157, '일어나다': 1158, '됏': 1159, '에는': 1160, '놀리다': 1161, '밋': 1162, '곳': 1163, '단': 1164, '문학': 1165, '포함': 1166, '몇번': 1167, '제해': 1168, '방탄소년단': 1169, '검': 1170, '결론': 1171, '키우다': 1172, '왤다': 1173, '파이다': 1174, '떡': 1175, '년대': 1176, '행': 1177, '덕분': 1178, '씨팔': 1179, '가장': 1180, '운동': 1181, '나중': 1182, '수사': 1183, '이안': 1184, '문특': 1185, '좌': 1186, '싸가지': 1187, '웹': 1188, '개구리': 1189, '야애니': 1190, '집권': 1191, '브이': 1192, '집중': 1193, '우파루파': 1194, '차단': 1195, '님들': 1196, '임해': 1197, '얼마나': 1198, '처': 1199, '우울하다': 1200, '염': 1201, '뺏다': 1202, '카페': 1203, '대충': 1204, '라니': 1205, '놓치다': 1206, '부끄럽다': 1207, '아이돌': 1208, 'ㅍ': 1209, '채': 1210, '굴지': 1211, '만원': 1212, '커뮤': 1213, '모임': 1214, '산다': 1215, '재밋는': 1216, '쌀쌀하다': 1217, '사고': 1218, '스페셜': 1219, '한마디': 1220, '모든': 1221, '콜걸': 1222, '미노': 1223, 'ㅂ': 1224, '으아아': 1225, '방': 1226, '된거': 1227, '안티': 1228, '이니': 1229, '대장동': 1230, '류': 1231, '썸': 1232, '물론': 1233, '버러지': 1234, '거래': 1235, '요약': 1236, '평생': 1237, '가나': 1238, '엑': 1239, '순': 1240, '산책': 1241, '율': 1242, '본대': 1243, '빠르다': 1244, '미팅': 1245, '똑같다': 1246, '정의': 1247, '사라지다': 1248, '축축하다': 1249, '여전하다': 1250, '과거': 1251, '가을': 1252, '말로': 1253, '런가': 1254, '클럽': 1255, '이란': 1256, '우중충': 1257, '뛰다': 1258, '언론': 1259, '제법': 1260, '깅': 1261, '범죄자': 1262, '힝': 1263, '남한': 1264, '의미': 1265, '비엘': 1266, '사서': 1267, '경마': 1268, '케': 1269, '살인': 1270, '돌아가다': 1271, '에바': 1272, '재밋어': 1273, '공유': 1274, '결제': 1275, '명곡': 1276, '해도': 1277, '팔면': 1278, '손안': 1279, '백': 1280, '선': 1281, '정신병': 1282, '카톡': 1283, '지옥': 1284, '레트': 1285, '작가': 1286, '예정': 1287, '으아': 1288, '힐': 1289, '어이': 1290, '맛있다': 1291, '이재현': 1292, '가라': 1293, '자살': 1294, '려고': 1295, '그렇게': 1296, '그것': 1297, '노무현': 1298, '충격': 1299, '달리다': 1300, '팔로우': 1301, '빠레뜨': 1302, '중국': 1303, '섹시': 1304, '신규': 1305, '멘트': 1306, '왤케': 1307, '미안': 1308, '육수': 1309, '쥬': 1310, '병원': 1311, '유엔': 1312, '심지어': 1313, '우와': 1314, '착': 1315, '무엇': 1316, '유': 1317, '선생님': 1318, '성격': 1319, '패션': 1320, '공동체': 1321, '행복하다': 1322, '투': 1323, '동안': 1324, '전문': 1325, '흑발': 1326, '이애': 1327, '자동': 1328, '룩': 1329, '늘': 1330, '차라리': 1331, '생': 1332, '버스': 1333, '어리다': 1334, '든': 1335, '마음': 1336, '바람': 1337, '셀카': 1338, '호감': 1339, '오랜': 1340, '치고': 1341, '한편': 1342, '널': 1343, '휘': 1344, '꽃': 1345, '접다': 1346, '희망': 1347, '석': 1348, '칼': 1349, '앉다': 1350, '아트': 1351, '완결': 1352, '친': 1353, '비비다': 1354, '앜': 1355, '스러운': 1356, '사면': 1357, '요일': 1358, '웹툰': 1359, '졸다': 1360, '레': 1361, '나르다': 1362, '오류': 1363, '질': 1364, '닮음': 1365, '부분': 1366, '엔시': 1367, '단체': 1368, '부탁': 1369, '유사': 1370, '화해': 1371, '던': 1372, '걱정': 1373, '중단': 1374, '검색': 1375, '에나': 1376, '하얗다': 1377, '노예': 1378, '닥치다': 1379, '아무래도': 1380, '주인공': 1381, '츠': 1382, '포': 1383, '배달': 1384, '포인트': 1385, '씹덕': 1386, '민주': 1387, '노래방': 1388, '선배': 1389, '지구': 1390, '신경': 1391, '엇음': 1392, '변하다': 1393, '구속': 1394, '필': 1395, '십이': 1396, '값': 1397, '일지': 1398, '배우다': 1399, '네네': 1400, '례술': 1401, '구르다': 1402, '추워지다': 1403, '국회의원': 1404, '급': 1405, '허허': 1406, '개그': 1407, '믄': 1408, '던지다': 1409, '무조건': 1410, '가방': 1411, '주의': 1412, '북': 1413, '오버': 1414, '체인소': 1415, '몸': 1416, '택시': 1417, '이스': 1418, '꺼내다': 1419, '부랄': 1420, '뜯다': 1421, '봣어': 1422, '찾아오다': 1423, '고생': 1424, '약자': 1425, '엇네': 1426, '방탄': 1427, '덕': 1428, '제로': 1429, '눈물나다': 1430, '물다': 1431, '이노': 1432, '한남대': 1433, '기본': 1434, '덕질': 1435, '신다': 1436, '신작': 1437, '웃다': 1438, '보신': 1439, '계시다': 1440, '와우': 1441, '중대': 1442, '마인드': 1443, '항상': 1444, '운': 1445, '경이': 1446, '국가': 1447, '잃다': 1448, '줄이다': 1449, '아미': 1450, '마크': 1451, '뷔': 1452, '페미니즘': 1453, '기획': 1454, '물어보다': 1455, '에여': 1456, '본적': 1457, '김대중': 1458, '카카오': 1459, '파트너': 1460, '습': 1461, '닷': 1462, '미녀': 1463, '그걸': 1464, '야당': 1465, '병': 1466, '가지': 1467, '등산': 1468, '본인': 1469, '라임': 1470, '좀비': 1471, '국정조사': 1472, '쵸': 1473, '장면': 1474, '서비스': 1475, '드': 1476, '금요일': 1477, '설': 1478, '쳣': 1479, '느': 1480, '원트': 1481, '잘리다': 1482, '결선': 1483, '주제': 1484, '잡고': 1485, '왓': 1486, '즐겁다': 1487, '하지만': 1488, '딜러': 1489, '연휴': 1490, '드리다': 1491, '감상문': 1492, '필수': 1493, '시바': 1494, '수원': 1495, '박다': 1496, '제의': 1497, '삶': 1498, '뉴비': 1499, '비슷하다': 1500, '빨갛다': 1501, '인장': 1502, '하라': 1503, '금방': 1504, '산': 1505, '끼리': 1506, '고전': 1507, '빼': 1508, '보상': 1509, '상황': 1510, '에어컨': 1511, '말랑이': 1512, '코로나': 1513, '번역': 1514, '혐': 1515, '코인': 1516, '올려주다': 1517, '구경': 1518, '밀고': 1519, '잡기': 1520, '온대': 1521, '대표': 1522, '접속': 1523, '드립': 1524, '서늘하다': 1525, '푸다': 1526, '빻': 1527, '따먹다': 1528, '애비': 1529, '드림': 1530, '뇌': 1531, '후드': 1532, '밀다': 1533, '떠오르다': 1534, '웬': 1535, '어우': 1536, '재미': 1537, '전용': 1538, '아흔': 1539, '내내': 1540, '똥파리': 1541, '가보': 1542, '더힐살': 1543, 'ㅎㅏ': 1544, '칭찬': 1545, '가지다': 1546, '릴': 1547, '씨야': 1548, '소통': 1549, '디아': 1550, '엘': 1551, '젠': 1552, '제명': 1553, '꼬': 1554, '외전': 1555, '멈추다': 1556, '멸': 1557, '서울': 1558, '나쁘다': 1559, '간': 1560, '꼰대': 1561, '트렌드': 1562, '차이': 1563, '반복': 1564, '이야기': 1565, '리스': 1566, '안햇': 1567, '싸개': 1568, '라이': 1569, '무한': 1570, '땜': 1571, '졸리다': 1572, '중시': 1573, 'ㄱㅊ': 1574, '댓글': 1575, '한다는': 1576, '다이어트': 1577, '라이브': 1578, '복수': 1579, '떨어지다': 1580, '넹': 1581, '댓': 1582, '저러다': 1583, '니깐': 1584, '란': 1585, '솔로': 1586, '망치다': 1587, '극장판': 1588, '젖다': 1589, '째다': 1590, '헛소리': 1591, '선거': 1592, '쥰': 1593, '성감': 1594, '흐엉': 1595, '기어': 1596, '인스타': 1597, '가득하다': 1598, '아무리': 1599, '킹': 1600, '워': 1601, '센치': 1602, '됫': 1603, '싫어하다': 1604, '국어': 1605, '드럽다': 1606, '최': 1607, 'ㅆ': 1608, '곤': 1609, '읍': 1610, '카지노': 1611, '암': 1612, '트': 1613, '낙': 1614, '로만': 1615, '방해': 1616, '샘': 1617, '얇다': 1618, '박살': 1619, '코스프레': 1620, '쟈': 1621, '닮다': 1622, '가지가지': 1623, '도검': 1624, '윤': 1625, '발송': 1626, '용이': 1627, '출연': 1628, '짓다': 1629, '가성': 1630, '관계': 1631, '어머': 1632, '검찰': 1633, '반포': 1634, '프로그램': 1635, '관리': 1636, '사라': 1637, '하이큐': 1638, '혈': 1639, '최근': 1640, '껍데기': 1641, '덩': 1642, '등': 1643, '휴가': 1644, '도덕': 1645, '록': 1646, '캐릭': 1647, '시절': 1648, '쫌': 1649, '치': 1650, '폴라': 1651, '절': 1652, '박': 1653, '벌레': 1654, '똥꼬': 1655, '소소하다': 1656, '감동': 1657, '친추': 1658, '콘서트': 1659, '시원하다': 1660, '딱좋다': 1661, '오기': 1662, '시더': 1663, '분량': 1664, '토끼': 1665, '평균': 1666, '대가리': 1667, '장난': 1668, '쎄다': 1669, '바디': 1670, '망햇': 1671, '해체': 1672, '죽음': 1673, '개미': 1674, '퇴근': 1675, '나야': 1676, '다니엘': 1677, '꺅': 1678, '섹파': 1679, '맑다': 1680, '기전': 1681, '안좋다': 1682, '표': 1683, '아르': 1684, '불꽃': 1685, '표정': 1686, '고양이': 1687, '복': 1688, '마마마': 1689, '흠': 1690, '루파': 1691, '치킨': 1692, '이구만': 1693, '냅다': 1694, '도안': 1695, '대화': 1696, '우우': 1697, '해외': 1698, '틀어놓다': 1699, '조용하다': 1700, '이미테이션': 1701, '가입': 1702, '패기': 1703, '과학': 1704, '쌤': 1705, '커피': 1706, '배': 1707, '뿌리': 1708, '제나': 1709, '샷': 1710, '등신': 1711, '인증': 1712, '리더': 1713, '퀸': 1714, '이든': 1715, '마도': 1716, '제스': 1717, '뿐이다': 1718, '작업': 1719, '김태형': 1720, '쯔꾸르': 1721, '포카': 1722, '왜케': 1723, '참고': 1724, '매력': 1725, '재현': 1726, '유혹': 1727, '개새끼': 1728, '업자': 1729, '마작': 1730, '해먹': 1731, '대전': 1732, '만하': 1733, '다가': 1734, '상태': 1735, '레이': 1736, '경기': 1737, '멤버': 1738, '조심': 1739, '주소': 1740, '볼때': 1741, '종전': 1742, '선언': 1743, '잔뜩': 1744, '자라': 1745, '귤': 1746, '사기': 1747, '미국': 1748, '하아': 1749, '새다': 1750, '어쩌': 1751, '어캄': 1752, '잘못': 1753, '께': 1754, '퇴직금': 1755, '기르다': 1756, '요새': 1757, '엉덩이': 1758, '뒷': 1759, '아크릴': 1760, '모름': 1761, '분들': 1762, '거지': 1763, '자주': 1764, '돌이': 1765, '치매': 1766, '체': 1767, '먹음': 1768, '공주': 1769, '마스크': 1770, '벗다': 1771, '잔인하다': 1772, '스포츠': 1773, '범죄': 1774, '명작': 1775, '마자': 1776, '섹시하다': 1777, '안나': 1778, '백신': 1779, '젠장': 1780, '자해': 1781, '간첩': 1782, '랑스': 1783, '파랑': 1784, '침': 1785, '오래': 1786, '용다': 1787, '원피스': 1788, '함께': 1789, '결': 1790, '차갑다': 1791, '인류': 1792, '책임지다': 1793, '맘': 1794, '오타': 1795, '가만히': 1796, '업': 1797, '윽': 1798, '깨다': 1799, '루': 1800, '싸움': 1801, '파주': 1802, '주말': 1803, '서버': 1804, '처리': 1805, '댄스': 1806, '파이팅': 1807, '잠깐': 1808, '보구': 1809, '므찌다': 1810, '톤': 1811, '맞추다': 1812, '디게': 1813, '범인': 1814, '앨범': 1815, '어디가': 1816, '리지': 1817, '졋': 1818, '슈': 1819, '줍다': 1820, '시르다': 1821, '펄': 1822, '인정': 1823, '가치': 1824, '가비': 1825, '아깝다': 1826, '에서만': 1827, '팩스': 1828, '위해': 1829, '송훈': 1830, '도입': 1831, '옳다': 1832, '개혁': 1833, '가능하다': 1834, '다녀오다': 1835, '교수': 1836, '놀이': 1837, '리뷰': 1838, '주최': 1839, '재밋음': 1840, 'ㅌ': 1841, '녹화': 1842, '이민': 1843, '흥': 1844, '역': 1845, '피스': 1846, '전국': 1847, '지우다': 1848, '북괴': 1849, '겨': 1850, '온라인': 1851, '노동요': 1852, '대학': 1853, '로군': 1854, '완도': 1855, '별안간': 1856, '신들': 1857, '파이': 1858, '내년': 1859, '상승': 1860, '홍천': 1861, '겹': 1862, '나노': 1863, '유일하다': 1864, '그린': 1865, '뭔들': 1866, '손녀': 1867, '치카': 1868, '좃같': 1869, '기원': 1870, '리나': 1871, '카이지': 1872, '팩트': 1873, '때리다': 1874, '사상': 1875, '건강': 1876, '동방': 1877, '느그': 1878, '안방': 1879, '평택': 1880, '포승': 1881, '낮잠': 1882, '소음': 1883, '오마이갓': 1884, '아래': 1885, '생리': 1886, '중간': 1887, '끌': 1888, '잡지': 1889, '똑똑하다': 1890, '혀': 1891, '방법': 1892, '홀리': 1893, '진보': 1894, '초딩': 1895, '심다': 1896, '질알': 1897, '인터넷': 1898, '멈님': 1899, '계란': 1900, '끊다': 1901, '대결': 1902, '사퇴': 1903, '즁': 1904, '지리다': 1905, '베이': 1906, '시스': 1907, '필요하다': 1908, '영덕': 1909, '글래머': 1910, '메탈': 1911, '겁나다': 1912, 'ㄱㅋ': 1913, '통해': 1914, '비키니': 1915, '조중동': 1916, '낙파': 1917, '도르다': 1918, '순서': 1919, '디노': 1920, '팔지마다': 1921, '로리콘': 1922, '흐': 1923, '왓어': 1924, '경기도': 1925, '창피하다': 1926, '벼': 1927, '어유': 1928, '추리소설': 1929, '직원': 1930, '관종': 1931, '햇살': 1932, '삐지다': 1933, '풀풀': 1934, '십덕': 1935, 'ㅁㅏ': 1936, '뱀': 1937, '가즈': 1938, '피식': 1939, '구합': 1940, '리스트': 1941, '블로그': 1942, '자유': 1943, '누': 1944, '분해': 1945, '붕괴': 1946, '눕다': 1947, '가끔': 1948, 'ㅃ': 1949, '곰': 1950, '홈런': 1951, '는가': 1952, '연예인': 1953, '틱톡': 1954, '그러니까': 1955, '컴퓨터': 1956, '달린다': 1957, 'ㅈㄹ': 1958, '꿈속': 1959, '부리다': 1960, '날조': 1961, '찍': 1962, '수행': 1963, '적폐': 1964, '엇어': 1965, '슈퍼': 1966, '마약': 1967, '쩔다': 1968, '커플': 1969, '식이': 1970, '진도': 1971, '의상': 1972, '신청': 1973, '스케줄': 1974, '붐': 1975, '남북': 1976, '동기화': 1977, '화나다': 1978, '만물': 1979, '낚시': 1980, '눈뜨다': 1981, '퇴': 1982, '물이': 1983, '두산': 1984, '슬': 1985, '돌아오다': 1986, '과의': 1987, '군생활': 1988, '해롭다': 1989, '스우': 1990, '애매하다': 1991, '적반하장': 1992, '몰래': 1993, '마스': 1994, '손님': 1995, '준호': 1996, '버블': 1997, '재민': 1998, '본격': 1999, '스타일': 2000, '마트': 2001, '개비': 2002, '합동': 2003, '본부': 2004, '박정희': 2005, '태우다': 2006, '예지': 2007, '이대로': 2008, '비참하다': 2009, '찔끔': 2010, '생겻': 2011, '현질': 2012, '지나가다': 2013, '에어팟': 2014, '작품': 2015, '메인': 2016, '커뮤니티': 2017, '쿠라': 2018, '비유': 2019, '왠지': 2020, '어울림': 2021, '이거지': 2022, '분명': 2023, '로그': 2024, '대해': 2025, '어게인': 2026, '오히려': 2027, '달리기': 2028, '부스': 2029, '달성': 2030, '페이스': 2031, '붉다': 2032, 'ㅇㅅㅁ': 2033, '낙지': 2034, '홍': 2035, '심해': 2036, '떤다': 2037, '지독하다': 2038, '도영': 2039, '울트라': 2040, '삐삐': 2041, '멸치': 2042, '도피': 2043, '기여': 2044, '흐려지다': 2045, '예약': 2046, '그딴': 2047, '사춘기': 2048, '천러': 2049, '올해': 2050, '하니': 2051, '라나': 2052, '윤석렬': 2053, '심장': 2054, '게뭐': 2055, '배고프다': 2056, '도마뱀': 2057, '다가오다': 2058, '도착': 2059, '이따': 2060, '끔찍하다': 2061, '캐리': 2062, '헤에': 2063, '한몫': 2064, '파판': 2065, '노트북': 2066, '일본어': 2067, '탈': 2068, '바라다': 2069, '린': 2070, '유지': 2071, '시끄럽다': 2072, '펜': 2073, '갯': 2074, '마을': 2075, '애초': 2076, '나머지': 2077, '개꿀': 2078, '빌리다': 2079, '장녀': 2080, '버': 2081, '굉장하다': 2082, '바가지': 2083, '디지다': 2084, '이용': 2085, '메레': 2086, '일로': 2087, '감방': 2088, '에리': 2089, '손절': 2090, '이양': 2091, '순식간': 2092, '욕먹다': 2093, '느리다': 2094, '추방': 2095, 'ㅇㅎ': 2096, '베이직': 2097, '호러': 2098, '낭': 2099, '거머리': 2100, '여당': 2101, '추첨': 2102, '전락': 2103, '보이지': 2104, '사장': 2105, '외국': 2106, '긔엽다': 2107, '블라바츠키': 2108, '홍시': 2109, '에다': 2110, '최대': 2111, '매일': 2112, '지브리': 2113, '회춘': 2114, '헬': 2115, '진입': 2116, '거름': 2117, '한지': 2118, '홀': 2119, '공이': 2120, '성동': 2121, '딱하다': 2122, '계절': 2123, '붙이다': 2124, '뿌리다': 2125, '남편': 2126, '파워': 2127, '나대다': 2128, '예고편': 2129, '짜릿하다': 2130, '메이트': 2131, '어째서': 2132, '편집': 2133, '거구': 2134, '버티다': 2135, '무능하다': 2136, '질리다': 2137, 'ㅈㅅ': 2138, '길다': 2139, '간만': 2140, '세계': 2141, '정답': 2142, '바지': 2143, '적당하다': 2144, '스팀': 2145, '박찬종': 2146, '열리다': 2147, '부천': 2148, '연습': 2149, 'ㅛ': 2150, '링크': 2151, '썅놈': 2152, '죵': 2153, '북한': 2154, '마냥': 2155, '세력': 2156, '월동': 2157, '제주': 2158, '논현': 2159, 'ㅜㅜㅜㅜ': 2160, '으앙': 2161, '이군': 2162, '한국어': 2163, '르': 2164, '알바': 2165, '꼴리다': 2166, '화장실': 2167, '꼬이다': 2168, 'ㅔㅇ': 2169, '저렇게': 2170, '송영길': 2171, '일산': 2172, '한남동': 2173, '살기': 2174, '훤': 2175, '포커': 2176, '강동원': 2177, '세기': 2178, '망치': 2179, '슬기': 2180, '보노': 2181, '어딜': 2182, '오토': 2183, '취소': 2184, '스트림': 2185, '저번': 2186, '후후': 2187, '씨잘': 2188, '적응': 2189, '교': 2190, '결말': 2191, '애니메이트': 2192, '파샤': 2193, '강추': 2194, '생존': 2195, '씼': 2196, '미리': 2197, '어쩐지': 2198, '나우': 2199, '페북': 2200, '캠프': 2201, '제보': 2202, '귀요미': 2203, '발라드': 2204, '일리': 2205, '잔잔하다': 2206, '믹': 2207, '전북': 2208, '그립다': 2209, '외침': 2210, '청': 2211, '쩔': 2212, '나인': 2213, '막걸리': 2214, '지경': 2215, '차로': 2216, '부정선거': 2217, '위선': 2218, '시각': 2219, '잠들다': 2220, '하늘': 2221, '구름': 2222, '만난': 2223, '상자': 2224, '변호사': 2225, '최종': 2226, '국면': 2227, '화만': 2228, '어둡다': 2229, '배경화면': 2230, '신가': 2231, '개도': 2232, '안물': 2233, '쇼타': 2234, '닉': 2235, '설치': 2236, '븅': 2237, '아치': 2238, '다스': 2239, '스우파': 2240, '믿음': 2241, '번째': 2242, '멍': 2243, '종로': 2244, '드레': 2245, '호호': 2246, '의외로': 2247, '매국': 2248, '페르소나': 2249, '황상훈': 2250, '축': 2251, '파시': 2252, '여름': 2253, '거나': 2254, '주로': 2255, '존경': 2256, '보성': 2257, '위험': 2258, '먹히다': 2259, '전기': 2260, '효과': 2261, '노동': 2262, '전부': 2263, '타오': 2264, '메다': 2265, '나가야': 2266, '갈기': 2267, '영등포': 2268, '모니카': 2269, '암세포': 2270, '발악': 2271, '키즈': 2272, '해봤다': 2273, '돠': 2274, '욥': 2275, '신나다': 2276, '시나리오': 2277, '족발': 2278, '이를': 2279, '묻다': 2280, '연합': 2281, '윤호중': 2282, '어떡': 2283, '파스': 2284, 'ㅋㅋㅋㅋㅋㅋㅋㅋㅋㅋ': 2285, '사시': 2286, '컨디션': 2287, '목록': 2288, '피어싱': 2289, '퍼': 2290, '갈래': 2291, '신기': 2292, '돋다': 2293, '썅': 2294, '대회': 2295, '인용': 2296, '미디어': 2297, '폐해': 2298, '긋다': 2299, '서구': 2300, '뭐더': 2301, '븐': 2302, '비올': 2303, '히트': 2304, '용어': 2305, '오시': 2306, '큐': 2307, '밝히다': 2308, '나와라': 2309, '사이즈': 2310, '메이플': 2311, '경희대': 2312, '출신': 2313, '카오루': 2314, '담양': 2315, '팬미팅': 2316, '마이크': 2317, '집회': 2318, '오피': 2319, '한계': 2320, '육성': 2321, '째': 2322, '그네': 2323, 'ㅠㅠㅠㅠㅠㅠ': 2324, '빌다': 2325, '가챠': 2326, 'ㅎㄹ': 2327, '만렙': 2328, '수도': 2329, '주식': 2330, '배팅': 2331, '언급': 2332, '너그럽다': 2333, '흘리다': 2334, '닉넴': 2335, '페': 2336, '디컬': 2337, '이어폰': 2338, '살아가다': 2339, '팅': 2340, '매우': 2341, '자징': 2342, '거듭': 2343, '순위': 2344, '뚱땡이': 2345, '허상': 2346, '토라': 2347, '점점': 2348, '걔': 2349, '농구': 2350, '수혈': 2351, '신고': 2352, '안전': 2353, '선정': 2354, '반응': 2355, '빱': 2356, '강하다': 2357, '휴대폰': 2358, '오후': 2359, 'ㅉ': 2360, '점령': 2361, '듬': 2362, '아끼다': 2363, '도전': 2364, '만세': 2365, '여보': 2366, '아이디': 2367, '비스': 2368, '리암': 2369, '나진': 2370, '짜지다': 2371, '거대': 2372, '청불': 2373, '달달': 2374, '번개': 2375, '꼬치': 2376, '바이': 2377, '핥다': 2378, '일만': 2379, '로맨스': 2380, '는걸': 2381, '계급': 2382, '말리다': 2383, '인형': 2384, '기억': 2385, '들키다': 2386, '이수만': 2387, '말씀': 2388, '하이': 2389, '던파': 2390, '인천': 2391, '저주': 2392, '바니': 2393, '데얼': 2394, '나또': 2395, '보장': 2396, '남돌': 2397, '가사': 2398, '볶음': 2399, '원하다': 2400, '해드리다': 2401, '음원': 2402, '오프닝': 2403, '영리': 2404, '저걸': 2405, '어흑': 2406, '나잇': 2407, '구림': 2408, '길가': 2409, '왓음': 2410, '말기': 2411, '스카이': 2412, '지영': 2413, '오엠쥐': 2414, '화로': 2415, '벽': 2416, '그룹': 2417, '뫄님': 2418, '극장': 2419, '아베': 2420, '아애': 2421, '우산': 2422, '음주': 2423, '연희': 2424, '리틀': 2425, '캔': 2426, '플레이': 2427, '살해': 2428, '케재밋': 2429, '협': 2430, '꼬평': 2431, '국짐': 2432, '뒤졋으': 2433, '안무': 2434, '앤': 2435, '위도': 2436, '맑은': 2437, '몫': 2438, '폭탄': 2439, '폭파': 2440, '기븐': 2441, '오케이': 2442, '얼싸다': 2443, '전직': 2444, '기두': 2445, '달려가다': 2446, '폐': 2447, '분당': 2448, '개발자': 2449, '인성': 2450, '간자': 2451, '북조선': 2452, '대한': 2453, '쓸모': 2454, '홍원': 2455, '팝콘': 2456, '설계': 2457, '은퇴': 2458, '쉑': 2459, '꼽': 2460, '차려': 2461, '건강하다': 2462, '사이코패스': 2463, '랴': 2464, '열심': 2465, '불법': 2466, '씩': 2467, 'ㅠㅠㅠㅜ': 2468, '봉': 2469, '삿': 2470, '만두': 2471, '트젠': 2472, '인기': 2473, 'ㅋㅋㅋㅋㅋㅋㅋㅋㅋㅋㅋㅋㅋㅋ': 2474, '일종': 2475, '먹고다': 2476, '더니': 2477, '이요': 2478, '상관없다': 2479, '슴': 2480, '조사': 2481, '상우': 2482, '앗다': 2483, '군용': 2484, '보유': 2485, '반박': 2486, '숨다': 2487, '본능': 2488, '킬': 2489, '미미': 2490, '할배': 2491, '블': 2492, '적다': 2493, '마도카': 2494, '전남친': 2495, '아카기': 2496, '방송국': 2497, '뇨': 2498, 'ㅋㅋㅋㅋㅋㅋㅋㅋㅋ': 2499, '이분': 2500, '괴롭히다': 2501, '머스': 2502, '책사': 2503, '욧': 2504, '좃': 2505, '자영': 2506, '쌍': 2507, '기엽다': 2508, 'ㅠㅠㅜㅠ': 2509, '육아': 2510, '남성': 2511, '디피': 2512, '선물': 2513, '지는': 2514, '것임': 2515, '담다': 2516, '퍽퍽': 2517, '시체': 2518, '중임': 2519, '지름': 2520, '대기': 2521, '에피': 2522, '다큐': 2523, '븅신': 2524, '가만두다': 2525, '춤추다': 2526, '희다': 2527, '래퍼': 2528, '성공': 2529, '미나': 2530, '안양': 2531, '떡볶이': 2532, '묵다': 2533, '뜨겁다': 2534, '공책': 2535, '지도': 2536, '넷플릭스': 2537, '힣': 2538, '천년': 2539, '광광': 2540, '집안': 2541, '라니까': 2542, '구슬': 2543, '뇌절': 2544, '바닥': 2545, '갈겨': 2546, 'ㅁㄹ': 2547, '보다는': 2548, '넘어가다': 2549, '지네': 2550, '축하': 2551, '춘천': 2552, 'ㅇㅈㅁ': 2553, '든지': 2554, '승만': 2555, '이어서': 2556, '괘씸하다': 2557, '혼란': 2558, '빅': 2559, '미션': 2560, '맘대로': 2561, '떼': 2562, '중고': 2563, '판매': 2564, '팔다': 2565, '살생': 2566, '료': 2567, '시티': 2568, '레디': 2569, '더빙': 2570, '럼': 2571, '미방': 2572, '호랑': 2573, '예수': 2574, '취': 2575, '무시': 2576, '정상': 2577, '결과': 2578, '자가': 2579, '최신': 2580, '에너지': 2581, 'ㅉㅉ': 2582, '은혼': 2583, '컵': 2584, '코우': 2585, '선관위': 2586, '나누다': 2587, '프리': 2588, '뭐애': 2589, '어떻': 2590, '넣기': 2591, '셔': 2592, '왕자': 2593, '몰두하다': 2594, '농담': 2595, '분위기': 2596, '쉿': 2597, '아프다': 2598, '마감': 2599, '뻔': 2600, '혁명': 2601, '이딴': 2602, '자막': 2603, '헌': 2604, '데뷔': 2605, '기준': 2606, '태어나다': 2607, '이틀': 2608, '속상하다': 2609, '조종': 2610, '번호': 2611, '장사': 2612, '화법': 2613, '가득': 2614, '로얄': 2615, '훈남': 2616, '유럽': 2617, '풍': 2618, '우욱': 2619, '출근': 2620, '우울': 2621, '친소': 2622, '살리다': 2623, '갈아': 2624, '포켓몬': 2625, '뒷걸음질': 2626, '질질': 2627, '쌈': 2628, '놀라다': 2629, '입문': 2630, '와이': 2631, '쓰르라미': 2632, '가격': 2633, '앙큼하다': 2634, '남정': 2635, '쓰기': 2636, '방임': 2637, '총회': 2638, '이바': 2639, '지역': 2640, '어버버': 2641, '뽑히다': 2642, '나오니': 2643, '친미': 2644, '데바': 2645, '페이': 2646, '짙다': 2647, '대중': 2648, '등등': 2649, '랄': 2650, '잘알다': 2651, '띠': 2652, '플로우': 2653, '그때': 2654, '카라': 2655, '에겐': 2656, '르드': 2657, '구독': 2658, '그릇': 2659, '전통': 2660, '로그라이크': 2661, '가문': 2662, '혈육': 2663, '부치다': 2664, '보통': 2665, '메우다': 2666, '톡': 2667, '후회': 2668, '컨셉': 2669, '자의식': 2670, '과잉': 2671, '쿠테타': 2672, '갘': 2673, '원주': 2674, '뉴': 2675, '신건': 2676, '랜덤': 2677, '채팅': 2678, '오열': 2679, '바바': 2680, '이드': 2681, '잘해야': 2682, '필요없다': 2683, '낫': 2684, '단간': 2685, '느끼다': 2686, '아줌마': 2687, '멘션': 2688, '자아': 2689, '분열': 2690, '옆': 2691, '다리': 2692, '가왜': 2693, '음지': 2694, '훔치다': 2695, '소프트': 2696, '남혐': 2697, '퀄리티': 2698, '대신': 2699, '자리': 2700, '버즈': 2701, '아이고': 2702, '챠': 2703, '행위': 2704, '닉네임': 2705, '질투': 2706, '없애다': 2707, '경치': 2708, '딩': 2709, '이씨': 2710, '지지율': 2711, '뚱뚱하다': 2712, '잘생겻다': 2713, '외': 2714, '설정': 2715, '리제': 2716, '싱': 2717, '려': 2718, '코딱지': 2719, '유저': 2720, '풀기': 2721, '코딩': 2722, '전사': 2723, '환영': 2724, '브금': 2725, '구만': 2726, '기절': 2727, '마이': 2728, '사보다': 2729, '보석': 2730, '충전': 2731, '군대': 2732, '기념': 2733, '밤': 2734, '왓챠': 2735, '슬슬': 2736, '소재': 2737, '스우팤': 2738, '골': 2739, '익히다': 2740, '룰루': 2741, '초': 2742, '한숨': 2743, '이상은': 2744, '못자다': 2745, '모야': 2746, '수입': 2747, '단독': 2748, '빠바밤': 2749, '미사': 2750, '파도': 2751, '어휴': 2752, '답변': 2753, '발표': 2754, '단발': 2755, '신기하다': 2756, '캐럿': 2757, '투자': 2758, '레알': 2759, '할갑다': 2760, '바르다': 2761, '죄': 2762, '귀멸': 2763, '완': 2764, 'ㅈㅉ': 2765, '맥스': 2766, '치비': 2767, '킴': 2768, '문준': 2769, '신판': 2770, '휑': 2771, '내야': 2772, '주사기': 2773, '문경시': 2774, '훈녀': 2775, '육': 2776, '남기다': 2777, '이불': 2778, '불': 2779, '도로': 2780, '피시': 2781, '수완': 2782, '보쟈': 2783, '에만': 2784, '쿨': 2785, 'ㅠㅠㅠㅠㅠ': 2786, '진정하다': 2787, '어메이징': 2788, '생방': 2789, '의자': 2790, '림': 2791, '뒷북': 2792, '안바': 2793, '옹': 2794, '빵': 2795, '코드': 2796, '마루': 2797, '어둠': 2798, '로는': 2799, '방구': 2800, '애기': 2801, '조짐': 2802, '난리': 2803, 'ㅅㅇㅍ': 2804, '알림': 2805, '업적': 2806, 'ㅂㄷㅂㄷ': 2807, '실화': 2808, '중앙': 2809, '먹방': 2810, '호남': 2811, '샤워': 2812, '히스': 2813, '아자': 2814, '애니메이션': 2815, '컴터': 2816, '숨': 2817, '엇을': 2818, '헤이': 2819, '꼬추': 2820, '변태': 2821, 'ㅇㅅㅇ': 2822, '새삼': 2823, '멋있다': 2824, '상식': 2825, '효녀': 2826, '길이': 2827, '벌칙': 2828, '이지만': 2829, '코로': 2830, '비밥': 2831, '한심하다': 2832, '글자': 2833, '청춘': 2834, '나기': 2835, 'ㅠㅠㅠㅠㅠㅠㅠㅠㅠ': 2836, '달방': 2837, '나볼': 2838, '파란': 2839, '타인': 2840, '어깨': 2841, '즉석': 2842, '테스트': 2843, '안마': 2844, '파티': 2845, '도박': 2846, '찰떡': 2847, '충남': 2848, '제작': 2849, '당원': 2850, '파악': 2851, '터벅': 2852, '죄인': 2853, '잡': 2854, '선동': 2855, '능력': 2856, '으으': 2857, '으윽': 2858, '거뭐': 2859, '급하다': 2860, '보오': 2861, '콘솔': 2862, '달걀': 2863, '플래닛': 2864, 'ㅌㅂㅌ': 2865, '유튭': 2866, '열공': 2867, '외면': 2868, '트이다': 2869, '전정국': 2870, '만욱': 2871, '미워하다': 2872, '애꿎': 2873, '노려보다': 2874, '머머': 2875, '필터': 2876, '링': 2877, '오마이': 2878, '쉅': 2879, '대야': 2880, '줫으': 2881, '바캉스': 2882, '녕': 2883, '스폐셜': 2884, '카케': 2885, '구루': 2886, '쿠다': 2887, '드라이브': 2888, '제논': 2889, '아니긔': 2890, '제로니모': 2891, '묶다': 2892, '다솜': 2893, '개발이익': 2894, '흥틀': 2895, '야바위': 2896, '타장르': 2897, '개열': 2898, '왕남': 2899, '공통점': 2900, '게시': 2901, '유물': 2902, '김여정': 2903, '캉다': 2904, '잊프들': 2905, '모나': 2906, '런닝맨': 2907, '이준혁': 2908, '펨섭': 2909, '공주대': 2910, '여성향': 2911, '어나': 2912, '완존': 2913, '한국사': 2914, '피고': 2915, 'ㅇㅣㅁㅏ': 2916, '우린': 2917, '주우': 2918, '왼쪽': 2919, '사일런트': 2920, '크라이': 2921, '적극': 2922, '둘리': 2923, '앱뒤': 2924, 'ㅇㅇㅋㅋ': 2925, '예상': 2926, '릐즤': 2927, '오슷': 2928, '지혜': 2929, '마구': 2930, '벅차오르다': 2931, '사르': 2932, '볌': 2933, '별거': 2934, '방이': 2935, '우리엄마': 2936, '와줫음': 2937, '파파': 2938, '꿋꿋': 2939, '가하님': 2940, '비걸': 2941, '경비': 2942, '어휘': 2943, '쌍방': 2944, '라이트': 2945, '씨댕': 2946, '검열': 2947, '다삿었': 2948, '일판': 2949, '산기': 2950, '양장본': 2951, '얻어먹다': 2952, '뭣': 2953, '테이블': 2954, '멸망': 2955, '금골': 2956, '복면': 2957, '나왓음': 2958, '브': 2959, '파오': 2960, '금니': 2961, '국개': 2962, '놀이터': 2963, '몸매': 2964, '탁': 2965, '지지자': 2966, '아바타': 2967, '지루함': 2968, '신세대': 2969, '건조하다': 2970, '군포': 2971, 'ㅅㅂㅋㅋ': 2972, '겟잇뷰티': 2973, '소리치다': 2974, 'ㅏㅏㅏㅏㅏㅏㅏ': 2975, '망무': 2976, '관부': 2977, '혈발': 2978, '마라샹궈': 2979, '로우': 2980, '수염': 2981, '인상': 2982, '냉철하다': 2983, '샌드박스': 2984, '통진당': 2985, '리트윗': 2986, '쩌는': 2987, '제인': 2988, '지식인': 2989, '옃': 2990, '구판': 2991, '헤으응': 2992, '황': 2993, '여러': 2994, '모로': 2995, '계열': 2996, '어째스까': 2997, '집안일': 2998, '모루': 2999, '좐': 3000, '어징오': 3001, '이콘': 3002, '엇옹': 3003, '믹틀란': 3004, '아즈텍': 3005, '사제': 3006, '거니': 3007, 'ㄱㄱㄱㄱㄱ': 3008, '감히': 3009, '히오스': 3010, '좌증': 3011, '짖다': 3012, '홀로': 3013, '아리랑': 3014, '님게임': 3015, '고만하다': 3016, '디엠': 3017, '승연이': 3018, '슢슽': 3019, '조은하루': 3020, '즐추': 3021, '기장': 3022, '스타벅스': 3023, '후집': 3024, '내공': 3025, '예산': 3026, '슬픔': 3027, '다미': 3028, '읍니': 3029, '샹섕': 3030, '대명사': 3031, '웃': 3032, '자신감': 3033, '고호경': 3034, '괜츈해욬': 3035, '셋': 3036, '한데': 3037, '덕수': 3038, '꽤괜탄': 3039, 'ㄹㅊ': 3040, '은데': 3041, '환율': 3042, '변화': 3043, '창작': 3044, '학과': 3045, '거제': 3046, '시타': 3047, 'ㅁㅈㅇ': 3048, '혹독하다': 3049, '지휘': 3050, '법무': 3051, '장관': 3052, '레어': 3053, '와인': 3054, '문호': 3055, '빨갱이': 3056, '노무': 3057, '화장품': 3058, '밖': 3059, 'ㄴㅁ': 3060, '기대다': 3061, '묘미': 3062, '자금': 3063, '가만': 3064, '다름없다': 3065, '난이': 3066, '기지': 3067, '거들다': 3068, '짅': 3069, 'ㅋㄱ': 3070, '분노': 3071, '적립': 3072, '화석': 3073, '발굴': 3074, '제휴': 3075, '스우파안봄': 3076, '가볍다': 3077, '중인': 3078, '립': 3079, '집어넣다': 3080, '춋토': 3081, '짱하다': 3082, '갸악': 3083, '델챕': 3084, '치이다': 3085, '크레니히': 3086, '성남시': 3087, '공공': 3088, '이익': 3089, '사쿠라': 3090, '이치로': 3091, '수람': 3092, '격일': 3093, '조아': 3094, '햐': 3095, '응원': 3096, '무려': 3097, '헐레벌떢': 3098, '궂응': 3099, '햤다': 3100, 'ㄹㅊㄱ': 3101, '도중': 3102, '일댤': 3103, '양장': 3104, '하드커버': 3105, '뻔하다': 3106, '이뿌다': 3107, '선거법': 3108, '다사': 3109, '엠': 3110, '수림': 3111, 'ㅛㅡ': 3112, '프세카어쩌': 3113, '어쩌고': 3114, '재방송': 3115, '땜시': 3116, '로제': 3117, '알리야': 3118, '담': 3119, '부턴': 3120, '땐': 3121, '뮤트': 3122, '놑북꼭': 3123, '불친절하다': 3124, '븥이': 3125, '박력': 3126, '물건': 3127, '로리': 3128, '넬': 3129, '추욱': 3130, '주변': 3131, '예술': 3132, '재밋겟': 3133, '제밌음': 3134, '홍대': 3135, '호루라기': 3136, '개란': 3137, '여행기': 3138, '환승': 3139, '긔스': 3140, '보긔': 3141, '쥴': 3142, '어느': 3143, '본전': 3144, '덜하다': 3145, '힙한척': 3146, '해바': 3147, '싸이다': 3148, '연장': 3149, '성모': 3150, '시계': 3151, '이레귤러': 3152, '우익': 3153, '덕구': 3154, '청년': 3155, '간독': 3156, '햇읍': 3157, '욕함': 3158, '땡': 3159, '지출': 3160, '뚜벅': 3161, '액자': 3162, '공손하다': 3163, '호석': 3164, '와나': 3165, 'ㅋㅎㅋㅎㅋㅎㅋㄹ': 3166, 'ㅋㅌㅌㅋㅋ': 3167, '클튜': 3168, '치면': 3169, '에서의': 3170, '거짓': 3171, '요즌': 3172, '거세': 3173, '쨍': 3174, '책상': 3175, '광활하다': 3176, '기리보이': 3177, '쿠키런': 3178, '과외': 3179, '어쩌라고': 3180, '일반': 3181, '유권자': 3182, '없을껄': 3183, '보다도': 3184, '비게퍼': 3185, '노트': 3186, '마님': 3187, '죨라잘생겻어': 3188, '개재밋': 3189, '그런데': 3190, '황준호': 3191, '동급생': 3192, '불안하다': 3193, '찌코': 3194, '원픽': 3195, '이신가': 3196, '붙이': 3197, '조작': 3198, 'ㅎㅌㅊ': 3199, '고고씽': 3200, '다수결': 3201, '룻': 3202, '헤메': 3203, '시벌': 3204, '행패': 3205, '뚫어지다': 3206, '쳐다보다': 3207, '피해': 3208, '의식': 3209, '제천시': 3210, '후광': 3211, '빽': 3212, '서부': 3213, '스패파': 3214, '싹통': 3215, '윤사': 3216, '똥개': 3217, '무식하다': 3218, '신성하다': 3219, '도감': 3220, '정확': 3221, '도어': 3222, '무지': 3223, '홈': 3224, '년도': 3225, '쇼토': 3226, '샤오미': 3227, '징징거리다': 3228, '쭝국': 3229, '레식': 3230, '위주': 3231, '이론': 3232, '회복하다': 3233, '히틀러': 3234, '구글': 3235, '캘린더': 3236, '기록': 3237, '쫄깃쫠': 3238, '깃': 3239, '무재': 3240, '밋잔': 3241, '돈까스': 3242, '악임': 3243, '키키': 3244, '동국': 3245, '해산': 3246, '박교진': 3247, '데박': 3248, '전동칫솔': 3249, '잇몸': 3250, '국수호': 3251, '추살': 3252, '시대': 3253, 'ㅋㅡㅋ': 3254, '뭐랆': 3255, '머머멍': 3256, '나왓': 3257, '무도': 3258, '말햇': 3259, '베설': 3260, '만능': 3261, '카터': 3262, '아웃도어': 3263, '도련님': 3264, '연하': 3265, '생떽쥐베리': 3266, '보아뱀': 3267, '물씬': 3268, '초밥': 3269, '즐': 3270, '중남': 3271, '암기력': 3272, '범진': 3273, '플레리': 3274, '스팽': 3275, '제작사': 3276, '부럽드': 3277, '수용': 3278, '고백': 3279, '스쿠에': 3280, '겻': 3281, '엿같': 3282, '와아아': 3283, '목떡뇌절': 3284, '호모': 3285, 'ㅍㅏ': 3286, '들뜨다': 3287, '검찰총장': 3288, '개빡쵸': 3289, '권선구': 3290, '미쳤냨': 3291, 'ㅓㄴ': 3292, '네나': 3293, '유머': 3294, '윰세': 3295, '옹졸하다': 3296, '한글': 3297, '공략': 3298, '가이드': 3299, '팁': 3300, '대미': 3301, '이정후': 3302, '킹징': 3303, '쫄깃쫄깃하': 3304, '다나': 3305, '비도': 3306, '왜이랭': 3307, '품': 3308, '고살': 3309, '환단고기': 3310, '초록': 3311, '동색': 3312, '미련': 3313, '베타': 3314, '대지': 3315, '개좆': 3316, '갸챠': 3317, '플랫슈즈': 3318, '칭호': 3319, '색도': 3320, '효자': 3321, '월드컵': 3322, '어린시절': 3323, '리키': 3324, '비록': 3325, '성별': 3326, '실보추': 3327, '포르노': 3328, '재밋겟다': 3329, '형도': 3330, '동지': 3331, '밖에는': 3332, '셀': 3333, '채색': 3334, '실감': 3335, '수납': 3336, '비키': 3337, '뒤늦다': 3338, '잇듬': 3339, '에서라도': 3340, '소나': 3341, '종신': 3342, 'ㅏㅏㅏ': 3343, '논란': 3344, '도람뿌': 3345, '최고다': 3346, '개새': 3347, '나타나다': 3348, '알아보다': 3349, '신한': 3350, '타고': 3351, '마비': 3352, '스듀': 3353, '시뮬': 3354, 'ㅑ': 3355, '윤수': 3356, '툼': 3357, '하네스': 3358, '양재': 3359, '그니': 3360, '시골': 3361, '세우다': 3362, '부옇다': 3363, '댕': 3364, '간지': 3365, '청자': 3366, '어딨다': 3367, '고하': 3368, '취익': 3369, '남도': 3370, '튜브': 3371, '똑': 3372, '늠': 3373, '다됏어': 3374, '스크립트': 3375, '가글': 3376, '케재밋다': 3377, '오락가락': 3378, '재인': 3379, '가쟈': 3380, '아리아': 3381, '쩜길': 3382, '외함': 3383, '밀리다': 3384, '소중하다': 3385, '소드': 3386, '디디': 3387, '사이사이': 3388, '욤': 3389, '혹싱': 3390, '가용': 3391, '김밥': 3392, '제페터': 3393, '자의': 3394, '제국': 3395, '분책': 3396, 'ㅇㅡ': 3397, '벨': 3398, '참으로': 3399, '달콤하다': 3400, '아구': 3401, '사랑니': 3402, '좃다': 3403, '그만큼': 3404, 'ㅆㅃ': 3405, '아씨': 3406, '코브라': 3407, '야샤히메': 3408, '가이드북': 3409, '항때': 3410, '준석': 3411, '하겟어': 3412, '가타': 3413, '액괴': 3414, '충주': 3415, '괄치': 3416, '엘리트': 3417, '페미혐': 3418, '널스': 3419, '도우': 3420, '녹이다': 3421, '남아나다': 3422, '넼': 3423, '곰팡이': 3424, '회색': 3425, '빛': 3426, '엽습니': 3427, '햄': 3428, '사모': 3429, '쭈꾸미': 3430, '빠큐': 3431, '히히히': 3432, '수여': 3433, '식해': 3434, '스쿠': 3435, '진격': 3436, '거인': 3437, '쬽빨': 3438, '춋': 3439, '징크스': 3440, '졸귀': 3441, '상대': 3442, '자격': 3443, '소환': 3444, '겹친': 3445, '카요': 3446, 'ㄹㅕ': 3447, '헐리웃': 3448, '실사': 3449, '알라': 3450, '행운': 3451, '열쇠': 3452, '킨다': 3453, '설탕': 3454, '뽑기': 3455, '며느리': 3456, '곰됴': 3457, '리보': 3458, '다욕': 3459, '대물': 3460, '깨르륵': 3461, '티르': 3462, '원만하다': 3463, '합의': 3464, '식단': 3465, '각본': 3466, '콩': 3467, '스튜': 3468, '주류': 3469, '영아': 3470, '차차차': 3471, '포크': 3472, '로어': 3473, '책음': 3474, '매니아': 3475, '층': 3476, '좌낳괴좌파': 3477, '낳다': 3478, '괴물': 3479, '인격': 3480, '힐년': 3481, '영프였': 3482, '나무': 3483, '시리즈': 3484, '에가': 3485, '스트레스': 3486, '끗샤워': 3487, '찢어지다': 3488, '경험치': 3489, '라던가': 3490, '루이': 3491, '힐끔': 3492, '영미': 3493, '피피티': 3494, '드셧': 3495, '이따가': 3496, '소리내다': 3497, '스페이스': 3498, '켜다': 3499, '겨루기': 3500, '원호': 3501, '미자': 3502, '불알': 3503, '핑크': 3504, '실존': 3505, '호드': 3506, '기모': 3507, '와글': 3508, '위영': 3509, '수상': 3510, '상인': 3511, '뽀뭉': 3512, '살이': 3513, '후속': 3514, '말햇던': 3515, '아이폰': 3516, '알예': 3517, '쑤다': 3518, '거품': 3519, '툭검': 3520, '선딜': 3521, '주자': 3522, '손가락': 3523, '우욱극혐': 3524, '서른': 3525, '백발': 3526, '마천': 3527, '대루': 3528, '쉽다': 3529, '박용진': 3530, '뿌요': 3531, '역전': 3532, '벵': 3533, '인들': 3534, '자네': 3535, '캐릭터송': 3536, '총선': 3537, '폐가': 3538, '연관': 3539, 'ㅠㅠㅠㅠㅜㅜ': 3540, '파일': 3541, '황금': 3542, '갱': 3543, '힐로': 3544, '이사': 3545, '기운': 3546, '완연': 3547, '조국': 3548, '학위': 3549, '무효': 3550, '멈췃': 3551, 'ㅓㅁ': 3552, '불버봘영': 3553, '대부분': 3554, '재동': 3555, '개십스레기': 3556, '반갑다': 3557, '좀빻': 3558, '초코': 3559, '스발': 3560, '황교안': 3561, '다운로드': 3562, '발전': 3563, '감싸다': 3564, '밴픽': 3565, '온도': 3566, '습기': 3567, '제주도': 3568, '부활': 3569, '급기야': 3570, '공정하다': 3571, '왜또': 3572, '말해': 3573, '두근두근': 3574, '속지': 3575, '현가': 3576, '전호': 3577, '발또': 3578, '꼬옥': 3579, '방영': 3580, '기선': 3581, '개발': 3582, '엔피씨': 3583, 'ㅅㅂㅋㅋㅋㅋㅋㅋㅋㅋㅋㅋ': 3584, '은우': 3585, '설레임': 3586, '구라': 3587, '똘똘': 3588, '뭉치다': 3589, '협주': 3590, '온나라': 3591, '뒤집어지다': 3592, '자까님': 3593, '아닠': 3594, '개개좋슴미': 3595, 'ㅈㅗ': 3596, '헤에에에엞': 3597, '낙엽': 3598, '전두환': 3599, '맣': 3600, '증거': 3601, '하쟈': 3602, '침몰': 3603, '여야': 3604, '막론': 3605, '철저하다': 3606, '뺏늠': 3607, '개월': 3608, '언젠가': 3609, '자루': 3610, '빨간색': 3611, '국토부': 3612, '소아온': 3613, '급전': 3614, '의왕': 3615, '등눈': 3616, '모가지': 3617, '디모': 3618, '웹핟': 3619, '대명': 3620, '세금': 3621, '힘나다': 3622, '웃음소리': 3623, 'ㅇㅂ': 3624, '유방': 3625, '가시': 3626, '자국': 3627, '털다': 3628, '전설': 3629, '디럭스': 3630, '야동': 3631, '보년': 3632, '딸침': 3633, '개갓': 3634, '외웟음': 3635, '상체': 3636, '스케': 3637, '걔네': 3638, '홍데': 3639, '도쿄': 3640, '시소': 3641, 'ㄴㅣ': 3642, '부의': 3643, '옘병': 3644, '햇으': 3645, '롴': 3646, '비정상': 3647, '아뇨': 3648, '날리다': 3649, '일침': 3650, '페인트': 3651, '이라곤': 3652, '후자': 3653, '전자': 3654, '글구': 3655, '아다': 3656, '떼다': 3657, '노포': 3658, '개개': 3659, '셧던샤': 3660, '사형': 3661, '돌파': 3662, '솔깃하다': 3663, '불가': 3664, '측근': 3665, '진쟈님': 3666, '번거': 3667, '오렌지': 3668, '꾸준하다': 3669, '빈': 3670, '아편': 3671, '비행기': 3672, '롬': 3673, '용출': 3674, '한댜': 3675, '탐지기': 3676, '오복': 3677, '종북좌파': 3678, '꿀꿀하다': 3679, '그렛봐': 3680, '겨울': 3681, '어머나': 3682, '아카데미': 3683, 'ㅋㅋㅋㅠ': 3684, '해부': 3685, '포켓몬스터': 3686, '바빌로니아': 3687, 'ㄴㅎ': 3688, '유타': 3689, '단말': 3690, '십년': 3691, '후안': 3692, '구절': 3693, '하울': 3694, '웹하드': 3695, '을해': 3696, '필독': 3697, '체리': 3698, '마호': 3699, '영월군': 3700, '날임': 3701, '친노': 3702, 'ㅋㄱㄱㄱㄱㅋㄱ': 3703, '싱켱': 3704, '비타민': 3705, '팬덤': 3706, '공산당': 3707, 'ㅅㅌㅊ': 3708, 'ㅈㄴㄴ': 3709, '유리': 3710, '빡추임': 3711, '엇어웨': 3712, '마코토': 3713, '왓는대': 3714, '예나': 3715, '셀프': 3716, '스탭': 3717, 'ㅋㅋㅋㅋㅋㅋㅋㅋㅋㅋㅋㅋㄹ': 3718, 'ㅌㅋㄴㄹㅈ': 3719, '린다': 3720, '김구라': 3721, '잘나가다': 3722, '질도': 3723, '뚱': 3724, '마피아': 3725, '죠셉': 3726, '심정': 3727, '욘': 3728, '글러먹': 3729, '배신': 3730, '가르다': 3731, '치르다': 3732, '낮추다': 3733, '호텔': 3734, '북유럽': 3735, '퀄': 3736, '가병': 3737, '성기훈': 3738, '깨끗하다': 3739, '승민': 3740, '오우': 3741, '압수': 3742, '젠틀': 3743, 'ㅋㄱㄱㅋㅋㅋㄱㅋ': 3744, '처울': 3745, '탑': 3746, 'ㅜㅋㅋㅋㅋㅋㅋㅋㅋㅋ': 3747, '쿠앤': 3748, '케이크': 3749, '서로': 3750, '비장': 3751, '수지': 3752, '짱구': 3753, '을소': 3754, '축구': 3755, '몹': 3756, '죠그레스': 3757, '뭘꼬': 3758, '남침': 3759, '스위치': 3760, '갯수': 3761, '방송사': 3762, '왓다': 3763, '타카': 3764, '영광': 3765, '랑게': 3766, '내면': 3767, '통장': 3768, '패스': 3769, '샤콘느': 3770, '헝': 3771, '유쾌': 3772, '반하다': 3773, '제트': 3774, '들어서다': 3775, '마상': 3776, '안경': 3777, '국룰': 3778, '크아': 3779, '정명': 3780, '은성': 3781, 'ㅜㅜㅜㅜㅜㅠㅠ': 3782, '철': 3783, '강염': 3784, '쟈미': 3785, '총수': 3786, '른': 3787, '유치하다': 3788, '순정': 3789, '따라서': 3790, 'ㅆㄱㄴ': 3791, '맞괄안': 3792, '엳시': 3793, '탄생': 3794, '하늬': 3795, '피넛언': 3796, '바람막이': 3797, '빩밖': 3798, '가능성': 3799, '후헷': 3800, 'ㅁㅊㅋㅋㅋㅋㅋㅋㅋㅋㅋㅋ': 3801, '태일': 3802, '커버': 3803, '라운드': 3804, '프로게이머': 3805, '됴리': 3806, '적자': 3807, '재밋슴': 3808, '십쇄': 3809, '평': 3810, '조상': 3811, '중공': 3812, '일수': 3813, '웅': 3814, '보면섴': 3815, '치가': 3816, '피라미드': 3817, '이삼': 3818, '칠사': 3819, '온몸': 3820, '컜': 3821, 'ㅌㅊ': 3822, '게이물': 3823, '팔리다': 3824, '트갤러': 3825, '댕기': 3826, '선빵': 3827, '강사': 3828, '청소기': 3829, '김미리': 3830, '리곡긜': 3831, '역할': 3832, '능거': 3833, '쫄보': 3834, '썸머': 3835, '아이돌스타': 3836, '찜질방': 3837, '는야': 3838, '죽여주다': 3839, '부정': 3840, '송': 3841, '펀치': 3842, '탄압': 3843, '파전': 3844, '파면': 3845, '이하늬': 3846, '월급': 3847, '화낫': 3848, '모드': 3849, '못쳣으': 3850, '구로': 3851, '포천시': 3852, '연천군': 3853, '더욱': 3854, '스벅': 3855, '앟': 3856, '개존잼': 3857, '가쿠간': 3858, '드럼': 3859, '체크카드': 3860, '원치않다': 3861, 'ㄹㅇㅋㅋ': 3862, '부엉': 3863, '부어': 3864, '서도': 3865, '화씨': 3866, '발아': 3867, '정주': 3868, '행해': 3869, '겄': 3870, '한결같이': 3871, '쎄이': 3872, '하그': 3873, '다시다': 3874, '까맣다': 3875, '끝내주다': 3876, '니체': 3877, '석촤': 3878, '겐': 3879, '커멸': 3880, '마야': 3881, '몬일': 3882, '긁다': 3883, '라센님': 3884, '락찬': 3885, '유존': 3886, '무면허': 3887, '한화': 3888, '대사': 3889, '유후': 3890, '디스': 3891, '민소매': 3892, '경인': 3893, '개임': 3894, '니콜라': 3895, '베르가': 3896, '도둑': 3897, '신양': 3898, '껄렁': 3899, '오직': 3900, '질병': 3901, '갈수': 3902, '정독': 3903, '관문': 3904, '지인': 3905, '뿔테': 3906, '포코': 3907, '무리다': 3908, '세끼': 3909, '왜밥': 3910, '특별': 3911, '예여': 3912, '도랏나봐': 3913, '하필': 3914, '꿀빨': 3915, '그남자': 3916, '암만': 3917, '작작하다': 3918, '전과자': 3919, '스카이프': 3920, '존잘님': 3921, '더힐임': 3922, '보아': 3923, '저격': 3924, '창동': 3925, '소비': 3926, '돈버는당': 3927, '일본사람': 3928, '미칭': 3929, '효쌤책': 3930, '약속': 3931, '욀케': 3932, '꿀총': 3933, '꿀꿀': 3934, '태극기': 3935, '부대': 3936, '어째': 3937, '뚝딱': 3938, '녜': 3939, '운영': 3940, '음식점': 3941, '밋름': 3942, '작성': 3943, '날짜': 3944, '생일': 3945, '케모': 3946, '은진': 3947, '짜미': 3948, '려닝': 3949, '남양주': 3950, '헲프': 3951, '달러': 3952, '구트': 3953, '틀리다': 3954, '군포시': 3955, '징먼': 3956, '매국노': 3957, '염색': 3958, '가면라이더': 3959, '운전면허': 3960, '클레이': 3961, '진화': 3962, '덜': 3963, '버섯': 3964, '입구': 3965, '재롱': 3966, '잔치': 3967, '뱐쟈이': 3968, 'ㅉㅉㅉ': 3969, '고무': 3970, '역전재판': 3971, '편하다': 3972, '메너': 3973, '굴러가다': 3974, '망고': 3975, '누드': 3976, '컨텐츠': 3977, '뻐꾸기': 3978, '기생충': 3979, '기쁘다': 3980, '미소녀': 3981, 'ㅃㅃ': 3982, '왕국': 3983, '면서': 3984, '우려': 3985, '세지': 3986, '소고기': 3987, '완도군': 3988, '자두': 3989, '심재윤': 3990, '자임': 3991, '효진': 3992, '초이': 3993, '임개': 3994, '젤머': 3995, '싣다': 3996, '신분': 3997, '낙선': 3998, '애덜': 3999, '피씨': 4000, '들개': 4001, '암호': 4002, '온리전': 4003, '리타': 4004, '실제': 4005, '서점': 4006, '퍼즐': 4007, '봄봄': 4008, '스쿨': 4009, '도서': 4010, '넥스트': 4011, '스테이지': 4012, '원내대표': 4013, '과자': 4014, '약탈': 4015, '해해': 4016, '애액': 4017, '특징': 4018, '욬': 4019, '카나타': 4020, '사촌': 4021, '갸웃': 4022, '이러니까': 4023, '친박': 4024, '당내': 4025, '불안': 4026, '요소': 4027, '제거': 4028, '발교횐데': 4029, '놀래다': 4030, '사유화': 4031, '시렁': 4032, '답장': 4033, '위인': 4034, '연표': 4035, '노친': 4036, '면허': 4037, '자진': 4038, '반납': 4039, '갈리다': 4040, '건대': 4041, '면전': 4042, '훙훙': 4043, '직알': 4044, '잡꿀': 4045, '리디북스': 4046, '이벵': 4047, 'ㅋㅋㅋㅋㅋㅂㄱㅋ': 4048, '툭': 4049, '올려놓다': 4050, '뫄마뫄': 4051, '짤방': 4052, '서너': 4053, '조음': 4054, '번견같': 4055, '진진': 4056, '라며': 4057, '말세': 4058, '돌팬': 4059, '방패': 4060, '루스': 4061, '애닠': 4062, '렌렌': 4063, '친절하다': 4064, '흐흐': 4065, '심오하다': 4066, '답사': 4067, '갸아': 4068, '개굴': 4069, '감사': 4070, '위험하다': 4071, '틀어주다': 4072, '특성': 4073, '꿈파': 4074, '데레': 4075, '누나': 4076, '카페오레': 4077, '긴장': 4078, '풀리다': 4079, '데이터': 4080, '시진핑': 4081, '성충': 4082, '샘둘': 4083, '내미다': 4084, '써주다': 4085, '양말': 4086, '이건희': 4087, '애벌레': 4088, '쉬키': 4089, '폐업': 4090, '소강': 4091, '만반': 4092, '부다': 4093, '석고': 4094, '대죄': 4095, '사위': 4096, '명인': 4097, '위키': 4098, '도크': 4099, '블루': 4100, '좌익': 4101, '파쇼': 4102, '한결같다': 4103, '이돈만': 4104, '무열': 4105, '쿠로': 4106, '미인': 4107, '장해': 4108, '하야': 4109, '어쩌겟': 4110, '반비례': 4111, '추기': 4112, '어쨌든': 4113, '현주소': 4114, '클리커': 4115, '김만': 4116, '뻗치다': 4117, '누움': 4118, '중선': 4119, '최강': 4120, '힙합': 4121, '눈감다': 4122, '예의': 4123, '우취': 4124, '입어보다': 4125, '실현': 4126, '탈출': 4127, '심사': 4128, '위원': 4129, '개빡텨': 4130, '어서': 4131, '하학': 4132, '추쳔': 4133, '저만': 4134, '극혐됨': 4135, '발기부전': 4136, 'ㅂㅅㅎ': 4137, '섬모': 4138, '봣나': 4139, '전북구': 4140, '마산시': 4141, '진주': 4142, '진안군': 4143, '젖': 4144, '거릴': 4145, '매다': 4146, '랙책': 4147, '진열': 4148, '요렇게': 4149, '흙': 4150, '수저': 4151, '좌빨': 4152, '함락': 4153, '슈토': 4154, '사지': 4155, '전광훈': 4156, '이태용': 4157, '에야': 4158, '왜글케': 4159, '드라이빙': 4160, '실천': 4161, '깋': 4162, '선릉역': 4163, 'ㄴㄷ': 4164, '뤼스': 4165, '폐인': 4166, '양성': 4167, '수능': 4168, '티스': 4169, '분명하다': 4170, '죠쟈': 4171, '불구속': 4172, '맥댐': 4173, '천만': 4174, '서면': 4175, '김제': 4176, '자켓': 4177, '보험': 4178, '혹': 4179, '레절레': 4180, '땀': 4181, '종학': 4182, '씨부리다': 4183, '나왓다길': 4184, '추파': 4185, '냑오': 4186, 'ㅁㅣ': 4187, '해협': 4188, '민정': 4189, '수석': 4190, '사과': 4191, '문선희': 4192, '두번째': 4193, '시구': 4194, '시혁': 4195, '거미': 4196, '분만': 4197, '가스': 4198, '리자': 4199, 'ㅏㄹ': 4200, '열풍': 4201, 'ㅈㅂㅈㅂ': 4202, '시나': 4203, '키기': 4204, '항해': 4205, '무치다': 4206, '마렵다': 4207, '어늘날씨젛': 4208, '벌다': 4209, '좔좔': 4210, '음탕하다': 4211, '요도': 4212, '못질': 4213, '바스': 4214, '의심': 4215, '에노시마': 4216, '스웨디시': 4217, '이외': 4218, '가까이': 4219, '진료': 4220, '녀탈트': 4221, '이후': 4222, '빼먹다': 4223, '가져가다': 4224, '여섯': 4225, '출발': 4226, '사격': 4227, '사살': 4228, 'ㅂㅗ': 4229, '의도': 4230, '요구': 4231, '음침하다': 4232, '남새': 4233, '끼들': 4234, '베베': 4235, '등급': 4236, '능': 4237, '축산물': 4238, '백현동': 4239, '발매': 4240, '장애': 4241, '포보스': 4242, '캐디': 4243, '박하나': 4244, '아스트로': 4245, '의지': 4246, '막다': 4247, '시반': 4248, '멈출수없어': 4249, '에니어그램': 4250, '지식': 4251, '부상': 4252, '흔': 4253, '하겟습니': 4254, '탈돈': 4255, '더하기': 4256, '예시': 4257, '대진': 4258, '게스': 4259, '뜨개질': 4260, '바느질': 4261, '관해': 4262, '셧': 4263, '알차다': 4264, '연동': 4265, '일간베스트': 4266, '유희': 4267, '부남': 4268, '호혈': 4269, '호자': 4270, '깊다': 4271, '체무': 4272, '티디': 4273, '섴': 4274, '까지만': 4275, '험악하다': 4276, '닭': 4277, '지루하다': 4278, '좀보': 4279, '유부녀': 4280, '랩': 4281, '극락': 4282, '동참': 4283, '규탄': 4284, '자몽': 4285, '유효하다': 4286, '삼크님': 4287, '형아': 4288, '한당': 4289, '개년드': 4290, '스노우': 4291, '설명': 4292, '샤람이문저': 4293, '흥행': 4294, '고의': 4295, '어스': 4296, '늙은이': 4297, '백인': 4298, '킹발': 4299, '부터를': 4300, '레비': 4301, '스무고개': 4302, '실눈': 4303, '포자': 4304, '오어': 4305, '엘꼴': 4306, '라시': 4307, '코같다': 4308, '케잌': 4309, 'ㅎㄴ': 4310, '함부로': 4311, '헬로': 4312, '기회': 4313, '쇄신': 4314, '배신자': 4315, '죽엇음': 4316, '혜인': 4317, '친년임': 4318, '찌질하다': 4319, '표병관': 4320, '탈출기': 4321, '핸플방': 4322, '마너': 4323, '본론': 4324, '풀꽃': 4325, '반지': 4326, '줜데': 4327, '잘라먹다': 4328, '장려': 4329, '페하': 4330, 'ㄲㅋ': 4331, '기독': 4332, '이강': 4333, '무교': 4334, '황장수': 4335, '재촉': 4336, '아마': 4337, '아우슈비츠': 4338, '아하': 4339, '경산시': 4340, '학겨': 4341, '끝놧돠': 4342, '첩': 4343, '가래침': 4344, '뱉다': 4345, '아이마스': 4346, '스트리밍': 4347, '온갖': 4348, '토라도라': 4349, '나가요': 4350, '격감': 4351, '말랑하다': 4352, '컴백': 4353, '곰됴리': 4354, '스킴': 4355, '본선': 4356, '뽀당님': 4357, '서두': 4358, '평소': 4359, '뽀': 4360, '궈': 4361, '레꼬': 4362, '연령': 4363, '중재법': 4364, '부디': 4365, '소서': 4366, '남친': 4367, '배송': 4368, '가톨릭': 4369, '되쥬': 4370, '흐릿': 4371, '괴담': 4372, '끌리다': 4373, '블베': 4374, '오디': 4375, '토함': 4376, '그루': 4377, '겜벨': 4378, '나웨': 4379, '못해': 4380, '와중': 4381, '나이키': 4382, '골프': 4383, '겨수': 4384, '역다': 4385, '건지다': 4386, '가해자': 4387, '가족': 4388, '비계': 4389, '윤돌': 4390, '보들보들하다': 4391, '만을': 4392, '에픽하이': 4393, '느끼하다': 4394, '때메': 4395, '실버': 4396, '지로': 4397, '드가': 4398, '콘택트': 4399, '스타트업': 4400, '유한준': 4401, '수영구': 4402, '미모': 4403, '밀양': 4404, '당구': 4405, '방도': 4406, '멉': 4407, '할쟉': 4408, '계획': 4409, '목': 4410, '뼈': 4411, '한스타': 4412, '발정': 4413, '존맛': 4414, '힘주다': 4415, '화이': 4416, '랭': 4417, '서장': 4418, '천관사': 4419, '무거': 4420, '라떼': 4421, '짜이다': 4422, '낮술': 4423, '상주시': 4424, '조건': 4425, '유로': 4426, '치사': 4427, '빵구': 4428, '재밋는대': 4429, '람보르기니': 4430, '헉스': 4431, '슬쩍': 4432, '승연': 4433, '봤댘': 4434, '도겸': 4435, '타투': 4436, '과니': 4437, '떡세': 4438, '마찬가지': 4439, '생파': 4440, '쒯': 4441, '시기하다': 4442, '농락': 4443, '씨밯': 4444, '종려': 4445, '존중': 4446, '존버단': 4447, '유형': 4448, '마일로': 4449, '반전': 4450, '는데': 4451, '갑작스럽다': 4452, '쥐불놀이': 4453, '셧나요해봣겟': 4454, '지니다': 4455, '터키': 4456, '용서': 4457, '어떢해': 4458, '하의': 4459, '검거': 4460, '유소': 4461, '뿜었자너': 4462, '넹친구': 4463, '화면': 4464, '봣나뷰': 4465, 'ㅏㅠㅠㅋㅋㅋㅋㅋ': 4466, '거왜': 4467, '치하': 4468, '베': 4469, '겟습니': 4470, '포스터': 4471, '바꿧': 4472, '굿굿': 4473, '태술': 4474, '낙동강': 4475, '리알': 4476, '네이버스': 4477, '오냐': 4478, '덤벼': 4479, '읁강': 4480, '폭격': 4481, '포브스': 4482, '창렬': 4483, '움직이다': 4484, '시즈쿠': 4485, '법사': 4486, '맞팔': 4487, '비언': 4488, '선곡': 4489, '별루': 4490, '일어나서': 4491, '말함': 4492, '가어': 4493, '쩌구저쩌': 4494, '퍼펙': 4495, '룰': 4496, '기엽': 4497, '아낙': 4498, '그렇지만': 4499, '덕임': 4500, '의파': 4501, '누적': 4502, '나랏돈': 4503, '호화': 4504, '관광': 4505, '아이디어': 4506, 'ㅔㅔㅔ': 4507, '교양': 4508, '종': 4509, '항만': 4510, '배후': 4511, '단지': 4512, '몸짱': 4513, '젤드': 4514, '게르': 4515, '대응': 4516, 'ㅜㅜㅜㅜㅜ': 4517, '니요': 4518, '퍼플': 4519, '남일': 4520, '아르테': 4521, '용품': 4522, '잣': 4523, '사냥꾼': 4524, '쿠쿠': 4525, '굿나잇': 4526, '임재': 4527, '아수라': 4528, '위례신도시': 4529, '백운동': 4530, '진동': 4531, '추나': 4532, '쫙쫙': 4533, '빠세': 4534, '주위': 4535, '싳다': 4536, '요것': 4537, '키타': 4538, '치산': 4539, '모에모에': 4540, '큥': 4541, '박제': 4542, '구리구리': 4543, '편집자': 4544, '싑헐': 4545, '필승': 4546, '각도': 4547, '주적': 4548, '학살': 4549, '딱지': 4550, '우하하': 4551, '햇엌': 4552, '저스디스': 4553, '키드': 4554, '자신': 4555, '데재밋너': 4556, '텍대': 4557, '추위': 4558, '보답': 4559, '선우': 4560, '쫄려': 4561, '유투': 4562, '팝': 4563, '누군데': 4564, '물대포': 4565, '헉헉': 4566, '우리형': 4567, '콜집': 4568, '창피해': 4569, '톱': 4570, 'ㅅㄹㅐ': 4571, '촉촉하다': 4572, '체블': 4573, '일렉기타': 4574, '개빻았음': 4575, '문체': 4576, '묘': 4577, '다이빙': 4578, '운지': 4579, '스파게티': 4580, '복습': 4581, '거울': 4582, '고냥이': 4583, '너므': 4584, '가계부': 4585, '활동': 4586, '데기': 4587, '싯발': 4588, '나하': 4589, '배틀로얄': 4590, '일본배': 4591, '로데': 4592, '폰디': 4593, '후배': 4594, '강서': 4595, '영화관': 4596, '주영': 4597, '당진': 4598, '무게': 4599, '허가': 4600, '대권': 4601, '마리': 4602, '엌': 4603, '왜욬': 4604, '안됫': 4605, '요술': 4606, '물기': 4607, '마우스': 4608, '컵녀': 4609, '수건': 4610, '송편': 4611, '헬프': 4612, '작정': 4613, '빅매치': 4614, '리즈': 4615, '외우다': 4616, '궁금타': 4617, '김웅': 4618, '스트레칭': 4619, '순간': 4620, '저건': 4621, '화보': 4622, '콘드룰': 4623, '환연': 4624, '남녀': 4625, '노소': 4626, 'ㅁㅊㄴ': 4627, '정의당': 4628, '장본인': 4629, '마크로': 4630, '롷함': 4631, '시오후키': 4632, '없엇으': 4633, '클레어': 4634, '오피스': 4635, '자첫': 4636, '연상': 4637, '뭐길': 4638, '개봄': 4639, '달관': 4640, '이슬람': 4641, '동일하다': 4642, '술자리': 4643, '족치다': 4644, '썻을거': 4645, 'ㅌㄴㅇ': 4646, '년전': 4647, '어쩌다': 4648, '저렁': 4649, '굿즈들': 4650, '안봣기': 4651, '때무': 4652, '광기': 4653, '소시오패스': 4654, '데인': 4655, '스읍': 4656, '양주시': 4657, '골빈': 4658, '으헹': 4659, '뿌에엥': 4660, '여친': 4661, '차도남': 4662, '토건': 4663, 'ㅎㅇ': 4664, '까지가': 4665, '읏갸': 4666, '포항': 4667, '핸플': 4668, '정상인': 4669, '아작': 4670, '로마': 4671, '때매': 4672, '옴니버스': 4673, '이의': 4674, '얔': 4675, 'ㅌㅌㅌㅌㅋㅋ': 4676, '충북': 4677, '면모': 4678, '드뎌': 4679, '안동시': 4680, '거주': 4681, '아오이': 4682, '기묘하다': 4683, '펀': 4684, '누님': 4685, '비스크': 4686, '서울대': 4687, '고대': 4688, '쫄': 4689, '학기': 4690, '패완몸': 4691, '쉬멜': 4692, '격투': 4693, '한창': 4694, '스피넬': 4695, '좌우': 4696, '법치': 4697, '소장': 4698, '꼬드김': 4699, '틈': 4700, '유나이티드': 4701, '총장': 4702, '해치': 4703, '파라미터': 4704, '업데이트': 4705, '스탄': 4706, '뵐프': 4707, '용돈': 4708, '연인': 4709, '유무': 4710, '고통': 4711, '평창': 4712, '본진': 4713, '튀다': 4714, '스릴': 4715, '넘치다': 4716, '인척': 4717, '라네': 4718, '라야': 4719, '거도': 4720, '품타': 4721, '캬': 4722, '집합': 4723, '가부장': 4724, '혈통': 4725, '스톱': 4726, '갠': 4727, '찮아다': 4728, '맞춤법': 4729, '틀림': 4730, '오륙': 4731, '배부': 4732, '경산': 4733, '분부': 4734, '녓': 4735, '콩떡': 4736, '야마토': 4737, '모교': 4738, '이북': 4739, '종합': 4740, '찬성': 4741, '딸리다': 4742, '서해': 4743, '전전': 4744, '천사': 4745, '렌슬럿': 4746, '민혁': 4747, '사백이': 4748, '데빌': 4749, '멩': 4750, '일요일': 4751, '널다': 4752, '어느덧다': 4753, '익숙해지다': 4754, '바람불다': 4755, '구치소': 4756, '조범': 4757, '팔찌': 4758, '신세': 4759, '원금': 4760, '사용': 4761, '숨쉬다': 4762, '난무': 4763, '슬의생': 4764, '랜': 4765, '버그': 4766, '사이드': 4767, '히터': 4768, '남씨': 4769, '김종민': 4770, '글로벌': 4771, '개쪽': 4772, '내부': 4773, '한순간': 4774, '추팰': 4775, '똥구멍': 4776, '할짝할짝': 4777, '조그맣다': 4778, '올림픽대로': 4779, '특이': 4780, '레이싱': 4781, '그대로': 4782, '테': 4783, '년차': 4784, 'ㅍㅎㅎㅎ': 4785, '은꼴': 4786, 'ㅅㅏ': 4787, 'ㄱㅔ': 4788, '임란': 4789, '리버': 4790, '동인': 4791, '한낮': 4792, '어아억': 4793, '롤킹': 4794, '시인': 4795, '헷갈리다': 4796, '장재': 4797, '무궁화': 4798, '치한': 4799, '이자': 4800, '능가': 4801, '대치': 4802, '구도': 4803, '꾸무렁꾸무렁': 4804, '애증': 4805, '섞이다': 4806, '스페': 4807, '엇다': 4808, '어카': 4809, '싯님': 4810, '한서': 4811, '깔리다': 4812, '뮤직': 4813, '쪽팔리다': 4814, '비하인드': 4815, 'ㅌㅋㅋㅋ': 4816, '필름': 4817, '카메라': 4818, '실정': 4819, '쥐쥐': 4820, '됝': 4821, 'ㅆㅂㅁㅊ': 4822, '자줜': 4823, 'ㅏㄷ': 4824, '거임': 4825, '시방': 4826, '겨울연가': 4827, '미주': 4828, '태극': 4829, '살길': 4830, '유료': 4831, '고정간첩': 4832, '루갈': 4833, '건오': 4834, '김구': 4835, '요란': 4836, '페르손': 4837, '저지르다': 4838, '상습': 4839, '뺑소니': 4840, '찌뿌둥해': 4841, 'ㅏㅏ': 4842, '돌변': 4843, '사냥': 4844, '뫃': 4845, '륌': 4846, '웰': 4847, '롭님': 4848, '첸쇼': 4849, '용케': 4850, '특히': 4851, '중신': 4852, '베리': 4853, '부동산': 4854, '메이져': 4855, '나소': 4856, '화도안봣': 4857, '골랐엌': 4858, 'ㅋㅋㅋㅋㅠㅠ': 4859, '투디': 4860, '곤약': 4861, '볼라': 4862, '일간': 4863, '라곤': 4864, '바욥': 4865, '프로젝트': 4866, '검사': 4867, '긂체': 4868, '아리다': 4869, '발해': 4870, '와도': 4871, '발탁': 4872, '융': 4873, '죄다': 4874, '들리다': 4875, '타격': 4876, '우주': 4877, '영웅': 4878, '천황': 4879, '부가': 4880, '됏다': 4881, '스트': 4882, '아크': 4883, '제적': 4884, '춤짱': 4885, '노야': 4886, '일걸': 4887, '응당': 4888, '매니': 4889, '개꼰대': 4890, '부드러움': 4891, '나히': 4892, '양옆': 4893, '퉁퉁': 4894, '나므': 4895, '과로': 4896, '억원': 4897, '무협': 4898, '브로맨스': 4899, '구례군': 4900, '솓': 4901, '고아': 4902, '충분하다': 4903, 'ㄱㄴ': 4904, '중궈니': 4905, '넋두리': 4906, '우럭': 4907, '비키다': 4908, '댄싱': 4909, '상견례': 4910, '치기': 4911, '장멵': 4912, 'ㅋㅋㄱㅋㄱㅋ': 4913, '낫쥬': 4914, '또오': 4915, '덕열': 4916, '혁이': 4917, '인정받다': 4918, '오토튠': 4919, '닼': 4920, '구장': 4921, '노브휘끼휘끼': 4922, '선호': 4923, '고가': 4924, '구별': 4925, '새우': 4926, '튀김': 4927, '혹쉬': 4928, '장소': 4929, '개멋': 4930, '놉': 4931, '가부장제': 4932, '평온하다': 4933, '회원': 4934, '라디오': 4935, '퀴즈': 4936, '홀릭님': 4937, '쏱아짐': 4938, '서리': 4939, 'ㅁㅏㅅㅏㅈㅣ': 4940, '드릴': 4941, '배겨': 4942, '자결': 4943, '폼': 4944, '어린이': 4945, '체험': 4946, '고로': 4947, '허락': 4948, '지하철': 4949, '중년': 4950, '렌': 4951, '집착': 4952, '플래툰': 4953, '강물': 4954, '바다': 4955, '낮아지다': 4956, '정황': 4957, '개그맨': 4958, '나발': 4959, '웅앵': 4960, '향': 4961, '차라': 4962, '여자친구': 4963, '꼬봉': 4964, '낯설다': 4965, '퍽': 4966, '람캠': 4967, '간판': 4968, '그리기': 4969, '어쩌다가': 4970, '눈물': 4971, 'ㅠㅜㅜㅜ': 4972, '나바라': 4973, '벗기다': 4974, '분필': 4975, '소신발': 4976, '언스': 4977, '보새': 4978, '장군': 4979, '이세': 4980, '샤끼': 4981, '안볼례': 4982, '엨': 4983, '동네': 4984, '왼': 4985, '카르마온라인': 4986, '홈페이지': 4987, '칼국수': 4988, '김치': 4989, '확률': 4990, '뚱남임': 4991, '피자': 4992, '침대': 4993, '해처': 4994, '해설': 4995, '미츠루': 4996, '아니스': 4997, '까지는': 4998, '구해': 4999, '직캠': 5000, 'ㅇㄴㅇ': 5001, '오리': 5002, '개싸움': 5003, '웃갸': 5004, '상해': 5005, '통영': 5006, '불토': 5007, '이영': 5008, '기각': 5009, '인강': 5010, '좌헌': 5011, '파우스트': 5012, '좌존파좐파': 5013, '번갈아': 5014, '점프': 5015, '비지': 5016, '개조': 5017, '조현병': 5018, '흐물텅하': 5019, '천좨': 5020, '스튜디오': 5021, '캐좀': 5022, '귀차니즘': 5023, '동주': 5024, '루어': 5025, '병들다': 5026, '생태계': 5027, '파라': 5028, '안기다': 5029, '잉': 5030, '킹덤': 5031, '세명': 5032, 'ㅅㅂㅋㅌㅌㅌ': 5033, '체육': 5034, '삼보': 5035, '도시락': 5036, '중요하다': 5037, '쥐광': 5038, '엣날': 5039, '스톱모션': 5040, '부작': 5041, '어어어어': 5042, '이모': 5043, '애국': 5044, '문장': 5045, '결탁': 5046, '전라도': 5047, '피엠': 5048, '심슨': 5049, '존뇌': 5050, '개욱겨': 5051, '딜': 5052, '냔': 5053, '뜽': 5054, '진행': 5055, '유튜버': 5056, '생방송': 5057, '초췌하다': 5058, '철학': 5059, '설화수': 5060, '전이': 5061, '서나': 5062, '밟다': 5063, '기차': 5064, '화려': 5065, '설리': 5066, '다만': 5067, '통일': 5068, '요청': 5069, '돌아서다': 5070, '보더': 5071, '문방구': 5072, '프하하': 5073, '년뒤': 5074, '둘걸': 5075, '몰량': 5076, '랜드': 5077, '데헷': 5078, '휴폴플': 5079, '일시': 5080, '한판': 5081, '똥손': 5082, '극뽁': 5083, '던전': 5084, '하동': 5085, '당적': 5086, '류민석': 5087, '진영': 5088, '어묵': 5089, '새참': 5090, '내후년': 5091, '비토': 5092, '화목': 5093, '상담': 5094, '허무하다': 5095, '이노리': 5096, '파렴치': 5097, '수시': 5098, '날씬데': 5099, '흫흫흫흫': 5100, '분임': 5101, '이승만': 5102, '재단': 5103, '강강술래': 5104, '예비': 5105, '어쩌면': 5106, '빙의': 5107, '겨우': 5108, '하느리': 5109, '고장': 5110, '나서다': 5111, '흐느적흐느적': 5112, '퍽퍽퍽': 5113, '죙일': 5114, '썩을': 5115, '문대': 5116, '증평': 5117, '엇쟈': 5118, '군호': 5119, '료코': 5120, '심야': 5121, '홀홀': 5122, '혜': 5123, '맘마': 5124, '픽': 5125, '정우': 5126, '한정': 5127, '분조': 5128, '시켯다': 5129, '음치': 5130, '제기랄': 5131, '관악': 5132, '좌민': 5133, '헐퀴': 5134, '트리': 5135, '마제': 5136, '능청': 5137, '월노': 5138, '갈기갈기': 5139, '사활': 5140, '주루': 5141, '가도': 5142, '댐': 5143, '피부': 5144, '통통하다': 5145, '월희': 5146, '죠오': 5147, '너넨': 5148, '하로가자밍': 5149, '현생': 5150, '눌곤': 5151, '애니좋아': 5152, '경안': 5153, '단체사진': 5154, '주장': 5155, '맙': 5156, '다한': 5157, '달방시': 5158, '롯데': 5159, '타워': 5160, '유딩': 5161, '함양': 5162, '세차': 5163, '밋겟': 5164, '수인': 5165, '페는오쿠': 5166, '이성': 5167, '종족': 5168, '손웬': 5169, '추팔': 5170, '굳은살': 5171, '핏줄': 5172, '선명': 5173, '자손': 5174, '비쥬': 5175, '조만간': 5176, '인물': 5177, '사랑스럽다': 5178, '대군': 5179, '뀨시': 5180, '스톰': 5181, '졸림': 5182, '정호': 5183, '핵폭탄': 5184, '제조': 5185, '비행': 5186, '남중': 5187, '어페미': 5188, '중력': 5189, '폭포': 5190, '청소': 5191, '쟈꼬': 5192, '동물': 5193, '라고는': 5194, '쿠나': 5195, '찬희': 5196, '높다': 5197, '푸른': 5198, '괴사': 5199, '콘돔': 5200, '옶다고샹': 5201, '네코': 5202, '마타': 5203, '시위': 5204, '통령': 5205, '샹치': 5206, '낌': 5207, '두렵다': 5208, '보도자료': 5209, '좟가튼': 5210, '하노': 5211, '리리': 5212, '반드시': 5213, '통과': 5214, '섹': 5215, '테러': 5216, '깡패': 5217, '상도': 5218, '입당': 5219, '저지': 5220, '잠재': 5221, '씹쌔끼들': 5222, '으에에': 5223, 'ㅔ': 5224, 'ㅋㅋㅌ': 5225, '이진택': 5226, '쇼쇼쇼': 5227, '하여튼': 5228, '제곧내': 5229, '비례': 5230, '짱짱맨': 5231, '해내다': 5232, '부카': 5233, '덩어리': 5234, '엎어': 5235, '웨얼': 5236, '시원': 5237, '재우다': 5238, '나이트': 5239, '문성근': 5240, '오일': 5241, '주민': 5242, 'ㄱㄱ': 5243, '빤스바람': 5244, '보슈': 5245, '모자라다': 5246, '승': 5247, '모근': 5248, '쁘띠': 5249, '어질어질하다': 5250, '드더': 5251, '늘스': 5252, '패배': 5253, '무효표': 5254, '아마도': 5255, '앺뮤': 5256, '차안': 5257, '자지': 5258, '응데': 5259, '개꼰': 5260, '리그': 5261, '아무나': 5262, '자칭': 5263, '이반': 5264, '울적': 5265, '치인': 5266, '선선': 5267, '으로서': 5268, '갈등': 5269, '래서': 5270, '몬합니': 5271, '권권': 5272, '김영훈': 5273, '쨩': 5274, '가죽': 5275, '보고서': 5276, '오십': 5277, '시오': 5278, '앱코': 5279, '핰핰': 5280, '남하': 5281, '대통령제': 5282, '렘': 5283, '본색': 5284, '꺄악': 5285, '기름': 5286, '삼천원': 5287, '로사': 5288, '현금': 5289, '동갑': 5290, '슾디': 5291, '영어': 5292, '그나저나': 5293, '헤필': 5294, '원수': 5295, '세워지다': 5296, '바꼇나': 5297, '스타킹': 5298, '꼼수': 5299, '오랫': 5300, '슬림': 5301, '칩거': 5302, '락': 5303, '튀어': 5304, '미니미': 5305, '푸근하다': 5306, '찌찌': 5307, '완벽하다': 5308, '상실': 5309, '스아악흐악': 5310, 'ㅇㅅ': 5311, '어헠': 5312, '영천시': 5313, '창조': 5314, '원본': 5315, '제육': 5316, '국밥': 5317, '계자': 5318, 'ㅇㅏ': 5319, '원더': 5320, '물가': 5321, '안개': 5322, '과지': 5323, '보피': 5324, '부안': 5325, '녀임': 5326, '환상': 5327, '플래시': 5328, '태훈이': 5329, '수꼴': 5330, '러임': 5331, 'ㅑㅅ': 5332, '으면': 5333, '정확하다': 5334, 'ㅊ': 5335, '민중': 5336, '과는': 5337, '액타': 5338, '어쩌지': 5339, '사리': 5340, '쌓이다': 5341, '투기': 5342, '같앳어': 5343, '끊임없다': 5344, '배우자': 5345, '려면': 5346, '원고': 5347, '메이비': 5348, '랫': 5349, '스타트': 5350, '한국인': 5351, '조전': 5352, '까지와': 5353, '제만': 5354, '갈구다': 5355, '도키': 5356, 'ㅅㄲ': 5357, '얄': 5358, 'ㅁㄴㅋ': 5359, '이개': 5360, '끼니': 5361, '악하다': 5362, '암담하다': 5363, '있겠댘': 5364, '오덕': 5365, '해달': 5366, '넘어오다': 5367, '진지': 5368, '반한': 5369, '쇼헤이': 5370, '기둥': 5371, '우리나라': 5372, '가후': 5373, '원조': 5374, '놓쳣따': 5375, '기트': 5376, '제인걸': 5377, '뭐시기': 5378, '만사': 5379, '것등': 5380, '향수': 5381, '책등': 5382, '니트': 5383, '핵': 5384, '시장': 5385, '대로': 5386, '찰지다': 5387, '나즈나': 5388, '판완': 5389, '나시': 5390, '다봣너': 5391, '툥': 5392, 'ㅏㄱ': 5393, '박스': 5394, '간요': 5395, '아이패드': 5396, '아무렇다': 5397, '도국': 5398, '특공대': 5399, '토나오다': 5400, '랄라': 5401, '라라': 5402, '자멸': 5403, '은발': 5404, '키리': 5405, '뚜시': 5406, '로리스': 5407, '정녕': 5408, '테로': 5409, '고구': 5410, '니은': 5411, '막방': 5412, '정해': 5413, '취좆': 5414, '자제': 5415, '길들이다': 5416, '찌끄레기들': 5417, '꽂다': 5418, '왜례': 5419, '한때': 5420, '나이프': 5421, '멀쩡하다': 5422, '김연주': 5423, '대변인': 5424, '해프': 5425, '초등생': 5426, '학생회장': 5427, '차별': 5428, '대구시': 5429, '방기': 5430, '시야': 5431, '명의': 5432, '젛': 5433, '아해': 5434, 'ㅂㅂ': 5435, '홍보': 5436, '태클': 5437, '싸이코패스': 5438, '집단': 5439, '작전': 5440, '뽀빠이': 5441, '겜처': 5442, '바퀴': 5443, '박애주의자': 5444, '불만': 5445, '띄어쓰기': 5446, '자칫하면': 5447, '미래': 5448, '영계': 5449, '나신': 5450, '띵머리가띵': 5451, '돌멩이': 5452, '도랏': 5453, '장바구니': 5454, '로군요': 5455, 'ㄴㅋㅁㅁ': 5456, '니드': 5457, '샨': 5458, '질색': 5459, '개탄': 5460, '액체': 5461, '세대': 5462, '밋다': 5463, '에타': 5464, '세작': 5465, '이지롱': 5466, '그지같다': 5467, '괴': 5468, '바레': 5469, 'ㅇㅕ': 5470, '캠': 5471, 'ㄱㅣ': 5472, 'ㅌㅓ': 5473, '넷': 5474, '총무': 5475, '양평': 5476, '횟집': 5477, '코미': 5478, '권한': 5479, '예전': 5480, '더블': 5481, '홈피': 5482, '연출': 5483, '갈수록': 5484, '좋아지다': 5485, '디힐': 5486, '페이지': 5487, '강아지': 5488, '뭣들': 5489, '본성': 5490, '프세카애니미쳣구': 5491, '액션': 5492, '캔버스': 5493, '활짝': 5494, '썽': 5495, '켄마': 5496, '책임자': 5497, '주지': 5498, '하남': 5499, '볼겨': 5500, '수위': 5501, '푸딩': 5502, '논평': 5503, '리다': 5504, '됏어': 5505, '허니': 5506, '이샘': 5507, '징계': 5508, '파고': 5509, '씨땡': 5510, '규어': 5511, '명중': 5512, '보르헤스': 5513, '알레프': 5514, '구조': 5515, '에로': 5516, '내자': 5517, '돌싱': 5518, '일찍': 5519, '가년': 5520, '아이거': 5521, '켜': 5522, '입관': 5523, '미츠리': 5524, '카구야': 5525, '루코': 5526, '엘마': 5527, '인권': 5528, '외로워': 5529, '몰랏는데': 5530, '핔': 5531, '방출': 5532, '오픈': 5533, '당일': 5534, '현장': 5535, '싀바': 5536, '땀내': 5537, '지갑': 5538, '큐큐': 5539, '큨': 5540, '배속': 5541, '장수': 5542, '메이저': 5543, '음란': 5544, '팝송': 5545, '반년': 5546, '섭렵': 5547, '살수': 5548, '문스독': 5549, '콩콩': 5550, '겻러': 5551, '미가': 5552, '쟈히': 5553, '왕도': 5554, '라리사': 5555, '초대': 5556, '블링크': 5557, '요구르트': 5558, '남지': 5559, '따갑다': 5560, '짜장': 5561, '만요': 5562, '책책': 5563, '데잉쯧': 5564, '늑대': 5565, '쇼발': 5566, 'ㅅㅐ': 5567, '깜': 5568, '몰이': 5569, '똥겜': 5570, '만주': 5571, '머그': 5572, '보즈': 5573, '버거킹': 5574, '문턔일': 5575, '굵직하다': 5576, '기억나다': 5577, '때우다': 5578, '고추가': 5579, '마법': 5580, '당근': 5581, '개입': 5582, '했눼': 5583, '수온': 5584, '식스센스': 5585, '오로지': 5586, '취푸': 5587, '풋잡': 5588, '텍스트': 5589, '멀미': 5590, '요게': 5591, '최애캐': 5592, '개극혐': 5593, '코코': 5594, '편도': 5595, '쩔어요': 5596, '재윤': 5597, '특근': 5598, '오이': 5599, '꽂히다': 5600, '누굴': 5601, '맨첨': 5602, '찰졋음': 5603, '바치': 5604, '외롭다': 5605, '주렴': 5606, '규논': 5607, '보깅': 5608, '뭐임또': 5609, '사양': 5610, '크리스': 5611, '랜서': 5612, '제노': 5613, '세이': 5614, '태양': 5615, '까먹엇어': 5616, '감옥': 5617, '매수': 5618, '가가': 5619, '가각': 5620, '손톱': 5621, '깎다': 5622, '쵝오': 5623, '곱다': 5624, '고상하다': 5625, '아름답다': 5626, '스톼일이어똬': 5627, '나트': 5628, '발작': 5629, '만대': 5630, '파불': 5631, '고기': 5632, '대패': 5633, '끝임': 5634, '얼레': 5635, '피아': 5636, '배심원': 5637, '박일': 5638, 'ㅠㅠㅜㅜ': 5639, '자기야': 5640, '반대편': 5641, '직': 5642, '관할': 5643, '더쇼': 5644, '영향': 5645, '사망': 5646, '됴': 5647, '었던': 5648, '수많다': 5649, '친규': 5650, '칸': 5651, '기존': 5652, 'ㅜㅜㅎ': 5653, '울음': 5654, '차니': 5655, '가짜': 5656, '워딩': 5657, '니뇨': 5658, '해주': 5659, '나마': 5660, '개시': 5661, '발애': 5662, '일주일': 5663, '괴롭다': 5664, '졸리': 5665, '국기': 5666, '문란': 5667, '회식': 5668, '연금술사': 5669, '헝거게임': 5670, '봐야딧': 5671, '기엽따': 5672, '늘리다': 5673, '참나': 5674, '욱': 5675, '조우': 5676, '카피라이팅': 5677, '복사': 5678, '답답': 5679, 'ㅐ': 5680, '입장': 5681, '루삥뽕': 5682, '사탄': 5683, '화음': 5684, '살인마': 5685, '망': 5686, '따위': 5687, '상한': 5688, '실크': 5689, '히프': 5690, '대차다': 5691, '업무': 5692, '스춤': 5693, '워디': 5694, '야합': 5695, '나아': 5696, '쟁하': 5697, '안행햐': 5698, '케키님': 5699, '각하': 5700, '특이하다': 5701, '듀얼': 5702, '센스': 5703, '거치': 5704, '고조선': 5705, '릴리': 5706, '빻남들': 5707, '퀴코': 5708, '이혼': 5709, '소개팅': 5710, '버논뷔하': 5711, '뷔임': 5712, 'ㅅㅂㅋㅋㅋㅋㅋㅋ': 5713, '죠타로': 5714, '큐티걸': 5715, '운명': 5716, '광합성': 5717, '더힝': 5718, '괸찬': 5719, '한마음': 5720, '깨': 5721, '리가': 5722, '쩍': 5723, '디즈니': 5724, '심해지다': 5725, '니야': 5726, '둘러보다': 5727, '비상': 5728, '모레': 5729, '사례': 5730, '미러링': 5731, '소매': 5732, '들려주다': 5733, '동복': 5734, '유나': 5735, '텃밭': 5736, '캡': 5737, '본보다': 5738, '렷': 5739, '샊': 5740, 'ㄲㅣ': 5741, '모순': 5742, '정계': 5743, '흡사': 5744, '라이온즈': 5745, '터덜': 5746, '조선시대': 5747, '업너': 5748, '무죄': 5749, 'ㅜㅠ': 5750, '조슴니': 5751, '심리상담': 5752, '후속작': 5753, '바야듸': 5754, '우천': 5755, '지해': 5756, '토종': 5757, '채우다': 5758, '콜도': 5759, '광교': 5760, '담그다': 5761, '러닝': 5762, '산타': 5763, '사전': 5764, '풍류': 5765, '대장': 5766, '타비': 5767, '수상한': 5768, '왓습': 5769, '장벽': 5770, '뻘하': 5771, '필기': 5772, '봣냐': 5773, '장흥': 5774, '영덕시': 5775, '분수': 5776, '프커애': 5777, '페코캬루': 5778, '스트리머': 5779, 'ㅎㄷㄷ': 5780, '어케해': 5781, '일자리': 5782, '오바': 5783, '지반': 5784, '도꽤': 5785, '레스': 5786, '버츄얼': 5787, '데뷰': 5788, '전번': 5789, '뭍기': 5790, '근거': 5791, '뒤집헛다': 5792, '노답': 5793, '데쥬륵': 5794, '재밋다드': 5795, '자세하다': 5796, '교복': 5797, '왓챠파티': 5798, '능지': 5799, '낮다': 5800, '답멘': 5801, '밈': 5802, '날인': 5803, '일이칠': 5804, '봤넼': 5805, '찬스': 5806, '젠이츠': 5807, '여장': 5808, '미지': 5809, '게릴라': 5810, '스파': 5811, '삻어': 5812, '앸': 5813, '사자': 5814, '홋승': 5815, '님때문': 5816, 'ㄱㅅ': 5817, '엔네아드': 5818, '오수': 5819, '솔딕히': 5820, '넘기다': 5821, '킹정': 5822, '로웬': 5823, '압살': 5824, 'ㅛㅜㅇ': 5825, '쉑쫄튀한다긩': 5826, '아로마': 5827, '모니터': 5828, '불가능': 5829, '두피': 5830, '문신': 5831, '유의': 5832, '어물': 5833, '쩡': 5834, '으응': 5835, '인싸픽아닌': 5836, '겟음': 5837, '플랫': 5838, '극지': 5839, '드씨': 5840, '욕심': 5841, '기릿함': 5842, '부지런하다': 5843, '김선진': 5844, '룸파': 5845, '하늘색': 5846, '두껍다': 5847, '무겁다': 5848, '투성이': 5849, '실패하다': 5850, '원령공주': 5851, '부작용': 5852, '논픽션': 5853, '성대모사': 5854, '조르다': 5855, '천지창조': 5856, '디자인': 5857, '신세계': 5858, '밥줘': 5859, '그칭': 5860, '스폰지밥': 5861, '정진': 5862, '민주주의': 5863, '넘어서다': 5864, '열차': 5865, '편안': 5866, '잡화': 5867, '중뮤': 5868, '고갈': 5869, '구글검색': 5870, '출전': 5871, '콜톡': 5872, '데쟈뷰왔어': 5873, '카드게임': 5874, '건휘뿡': 5875, '제도': 5876, '쥐약': 5877, '입덕': 5878, '청주': 5879, '모찡': 5880, '느갭': 5881, '구한': 5882, '김원중': 5883, '소주': 5884, '나왜케': 5885, '빵터지다': 5886, '낰': 5887, '손자병법': 5888, '압화해둠': 5889, '아잉': 5890, '달고나': 5891, '은밀': 5892, '북구': 5893, '금산': 5894, '키스방': 5895, '재불': 5896, '요화': 5897, '쩐다': 5898, '야외': 5899, '취침': 5900, '당첨': 5901, '정년': 5902, '퇴임': 5903, '잇엇어': 5904, '체리렛판': 5905, '에서도': 5906, '상설': 5907, '괜찬': 5908, '아난': 5909, '유기': 5910, '법대': 5911, '펠': 5912, '저렇다': 5913, 'ㅜㅋ': 5914, '헤브': 5915, '꼬라박': 5916, '채보': 5917, '드하': 5918, '뜸': 5919, '보름달': 5920, '키러': 5921, '스샷': 5922, '널캐': 5923, '인민재판': 5924, '데쟈뷰': 5925, '건데': 5926, '분석': 5927, '날이넹': 5928, '비건': 5929, '빛나다': 5930, '의욕': 5931, '없어지다': 5932, '두근': 5933, '안봣': 5934, '기일': 5935, '텐': 5936, '잉좆': 5937, '결과물': 5938, '전영': 5939, '이실': 5940, '익선동': 5941, '글치': 5942, '정복': 5943, '로다': 5944, '유익하다': 5945, '놀람': 5946, '사고방식': 5947, '물살': 5948, '썬칩': 5949, '기만': 5950, '역쉬국': 5951, '젠떡열': 5952, '검삭': 5953, '순삭': 5954, '화이팅': 5955, '가깝다': 5956, '기대하다': 5957, '샏님': 5958, '정책': 5959, '먄': 5960, '직장인': 5961, '오르가즘': 5962, '노농': 5963, '지나': 5964, '자알': 5965, '싸지르다': 5966, '정윤희': 5967, '파란색': 5968, '갣': 5969, '글쎄': 5970, '데미안': 5971, '총균쇠': 5972, '삘받아': 5973, '항아리': 5974, '견찰': 5975, '찡얼찡얼': 5976, '보정': 5977, '게임화': 5978, '화형': 5979, '엉망': 5980, '진창': 5981, '공짜': 5982, '파레트': 5983, '공홈': 5984, '낼름': 5985, '달콤': 5986, '구심': 5987, '영칠': 5988, '섭종': 5989, '감축': 5990, '증후군': 5991, '비왓는데': 5992, '결단': 5993, '상의': 5994, '안옴': 5995, '방장': 5996, '통진': 5997, '확정': 5998, '쿵쾅': 5999, '일본인': 6000, '자유당': 6001, '프라': 6002, '우드': 6003, '노랑': 6004, '아앆': 6005, '꼰머': 6006, '우웩': 6007, '서영이': 6008, '동강': 6009, '소멸': 6010, '만고': 6011, '다시없다': 6012, '성군': 6013, '녀옷': 6014, '정유': 6015, '라가': 6016, '혜경궁': 6017, '디아블로': 6018, '합': 6019, '알곡': 6020, '속이다': 6021, '심녀': 6022, '푸른밤': 6023, '석방': 6024, '용도': 6025, '연좌제': 6026, '콜': 6027, '우승상금': 6028, '수호': 6029, '더하다': 6030, '승석': 6031, '이재띵': 6032, '교황': 6033, '호수': 6034, '핵핵': 6035, '홍카': 6036, '오도': 6037, '알구': 6038, '졸업': 6039, '안철수': 6040, '혼돈': 6041, '세구': 6042, '안봣어시': 6043, '대구': 6044, '정조대': 6045, '차고': 6046, '딜도': 6047, '자위': 6048, '안키': 6049, '북도': 6050, '오대': 6051, '백과사전': 6052, '우롱': 6053, '책장': 6054, '임종이': 6055, '더미': 6056, '소식': 6057, '에게로': 6058, '배포': 6059, '정은경': 6060, '버젼': 6061, '앨리스': 6062, '라그나로크': 6063, 'ㄴㅋ': 6064, '금욕': 6065, '구역': 6066, '가미': 6067, '왓다안왓다': 6068, 'ㅋㅆ': 6069, '의왕시': 6070, '서귀포': 6071, '스브스': 6072, '쩍벌': 6073, '우우욱': 6074, '한킬한남킬': 6075, '버밀리온': 6076, '전도': 6077, '얼릉': 6078, '후다닥': 6079, '해치다': 6080, '번데기': 6081, '소유자': 6082, '가증': 6083, '작자': 6084, '곸': 6085, '음식': 6086, '배우': 6087, '비리': 6088, '보넼': 6089, '근혜': 6090, '거르': 6091, '박히다': 6092, '복불': 6093, '행자': 6094, '하렘': 6095, '만해': 6096, '델리': 6097, '정모': 6098, '하다못해': 6099, '슬푸': 6100, '오키나와': 6101, '닌해': 6102, '느징': 6103, '샛기': 6104, '곱': 6105, '보셧길': 6106, '재밌뇨': 6107, '전쟁': 6108, '본업': 6109, '폭망': 6110, '각인': 6111, '필리핀': 6112, '두시': 6113, '주경야독': 6114, '일부': 6115, '팀합': 6116, '정신차려라': 6117, '정이': 6118, '태욤': 6119, '주연': 6120, '햇데': 6121, '카악': 6122, '더러': 6123, '움집': 6124, '닝': 6125, '기까지': 6126, '버닝중': 6127, '땐데': 6128, '티엠아': 6129, '럽': 6130, '공중': 6131, '제비': 6132, '메르스': 6133, '치네다': 6134, '화욜': 6135, '콘도': 6136, '대니': 6137, '쫀': 6138, '쳣다': 6139, '그닥': 6140, '핸드폰': 6141, '설훈': 6142, '요리': 6143, '취한': 6144, '털보': 6145, '와스': 6146, '이만': 6147, '망상': 6148, '애니쥕겫거': 6149, '옷맟상': 6150, '국산': 6151, '개잼': 6152, '징거': 6153, '글씨': 6154, '회피': 6155, '얀': 6156, '바이브레이터': 6157, '파생': 6158, '다양하다': 6159, '볼걸': 6160, '달래다': 6161, '원님': 6162, '속도': 6163, '류진': 6164, 'ㅠㅋㅋㅋ': 6165, '오호': 6166, '반모': 6167, '습니까': 6168, '걸레': 6169, '토픽': 6170, 'ㅠㅋ': 6171, '불쾌하다': 6172, '골짜기': 6173, '팍': 6174, '히로': 6175, '굳다': 6176, '가유': 6177, '더위': 6178, '정리정돈': 6179, '쇼핑': 6180, '총총': 6181, '부도': 6182, '구찌': 6183, '하루히': 6184, '어색': 6185, '즐거움': 6186, '흐윽': 6187, '도하': 6188, '김철민': 6189, '도둑질': 6190, '틀키': 6191, '반성은': 6192, 'ㅂㄷㅂㄷㅂㄷ': 6193, '아예': 6194, '기다렷': 6195, '재질': 6196, '장기': 6197, '엠비티아이': 6198, '없뵤': 6199, '밤새': 6200, '웟': 6201, '비자': 6202, '살짝': 6203, '스페셔루': 6204, 'ㅏㅂㄹ': 6205, '가담': 6206, '항설': 6207, '난중': 6208, '서수': 6209, '짜장면': 6210, '마태': 6211, '길거리': 6212, '태연': 6213, '첨봤늠데': 6214, '구현': 6215, '으론': 6216, '일케': 6217, '주문': 6218, '모자': 6219, '노조': 6220, '토지': 6221, '구획': 6222, '몇몇': 6223, '이서': 6224, '스냅샷': 6225, '왕구': 6226, '궁예': 6227, '그래프': 6228, '어차피': 6229, '연희동': 6230, '자택': 6231, '군데': 6232, '수영': 6233, '아이유': 6234, '주제가': 6235, '일텐데': 6236, '대리': 6237, '웅앵웅': 6238, '엔조이': 6239, '우승자': 6240, '매양': 6241, '일부러': 6242, '맘눌뎀': 6243, '검색어': 6244, '영부인': 6245, '가루': 6246, '의하다': 6247, '여수시': 6248, '사비': 6249, 'ㄹㅈㄷ': 6250, '시메': 6251, '드레퓌스': 6252, '개판': 6253, '컬': 6254, '시프': 6255, '자랑스럽다': 6256, '협상': 6257, '양기': 6258, '물외': 6259, '바서': 6260, '클릭': 6261, '침묵': 6262, '작작': 6263, '이러다가': 6264, '누르다': 6265, '언팔': 6266, '매체': 6267, '개원': 6268, '뀔때': 6269, '북북': 6270, '거덩': 6271, '할리': 6272, '이빨': 6273, '닦다': 6274, '해물찜': 6275, '후르츠바스켓': 6276, '관동': 6277, '등쉰': 6278, '육갑': 6279, '얻다': 6280, '표지': 6281, '간절하다': 6282, '소울이터': 6283, '높이다': 6284, '알도': 6285, '화신': 6286, '저장': 6287, '막춤': 6288, '자동차': 6289, '피타': 6290, '개쇳키': 6291, '지지다': 6292, '알걸': 6293, '헛참': 6294, '잃엇어': 6295, '파보': 6296, '데스노트': 6297, '실망': 6298, '꼬지보리': 6299, '프릭': 6300, 'ㅃㄹ': 6301, '바부': 6302, '영업': 6303, '알피': 6304, '헣': 6305, '이브': 6306, '버송': 6307, '담당': 6308, 'ㅋㅋㅋㅋㅋㅋㅋㅋㅋㅋㅋㅋㅋㅋㅋㅋ': 6309, '레바': 6310, '나치': 6311, '삼박자': 6312, '줜': 6313, '야구장': 6314, '이정재': 6315, '스타즈': 6316, '정수현': 6317, '수기': 6318, '모기': 6319, '나유타': 6320, '알렌': 6321, '흉가': 6322, '오느른': 6323, '밧다': 6324, '몰라쯔꾸르': 6325, '온당': 6326, '청원': 6327, '마시멜로': 6328, '헤드셋': 6329, '공시가격': 6330, '쏙독새': 6331, '로벨': 6332, '쩝쩝': 6333, '금발': 6334, '중원구': 6335, '벗겨지다': 6336, '다물다': 6337, '치루게됨': 6338, '나사렛': 6339, '노랗다': 6340, '공원': 6341, '아흐흑': 6342, '쩌': 6343, '미샤': 6344, '삼성': 6345, '밀림': 6346, '이예': 6347, '한강': 6348, '엘베': 6349, '의업': 6350, '얘드': 6351, '드래곤볼': 6352, '가령': 6353, '놀때': 6354, '쎅끈빠': 6355, '끈': 6356, '어허': 6357, '망언': 6358, '실수': 6359, '비사': 6360, '꽃뱀': 6361, '어미': 6362, '나용': 6363, '오랄': 6364, '휴닝': 6365, '온격': 6366, '돌림': 6367, '밀크': 6368, '스네이크': 6369, '열시': 6370, '이십': 6371, '분스': 6372, '아가리': 6373, '멍뭉이': 6374, '불과하다': 6375, 'ㅎㅎㅎㅎㅎㅎㅎ': 6376, '뿌듯하다': 6377, '런던': 6378, '월말': 6379, '이래도': 6380, '골카': 6381, '판권': 6382, '만료': 6383, '던데': 6384, '입히다': 6385, '일컫다': 6386, '되찾다': 6387, '뽀송하다': 6388, '보깉': 6389, '회차': 6390, '유출': 6391, '트랙': 6392, 'ㅅㄱ': 6393, '외치다': 6394, '케익': 6395, '보랬': 6396, '저녁': 6397, '알딸딸': 6398, '군필': 6399, '졍호뎏': 6400, '물고기': 6401, '만스': 6402, '깨지다': 6403, '그러면': 6404, '짜오': 6405, '뎀': 6406, '묻히다': 6407, '좃됏다': 6408, '치엿썽': 6409, '오늘이': 6410, '내의': 6411, '초성': 6412, '프세카': 6413, '크리': 6414, '하남시': 6415, '초기': 6416, '남초': 6417, '행복': 6418, '팡': 6419, '돼브렀어': 6420, '사복': 6421, '두레': 6422, '국수': 6423, '로열': 6424, '죽갯': 6425, '마치다': 6426, '중도': 6427, '설레다': 6428, '해진': 6429, '이동욱': 6430, '향기': 6431, '차악': 6432, '엮': 6433, '나아지다': 6434, '룰렛': 6435, '몽': 6436, '팔이': 6437, '흐음': 6438, '이서은': 6439, '희생': 6440, '오메가': 6441, '임산부': 6442, '가오': 6443, '부품': 6444, '휴면': 6445, '돌발': 6446, '부록': 6447, '쟤넨': 6448, '벌겋다': 6449, '케어': 6450, '접수': 6451, '목호': 6452, '보컬로이드': 6453, '당가': 6454, '니엘': 6455, '진즉': 6456, '오랜만': 6457, '막산': 6458, '키로': 6459, '인왕': 6460, '베인': 6461, '위턴': 6462, '기요': 6463, '과상': 6464, '불매운동': 6465, '주도하다': 6466, '한쇼': 6467, '남작': 6468, '정성': 6469, '찬': 6470, '치고는': 6471, '여고생': 6472, '랄노': 6473, '바바라': 6474, '입음': 6475, '개색기': 6476, '튀어나오다': 6477, '동료': 6478, '야근': 6479, '부심': 6480, '이준석': 6481, '외모': 6482, '예절': 6483, '스포츠토토': 6484, '댝': 6485, '레즈비언': 6486, '잔혹하다': 6487, '고해': 6488, '왜훅': 6489, '태안군': 6490, '전라북도': 6491, '전주시': 6492, '엇으': 6493, '대안': 6494, '갠찮겟어': 6495, '쟁이': 6496, '주심': 6497, '이재희': 6498, '픽함': 6499, '누굴까': 6500, '상관': 6501, 'ㅗㅗ': 6502, '밋슴': 6503, '돌돌': 6504, '갗애': 6505, '정싱못': 6506, '음신': 6507, '솜': 6508, '얼죽': 6509, '투데이': 6510, '기상': 6511, '천외': 6512, '관람': 6513, '헤르미온느': 6514, '나주시': 6515, '입국': 6516, '제한': 6517, '거상': 6518, '특별하다': 6519, '겁': 6520, '니당다': 6521, '탈좀': 6522, '흡': 6523, '배다': 6524, '짬': 6525, '민망하다': 6526, '기적': 6527, '팬티': 6528, '어요': 6529, '작렬': 6530, '사람인': 6531, '크레용': 6532, '개극혐함': 6533, '벤츠': 6534, '혐혼': 6535, '시청자': 6536, '독일': 6537, '바이든': 6538, 'ㄴㄴ': 6539, '버거': 6540, '다과': 6541, '번외': 6542, '차이다': 6543, '쿰척쿰': 6544, '사도': 6545, '오아시스': 6546, '일산동구': 6547, '철회': 6548, '년생': 6549, '증인': 6550, '요하': 6551, '인재': 6552, '사려': 6553, '품절': 6554, '인셀': 6555, '울컥': 6556, '케이스': 6557, '극히': 6558, 'ㄷㄷㄷㄷ': 6559, '러': 6560, '솔직': 6561, '감다': 6562, '쓸랭': 6563, '성해': 6564, '김종국': 6565, '재원': 6566, '제외': 6567, '스터디': 6568, '진성': 6569, '랖텔': 6570, '하나요': 6571, 'ㅎㄸ': 6572, '북두': 6573, '장흥군': 6574, '보투': 6575, '아쉽다': 6576, '철판': 6577, '티부': 6578, '개명': 6579, '들어주다': 6580, '대디': 6581, '월급쟁이': 6582, '런닝': 6583, 'ㅁㅐㄴ': 6584, '문프': 6585, '태뇽씨': 6586, '선진': 6587, '병영': 6588, '꼬부랑하다': 6589, '장위동': 6590, '유성': 6591, '골점': 6592, '티제': 6593, '공격': 6594, '재혀니': 6595, '사주': 6596, '호다닥': 6597, '천국': 6598, '숩': 6599, '넵워스': 6600, '따뜻하다': 6601, '수류탄': 6602, '적통': 6603, '전투': 6604, '해달라다': 6605, '휘수': 6606, '크기': 6607, '코스튬': 6608, '하묜': 6609, '드드드드': 6610, '득': 6611, '형수': 6612, '쌍욕': 6613, '잉오': 6614, '행앗': 6615, 'ㅠㅜ': 6616, '련': 6617, '빡세': 6618, '압니': 6619, '리버티': 6620, '랬': 6621, '웃음': 6622, '부들': 6623, '경비실': 6624, '김연경': 6625, '키링': 6626, '완주': 6627, '겜죽겜살': 6628, '마침': 6629, '부작됏어': 6630, '냐겨': 6631, '매칭': 6632, '오염시키다': 6633, '접대': 6634, '같이보쟈': 6635, '시차': 6636, '무의미': 6637, '보자기': 6638, '머햐': 6639, '토크': 6640, '줫': 6641, '리언': 6642, '면회': 6643, '튕겨냈어': 6644, '구멍': 6645, '관리자': 6646, '네모': 6647, '미스': 6648, '뤁틸': 6649, '내기': 6650, '꼬셔': 6651, '읍읍': 6652, '인외': 6653, '돌려주다': 6654, '꾼': 6655, '성재기': 6656, '주객': 6657, '김또잉': 6658, '덜다': 6659, '구오': 6660, '대기업': 6661, '남부': 6662, '대공': 6663, '놀앟어': 6664, '민트': 6665, '하진': 6666, '잡책': 6667, '나눔': 6668, '떠돌다': 6669, '사드': 6670, '죄악': 6671, '살때': 6672, '도쿄구울': 6673, 'ㅅㄷ': 6674, '까다롭다': 6675, '부메랑': 6676, '사먹다': 6677, '팝픈': 6678, '후짐': 6679, '여주': 6680, '대서': 6681, 'ㅡㅠ': 6682, '화풍': 6683, '재충': 6684, '령': 6685, '그래그래': 6686, '공감': 6687, '견제': 6688, 'ㅜㅜㅅㅂ': 6689, '평균값': 6690, '감안': 6691, '남원': 6692, '여대생': 6693, '펨돔': 6694, '재밋엇던': 6695, '귀첞': 6696, '엽서': 6697, '구먼': 6698, '회용': 6699, '너무하다': 6700, '낵책': 6701, '유지니': 6702, '나방': 6703, '후디후디': 6704, '내겐': 6705, '억울하다': 6706, '오키': 6707, '티켓': 6708, '역적': 6709, '빙기': 6710, '츄': 6711, '퇴치': 6712, '노는언니': 6713, '꼴뚜기': 6714, '꾸벅': 6715, '타이': 6716, '신음': 6717, '스님': 6718, '털썩': 6719, '초월': 6720, '장용': 6721, '준': 6722, '가시다': 6723, '소방대': 6724, '강북': 6725, '고본': 6726, '오돌오돌': 6727, '돌뼈': 6728, '산이': 6729, '풍향': 6730, '받아들이다': 6731, '넷파': 6732, '놈드': 6733, '대덕': 6734, '로밀': 6735, '한남잇엇어': 6736, '차지': 6737, '블랙': 6738, '페퍼': 6739, '마인크래프트': 6740, '악마': 6741, '플러스': 6742, '기하': 6743, '고촬': 6744, '위원회': 6745, '나연': 6746, '종뷔': 6747, '세면': 6748, '동심파괴': 6749, '비핵화': 6750, '알쎀': 6751, '훅': 6752, '미니어쳐': 6753, '시밬': 6754, '좀더': 6755, '필요': 6756, '짝': 6757, '처참하다': 6758, '여우비': 6759, '재탕하다': 6760, '발우': 6761, '리집': 6762, '뻑': 6763, '빽가': 6764, '거처': 6765, '조절': 6766, '디그': 6767, '레이디': 6768, '카페인': 6769, '마시다': 6770, '저쪽': 6771, '픈데': 6772, '녹': 6773, '동사': 6774, '짜르': 6775, '전화': 6776, '꼬아놓': 6777, '괓추': 6778, '파괴': 6779, '강진': 6780, '남충': 6781, '첫사랑': 6782, '흉기': 6783, '아니랬': 6784, '헤나': 6785, '빨갱': 6786, '감바': 6787, '레루': 6788, '은씨': 6789, '발다': 6790, '자시다': 6791, '소굴': 6792, '봐쌍녕': 6793, '꾸리다': 6794, '코미디': 6795, '승가': 6796, '단위': 6797, '무추': 6798, '레코': 6799, '자기애': 6800, '인격장애': 6801, '라이어': 6802, '둥이': 6803, '대깨빠심': 6804, '유전자': 6805, '질린다': 6806, '에이치': 6807, '이하이': 6808, '상앙': 6809, '비니': 6810, '스마': 6811, '인겜': 6812, '나왓나보': 6813, '급발진': 6814, '으스스하다': 6815, '장임': 6816, '고려청자': 6817, '외관': 6818, '방습': 6819, '궁': 6820, '가일': 6821, '오줌': 6822, '워치': 6823, '거지같다': 6824, '자게': 6825, '전가': 6826, '직전': 6827, '머글': 6828, '해쥬': 6829, '우마': 6830, '무스': 6831, '세트': 6832, '섹후땡': 6833, '박성진': 6834, '패치': 6835, '삭제': 6836, '노후': 6837, '대비': 6838, '현지': 6839, '밀랍인형': 6840, '힐러': 6841, '투영': 6842, '뮤비': 6843, '컹스입니': 6844, '판다': 6845, '억이': 6846, '정윤': 6847, '강백호': 6848, '날기': 6849, '달료': 6850, '깃털': 6851, '주샄': 6852, '표업': 6853, '뎃': 6854, '람쥐': 6855, '름님': 6856, '종류': 6857, '개념': 6858, '역함': 6859, '취준': 6860, '기력': 6861, '분도': 6862, '끼약': 6863, '마치': 6864, '유포터블': 6865, '잘뽑다': 6866, '기해': 6867, '만자': 6868, '장인': 6869, '페어': 6870, '씨바': 6871, '안햇숴': 6872, '풀셋': 6873, '곴': 6874, '씹창롬': 6875, '겅': 6876, '유령': 6877, '색출': 6878, '손글씨': 6879, '상수': 6880, '챙': 6881, '환멸': 6882, '자극': 6883, '시청률': 6884, '배터': 6885, '리퍼': 6886, '펼치다': 6887, 'ㅜㅅ': 6888, '즈샤': 6889, 'ㅑㅂㅜㅠ': 6890, '웩': 6891, '꿰뚫다': 6892, '규': 6893, '인겜컷': 6894, '콘지': 6895, '대학교': 6896, '버혀': 6897, '밀양시': 6898, '페탐썻다': 6899, '왤케한남됨': 6900, '이문': 6901, 'ㅗ': 6902, '광팬임': 6903, '영혼': 6904, '쌍둥이': 6905, '씨방': 6906, '우의': 6907, '야키소바빵': 6908, '그동안': 6909, '았': 6910, '세포': 6911, '넴넴': 6912, '실기': 6913, '고시': 6914, '권리': 6915, '요지': 6916, '밋앤그릿': 6917, '화붓': 6918, '채원': 6919, '스와핑': 6920, '홍빈': 6921, '우리동네': 6922, '스티커': 6923, '을사오적': 6924, '세계관': 6925, '밤새다': 6926, '일일': 6927, '노인': 6928, '소사동': 6929, '저렙': 6930, '순수하다': 6931, '주인': 6932, '이재': 6933, '늪': 6934, '배웟': 6935, '살아나다': 6936, '아메': 6937, '갱생': 6938, '동의': 6939, 'ㄲㅈ': 6940, '상속': 6941, '스킬': 6942, '케알': 6943, '스마타': 6944, '픽사': 6945, '앆': 6946, '흑백': 6947, '쌀국수': 6948, '알라딘': 6949, '킵해둔': 6950, '추강': 6951, '객관': 6952, '네야': 6953, '졵': 6954, '일임': 6955, '퇴폐': 6956, '관념': 6957, '장단': 6958, '이채연': 6959, '자매': 6960, '럭비': 6961, '로나': 6962, '넨도': 6963, '존버': 6964, '출시': 6965, '멀리': 6966, '절실': 6967, '러팅': 6968, '자존감': 6969, '과도': 6970, '방관': 6971, '서재': 6972, '햇음': 6973, '긍데': 6974, '망신': 6975, '딴': 6976, '편이': 6977, '남극': 6978, '빡쎄': 6979, '팩': 6980, '폭하': 6981, 'ㅋㅋㅋㅋㅋㅋㅋㅋㅋㅋㅋㅋ': 6982, '갈': 6983, '신혼부부': 6984, '시시하다': 6985, '소녀': 6986, '환수': 6987, '절반': 6988, '한시': 6989, '김현정': 6990, '압점': 6991, '힘드다': 6992, '방향': 6993, '국회': 6994, '도망치다': 6995, '윤희': 6996, '숙': 6997, '등록': 6998, 'ㅇㄷ': 6999, '혈전': 7000, '토모': 7001, '머스크': 7002, '멀어지다': 7003, '개사': 7004, '불닭': 7005, '토마토': 7006, '샤': 7007, 'ㅡㄴ': 7008, '임기': 7009, '회하': 7010, '존버랩': 7011, '개남': 7012, '심각하다': 7013, '임본': 7014, '자존심': 7015, '꺽': 7016, '음료': 7017, '지정': 7018, '무료': 7019, '리정': 7020, '머선': 7021, '추살붕': 7022, '메플': 7023, '비번': 7024, '예토전생': 7025, '똑바로': 7026, '프로필': 7027, '토우': 7028, '박윤': 7029, '쉬발': 7030, '뻐킹': 7031, '블루베리': 7032, '스무디': 7033, '억양': 7034, '고치다': 7035, '밧데리': 7036, '올라오다': 7037, '대여': 7038, '치대다': 7039, '땀차': 7040, '옮기다': 7041, 'ㅏㅠㅜ': 7042, '미쳣냑': 7043, '척해': 7044, '개똥': 7045, '깜빵': 7046, '저딴': 7047, '가두다': 7048, '닝겐': 7049, '범위': 7050, '지모': 7051, '햇내': 7052, '앵무새': 7053, '깜짝놀랫': 7054, '왤케많음': 7055, '왁': 7056, 'ㅋㅋㄱㄱㄲㅋ': 7057, '보조': 7058, '배터리': 7059, '쉬바': 7060, '반칙': 7061, '튜': 7062, '체육대회': 7063, '비밀': 7064, '김수현': 7065, '임창': 7066, '귱': 7067, '햇빛': 7068}\n"
          ]
        }
      ]
    },
    {
      "cell_type": "code",
      "metadata": {
        "id": "xC_pz3njA91n"
      },
      "source": [
        "import json\n",
        "tokenizer_json = tokenizer.to_json()\n",
        "with open('tokenizer.json', 'w', encoding='utf-8') as f:\n",
        "    f.write(json.dumps(tokenizer_json, ensure_ascii=False))"
      ],
      "execution_count": null,
      "outputs": []
    },
    {
      "cell_type": "code",
      "metadata": {
        "colab": {
          "base_uri": "https://localhost:8080/"
        },
        "id": "cu4fcFGVPfEJ",
        "outputId": "43e19333-468e-496d-ba35-64a735cc1a68"
      },
      "source": [
        "threshold = 3\n",
        "total_cnt = len(tokenizer.word_index)\n",
        "rare_cnt = 0\n",
        "total_freq = 0\n",
        "rare_freq = 0\n",
        "\n",
        "for key, value in tokenizer.word_counts.items():\n",
        "    total_freq = total_freq + value\n",
        "\n",
        "    if(value < threshold):\n",
        "        rare_cnt = rare_cnt + 1\n",
        "        rare_freq = rare_freq + value\n",
        "\n",
        "print('단어 집합(vocabulary)의 크기 :',total_cnt)\n",
        "print('등장 빈도가 %s번 이하인 희귀 단어의 수: %s'%(threshold - 1, rare_cnt))\n",
        "print(\"단어 집합에서 희귀 단어의 비율:\", (rare_cnt / total_cnt)*100)\n",
        "print(\"전체 등장 빈도에서 희귀 단어 등장 빈도 비율:\", (rare_freq / total_freq)*100)"
      ],
      "execution_count": null,
      "outputs": [
        {
          "output_type": "stream",
          "name": "stdout",
          "text": [
            "단어 집합(vocabulary)의 크기 : 7068\n",
            "등장 빈도가 2번 이하인 희귀 단어의 수: 5240\n",
            "단어 집합에서 희귀 단어의 비율: 74.13695529145444\n",
            "전체 등장 빈도에서 희귀 단어 등장 빈도 비율: 16.262526610935147\n"
          ]
        }
      ]
    },
    {
      "cell_type": "code",
      "metadata": {
        "colab": {
          "base_uri": "https://localhost:8080/"
        },
        "id": "DZ6TQVsJPfGM",
        "outputId": "1005de98-1cf4-4af5-8578-4eeafae5be97"
      },
      "source": [
        "vocab_size = 35000\n",
        "print('단어 집합의 크기 :',vocab_size)"
      ],
      "execution_count": null,
      "outputs": [
        {
          "output_type": "stream",
          "name": "stdout",
          "text": [
            "단어 집합의 크기 : 35000\n"
          ]
        }
      ]
    },
    {
      "cell_type": "code",
      "metadata": {
        "id": "zh1bixPjPfIP"
      },
      "source": [
        "tokenizer = Tokenizer(vocab_size) \n",
        "tokenizer.fit_on_texts(X_train)\n",
        "X_train = tokenizer.texts_to_sequences(X_train)\n",
        "X_test = tokenizer.texts_to_sequences(X_test)"
      ],
      "execution_count": null,
      "outputs": []
    },
    {
      "cell_type": "code",
      "metadata": {
        "id": "ouLc3XpcPk6x"
      },
      "source": [
        "mapping = {'hate': 0, 'offensive': 0, 'none': 1}\n",
        "y_train = np.array(list(map(lambda x: mapping[x], train_data['hate'])))\n",
        "y_test = np.array(list(map(lambda x: mapping[x], test_data['hate'])))"
      ],
      "execution_count": null,
      "outputs": []
    },
    {
      "cell_type": "code",
      "metadata": {
        "id": "o9LzsKWlPk9V"
      },
      "source": [
        "drop_train = [index for index, sentence in enumerate(X_train) if len(sentence) < 1]"
      ],
      "execution_count": null,
      "outputs": []
    },
    {
      "cell_type": "code",
      "metadata": {
        "colab": {
          "base_uri": "https://localhost:8080/"
        },
        "id": "tjvBUw7EPk_S",
        "outputId": "5be08f02-9589-40aa-b738-3b92505b0733"
      },
      "source": [
        "X_train = np.delete(X_train, drop_train, axis=0)\n",
        "y_train = np.delete(y_train, drop_train, axis=0)\n",
        "print(len(X_train))\n",
        "print(len(y_train))"
      ],
      "execution_count": null,
      "outputs": [
        {
          "output_type": "stream",
          "name": "stdout",
          "text": [
            "7346\n",
            "7346\n"
          ]
        },
        {
          "output_type": "stream",
          "name": "stderr",
          "text": [
            "/usr/local/lib/python3.7/dist-packages/numpy/core/_asarray.py:83: VisibleDeprecationWarning: Creating an ndarray from ragged nested sequences (which is a list-or-tuple of lists-or-tuples-or ndarrays with different lengths or shapes) is deprecated. If you meant to do this, you must specify 'dtype=object' when creating the ndarray\n",
            "  return array(a, dtype, copy=False, order=order)\n"
          ]
        }
      ]
    },
    {
      "cell_type": "code",
      "metadata": {
        "colab": {
          "base_uri": "https://localhost:8080/",
          "height": 317
        },
        "id": "JxNACuJpPlBj",
        "outputId": "d49bfd7b-5ad3-490d-df28-d9516c2f7f7c"
      },
      "source": [
        "print('리뷰의 최대 길이 :',max(len(l) for l in X_train))\n",
        "print('리뷰의 평균 길이 :',sum(map(len, X_train))/len(X_train))\n",
        "plt.hist([len(s) for s in X_train], bins=50)\n",
        "plt.xlabel('length of samples')\n",
        "plt.ylabel('number of samples')\n",
        "plt.show()"
      ],
      "execution_count": null,
      "outputs": [
        {
          "output_type": "stream",
          "name": "stdout",
          "text": [
            "리뷰의 최대 길이 : 15\n",
            "리뷰의 평균 길이 : 5.243397767492513\n"
          ]
        },
        {
          "output_type": "display_data",
          "data": {
            "image/png": "[encoded data removed]",
            "text/plain": [
              "<Figure size 432x288 with 1 Axes>"
            ]
          },
          "metadata": {
            "needs_background": "light"
          }
        }
      ]
    },
    {
      "cell_type": "code",
      "metadata": {
        "id": "O_q4OQbvPlDw"
      },
      "source": [
        "def below_threshold_len(max_len, nested_list):\n",
        "  cnt = 0\n",
        "  for s in nested_list:\n",
        "    if(len(s) <= max_len):\n",
        "        cnt = cnt + 1\n",
        "  print('전체 샘플 중 길이가 %s 이하인 샘플의 비율: %s'%(max_len, (cnt / len(nested_list))*100))"
      ],
      "execution_count": null,
      "outputs": []
    },
    {
      "cell_type": "code",
      "metadata": {
        "colab": {
          "base_uri": "https://localhost:8080/"
        },
        "id": "SErdwF8PPlGC",
        "outputId": "da7eb2e2-2995-4890-b1da-febbaf0627f5"
      },
      "source": [
        "max_len = 30\n",
        "below_threshold_len(max_len, X_train)"
      ],
      "execution_count": null,
      "outputs": [
        {
          "output_type": "stream",
          "name": "stdout",
          "text": [
            "전체 샘플 중 길이가 30 이하인 샘플의 비율: 100.0\n"
          ]
        }
      ]
    },
    {
      "cell_type": "code",
      "metadata": {
        "id": "HuLrvdicPlIf"
      },
      "source": [
        "X_train = pad_sequences(X_train, maxlen = max_len)\n",
        "X_test = pad_sequences(X_test, maxlen = max_len)"
      ],
      "execution_count": null,
      "outputs": []
    },
    {
      "cell_type": "code",
      "metadata": {
        "id": "2ZzwxhB-PlKh"
      },
      "source": [
        "from tensorflow.keras.layers import Embedding, Dense, LSTM, Bidirectional\n",
        "from tensorflow.keras.models import Sequential\n",
        "from tensorflow.keras.models import load_model\n",
        "from tensorflow.keras.callbacks import EarlyStopping, ModelCheckpoint"
      ],
      "execution_count": null,
      "outputs": []
    },
    {
      "cell_type": "code",
      "metadata": {
        "id": "12J-y7VdPlM9"
      },
      "source": [
        "model = Sequential()\n",
        "model.add(Embedding(vocab_size, 100))\n",
        "model.add(Bidirectional(LSTM(128, return_sequences=True)))\n",
        "model.add(Bidirectional(LSTM(64)))\n",
        "model.add(Dense(32, activation='relu'))\n",
        "model.add(Dense(16, activation='relu'))\n",
        "model.add(Dense(1, activation='sigmoid'))"
      ],
      "execution_count": null,
      "outputs": []
    },
    {
      "cell_type": "code",
      "metadata": {
        "id": "uSRsLRedPu2l"
      },
      "source": [
        "es = EarlyStopping(monitor='val_loss', mode='min', verbose=1, patience=4)\n",
        "mc = ModelCheckpoint('best_model.h5', monitor='val_acc', mode='max', verbose=1, save_best_only=True)"
      ],
      "execution_count": null,
      "outputs": []
    },
    {
      "cell_type": "code",
      "metadata": {
        "colab": {
          "base_uri": "https://localhost:8080/"
        },
        "id": "jwTOYFh5Pu5G",
        "outputId": "9f1d1e7f-184c-43af-d0fa-af445f0053ce"
      },
      "source": [
        "model.compile(optimizer='rmsprop', loss='binary_crossentropy', metrics=['acc'])\n",
        "history = model.fit(X_train, y_train, epochs=15, callbacks=[es, mc], batch_size=5, validation_split=0.2)"
      ],
      "execution_count": null,
      "outputs": [
        {
          "output_type": "stream",
          "name": "stdout",
          "text": [
            "Epoch 1/15\n",
            "1176/1176 [==============================] - 119s 91ms/step - loss: 0.3530 - acc: 0.8696 - val_loss: 0.3466 - val_acc: 0.8585\n",
            "\n",
            "Epoch 00001: val_acc improved from -inf to 0.85850, saving model to best_model.h5\n",
            "Epoch 2/15\n",
            "1176/1176 [==============================] - 105s 89ms/step - loss: 0.2782 - acc: 0.9016 - val_loss: 0.3848 - val_acc: 0.8653\n",
            "\n",
            "Epoch 00002: val_acc improved from 0.85850 to 0.86531, saving model to best_model.h5\n",
            "Epoch 3/15\n",
            "1176/1176 [==============================] - 104s 88ms/step - loss: 0.2505 - acc: 0.9086 - val_loss: 0.3004 - val_acc: 0.8626\n",
            "\n",
            "Epoch 00003: val_acc did not improve from 0.86531\n",
            "Epoch 4/15\n",
            "1176/1176 [==============================] - 103s 88ms/step - loss: 0.2144 - acc: 0.9192 - val_loss: 0.5095 - val_acc: 0.8190\n",
            "\n",
            "Epoch 00004: val_acc did not improve from 0.86531\n",
            "Epoch 5/15\n",
            "1176/1176 [==============================] - 103s 88ms/step - loss: 0.2028 - acc: 0.9244 - val_loss: 0.4585 - val_acc: 0.8054\n",
            "\n",
            "Epoch 00005: val_acc did not improve from 0.86531\n",
            "Epoch 6/15\n",
            "1176/1176 [==============================] - 104s 88ms/step - loss: 0.1865 - acc: 0.9294 - val_loss: 0.4654 - val_acc: 0.8469\n",
            "\n",
            "Epoch 00006: val_acc did not improve from 0.86531\n",
            "Epoch 7/15\n",
            "1176/1176 [==============================] - 104s 88ms/step - loss: 0.1769 - acc: 0.9364 - val_loss: 0.5185 - val_acc: 0.8075\n",
            "\n",
            "Epoch 00007: val_acc did not improve from 0.86531\n",
            "Epoch 00007: early stopping\n"
          ]
        }
      ]
    },
    {
      "cell_type": "code",
      "metadata": {
        "colab": {
          "base_uri": "https://localhost:8080/"
        },
        "id": "o-RUWf2cPu7X",
        "outputId": "6122feab-3ac8-4069-e0ca-0117147e6df4"
      },
      "source": [
        "loaded_model = load_model('best_model.h5')\n",
        "print(\"\\n 테스트 정확도: %.4f\" % (loaded_model.evaluate(X_test, y_test)[1]))"
      ],
      "execution_count": null,
      "outputs": [
        {
          "output_type": "stream",
          "name": "stdout",
          "text": [
            "111/111 [==============================] - 5s 29ms/step - loss: 0.4146 - acc: 0.8472\n",
            "\n",
            " 테스트 정확도: 0.8472\n"
          ]
        }
      ]
    },
    {
      "cell_type": "code",
      "metadata": {
        "id": "vfnFjnBf_AN5"
      },
      "source": [
        "loaded_model.save('my_model.h5')"
      ],
      "execution_count": null,
      "outputs": []
    },
    {
      "cell_type": "code",
      "metadata": {
        "id": "REYU33HGPu97"
      },
      "source": [
        "def sentiment_predict(new_sentence):\n",
        "  new_sentence = okt.morphs(new_sentence, stem=True)\n",
        "  new_sentence = [word for word in new_sentence if not word in stopwords]\n",
        "  encoded = tokenizer.texts_to_sequences([new_sentence])\n",
        "  pad_new = pad_sequences(encoded, maxlen = max_len)\n",
        "  score = float(loaded_model.predict(pad_new))\n",
        "  return score"
      ],
      "execution_count": null,
      "outputs": []
    },
    {
      "cell_type": "code",
      "metadata": {
        "colab": {
          "base_uri": "https://localhost:8080/"
        },
        "id": "8yIp72DAPvAJ",
        "outputId": "2ece510d-fb38-4fb1-90ed-2da56aa1f26e"
      },
      "source": [
        "sentiment_predict('개새끼')"
      ],
      "execution_count": null,
      "outputs": [
        {
          "output_type": "execute_result",
          "data": {
            "text/plain": [
              "0.8730605244636536"
            ]
          },
          "metadata": {},
          "execution_count": 49
        }
      ]
    },
    {
      "cell_type": "code",
      "metadata": {
        "id": "gnVz9PZ0QkAR"
      },
      "source": [
        "from bs4 import BeautifulSoup\n",
        "import requests\n",
        "import re\n",
        "\n",
        "USER_AGENT = {'User-Agent': 'Mozilla/5.0 (Windows NT 10.0; Win64; x64) AppleWebKit/537.36 (KHTML, like Gecko) ''Chrome/74.0.3729.169 Safari/537.36 '}\n",
        "\n",
        "def count_mischief(url, criterion):\n",
        "    count = 0\n",
        "    mischiefes = []\n",
        "    soup = BeautifulSoup(requests.get(url, headers=USER_AGENT).content, 'html.parser')\n",
        "    for tag in soup.find_all(['span', 'p', 'h', 'div', 'a'], recursive=True):\n",
        "        try:\n",
        "            for _ in tag.findChildren(recursive=False):\n",
        "                raise Exception()\n",
        "        except Exception:\n",
        "            continue\n",
        "        text = re.sub(r\"[^ㄱ-ㅎㅏ-ㅣ가-힣 ]\", \"\", tag.get_text())\n",
        "        if text:\n",
        "          if (1 - sentiment_predict(text)) >= criterion:\n",
        "            mischiefes.append(text)\n",
        "            count += 1\n",
        "    print(mischiefes)\n",
        "    return count"
      ],
      "execution_count": null,
      "outputs": []
    },
    {
      "cell_type": "code",
      "metadata": {
        "colab": {
          "base_uri": "https://localhost:8080/"
        },
        "id": "nS1ECsRQQuCd",
        "outputId": "aad52114-9ef0-4ebf-96ec-c4a2e83c3729"
      },
      "source": [
        "count_mischief('https://gall.dcinside.com/mgallery/board/view/?id=itall&no=116908', .75)"
      ],
      "execution_count": null,
      "outputs": [
        {
          "output_type": "stream",
          "name": "stdout",
          "text": [
            "['뭐냐 씨발']\n"
          ]
        },
        {
          "output_type": "execute_result",
          "data": {
            "text/plain": [
              "1"
            ]
          },
          "metadata": {},
          "execution_count": 51
        }
      ]
    }
  ]
}